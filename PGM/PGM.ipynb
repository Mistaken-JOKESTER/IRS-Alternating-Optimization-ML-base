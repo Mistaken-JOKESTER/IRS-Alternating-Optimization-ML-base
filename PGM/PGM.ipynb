{
 "cells": [
  {
   "cell_type": "code",
   "execution_count": 1,
   "metadata": {},
   "outputs": [],
   "source": [
    "import numpy as np\n",
    "import matplotlib.pyplot as plt\n",
    "from mpl_toolkits.mplot3d import Axes3D\n",
    "import plotly.graph_objects as go\n",
    "import seaborn as sns\n",
    "from scipy.optimize import minimize\n",
    "\n",
    "# Enable interactive plots\n"
   ]
  },
  {
   "cell_type": "code",
   "execution_count": 2,
   "metadata": {},
   "outputs": [],
   "source": [
    "import warnings\n",
    "\n",
    "warnings.filterwarnings('error', category=np.ComplexWarning)"
   ]
  },
  {
   "cell_type": "markdown",
   "metadata": {},
   "source": [
    "## Sytem Model"
   ]
  },
  {
   "cell_type": "code",
   "execution_count": 3,
   "metadata": {},
   "outputs": [],
   "source": [
    "quantization_levels = 20\n",
    "\n",
    "# transmit antennas \n",
    "Nt = 8\n",
    "# receiving antennas\n",
    "Nr = 4\n",
    "\n",
    "# both tx and rx antennas are placed in uniform linear arrays on vertical walls paraller to each other on a wall\n",
    "D = 500\n",
    "\n",
    "# wavelenght and frequency of operation\n",
    "frequency = 2 * (10 ** 9)\n",
    "wavelength = (3 * (10 ** 8))/frequency\n",
    "antenna_spacing = wavelength/2\n",
    "\n",
    "# inter antenna seperation distance\n",
    "st = wavelength/2\n",
    "sr = wavelength/2\n",
    "# seperation between center of adjacent RIS elements in both dimension is\n",
    "s_ris = wavelength / 2\n",
    "\n",
    "# RIS size axb\n",
    "# reflection elements Na, Nb\n",
    "Na = 15\n",
    "Nb = 15\n",
    "N_ris = Na * Nb\n",
    "Nl = N_ris\n",
    "\n",
    "# power in db = 10log10(power(watts))\n",
    "\n",
    "# noise power (untis not mentioned in paper)\n",
    "# -120 db\n",
    "noise_power = (10 ** (-12))\n",
    "# total average power transmit value Pt\n",
    "# 0 db\n",
    "Pt = 1\n",
    "\n",
    "# path loss exponent for direct link influcend by obstacle present\n",
    "alpha_dir = 3\n",
    "\n",
    "# racian factor\n",
    "racian_factor = 1\n",
    "\n",
    "# backtracking line search parameters\n",
    "L_note = 10**4\n",
    "delta = 10 ** (-5)\n",
    "row = 1/2\n",
    "min_step_size = 10**(-4)\n",
    "\n",
    "initial_thetas = np.ones(N_ris, dtype=np.complex64)\n",
    "intial_Q = (Pt/Nt) * np.eye(Nt)\n",
    "\n",
    "channel_iterations = 10\n",
    "\n",
    "# dirs should be placed in vicinity of tx or rx\n",
    "# if near tx Dris = 40\n",
    "# if near rx Dris = D - 40\n",
    "\n",
    "# distance between midpoint of RIS and the placne containing tx antennas\n",
    "d_ris = 460\n",
    "# distance between mid point of tx antenna arraya nd plane contining RIS is \n",
    "lt = 20\n",
    "# distance between rx antenna dn plane containing RIS\n",
    "lr = 100\n",
    "\n",
    "number_of_itr = 500\n",
    "\n",
    "d_note = np.sqrt((D**2) + (lt-lr)**2)\n",
    "beta_dir = ((4 * np.pi / wavelength) ** 2) * (d_note**alpha_dir)\n",
    "\n",
    "\n",
    "\n"
   ]
  },
  {
   "cell_type": "code",
   "execution_count": 4,
   "metadata": {},
   "outputs": [
    {
     "name": "stdout",
     "output_type": "stream",
     "text": [
      "\n",
      "    Frequency: 2000000000\n",
      "    wavelength: 0.15\n",
      "    Antenna Spacing: 0.075\n",
      "\n",
      "    Tx antenna: 8\n",
      "    Rx antenna: 4\n",
      "    IRS Eelements: 225\n",
      "\n",
      "    Tx Power: 1\n",
      "    Noise Power: 1e-12\n",
      "    \n",
      "    aplha_dir: 3\n",
      "    racian Factor: 1\n",
      "\n",
      "    d_note: 506.3595560468865\n",
      "    beta_dir: 911201112278.7719\n",
      "\n",
      "\n",
      "Intial Phases\n",
      "[1.+0.j 1.+0.j 1.+0.j 1.+0.j 1.+0.j 1.+0.j 1.+0.j 1.+0.j 1.+0.j 1.+0.j\n",
      " 1.+0.j 1.+0.j 1.+0.j 1.+0.j 1.+0.j 1.+0.j 1.+0.j 1.+0.j 1.+0.j 1.+0.j\n",
      " 1.+0.j 1.+0.j 1.+0.j 1.+0.j 1.+0.j 1.+0.j 1.+0.j 1.+0.j 1.+0.j 1.+0.j\n",
      " 1.+0.j 1.+0.j 1.+0.j 1.+0.j 1.+0.j 1.+0.j 1.+0.j 1.+0.j 1.+0.j 1.+0.j\n",
      " 1.+0.j 1.+0.j 1.+0.j 1.+0.j 1.+0.j 1.+0.j 1.+0.j 1.+0.j 1.+0.j 1.+0.j\n",
      " 1.+0.j 1.+0.j 1.+0.j 1.+0.j 1.+0.j 1.+0.j 1.+0.j 1.+0.j 1.+0.j 1.+0.j\n",
      " 1.+0.j 1.+0.j 1.+0.j 1.+0.j 1.+0.j 1.+0.j 1.+0.j 1.+0.j 1.+0.j 1.+0.j\n",
      " 1.+0.j 1.+0.j 1.+0.j 1.+0.j 1.+0.j 1.+0.j 1.+0.j 1.+0.j 1.+0.j 1.+0.j\n",
      " 1.+0.j 1.+0.j 1.+0.j 1.+0.j 1.+0.j 1.+0.j 1.+0.j 1.+0.j 1.+0.j 1.+0.j\n",
      " 1.+0.j 1.+0.j 1.+0.j 1.+0.j 1.+0.j 1.+0.j 1.+0.j 1.+0.j 1.+0.j 1.+0.j\n",
      " 1.+0.j 1.+0.j 1.+0.j 1.+0.j 1.+0.j 1.+0.j 1.+0.j 1.+0.j 1.+0.j 1.+0.j\n",
      " 1.+0.j 1.+0.j 1.+0.j 1.+0.j 1.+0.j 1.+0.j 1.+0.j 1.+0.j 1.+0.j 1.+0.j\n",
      " 1.+0.j 1.+0.j 1.+0.j 1.+0.j 1.+0.j 1.+0.j 1.+0.j 1.+0.j 1.+0.j 1.+0.j\n",
      " 1.+0.j 1.+0.j 1.+0.j 1.+0.j 1.+0.j 1.+0.j 1.+0.j 1.+0.j 1.+0.j 1.+0.j\n",
      " 1.+0.j 1.+0.j 1.+0.j 1.+0.j 1.+0.j 1.+0.j 1.+0.j 1.+0.j 1.+0.j 1.+0.j\n",
      " 1.+0.j 1.+0.j 1.+0.j 1.+0.j 1.+0.j 1.+0.j 1.+0.j 1.+0.j 1.+0.j 1.+0.j\n",
      " 1.+0.j 1.+0.j 1.+0.j 1.+0.j 1.+0.j 1.+0.j 1.+0.j 1.+0.j 1.+0.j 1.+0.j\n",
      " 1.+0.j 1.+0.j 1.+0.j 1.+0.j 1.+0.j 1.+0.j 1.+0.j 1.+0.j 1.+0.j 1.+0.j\n",
      " 1.+0.j 1.+0.j 1.+0.j 1.+0.j 1.+0.j 1.+0.j 1.+0.j 1.+0.j 1.+0.j 1.+0.j\n",
      " 1.+0.j 1.+0.j 1.+0.j 1.+0.j 1.+0.j 1.+0.j 1.+0.j 1.+0.j 1.+0.j 1.+0.j\n",
      " 1.+0.j 1.+0.j 1.+0.j 1.+0.j 1.+0.j 1.+0.j 1.+0.j 1.+0.j 1.+0.j 1.+0.j\n",
      " 1.+0.j 1.+0.j 1.+0.j 1.+0.j 1.+0.j 1.+0.j 1.+0.j 1.+0.j 1.+0.j 1.+0.j\n",
      " 1.+0.j 1.+0.j 1.+0.j 1.+0.j 1.+0.j]\n",
      "\n",
      "Intial Q\n",
      "[[0.125 0.    0.    0.    0.    0.    0.    0.   ]\n",
      " [0.    0.125 0.    0.    0.    0.    0.    0.   ]\n",
      " [0.    0.    0.125 0.    0.    0.    0.    0.   ]\n",
      " [0.    0.    0.    0.125 0.    0.    0.    0.   ]\n",
      " [0.    0.    0.    0.    0.125 0.    0.    0.   ]\n",
      " [0.    0.    0.    0.    0.    0.125 0.    0.   ]\n",
      " [0.    0.    0.    0.    0.    0.    0.125 0.   ]\n",
      " [0.    0.    0.    0.    0.    0.    0.    0.125]]\n"
     ]
    }
   ],
   "source": [
    "\n",
    "print(f\"\"\"\n",
    "    Frequency: {frequency}\n",
    "    wavelength: {wavelength}\n",
    "    Antenna Spacing: {antenna_spacing}\n",
    "\n",
    "    Tx antenna: {Nt}\n",
    "    Rx antenna: {Nr}\n",
    "    IRS Eelements: {N_ris}\n",
    "\n",
    "    Tx Power: {Pt}\n",
    "    Noise Power: {noise_power}\n",
    "    \n",
    "    aplha_dir: {alpha_dir}\n",
    "    racian Factor: {racian_factor}\n",
    "\n",
    "    d_note: {d_note}\n",
    "    beta_dir: {beta_dir}\n",
    "\"\"\")\n",
    "\n",
    "print(\"\\nIntial Phases\")\n",
    "print(initial_thetas)\n",
    "\n",
    "print(\"\\nIntial Q\")\n",
    "print(intial_Q)\n",
    "\n"
   ]
  },
  {
   "cell_type": "code",
   "execution_count": 5,
   "metadata": {},
   "outputs": [],
   "source": [
    "\n",
    "total_FSPL_vector = []\n",
    "temp_dris_vector = []\n",
    "d1_plus_d2_vector = []\n",
    "for temp_dris in range(0, 500, 5):\n",
    "\n",
    "    d1 = np.sqrt(temp_dris ** 2 + lt ** 2)\n",
    "    d2 = np.sqrt((D - temp_dris) ** 2 + lr ** 2)\n",
    "\n",
    "    \n",
    "    beta_INDIR_inverse = ((wavelength**4)/(256 * (np.pi ** 2))) * (((lt/d1 + lr/d2)**2) / ((d1*d2)**2))\n",
    "\n",
    "    mean_h1 = np.sqrt(racian_factor/(1+racian_factor)) * np.exp(-2j * np.pi * d1 / wavelength)\n",
    "    mean_h2 = np.sqrt(racian_factor/(1+racian_factor)) * np.exp(-2j * np.pi * d2 / wavelength)\n",
    "    fspl = (16/(wavelength ** 2)) * ((d1 * d2 )**2) * (1/(d_note ** alpha_dir)) * (1 / (((lt/d1 + lr/d2) * N_ris * np.abs(mean_h1 * mean_h2)) ** 2))\n",
    "\n",
    "    temp_dris_vector.append(temp_dris)\n",
    "    d1_plus_d2_vector.append((d1 + d2))\n",
    "    total_FSPL_vector.append(fspl)\n",
    "\n"
   ]
  },
  {
   "cell_type": "code",
   "execution_count": 24,
   "metadata": {},
   "outputs": [
    {
     "data": {
      "application/vnd.plotly.v1+json": {
       "config": {
        "plotlyServerURL": "https://plot.ly"
       },
       "data": [
        {
         "line": {
          "color": "blue",
          "width": 1
         },
         "marker": {
          "color": "red",
          "size": 4
         },
         "mode": "lines+markers",
         "name": "Line with Markers",
         "type": "scatter",
         "x": [
          0,
          5,
          10,
          15,
          20,
          25,
          30,
          35,
          40,
          45,
          50,
          55,
          60,
          65,
          70,
          75,
          80,
          85,
          90,
          95,
          100,
          105,
          110,
          115,
          120,
          125,
          130,
          135,
          140,
          145,
          150,
          155,
          160,
          165,
          170,
          175,
          180,
          185,
          190,
          195,
          200,
          205,
          210,
          215,
          220,
          225,
          230,
          235,
          240,
          245,
          250,
          255,
          260,
          265,
          270,
          275,
          280,
          285,
          290,
          295,
          300,
          305,
          310,
          315,
          320,
          325,
          330,
          335,
          340,
          345,
          350,
          355,
          360,
          365,
          370,
          375,
          380,
          385,
          390,
          395,
          400,
          405,
          410,
          415,
          420,
          425,
          430,
          435,
          440,
          445,
          450,
          455,
          460,
          465,
          470,
          475,
          480,
          485,
          490,
          495
         ],
         "y": [
          529.9019513592784,
          525.6155281280883,
          522.4606697769974,
          520.2019789944302,
          518.5902981327124,
          517.4278171608541,
          516.5760638239984,
          515.9424483599518,
          515.4654513875886,
          515.1037098646717,
          514.8288709359895,
          514.6210768328465,
          514.4661201105067,
          514.3536306731135,
          514.2758999856875,
          514.2271033956247,
          514.2027754108113,
          514.1994487526948,
          514.2144014931127,
          514.245476867061,
          514.2909528336218,
          514.3494462697465,
          514.4198416589373,
          514.5012373632636,
          514.5929046937345,
          514.6942564182223,
          514.8048223143951,
          514.924230042887,
          515.0521900826976,
          515.188483801245,
          515.3329539682414,
          515.485497194114,
          515.646057899358,
          515.8146235142134,
          515.9912206775703,
          516.1759122564714,
          516.3687950475526,
          516.5699980524988,
          516.7796812434747,
          516.9980347532072,
          517.2252784392558,
          517.4616617839102,
          517.7074641008492,
          517.962995027671,
          518.2285952901153,
          518.5046377295209,
          518.7915285900633,
          519.0897090667861,
          519.3996571195283,
          519.7218895616838,
          520.0569644364142,
          520.4054836965581,
          520.7680962081059,
          521.1455011008089,
          521.5384514933068,
          521.9477586241474,
          522.3742964242555,
          522.8190065708206,
          523.2829040672327,
          523.7670833985912,
          524.2727253174371,
          524.8011043196698,
          525.3535968760202,
          525.9316904898635,
          526.5369936573679,
          527.1712468107625,
          527.8363343294909,
          528.534297706744,
          529.2673499596601,
          530.0378913695166,
          530.8485266323615,
          531.7020834893059,
          532.6016328872515,
          533.5505106927992,
          534.5523409415454,
          535.6110605483293,
          536.730945326942,
          537.9166370653064,
          539.1731712685178,
          540.506005011302,
          541.9210441273252,
          543.4246687001453,
          545.023755506213,
          546.7256956949115,
          548.5384055812297,
          550.4703279900962,
          552.5304211579547,
          554.7281318148257,
          557.0733488078108,
          559.576333575981,
          562.2476240571978,
          565.0979093193416,
          568.1378734715436,
          571.378009296095,
          574.8284045426685,
          578.4985068211341,
          582.3968762504282,
          586.5309380544734,
          590.9067496207781,
          595.5287976133794
         ]
        }
       ],
       "layout": {
        "template": {
         "data": {
          "bar": [
           {
            "error_x": {
             "color": "#f2f5fa"
            },
            "error_y": {
             "color": "#f2f5fa"
            },
            "marker": {
             "line": {
              "color": "rgb(17,17,17)",
              "width": 0.5
             },
             "pattern": {
              "fillmode": "overlay",
              "size": 10,
              "solidity": 0.2
             }
            },
            "type": "bar"
           }
          ],
          "barpolar": [
           {
            "marker": {
             "line": {
              "color": "rgb(17,17,17)",
              "width": 0.5
             },
             "pattern": {
              "fillmode": "overlay",
              "size": 10,
              "solidity": 0.2
             }
            },
            "type": "barpolar"
           }
          ],
          "carpet": [
           {
            "aaxis": {
             "endlinecolor": "#A2B1C6",
             "gridcolor": "#506784",
             "linecolor": "#506784",
             "minorgridcolor": "#506784",
             "startlinecolor": "#A2B1C6"
            },
            "baxis": {
             "endlinecolor": "#A2B1C6",
             "gridcolor": "#506784",
             "linecolor": "#506784",
             "minorgridcolor": "#506784",
             "startlinecolor": "#A2B1C6"
            },
            "type": "carpet"
           }
          ],
          "choropleth": [
           {
            "colorbar": {
             "outlinewidth": 0,
             "ticks": ""
            },
            "type": "choropleth"
           }
          ],
          "contour": [
           {
            "colorbar": {
             "outlinewidth": 0,
             "ticks": ""
            },
            "colorscale": [
             [
              0,
              "#0d0887"
             ],
             [
              0.1111111111111111,
              "#46039f"
             ],
             [
              0.2222222222222222,
              "#7201a8"
             ],
             [
              0.3333333333333333,
              "#9c179e"
             ],
             [
              0.4444444444444444,
              "#bd3786"
             ],
             [
              0.5555555555555556,
              "#d8576b"
             ],
             [
              0.6666666666666666,
              "#ed7953"
             ],
             [
              0.7777777777777778,
              "#fb9f3a"
             ],
             [
              0.8888888888888888,
              "#fdca26"
             ],
             [
              1,
              "#f0f921"
             ]
            ],
            "type": "contour"
           }
          ],
          "contourcarpet": [
           {
            "colorbar": {
             "outlinewidth": 0,
             "ticks": ""
            },
            "type": "contourcarpet"
           }
          ],
          "heatmap": [
           {
            "colorbar": {
             "outlinewidth": 0,
             "ticks": ""
            },
            "colorscale": [
             [
              0,
              "#0d0887"
             ],
             [
              0.1111111111111111,
              "#46039f"
             ],
             [
              0.2222222222222222,
              "#7201a8"
             ],
             [
              0.3333333333333333,
              "#9c179e"
             ],
             [
              0.4444444444444444,
              "#bd3786"
             ],
             [
              0.5555555555555556,
              "#d8576b"
             ],
             [
              0.6666666666666666,
              "#ed7953"
             ],
             [
              0.7777777777777778,
              "#fb9f3a"
             ],
             [
              0.8888888888888888,
              "#fdca26"
             ],
             [
              1,
              "#f0f921"
             ]
            ],
            "type": "heatmap"
           }
          ],
          "histogram": [
           {
            "marker": {
             "pattern": {
              "fillmode": "overlay",
              "size": 10,
              "solidity": 0.2
             }
            },
            "type": "histogram"
           }
          ],
          "histogram2d": [
           {
            "colorbar": {
             "outlinewidth": 0,
             "ticks": ""
            },
            "colorscale": [
             [
              0,
              "#0d0887"
             ],
             [
              0.1111111111111111,
              "#46039f"
             ],
             [
              0.2222222222222222,
              "#7201a8"
             ],
             [
              0.3333333333333333,
              "#9c179e"
             ],
             [
              0.4444444444444444,
              "#bd3786"
             ],
             [
              0.5555555555555556,
              "#d8576b"
             ],
             [
              0.6666666666666666,
              "#ed7953"
             ],
             [
              0.7777777777777778,
              "#fb9f3a"
             ],
             [
              0.8888888888888888,
              "#fdca26"
             ],
             [
              1,
              "#f0f921"
             ]
            ],
            "type": "histogram2d"
           }
          ],
          "histogram2dcontour": [
           {
            "colorbar": {
             "outlinewidth": 0,
             "ticks": ""
            },
            "colorscale": [
             [
              0,
              "#0d0887"
             ],
             [
              0.1111111111111111,
              "#46039f"
             ],
             [
              0.2222222222222222,
              "#7201a8"
             ],
             [
              0.3333333333333333,
              "#9c179e"
             ],
             [
              0.4444444444444444,
              "#bd3786"
             ],
             [
              0.5555555555555556,
              "#d8576b"
             ],
             [
              0.6666666666666666,
              "#ed7953"
             ],
             [
              0.7777777777777778,
              "#fb9f3a"
             ],
             [
              0.8888888888888888,
              "#fdca26"
             ],
             [
              1,
              "#f0f921"
             ]
            ],
            "type": "histogram2dcontour"
           }
          ],
          "mesh3d": [
           {
            "colorbar": {
             "outlinewidth": 0,
             "ticks": ""
            },
            "type": "mesh3d"
           }
          ],
          "parcoords": [
           {
            "line": {
             "colorbar": {
              "outlinewidth": 0,
              "ticks": ""
             }
            },
            "type": "parcoords"
           }
          ],
          "pie": [
           {
            "automargin": true,
            "type": "pie"
           }
          ],
          "scatter": [
           {
            "marker": {
             "line": {
              "color": "#283442"
             }
            },
            "type": "scatter"
           }
          ],
          "scatter3d": [
           {
            "line": {
             "colorbar": {
              "outlinewidth": 0,
              "ticks": ""
             }
            },
            "marker": {
             "colorbar": {
              "outlinewidth": 0,
              "ticks": ""
             }
            },
            "type": "scatter3d"
           }
          ],
          "scattercarpet": [
           {
            "marker": {
             "colorbar": {
              "outlinewidth": 0,
              "ticks": ""
             }
            },
            "type": "scattercarpet"
           }
          ],
          "scattergeo": [
           {
            "marker": {
             "colorbar": {
              "outlinewidth": 0,
              "ticks": ""
             }
            },
            "type": "scattergeo"
           }
          ],
          "scattergl": [
           {
            "marker": {
             "line": {
              "color": "#283442"
             }
            },
            "type": "scattergl"
           }
          ],
          "scattermap": [
           {
            "marker": {
             "colorbar": {
              "outlinewidth": 0,
              "ticks": ""
             }
            },
            "type": "scattermap"
           }
          ],
          "scattermapbox": [
           {
            "marker": {
             "colorbar": {
              "outlinewidth": 0,
              "ticks": ""
             }
            },
            "type": "scattermapbox"
           }
          ],
          "scatterpolar": [
           {
            "marker": {
             "colorbar": {
              "outlinewidth": 0,
              "ticks": ""
             }
            },
            "type": "scatterpolar"
           }
          ],
          "scatterpolargl": [
           {
            "marker": {
             "colorbar": {
              "outlinewidth": 0,
              "ticks": ""
             }
            },
            "type": "scatterpolargl"
           }
          ],
          "scatterternary": [
           {
            "marker": {
             "colorbar": {
              "outlinewidth": 0,
              "ticks": ""
             }
            },
            "type": "scatterternary"
           }
          ],
          "surface": [
           {
            "colorbar": {
             "outlinewidth": 0,
             "ticks": ""
            },
            "colorscale": [
             [
              0,
              "#0d0887"
             ],
             [
              0.1111111111111111,
              "#46039f"
             ],
             [
              0.2222222222222222,
              "#7201a8"
             ],
             [
              0.3333333333333333,
              "#9c179e"
             ],
             [
              0.4444444444444444,
              "#bd3786"
             ],
             [
              0.5555555555555556,
              "#d8576b"
             ],
             [
              0.6666666666666666,
              "#ed7953"
             ],
             [
              0.7777777777777778,
              "#fb9f3a"
             ],
             [
              0.8888888888888888,
              "#fdca26"
             ],
             [
              1,
              "#f0f921"
             ]
            ],
            "type": "surface"
           }
          ],
          "table": [
           {
            "cells": {
             "fill": {
              "color": "#506784"
             },
             "line": {
              "color": "rgb(17,17,17)"
             }
            },
            "header": {
             "fill": {
              "color": "#2a3f5f"
             },
             "line": {
              "color": "rgb(17,17,17)"
             }
            },
            "type": "table"
           }
          ]
         },
         "layout": {
          "annotationdefaults": {
           "arrowcolor": "#f2f5fa",
           "arrowhead": 0,
           "arrowwidth": 1
          },
          "autotypenumbers": "strict",
          "coloraxis": {
           "colorbar": {
            "outlinewidth": 0,
            "ticks": ""
           }
          },
          "colorscale": {
           "diverging": [
            [
             0,
             "#8e0152"
            ],
            [
             0.1,
             "#c51b7d"
            ],
            [
             0.2,
             "#de77ae"
            ],
            [
             0.3,
             "#f1b6da"
            ],
            [
             0.4,
             "#fde0ef"
            ],
            [
             0.5,
             "#f7f7f7"
            ],
            [
             0.6,
             "#e6f5d0"
            ],
            [
             0.7,
             "#b8e186"
            ],
            [
             0.8,
             "#7fbc41"
            ],
            [
             0.9,
             "#4d9221"
            ],
            [
             1,
             "#276419"
            ]
           ],
           "sequential": [
            [
             0,
             "#0d0887"
            ],
            [
             0.1111111111111111,
             "#46039f"
            ],
            [
             0.2222222222222222,
             "#7201a8"
            ],
            [
             0.3333333333333333,
             "#9c179e"
            ],
            [
             0.4444444444444444,
             "#bd3786"
            ],
            [
             0.5555555555555556,
             "#d8576b"
            ],
            [
             0.6666666666666666,
             "#ed7953"
            ],
            [
             0.7777777777777778,
             "#fb9f3a"
            ],
            [
             0.8888888888888888,
             "#fdca26"
            ],
            [
             1,
             "#f0f921"
            ]
           ],
           "sequentialminus": [
            [
             0,
             "#0d0887"
            ],
            [
             0.1111111111111111,
             "#46039f"
            ],
            [
             0.2222222222222222,
             "#7201a8"
            ],
            [
             0.3333333333333333,
             "#9c179e"
            ],
            [
             0.4444444444444444,
             "#bd3786"
            ],
            [
             0.5555555555555556,
             "#d8576b"
            ],
            [
             0.6666666666666666,
             "#ed7953"
            ],
            [
             0.7777777777777778,
             "#fb9f3a"
            ],
            [
             0.8888888888888888,
             "#fdca26"
            ],
            [
             1,
             "#f0f921"
            ]
           ]
          },
          "colorway": [
           "#636efa",
           "#EF553B",
           "#00cc96",
           "#ab63fa",
           "#FFA15A",
           "#19d3f3",
           "#FF6692",
           "#B6E880",
           "#FF97FF",
           "#FECB52"
          ],
          "font": {
           "color": "#f2f5fa"
          },
          "geo": {
           "bgcolor": "rgb(17,17,17)",
           "lakecolor": "rgb(17,17,17)",
           "landcolor": "rgb(17,17,17)",
           "showlakes": true,
           "showland": true,
           "subunitcolor": "#506784"
          },
          "hoverlabel": {
           "align": "left"
          },
          "hovermode": "closest",
          "mapbox": {
           "style": "dark"
          },
          "paper_bgcolor": "rgb(17,17,17)",
          "plot_bgcolor": "rgb(17,17,17)",
          "polar": {
           "angularaxis": {
            "gridcolor": "#506784",
            "linecolor": "#506784",
            "ticks": ""
           },
           "bgcolor": "rgb(17,17,17)",
           "radialaxis": {
            "gridcolor": "#506784",
            "linecolor": "#506784",
            "ticks": ""
           }
          },
          "scene": {
           "xaxis": {
            "backgroundcolor": "rgb(17,17,17)",
            "gridcolor": "#506784",
            "gridwidth": 2,
            "linecolor": "#506784",
            "showbackground": true,
            "ticks": "",
            "zerolinecolor": "#C8D4E3"
           },
           "yaxis": {
            "backgroundcolor": "rgb(17,17,17)",
            "gridcolor": "#506784",
            "gridwidth": 2,
            "linecolor": "#506784",
            "showbackground": true,
            "ticks": "",
            "zerolinecolor": "#C8D4E3"
           },
           "zaxis": {
            "backgroundcolor": "rgb(17,17,17)",
            "gridcolor": "#506784",
            "gridwidth": 2,
            "linecolor": "#506784",
            "showbackground": true,
            "ticks": "",
            "zerolinecolor": "#C8D4E3"
           }
          },
          "shapedefaults": {
           "line": {
            "color": "#f2f5fa"
           }
          },
          "sliderdefaults": {
           "bgcolor": "#C8D4E3",
           "bordercolor": "rgb(17,17,17)",
           "borderwidth": 1,
           "tickwidth": 0
          },
          "ternary": {
           "aaxis": {
            "gridcolor": "#506784",
            "linecolor": "#506784",
            "ticks": ""
           },
           "baxis": {
            "gridcolor": "#506784",
            "linecolor": "#506784",
            "ticks": ""
           },
           "bgcolor": "rgb(17,17,17)",
           "caxis": {
            "gridcolor": "#506784",
            "linecolor": "#506784",
            "ticks": ""
           }
          },
          "title": {
           "x": 0.05
          },
          "updatemenudefaults": {
           "bgcolor": "#506784",
           "borderwidth": 0
          },
          "xaxis": {
           "automargin": true,
           "gridcolor": "#283442",
           "linecolor": "#506784",
           "ticks": "",
           "title": {
            "standoff": 15
           },
           "zerolinecolor": "#283442",
           "zerolinewidth": 2
          },
          "yaxis": {
           "automargin": true,
           "gridcolor": "#283442",
           "linecolor": "#506784",
           "ticks": "",
           "title": {
            "standoff": 15
           },
           "zerolinecolor": "#283442",
           "zerolinewidth": 2
          }
         }
        },
        "title": {
         "text": "Indirect link length"
        },
        "xaxis": {
         "title": {
          "text": "dris"
         }
        },
        "yaxis": {
         "title": {
          "text": "d1 + d2"
         }
        }
       }
      }
     },
     "metadata": {},
     "output_type": "display_data"
    },
    {
     "data": {
      "application/vnd.plotly.v1+json": {
       "config": {
        "plotlyServerURL": "https://plot.ly"
       },
       "data": [
        {
         "line": {
          "color": "blue",
          "width": 1
         },
         "marker": {
          "color": "red",
          "size": 4
         },
         "mode": "lines+markers",
         "name": "Line with Markers",
         "type": "scatter",
         "x": [
          0,
          5,
          10,
          15,
          20,
          25,
          30,
          35,
          40,
          45,
          50,
          55,
          60,
          65,
          70,
          75,
          80,
          85,
          90,
          95,
          100,
          105,
          110,
          115,
          120,
          125,
          130,
          135,
          140,
          145,
          150,
          155,
          160,
          165,
          170,
          175,
          180,
          185,
          190,
          195,
          200,
          205,
          210,
          215,
          220,
          225,
          230,
          235,
          240,
          245,
          250,
          255,
          260,
          265,
          270,
          275,
          280,
          285,
          290,
          295,
          300,
          305,
          310,
          315,
          320,
          325,
          330,
          335,
          340,
          345,
          350,
          355,
          360,
          365,
          370,
          375,
          380,
          385,
          390,
          395,
          400,
          405,
          410,
          415,
          420,
          425,
          430,
          435,
          440,
          445,
          450,
          455,
          460,
          465,
          470,
          475,
          480,
          485,
          490,
          495
         ],
         "y": [
          0.031458791128432854,
          0.0343732582301167,
          0.04518528983098647,
          0.0660721779497318,
          0.10027320418960242,
          0.1514629529443549,
          0.2232504674097549,
          0.31883451036762933,
          0.44079525210703097,
          0.5909895211187121,
          0.7705191220845471,
          0.979748156512851,
          1.2183515859309217,
          1.4853823678897207,
          1.779348321510392,
          2.098292665541228,
          2.4398741680706064,
          2.8014442632308283,
          3.1801194872838816,
          3.572848282957691,
          3.976471702695691,
          4.387777870353489,
          4.803550281090932,
          5.220610162463728,
          5.635853208711864,
          6.046281051224365,
          6.4490278527662905,
          6.841382419608172,
          7.220806220143329,
          7.584947685146061,
          7.93165314651111,
          8.25897475023121,
          8.565175656982861,
          8.84873282100991,
          9.108337615694303,
          9.342894552726863,
          9.551518321406258,
          9.733529355457211,
          9.88844811693608,
          10.01598827029803,
          10.11604890450766,
          10.188705947133569,
          10.234202901611194,
          10.252941027211888,
          10.245469070641995,
          10.212472648534037,
          10.154763371306169,
          10.073267790882399,
          9.969016247513226,
          9.843131684351338,
          9.69681849245618,
          9.531351443471532,
          9.348064762288276,
          9.148341387524153,
          8.933602463580817,
          8.705297104336854,
          8.464892465167814,
          8.213864156919685,
          7.953687032670442,
          7.685826375570034,
          7.411729513727365,
          7.132817885993403,
          6.850479580551392,
          6.566062366450849,
          6.280867236596243,
          5.996142479207086,
          5.713078293391765,
          5.432801963209193,
          5.156373603417807,
          4.884782489021114,
          4.618943979700013,
          4.359697049265881,
          4.107802429363566,
          3.8639413757902803,
          3.628715064963788,
          3.4026446272606576,
          3.1861718231405862,
          2.9796603671627118,
          2.7833979041709336,
          2.5975986410608627,
          2.422406636624112,
          2.2578997509760126,
          2.104094254988708,
          1.9609500989486406,
          1.8283768383097483,
          1.7062402128942222,
          1.5943693741744918,
          1.4925647533288577,
          1.4006065605797962,
          1.318263903889157,
          1.2453045124037465,
          1.181505047145297,
          1.126661978375482,
          1.080603005928832,
          1.043198995721901,
          1.0143764027820477,
          0.9941301486926458,
          0.9825369195412125,
          0.9797688494975934,
          0.9861075552243997
         ]
        }
       ],
       "layout": {
        "template": {
         "data": {
          "bar": [
           {
            "error_x": {
             "color": "#2a3f5f"
            },
            "error_y": {
             "color": "#2a3f5f"
            },
            "marker": {
             "line": {
              "color": "#E5ECF6",
              "width": 0.5
             },
             "pattern": {
              "fillmode": "overlay",
              "size": 10,
              "solidity": 0.2
             }
            },
            "type": "bar"
           }
          ],
          "barpolar": [
           {
            "marker": {
             "line": {
              "color": "#E5ECF6",
              "width": 0.5
             },
             "pattern": {
              "fillmode": "overlay",
              "size": 10,
              "solidity": 0.2
             }
            },
            "type": "barpolar"
           }
          ],
          "carpet": [
           {
            "aaxis": {
             "endlinecolor": "#2a3f5f",
             "gridcolor": "white",
             "linecolor": "white",
             "minorgridcolor": "white",
             "startlinecolor": "#2a3f5f"
            },
            "baxis": {
             "endlinecolor": "#2a3f5f",
             "gridcolor": "white",
             "linecolor": "white",
             "minorgridcolor": "white",
             "startlinecolor": "#2a3f5f"
            },
            "type": "carpet"
           }
          ],
          "choropleth": [
           {
            "colorbar": {
             "outlinewidth": 0,
             "ticks": ""
            },
            "type": "choropleth"
           }
          ],
          "contour": [
           {
            "colorbar": {
             "outlinewidth": 0,
             "ticks": ""
            },
            "colorscale": [
             [
              0,
              "#0d0887"
             ],
             [
              0.1111111111111111,
              "#46039f"
             ],
             [
              0.2222222222222222,
              "#7201a8"
             ],
             [
              0.3333333333333333,
              "#9c179e"
             ],
             [
              0.4444444444444444,
              "#bd3786"
             ],
             [
              0.5555555555555556,
              "#d8576b"
             ],
             [
              0.6666666666666666,
              "#ed7953"
             ],
             [
              0.7777777777777778,
              "#fb9f3a"
             ],
             [
              0.8888888888888888,
              "#fdca26"
             ],
             [
              1,
              "#f0f921"
             ]
            ],
            "type": "contour"
           }
          ],
          "contourcarpet": [
           {
            "colorbar": {
             "outlinewidth": 0,
             "ticks": ""
            },
            "type": "contourcarpet"
           }
          ],
          "heatmap": [
           {
            "colorbar": {
             "outlinewidth": 0,
             "ticks": ""
            },
            "colorscale": [
             [
              0,
              "#0d0887"
             ],
             [
              0.1111111111111111,
              "#46039f"
             ],
             [
              0.2222222222222222,
              "#7201a8"
             ],
             [
              0.3333333333333333,
              "#9c179e"
             ],
             [
              0.4444444444444444,
              "#bd3786"
             ],
             [
              0.5555555555555556,
              "#d8576b"
             ],
             [
              0.6666666666666666,
              "#ed7953"
             ],
             [
              0.7777777777777778,
              "#fb9f3a"
             ],
             [
              0.8888888888888888,
              "#fdca26"
             ],
             [
              1,
              "#f0f921"
             ]
            ],
            "type": "heatmap"
           }
          ],
          "histogram": [
           {
            "marker": {
             "pattern": {
              "fillmode": "overlay",
              "size": 10,
              "solidity": 0.2
             }
            },
            "type": "histogram"
           }
          ],
          "histogram2d": [
           {
            "colorbar": {
             "outlinewidth": 0,
             "ticks": ""
            },
            "colorscale": [
             [
              0,
              "#0d0887"
             ],
             [
              0.1111111111111111,
              "#46039f"
             ],
             [
              0.2222222222222222,
              "#7201a8"
             ],
             [
              0.3333333333333333,
              "#9c179e"
             ],
             [
              0.4444444444444444,
              "#bd3786"
             ],
             [
              0.5555555555555556,
              "#d8576b"
             ],
             [
              0.6666666666666666,
              "#ed7953"
             ],
             [
              0.7777777777777778,
              "#fb9f3a"
             ],
             [
              0.8888888888888888,
              "#fdca26"
             ],
             [
              1,
              "#f0f921"
             ]
            ],
            "type": "histogram2d"
           }
          ],
          "histogram2dcontour": [
           {
            "colorbar": {
             "outlinewidth": 0,
             "ticks": ""
            },
            "colorscale": [
             [
              0,
              "#0d0887"
             ],
             [
              0.1111111111111111,
              "#46039f"
             ],
             [
              0.2222222222222222,
              "#7201a8"
             ],
             [
              0.3333333333333333,
              "#9c179e"
             ],
             [
              0.4444444444444444,
              "#bd3786"
             ],
             [
              0.5555555555555556,
              "#d8576b"
             ],
             [
              0.6666666666666666,
              "#ed7953"
             ],
             [
              0.7777777777777778,
              "#fb9f3a"
             ],
             [
              0.8888888888888888,
              "#fdca26"
             ],
             [
              1,
              "#f0f921"
             ]
            ],
            "type": "histogram2dcontour"
           }
          ],
          "mesh3d": [
           {
            "colorbar": {
             "outlinewidth": 0,
             "ticks": ""
            },
            "type": "mesh3d"
           }
          ],
          "parcoords": [
           {
            "line": {
             "colorbar": {
              "outlinewidth": 0,
              "ticks": ""
             }
            },
            "type": "parcoords"
           }
          ],
          "pie": [
           {
            "automargin": true,
            "type": "pie"
           }
          ],
          "scatter": [
           {
            "fillpattern": {
             "fillmode": "overlay",
             "size": 10,
             "solidity": 0.2
            },
            "type": "scatter"
           }
          ],
          "scatter3d": [
           {
            "line": {
             "colorbar": {
              "outlinewidth": 0,
              "ticks": ""
             }
            },
            "marker": {
             "colorbar": {
              "outlinewidth": 0,
              "ticks": ""
             }
            },
            "type": "scatter3d"
           }
          ],
          "scattercarpet": [
           {
            "marker": {
             "colorbar": {
              "outlinewidth": 0,
              "ticks": ""
             }
            },
            "type": "scattercarpet"
           }
          ],
          "scattergeo": [
           {
            "marker": {
             "colorbar": {
              "outlinewidth": 0,
              "ticks": ""
             }
            },
            "type": "scattergeo"
           }
          ],
          "scattergl": [
           {
            "marker": {
             "colorbar": {
              "outlinewidth": 0,
              "ticks": ""
             }
            },
            "type": "scattergl"
           }
          ],
          "scattermap": [
           {
            "marker": {
             "colorbar": {
              "outlinewidth": 0,
              "ticks": ""
             }
            },
            "type": "scattermap"
           }
          ],
          "scattermapbox": [
           {
            "marker": {
             "colorbar": {
              "outlinewidth": 0,
              "ticks": ""
             }
            },
            "type": "scattermapbox"
           }
          ],
          "scatterpolar": [
           {
            "marker": {
             "colorbar": {
              "outlinewidth": 0,
              "ticks": ""
             }
            },
            "type": "scatterpolar"
           }
          ],
          "scatterpolargl": [
           {
            "marker": {
             "colorbar": {
              "outlinewidth": 0,
              "ticks": ""
             }
            },
            "type": "scatterpolargl"
           }
          ],
          "scatterternary": [
           {
            "marker": {
             "colorbar": {
              "outlinewidth": 0,
              "ticks": ""
             }
            },
            "type": "scatterternary"
           }
          ],
          "surface": [
           {
            "colorbar": {
             "outlinewidth": 0,
             "ticks": ""
            },
            "colorscale": [
             [
              0,
              "#0d0887"
             ],
             [
              0.1111111111111111,
              "#46039f"
             ],
             [
              0.2222222222222222,
              "#7201a8"
             ],
             [
              0.3333333333333333,
              "#9c179e"
             ],
             [
              0.4444444444444444,
              "#bd3786"
             ],
             [
              0.5555555555555556,
              "#d8576b"
             ],
             [
              0.6666666666666666,
              "#ed7953"
             ],
             [
              0.7777777777777778,
              "#fb9f3a"
             ],
             [
              0.8888888888888888,
              "#fdca26"
             ],
             [
              1,
              "#f0f921"
             ]
            ],
            "type": "surface"
           }
          ],
          "table": [
           {
            "cells": {
             "fill": {
              "color": "#EBF0F8"
             },
             "line": {
              "color": "white"
             }
            },
            "header": {
             "fill": {
              "color": "#C8D4E3"
             },
             "line": {
              "color": "white"
             }
            },
            "type": "table"
           }
          ]
         },
         "layout": {
          "annotationdefaults": {
           "arrowcolor": "#2a3f5f",
           "arrowhead": 0,
           "arrowwidth": 1
          },
          "autotypenumbers": "strict",
          "coloraxis": {
           "colorbar": {
            "outlinewidth": 0,
            "ticks": ""
           }
          },
          "colorscale": {
           "diverging": [
            [
             0,
             "#8e0152"
            ],
            [
             0.1,
             "#c51b7d"
            ],
            [
             0.2,
             "#de77ae"
            ],
            [
             0.3,
             "#f1b6da"
            ],
            [
             0.4,
             "#fde0ef"
            ],
            [
             0.5,
             "#f7f7f7"
            ],
            [
             0.6,
             "#e6f5d0"
            ],
            [
             0.7,
             "#b8e186"
            ],
            [
             0.8,
             "#7fbc41"
            ],
            [
             0.9,
             "#4d9221"
            ],
            [
             1,
             "#276419"
            ]
           ],
           "sequential": [
            [
             0,
             "#0d0887"
            ],
            [
             0.1111111111111111,
             "#46039f"
            ],
            [
             0.2222222222222222,
             "#7201a8"
            ],
            [
             0.3333333333333333,
             "#9c179e"
            ],
            [
             0.4444444444444444,
             "#bd3786"
            ],
            [
             0.5555555555555556,
             "#d8576b"
            ],
            [
             0.6666666666666666,
             "#ed7953"
            ],
            [
             0.7777777777777778,
             "#fb9f3a"
            ],
            [
             0.8888888888888888,
             "#fdca26"
            ],
            [
             1,
             "#f0f921"
            ]
           ],
           "sequentialminus": [
            [
             0,
             "#0d0887"
            ],
            [
             0.1111111111111111,
             "#46039f"
            ],
            [
             0.2222222222222222,
             "#7201a8"
            ],
            [
             0.3333333333333333,
             "#9c179e"
            ],
            [
             0.4444444444444444,
             "#bd3786"
            ],
            [
             0.5555555555555556,
             "#d8576b"
            ],
            [
             0.6666666666666666,
             "#ed7953"
            ],
            [
             0.7777777777777778,
             "#fb9f3a"
            ],
            [
             0.8888888888888888,
             "#fdca26"
            ],
            [
             1,
             "#f0f921"
            ]
           ]
          },
          "colorway": [
           "#636efa",
           "#EF553B",
           "#00cc96",
           "#ab63fa",
           "#FFA15A",
           "#19d3f3",
           "#FF6692",
           "#B6E880",
           "#FF97FF",
           "#FECB52"
          ],
          "font": {
           "color": "#2a3f5f"
          },
          "geo": {
           "bgcolor": "white",
           "lakecolor": "white",
           "landcolor": "#E5ECF6",
           "showlakes": true,
           "showland": true,
           "subunitcolor": "white"
          },
          "hoverlabel": {
           "align": "left"
          },
          "hovermode": "closest",
          "mapbox": {
           "style": "light"
          },
          "paper_bgcolor": "white",
          "plot_bgcolor": "#E5ECF6",
          "polar": {
           "angularaxis": {
            "gridcolor": "white",
            "linecolor": "white",
            "ticks": ""
           },
           "bgcolor": "#E5ECF6",
           "radialaxis": {
            "gridcolor": "white",
            "linecolor": "white",
            "ticks": ""
           }
          },
          "scene": {
           "xaxis": {
            "backgroundcolor": "#E5ECF6",
            "gridcolor": "white",
            "gridwidth": 2,
            "linecolor": "white",
            "showbackground": true,
            "ticks": "",
            "zerolinecolor": "white"
           },
           "yaxis": {
            "backgroundcolor": "#E5ECF6",
            "gridcolor": "white",
            "gridwidth": 2,
            "linecolor": "white",
            "showbackground": true,
            "ticks": "",
            "zerolinecolor": "white"
           },
           "zaxis": {
            "backgroundcolor": "#E5ECF6",
            "gridcolor": "white",
            "gridwidth": 2,
            "linecolor": "white",
            "showbackground": true,
            "ticks": "",
            "zerolinecolor": "white"
           }
          },
          "shapedefaults": {
           "line": {
            "color": "#2a3f5f"
           }
          },
          "ternary": {
           "aaxis": {
            "gridcolor": "white",
            "linecolor": "white",
            "ticks": ""
           },
           "baxis": {
            "gridcolor": "white",
            "linecolor": "white",
            "ticks": ""
           },
           "bgcolor": "#E5ECF6",
           "caxis": {
            "gridcolor": "white",
            "linecolor": "white",
            "ticks": ""
           }
          },
          "title": {
           "x": 0.05
          },
          "xaxis": {
           "automargin": true,
           "gridcolor": "white",
           "linecolor": "white",
           "ticks": "",
           "title": {
            "standoff": 15
           },
           "zerolinecolor": "white",
           "zerolinewidth": 2
          },
          "yaxis": {
           "automargin": true,
           "gridcolor": "white",
           "linecolor": "white",
           "ticks": "",
           "title": {
            "standoff": 15
           },
           "zerolinecolor": "white",
           "zerolinewidth": 2
          }
         }
        },
        "title": {
         "text": "Indirect link length"
        },
        "xaxis": {
         "title": {
          "text": "dris"
         }
        },
        "yaxis": {
         "title": {
          "text": "Total FSPL"
         }
        }
       }
      }
     },
     "metadata": {},
     "output_type": "display_data"
    }
   ],
   "source": [
    "# Indirect link lenght\n",
    "# Figure 2\n",
    "\n",
    "# a\n",
    "# Create the line plot\n",
    "fig1 = go.Figure(data=go.Scatter(\n",
    "    x=temp_dris_vector, \n",
    "    y=d1_plus_d2_vector, \n",
    "    mode='lines+markers',  # Line + Markers\n",
    "    marker=dict(size=4, color='red'),  # Marker style\n",
    "    line=dict(color='blue', width=1),  # Line style\n",
    "    name='Line with Markers'\n",
    "))\n",
    "\n",
    "# Add titles and labels\n",
    "fig1.update_layout(\n",
    "    title='Indirect link length',\n",
    "    xaxis_title='dris',\n",
    "    yaxis_title='d1 + d2',\n",
    "    template='plotly_dark',  # Optional: Dark theme, change if needed\n",
    ")\n",
    "\n",
    "# a\n",
    "# Create the line plot\n",
    "fig2 = go.Figure(data=go.Scatter(\n",
    "    x=temp_dris_vector, \n",
    "    y=total_FSPL_vector, \n",
    "    mode='lines+markers',  # Line + Markers\n",
    "    marker=dict(size=4, color='red'),  # Marker style\n",
    "    line=dict(color='blue', width=1),  # Line style\n",
    "    name='Line with Markers'\n",
    "))\n",
    "\n",
    "# Add titles and labels\n",
    "fig2.update_layout(\n",
    "    title='Indirect link length',\n",
    "    xaxis_title='dris',\n",
    "    yaxis_title='Total FSPL',  # Optional: Dark theme, change if needed\n",
    ")\n",
    "\n",
    "# Show the plot\n",
    "fig1.show()\n",
    "\n",
    "# T = total free space path loss\n",
    "# if T > 1 direct link is expected be stronger \n",
    "# if T < 1 te indirect with optimized RIS shift is stronger\n",
    "fig2.show()\n"
   ]
  },
  {
   "cell_type": "markdown",
   "metadata": {},
   "source": [
    "## Channel Model"
   ]
  },
  {
   "cell_type": "markdown",
   "metadata": {},
   "source": [
    "#### Distance matrices\n",
    "\n",
    "![Location setup](location.png)\n"
   ]
  },
  {
   "cell_type": "code",
   "execution_count": 6,
   "metadata": {},
   "outputs": [
    {
     "name": "stdout",
     "output_type": "stream",
     "text": [
      "\n",
      "tx x coordinates shape: (8,)\n",
      "tx y coordinates shape: (8,)\n",
      "tx z coordinates shape: (8,)\n",
      "\n",
      "rx x coordinates shape: (4,)\n",
      "rx y coordinates shape: (4,)\n",
      "rx z coordinates shape: (4,)\n",
      "\n",
      "ris x coordinates shape: (225,)\n",
      "ris y coordinates shape: (225,)\n",
      "ris z coordinates shape: (225,)\n",
      "\n",
      "\n"
     ]
    }
   ],
   "source": [
    "# Spacing between antennas (in meters)\n",
    "antenna_spacing = wavelength/2  \n",
    "\n",
    "######################################################################################################\n",
    "# Tx coordinates\n",
    "# x,y coordinates is zeros\n",
    "tx_antenna_x_coor = np.ones(Nt) * 0\n",
    "tx_antenna_y_coor = np.arange(Nt-1, -1, -1) * antenna_spacing + lt - ((Nt-1) * antenna_spacing)/2\n",
    "tx_antenna_z_coor = np.ones(Nt) * 0\n",
    "\n",
    "\n",
    "######################################################################################################\n",
    "# Rx coordinates\n",
    "# x coordinate is D\n",
    "# y coordinate is zeros\n",
    "rx_antenna_x_coor = np.ones(Nr) * D\n",
    "rx_antenna_y_coor = np.arange(Nr-1, -1, -1) * antenna_spacing + lr - ((Nr-1) * antenna_spacing)/2\n",
    "rx_antenna_z_coor = np.ones(Nr) * 0\n",
    "\n",
    "\n",
    "######################################################################################################\n",
    "# RIS coordinates\n",
    "# on x axis we have Na elements\n",
    "# on y axis we have Nb elements\n",
    "\n",
    "# RIS z coordinates are zero\n",
    "# RIS x coordinates \n",
    "col = np.arange(0, Na, 1).reshape(-1, 1)\n",
    "col = np.tile(col, Nb) * antenna_spacing + d_ris - ((Na-1) * antenna_spacing)/2\n",
    "ris_elements_x_coor = col.reshape(-1,)\n",
    "\n",
    "ris_elements_y_coor = np.ones(Na*Nb) * 0\n",
    "\n",
    "# RIS y coordinates \n",
    "col = np.arange(0, Nb, 1)\n",
    "col = np.tile(col, Na) * antenna_spacing - ((Nb-1) * antenna_spacing)/2\n",
    "ris_elements_z_coor = col.reshape(-1,)\n",
    "\n",
    "\n",
    "\n",
    "print(f\"\"\"\n",
    "tx x coordinates shape: {tx_antenna_x_coor.shape}\n",
    "tx y coordinates shape: {tx_antenna_y_coor.shape}\n",
    "tx z coordinates shape: {tx_antenna_z_coor.shape}\n",
    "\n",
    "rx x coordinates shape: {rx_antenna_x_coor.shape}\n",
    "rx y coordinates shape: {rx_antenna_y_coor.shape}\n",
    "rx z coordinates shape: {rx_antenna_z_coor.shape}\n",
    "\n",
    "ris x coordinates shape: {ris_elements_x_coor.shape}\n",
    "ris y coordinates shape: {ris_elements_y_coor.shape}\n",
    "ris z coordinates shape: {ris_elements_z_coor.shape}\n",
    "\n",
    "\"\"\")\n"
   ]
  },
  {
   "cell_type": "code",
   "execution_count": 26,
   "metadata": {},
   "outputs": [
    {
     "data": {
      "application/vnd.plotly.v1+json": {
       "config": {
        "plotlyServerURL": "https://plot.ly"
       },
       "data": [
        {
         "marker": {
          "color": "red",
          "size": 5
         },
         "mode": "markers",
         "name": "Tx",
         "type": "scatter3d",
         "x": {
          "bdata": "AAAAAAAAAAAAAAAAAAAAAAAAAAAAAAAAAAAAAAAAAAAAAAAAAAAAAAAAAAAAAAAAAAAAAAAAAAAAAAAAAAAAAA==",
          "dtype": "f8"
         },
         "y": {
          "bdata": "MzMzMzNDNEAAAAAAADA0QM3MzMzMHDRAmpmZmZkJNEBnZmZmZvYzQDMzMzMz4zNAAAAAAADQM0DNzMzMzLwzQA==",
          "dtype": "f8"
         },
         "z": {
          "bdata": "AAAAAAAAAAAAAAAAAAAAAAAAAAAAAAAAAAAAAAAAAAAAAAAAAAAAAAAAAAAAAAAAAAAAAAAAAAAAAAAAAAAAAA==",
          "dtype": "f8"
         }
        },
        {
         "marker": {
          "color": "green",
          "size": 5
         },
         "mode": "markers",
         "name": "Rx",
         "type": "scatter3d",
         "x": {
          "bdata": "AAAAAABAf0AAAAAAAEB/QAAAAAAAQH9AAAAAAABAf0A=",
          "dtype": "f8"
         },
         "y": {
          "bdata": "MzMzMzMHWUBnZmZmZgJZQJqZmZmZ/VhAzczMzMz4WEA=",
          "dtype": "f8"
         },
         "z": {
          "bdata": "AAAAAAAAAAAAAAAAAAAAAAAAAAAAAAAAAAAAAAAAAAA=",
          "dtype": "f8"
         }
        },
        {
         "marker": {
          "color": "blue",
          "size": 5
         },
         "mode": "markers",
         "name": "RIS",
         "type": "scatter3d",
         "x": {
          "bdata": "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",
          "dtype": "f8"
         },
         "y": {
          "bdata": "AAAAAAAAAAAAAAAAAAAAAAAAAAAAAAAAAAAAAAAAAAAAAAAAAAAAAAAAAAAAAAAAAAAAAAAAAAAAAAAAAAAAAAAAAAAAAAAAAAAAAAAAAAAAAAAAAAAAAAAAAAAAAAAAAAAAAAAAAAAAAAAAAAAAAAAAAAAAAAAAAAAAAAAAAAAAAAAAAAAAAAAAAAAAAAAAAAAAAAAAAAAAAAAAAAAAAAAAAAAAAAAAAAAAAAAAAAAAAAAAAAAAAAAAAAAAAAAAAAAAAAAAAAAAAAAAAAAAAAAAAAAAAAAAAAAAAAAAAAAAAAAAAAAAAAAAAAAAAAAAAAAAAAAAAAAAAAAAAAAAAAAAAAAAAAAAAAAAAAAAAAAAAAAAAAAAAAAAAAAAAAAAAAAAAAAAAAAAAAAAAAAAAAAAAAAAAAAAAAAAAAAAAAAAAAAAAAAAAAAAAAAAAAAAAAAAAAAAAAAAAAAAAAAAAAAAAAAAAAAAAAAAAAAAAAAAAAAAAAAAAAAAAAAAAAAAAAAAAAAAAAAAAAAAAAAAAAAAAAAAAAAAAAAAAAAAAAAAAAAAAAAAAAAAAAAAAAAAAAAAAAAAAAAAAAAAAAAAAAAAAAAAAAAAAAAAAAAAAAAAAAAAAAAAAAAAAAAAAAAAAAAAAAAAAAAAAAAAAAAAAAAAAAAAAAAAAAAAAAAAAAAAAAAAAAAAAAAAAAAAAAAAAAAAAAAAAAAAAAAAAAAAAAAAAAAAAAAAAAAAAAAAAAAAAAAAAAAAAAAAAAAAAAAAAAAAAAAAAAAAAAAAAAAAAAAAAAAAAAAAAAAAAAAAAAAAAAAAAAAAAAAAAAAAAAAAAAAAAAAAAAAAAAAAAAAAAAAAAAAAAAAAAAAAAAAAAAAAAAAAAAAAAAAAAAAAAAAAAAAAAAAAAAAAAAAAAAAAAAAAAAAAAAAAAAAAAAAAAAAAAAAAAAAAAAAAAAAAAAAAAAAAAAAAAAAAAAAAAAAAAAAAAAAAAAAAAAAAAAAAAAAAAAAAAAAAAAAAAAAAAAAAAAAAAAAAAAAAAAAAAAAAAAAAAAAAAAAAAAAAAAAAAAAAAAAAAAAAAAAAAAAAAAAAAAAAAAAAAAAAAAAAAAAAAAAAAAAAAAAAAAAAAAAAAAAAAAAAAAAAAAAAAAAAAAAAAAAAAAAAAAAAAAAAAAAAAAAAAAAAAAAAAAAAAAAAAAAAAAAAAAAAAAAAAAAAAAAAAAAAAAAAAAAAAAAAAAAAAAAAAAAAAAAAAAAAAAAAAAAAAAAAAAAAAAAAAAAAAAAAAAAAAAAAAAAAAAAAAAAAAAAAAAAAAAAAAAAAAAAAAAAAAAAAAAAAAAAAAAAAAAAAAAAAAAAAAAAAAAAAAAAAAAAAAAAAAAAAAAAAAAAAAAAAAAAAAAAAAAAAAAAAAAAAAAAAAAAAAAAAAAAAAAAAAAAAAAAAAAAAAAAAAAAAAAAAAAAAAAAAAAAAAAAAAAAAAAAAAAAAAAAAAAAAAAAAAAAAAAAAAAAAAAAAAAAAAAAAAAAAAAAAAAAAAAAAAAAAAAAAAAAAAAAAAAAAAAAAAAAAAAAAAAAAAAAAAAAAAAAAAAAAAAAAAAAAAAAAAAAAAAAAAAAAAAAAAAAAAAAAAAAAAAAAAAAAAAAAAAAAAAAAAAAAAAAAAAAAAAAAAAAAAAAAAAAAAAAAAAAAAAAAAAAAAAAAAAAAAAAAAAAAAAAAAAAAAAAAAAAAAAAAAAAAAAAAAAAAAAAAAAAAAAAAAAAAAAAAAAAAAAAAAAAAAAAAAAAAAAAAAAAAAAAAAAAAAAAAAAAAAAAAAAAAAAAAAAAAAAAAAAAAAAAAAAAAAAAAAAAAAAAAAAAAAAAAAAAAAAAAAAAAAAAAAAAAAAAAAAAAAAAAAAAAAAAAAAAAAAAAAAAAAAAAAAAAAAAAAAAAAAAAAAAAAAAAAAAAAAAAAAAAAAAAAAAAAAAAAAAAAAAAAAAAAAAAAAAAAAAAAAAAAAAAAAAAAAAAAAAAAAAAAAAAAAAAAAAAAAAAAAAAAAAAAAAAAAAAAAAAAAAAAAAAAAAAAAAAAAAAAAAAAAAAAAAAAAAAAAAAAAAAAAAAAAAAAAAAAAAAAAAAAAAAAAAAAAAAAAAAAAAAAAAAAAAAAAAAAAAAAAAAAAAAAAAAAAAAAAAAAAAAAAAAAAAAAAAAAAAAAAAAAAAAAAAAAAAAAAAAAAAAAAAAAAAAAAAAAAAAAAAAAAAAAAAAAAAAAAAAAAAAAAAAAAAAAAAAAAAAAAAAAAAAAAAAAAAAAAAAAAAAAAAAAAAAAAAAAAAAAAAAAAAAAAAAAAAAAAAAAAAAAAAAAAAAAAAAAAAAAAAAAAAAAAAAAAAAAAAAAAAAAAAAAAAAAAAAAAAAAAAAAAAAAAAAAAAAAAAA",
          "dtype": "f8"
         },
         "z": {
          "bdata": "zczMzMzM4L/NzMzMzMzcvwAAAAAAANi/NDMzMzMz07/OzMzMzMzMvzQzMzMzM8O/ODMzMzMzs78AAAAAAAAAADAzMzMzM7M/MDMzMzMzwz/MzMzMzMzMPzIzMzMzM9M//v//////1z/MzMzMzMzcP83MzMzMzOA/zczMzMzM4L/NzMzMzMzcvwAAAAAAANi/NDMzMzMz07/OzMzMzMzMvzQzMzMzM8O/ODMzMzMzs78AAAAAAAAAADAzMzMzM7M/MDMzMzMzwz/MzMzMzMzMPzIzMzMzM9M//v//////1z/MzMzMzMzcP83MzMzMzOA/zczMzMzM4L/NzMzMzMzcvwAAAAAAANi/NDMzMzMz07/OzMzMzMzMvzQzMzMzM8O/ODMzMzMzs78AAAAAAAAAADAzMzMzM7M/MDMzMzMzwz/MzMzMzMzMPzIzMzMzM9M//v//////1z/MzMzMzMzcP83MzMzMzOA/zczMzMzM4L/NzMzMzMzcvwAAAAAAANi/NDMzMzMz07/OzMzMzMzMvzQzMzMzM8O/ODMzMzMzs78AAAAAAAAAADAzMzMzM7M/MDMzMzMzwz/MzMzMzMzMPzIzMzMzM9M//v//////1z/MzMzMzMzcP83MzMzMzOA/zczMzMzM4L/NzMzMzMzcvwAAAAAAANi/NDMzMzMz07/OzMzMzMzMvzQzMzMzM8O/ODMzMzMzs78AAAAAAAAAADAzMzMzM7M/MDMzMzMzwz/MzMzMzMzMPzIzMzMzM9M//v//////1z/MzMzMzMzcP83MzMzMzOA/zczMzMzM4L/NzMzMzMzcvwAAAAAAANi/NDMzMzMz07/OzMzMzMzMvzQzMzMzM8O/ODMzMzMzs78AAAAAAAAAADAzMzMzM7M/MDMzMzMzwz/MzMzMzMzMPzIzMzMzM9M//v//////1z/MzMzMzMzcP83MzMzMzOA/zczMzMzM4L/NzMzMzMzcvwAAAAAAANi/NDMzMzMz07/OzMzMzMzMvzQzMzMzM8O/ODMzMzMzs78AAAAAAAAAADAzMzMzM7M/MDMzMzMzwz/MzMzMzMzMPzIzMzMzM9M//v//////1z/MzMzMzMzcP83MzMzMzOA/zczMzMzM4L/NzMzMzMzcvwAAAAAAANi/NDMzMzMz07/OzMzMzMzMvzQzMzMzM8O/ODMzMzMzs78AAAAAAAAAADAzMzMzM7M/MDMzMzMzwz/MzMzMzMzMPzIzMzMzM9M//v//////1z/MzMzMzMzcP83MzMzMzOA/zczMzMzM4L/NzMzMzMzcvwAAAAAAANi/NDMzMzMz07/OzMzMzMzMvzQzMzMzM8O/ODMzMzMzs78AAAAAAAAAADAzMzMzM7M/MDMzMzMzwz/MzMzMzMzMPzIzMzMzM9M//v//////1z/MzMzMzMzcP83MzMzMzOA/zczMzMzM4L/NzMzMzMzcvwAAAAAAANi/NDMzMzMz07/OzMzMzMzMvzQzMzMzM8O/ODMzMzMzs78AAAAAAAAAADAzMzMzM7M/MDMzMzMzwz/MzMzMzMzMPzIzMzMzM9M//v//////1z/MzMzMzMzcP83MzMzMzOA/zczMzMzM4L/NzMzMzMzcvwAAAAAAANi/NDMzMzMz07/OzMzMzMzMvzQzMzMzM8O/ODMzMzMzs78AAAAAAAAAADAzMzMzM7M/MDMzMzMzwz/MzMzMzMzMPzIzMzMzM9M//v//////1z/MzMzMzMzcP83MzMzMzOA/zczMzMzM4L/NzMzMzMzcvwAAAAAAANi/NDMzMzMz07/OzMzMzMzMvzQzMzMzM8O/ODMzMzMzs78AAAAAAAAAADAzMzMzM7M/MDMzMzMzwz/MzMzMzMzMPzIzMzMzM9M//v//////1z/MzMzMzMzcP83MzMzMzOA/zczMzMzM4L/NzMzMzMzcvwAAAAAAANi/NDMzMzMz07/OzMzMzMzMvzQzMzMzM8O/ODMzMzMzs78AAAAAAAAAADAzMzMzM7M/MDMzMzMzwz/MzMzMzMzMPzIzMzMzM9M//v//////1z/MzMzMzMzcP83MzMzMzOA/zczMzMzM4L/NzMzMzMzcvwAAAAAAANi/NDMzMzMz07/OzMzMzMzMvzQzMzMzM8O/ODMzMzMzs78AAAAAAAAAADAzMzMzM7M/MDMzMzMzwz/MzMzMzMzMPzIzMzMzM9M//v//////1z/MzMzMzMzcP83MzMzMzOA/zczMzMzM4L/NzMzMzMzcvwAAAAAAANi/NDMzMzMz07/OzMzMzMzMvzQzMzMzM8O/ODMzMzMzs78AAAAAAAAAADAzMzMzM7M/MDMzMzMzwz/MzMzMzMzMPzIzMzMzM9M//v//////1z/MzMzMzMzcP83MzMzMzOA/",
          "dtype": "f8"
         }
        }
       ],
       "layout": {
        "scene": {
         "xaxis": {
          "title": {
           "text": "X-axis"
          }
         },
         "yaxis": {
          "title": {
           "text": "Y-axis"
          }
         },
         "zaxis": {
          "title": {
           "text": "Z-axis"
          }
         }
        },
        "template": {
         "data": {
          "bar": [
           {
            "error_x": {
             "color": "#2a3f5f"
            },
            "error_y": {
             "color": "#2a3f5f"
            },
            "marker": {
             "line": {
              "color": "#E5ECF6",
              "width": 0.5
             },
             "pattern": {
              "fillmode": "overlay",
              "size": 10,
              "solidity": 0.2
             }
            },
            "type": "bar"
           }
          ],
          "barpolar": [
           {
            "marker": {
             "line": {
              "color": "#E5ECF6",
              "width": 0.5
             },
             "pattern": {
              "fillmode": "overlay",
              "size": 10,
              "solidity": 0.2
             }
            },
            "type": "barpolar"
           }
          ],
          "carpet": [
           {
            "aaxis": {
             "endlinecolor": "#2a3f5f",
             "gridcolor": "white",
             "linecolor": "white",
             "minorgridcolor": "white",
             "startlinecolor": "#2a3f5f"
            },
            "baxis": {
             "endlinecolor": "#2a3f5f",
             "gridcolor": "white",
             "linecolor": "white",
             "minorgridcolor": "white",
             "startlinecolor": "#2a3f5f"
            },
            "type": "carpet"
           }
          ],
          "choropleth": [
           {
            "colorbar": {
             "outlinewidth": 0,
             "ticks": ""
            },
            "type": "choropleth"
           }
          ],
          "contour": [
           {
            "colorbar": {
             "outlinewidth": 0,
             "ticks": ""
            },
            "colorscale": [
             [
              0,
              "#0d0887"
             ],
             [
              0.1111111111111111,
              "#46039f"
             ],
             [
              0.2222222222222222,
              "#7201a8"
             ],
             [
              0.3333333333333333,
              "#9c179e"
             ],
             [
              0.4444444444444444,
              "#bd3786"
             ],
             [
              0.5555555555555556,
              "#d8576b"
             ],
             [
              0.6666666666666666,
              "#ed7953"
             ],
             [
              0.7777777777777778,
              "#fb9f3a"
             ],
             [
              0.8888888888888888,
              "#fdca26"
             ],
             [
              1,
              "#f0f921"
             ]
            ],
            "type": "contour"
           }
          ],
          "contourcarpet": [
           {
            "colorbar": {
             "outlinewidth": 0,
             "ticks": ""
            },
            "type": "contourcarpet"
           }
          ],
          "heatmap": [
           {
            "colorbar": {
             "outlinewidth": 0,
             "ticks": ""
            },
            "colorscale": [
             [
              0,
              "#0d0887"
             ],
             [
              0.1111111111111111,
              "#46039f"
             ],
             [
              0.2222222222222222,
              "#7201a8"
             ],
             [
              0.3333333333333333,
              "#9c179e"
             ],
             [
              0.4444444444444444,
              "#bd3786"
             ],
             [
              0.5555555555555556,
              "#d8576b"
             ],
             [
              0.6666666666666666,
              "#ed7953"
             ],
             [
              0.7777777777777778,
              "#fb9f3a"
             ],
             [
              0.8888888888888888,
              "#fdca26"
             ],
             [
              1,
              "#f0f921"
             ]
            ],
            "type": "heatmap"
           }
          ],
          "histogram": [
           {
            "marker": {
             "pattern": {
              "fillmode": "overlay",
              "size": 10,
              "solidity": 0.2
             }
            },
            "type": "histogram"
           }
          ],
          "histogram2d": [
           {
            "colorbar": {
             "outlinewidth": 0,
             "ticks": ""
            },
            "colorscale": [
             [
              0,
              "#0d0887"
             ],
             [
              0.1111111111111111,
              "#46039f"
             ],
             [
              0.2222222222222222,
              "#7201a8"
             ],
             [
              0.3333333333333333,
              "#9c179e"
             ],
             [
              0.4444444444444444,
              "#bd3786"
             ],
             [
              0.5555555555555556,
              "#d8576b"
             ],
             [
              0.6666666666666666,
              "#ed7953"
             ],
             [
              0.7777777777777778,
              "#fb9f3a"
             ],
             [
              0.8888888888888888,
              "#fdca26"
             ],
             [
              1,
              "#f0f921"
             ]
            ],
            "type": "histogram2d"
           }
          ],
          "histogram2dcontour": [
           {
            "colorbar": {
             "outlinewidth": 0,
             "ticks": ""
            },
            "colorscale": [
             [
              0,
              "#0d0887"
             ],
             [
              0.1111111111111111,
              "#46039f"
             ],
             [
              0.2222222222222222,
              "#7201a8"
             ],
             [
              0.3333333333333333,
              "#9c179e"
             ],
             [
              0.4444444444444444,
              "#bd3786"
             ],
             [
              0.5555555555555556,
              "#d8576b"
             ],
             [
              0.6666666666666666,
              "#ed7953"
             ],
             [
              0.7777777777777778,
              "#fb9f3a"
             ],
             [
              0.8888888888888888,
              "#fdca26"
             ],
             [
              1,
              "#f0f921"
             ]
            ],
            "type": "histogram2dcontour"
           }
          ],
          "mesh3d": [
           {
            "colorbar": {
             "outlinewidth": 0,
             "ticks": ""
            },
            "type": "mesh3d"
           }
          ],
          "parcoords": [
           {
            "line": {
             "colorbar": {
              "outlinewidth": 0,
              "ticks": ""
             }
            },
            "type": "parcoords"
           }
          ],
          "pie": [
           {
            "automargin": true,
            "type": "pie"
           }
          ],
          "scatter": [
           {
            "fillpattern": {
             "fillmode": "overlay",
             "size": 10,
             "solidity": 0.2
            },
            "type": "scatter"
           }
          ],
          "scatter3d": [
           {
            "line": {
             "colorbar": {
              "outlinewidth": 0,
              "ticks": ""
             }
            },
            "marker": {
             "colorbar": {
              "outlinewidth": 0,
              "ticks": ""
             }
            },
            "type": "scatter3d"
           }
          ],
          "scattercarpet": [
           {
            "marker": {
             "colorbar": {
              "outlinewidth": 0,
              "ticks": ""
             }
            },
            "type": "scattercarpet"
           }
          ],
          "scattergeo": [
           {
            "marker": {
             "colorbar": {
              "outlinewidth": 0,
              "ticks": ""
             }
            },
            "type": "scattergeo"
           }
          ],
          "scattergl": [
           {
            "marker": {
             "colorbar": {
              "outlinewidth": 0,
              "ticks": ""
             }
            },
            "type": "scattergl"
           }
          ],
          "scattermap": [
           {
            "marker": {
             "colorbar": {
              "outlinewidth": 0,
              "ticks": ""
             }
            },
            "type": "scattermap"
           }
          ],
          "scattermapbox": [
           {
            "marker": {
             "colorbar": {
              "outlinewidth": 0,
              "ticks": ""
             }
            },
            "type": "scattermapbox"
           }
          ],
          "scatterpolar": [
           {
            "marker": {
             "colorbar": {
              "outlinewidth": 0,
              "ticks": ""
             }
            },
            "type": "scatterpolar"
           }
          ],
          "scatterpolargl": [
           {
            "marker": {
             "colorbar": {
              "outlinewidth": 0,
              "ticks": ""
             }
            },
            "type": "scatterpolargl"
           }
          ],
          "scatterternary": [
           {
            "marker": {
             "colorbar": {
              "outlinewidth": 0,
              "ticks": ""
             }
            },
            "type": "scatterternary"
           }
          ],
          "surface": [
           {
            "colorbar": {
             "outlinewidth": 0,
             "ticks": ""
            },
            "colorscale": [
             [
              0,
              "#0d0887"
             ],
             [
              0.1111111111111111,
              "#46039f"
             ],
             [
              0.2222222222222222,
              "#7201a8"
             ],
             [
              0.3333333333333333,
              "#9c179e"
             ],
             [
              0.4444444444444444,
              "#bd3786"
             ],
             [
              0.5555555555555556,
              "#d8576b"
             ],
             [
              0.6666666666666666,
              "#ed7953"
             ],
             [
              0.7777777777777778,
              "#fb9f3a"
             ],
             [
              0.8888888888888888,
              "#fdca26"
             ],
             [
              1,
              "#f0f921"
             ]
            ],
            "type": "surface"
           }
          ],
          "table": [
           {
            "cells": {
             "fill": {
              "color": "#EBF0F8"
             },
             "line": {
              "color": "white"
             }
            },
            "header": {
             "fill": {
              "color": "#C8D4E3"
             },
             "line": {
              "color": "white"
             }
            },
            "type": "table"
           }
          ]
         },
         "layout": {
          "annotationdefaults": {
           "arrowcolor": "#2a3f5f",
           "arrowhead": 0,
           "arrowwidth": 1
          },
          "autotypenumbers": "strict",
          "coloraxis": {
           "colorbar": {
            "outlinewidth": 0,
            "ticks": ""
           }
          },
          "colorscale": {
           "diverging": [
            [
             0,
             "#8e0152"
            ],
            [
             0.1,
             "#c51b7d"
            ],
            [
             0.2,
             "#de77ae"
            ],
            [
             0.3,
             "#f1b6da"
            ],
            [
             0.4,
             "#fde0ef"
            ],
            [
             0.5,
             "#f7f7f7"
            ],
            [
             0.6,
             "#e6f5d0"
            ],
            [
             0.7,
             "#b8e186"
            ],
            [
             0.8,
             "#7fbc41"
            ],
            [
             0.9,
             "#4d9221"
            ],
            [
             1,
             "#276419"
            ]
           ],
           "sequential": [
            [
             0,
             "#0d0887"
            ],
            [
             0.1111111111111111,
             "#46039f"
            ],
            [
             0.2222222222222222,
             "#7201a8"
            ],
            [
             0.3333333333333333,
             "#9c179e"
            ],
            [
             0.4444444444444444,
             "#bd3786"
            ],
            [
             0.5555555555555556,
             "#d8576b"
            ],
            [
             0.6666666666666666,
             "#ed7953"
            ],
            [
             0.7777777777777778,
             "#fb9f3a"
            ],
            [
             0.8888888888888888,
             "#fdca26"
            ],
            [
             1,
             "#f0f921"
            ]
           ],
           "sequentialminus": [
            [
             0,
             "#0d0887"
            ],
            [
             0.1111111111111111,
             "#46039f"
            ],
            [
             0.2222222222222222,
             "#7201a8"
            ],
            [
             0.3333333333333333,
             "#9c179e"
            ],
            [
             0.4444444444444444,
             "#bd3786"
            ],
            [
             0.5555555555555556,
             "#d8576b"
            ],
            [
             0.6666666666666666,
             "#ed7953"
            ],
            [
             0.7777777777777778,
             "#fb9f3a"
            ],
            [
             0.8888888888888888,
             "#fdca26"
            ],
            [
             1,
             "#f0f921"
            ]
           ]
          },
          "colorway": [
           "#636efa",
           "#EF553B",
           "#00cc96",
           "#ab63fa",
           "#FFA15A",
           "#19d3f3",
           "#FF6692",
           "#B6E880",
           "#FF97FF",
           "#FECB52"
          ],
          "font": {
           "color": "#2a3f5f"
          },
          "geo": {
           "bgcolor": "white",
           "lakecolor": "white",
           "landcolor": "#E5ECF6",
           "showlakes": true,
           "showland": true,
           "subunitcolor": "white"
          },
          "hoverlabel": {
           "align": "left"
          },
          "hovermode": "closest",
          "mapbox": {
           "style": "light"
          },
          "paper_bgcolor": "white",
          "plot_bgcolor": "#E5ECF6",
          "polar": {
           "angularaxis": {
            "gridcolor": "white",
            "linecolor": "white",
            "ticks": ""
           },
           "bgcolor": "#E5ECF6",
           "radialaxis": {
            "gridcolor": "white",
            "linecolor": "white",
            "ticks": ""
           }
          },
          "scene": {
           "xaxis": {
            "backgroundcolor": "#E5ECF6",
            "gridcolor": "white",
            "gridwidth": 2,
            "linecolor": "white",
            "showbackground": true,
            "ticks": "",
            "zerolinecolor": "white"
           },
           "yaxis": {
            "backgroundcolor": "#E5ECF6",
            "gridcolor": "white",
            "gridwidth": 2,
            "linecolor": "white",
            "showbackground": true,
            "ticks": "",
            "zerolinecolor": "white"
           },
           "zaxis": {
            "backgroundcolor": "#E5ECF6",
            "gridcolor": "white",
            "gridwidth": 2,
            "linecolor": "white",
            "showbackground": true,
            "ticks": "",
            "zerolinecolor": "white"
           }
          },
          "shapedefaults": {
           "line": {
            "color": "#2a3f5f"
           }
          },
          "ternary": {
           "aaxis": {
            "gridcolor": "white",
            "linecolor": "white",
            "ticks": ""
           },
           "baxis": {
            "gridcolor": "white",
            "linecolor": "white",
            "ticks": ""
           },
           "bgcolor": "#E5ECF6",
           "caxis": {
            "gridcolor": "white",
            "linecolor": "white",
            "ticks": ""
           }
          },
          "title": {
           "x": 0.05
          },
          "xaxis": {
           "automargin": true,
           "gridcolor": "white",
           "linecolor": "white",
           "ticks": "",
           "title": {
            "standoff": 15
           },
           "zerolinecolor": "white",
           "zerolinewidth": 2
          },
          "yaxis": {
           "automargin": true,
           "gridcolor": "white",
           "linecolor": "white",
           "ticks": "",
           "title": {
            "standoff": 15
           },
           "zerolinecolor": "white",
           "zerolinewidth": 2
          }
         }
        },
        "title": {
         "text": "3D Plot of Multiple Variables"
        }
       }
      }
     },
     "metadata": {},
     "output_type": "display_data"
    }
   ],
   "source": [
    "# Create traces for each variable\n",
    "trace1 = go.Scatter3d(x=tx_antenna_x_coor, y=tx_antenna_y_coor, z=tx_antenna_z_coor, mode='markers', marker=dict(size=5, color='red'), name='Tx')\n",
    "trace2 = go.Scatter3d(x=rx_antenna_x_coor, y=rx_antenna_y_coor, z=rx_antenna_z_coor, mode='markers', marker=dict(size=5, color='green'), name='Rx')\n",
    "trace3 = go.Scatter3d(x=ris_elements_x_coor, y=ris_elements_y_coor, z=ris_elements_z_coor, mode='markers', marker=dict(size=5, color='blue'), name='RIS')\n",
    "\n",
    "# Create the figure\n",
    "fig = go.Figure(data=[trace1, trace2, trace3])\n",
    "\n",
    "# Add axis labels\n",
    "fig.update_layout(\n",
    "    title='3D Plot of Multiple Variables',\n",
    "    scene=dict(\n",
    "        xaxis_title='X-axis',\n",
    "        yaxis_title='Y-axis',\n",
    "        zaxis_title='Z-axis'\n",
    "    )\n",
    ")\n",
    "\n",
    "# Show the plot\n",
    "fig.show()\n"
   ]
  },
  {
   "cell_type": "code",
   "execution_count": 7,
   "metadata": {},
   "outputs": [
    {
     "name": "stdout",
     "output_type": "stream",
     "text": [
      "(4, 8)\n",
      "(225, 8)\n",
      "(4, 225)\n"
     ]
    }
   ],
   "source": [
    "# Caluating distance vectors to be used in calulating path losses\n",
    "# generate N1xN2 size distance matrix\n",
    "# i,j elements refer to distance between ith element in mat1 and jth element in mat2\n",
    "def GenDistanceMatrix(N1, N2, mat1_x, mat1_y, mat1_z, mat2_x, mat2_y, mat2_z):\n",
    "    distance_matrix = np.zeros((N1, N2))\n",
    "\n",
    "    for n1 in range(N1):\n",
    "        for n2 in range(N2):\n",
    "            distance_matrix[n1,n2] = np.sqrt(\n",
    "                (mat1_x[n1] - mat2_x[n2]) ** 2 +\n",
    "                (mat1_y[n1] - mat2_y[n2]) ** 2 +\n",
    "                (mat1_z[n1] - mat2_z[n2]) ** 2 \n",
    "            )\n",
    "\n",
    "    return distance_matrix\n",
    "\n",
    "# Rx and Tx\n",
    "distance_r_t = GenDistanceMatrix(Nr, Nt, \n",
    "    rx_antenna_x_coor, rx_antenna_y_coor, rx_antenna_z_coor,\n",
    "    tx_antenna_x_coor, tx_antenna_y_coor, tx_antenna_z_coor\n",
    ")\n",
    "\n",
    "# Ris and Tx\n",
    "distance_ris_t = GenDistanceMatrix(N_ris, Nt, \n",
    "    ris_elements_x_coor, ris_elements_y_coor, ris_elements_z_coor,\n",
    "    tx_antenna_x_coor, tx_antenna_y_coor, tx_antenna_z_coor\n",
    ")\n",
    "\n",
    "# RIS and Rx\n",
    "distance_r_ris = GenDistanceMatrix(Nr, N_ris, \n",
    "    rx_antenna_x_coor, rx_antenna_y_coor, rx_antenna_z_coor,\n",
    "    ris_elements_x_coor, ris_elements_y_coor, ris_elements_z_coor\n",
    ")\n",
    "\n",
    "print(distance_r_t.shape)\n",
    "print(distance_ris_t.shape)\n",
    "print(distance_r_ris.shape)\n",
    "\n"
   ]
  },
  {
   "cell_type": "code",
   "execution_count": 8,
   "metadata": {},
   "outputs": [],
   "source": [
    "# alpha\n",
    "# Free space pathloss exponent of the direct/indirect link, whose value is influenced by the obstacle present.\n",
    "def GenHLOS(distance_matrix, wavelength):\n",
    "    return np.exp(-1j * 2 * np.pi * distance_matrix / wavelength)\n",
    "\n",
    "\n",
    "# N1, N2 is dimensions of distance matrix used to generate HLOS\n",
    "def GenHNOLOS(N1, N2, varaince = 1):\n",
    "    real_part = np.random.normal(0, np.sqrt(varaince/2), (N1, N2))\n",
    "    imag_part = np.random.normal(0, np.sqrt(varaince/2), (N1, N2))\n",
    "\n",
    "    return (real_part + 1j * imag_part)\n",
    "\n",
    "\n",
    "# calculate general H \n",
    "def Calculate_H_LOSNLOS(N1, N2, distance_matrix, wavelength, racian_factor):\n",
    "    H_D_LOS = GenHLOS(distance_matrix, wavelength)\n",
    "    H_D_NLOS = GenHNOLOS(N1, N2, 2)\n",
    "    H_LOSNLOS = (np.sqrt(racian_factor) * H_D_LOS + H_D_NLOS)\n",
    "\n",
    "    return H_LOSNLOS\n",
    "\n",
    "\n",
    "# calculate H DIR (Direct channel between tx and rx)\n",
    "# alpha value is influenced by the obstacle present\n",
    "def Calculate_H_DIR(Nr, Nt, distance_matrix_r_t, wavelength, alpha_dir, D, lt, lr, racian_factor):\n",
    "    d_note = np.sqrt((D ** 2) + ((lt-lr) ** 2))\n",
    "    beta_DIR = ((4 * np.pi / wavelength) ** 2) * (d_note ** alpha_dir)\n",
    "    \n",
    "    H_DIR = np.sqrt(1/(beta_DIR * (racian_factor + 1))) * Calculate_H_LOSNLOS(Nr, Nt, distance_matrix_r_t, wavelength, racian_factor)\n",
    "    return H_DIR\n",
    "\n",
    "\n",
    "def Calculate_H1(N_ris, Nt, distance_matrix_ris_t, wavelength, racian_factor, beta_INDIR_inverse):\n",
    "    return  np.sqrt(beta_INDIR_inverse/(racian_factor + 1)) * Calculate_H_LOSNLOS(N_ris, Nt, distance_matrix_ris_t, wavelength, racian_factor)\n",
    "\n",
    "\n",
    "def Calculate_H2(Nr, N_ris, distance_matrix_r_ris, wavelength, racian_factor):\n",
    "    return np.sqrt(1/(racian_factor + 1)) * Calculate_H_LOSNLOS(Nr, N_ris, distance_matrix_r_ris, wavelength, racian_factor)\n",
    "\n",
    "\n",
    "# calculate H INDIR (Infirect Direct channel between tx and rx)\n",
    "def Calculate_H_INDIR(H1, H2, thetas, beta_INDIR_inverse):\n",
    "    F_theta = np.diag(thetas)\n",
    "    H_INDIR = H2 @ F_theta @ H1\n",
    "\n",
    "    return H_INDIR\n",
    "\n",
    "\n",
    "def Calculate_H(HDIR, HINDIR):\n",
    "    return HDIR + HINDIR\n",
    "\n",
    "    "
   ]
  },
  {
   "cell_type": "code",
   "execution_count": 9,
   "metadata": {},
   "outputs": [],
   "source": [
    "import numpy as np\n",
    "import matplotlib.pyplot as plt\n",
    "\n",
    "def plot_complex_matrix_line(H, name):\n",
    "    \"\"\"\n",
    "    Plots real and imaginary parts of a complex matrix H as line plots.\n",
    "    Matrix is flattened row-wise.\n",
    "    \"\"\"\n",
    "    H = np.array(H).flatten()\n",
    "    \n",
    "    plt.figure(figsize=(8, 4))\n",
    "    plt.plot(np.real(H), label='Real Part', color='blue')\n",
    "    plt.plot(np.imag(H), label='Imaginary Part', color='orange')\n",
    "    \n",
    "    plt.xlabel('Element Index')\n",
    "    plt.ylabel('Value')\n",
    "    plt.title(f'Line Plot of Real and Imaginary Parts of Complex Matrix {name}')\n",
    "    plt.legend()\n",
    "    plt.grid(True)\n",
    "    plt.tight_layout()\n",
    "    plt.show()\n"
   ]
  },
  {
   "cell_type": "code",
   "execution_count": 10,
   "metadata": {},
   "outputs": [
    {
     "name": "stdout",
     "output_type": "stream",
     "text": [
      "1\n",
      "(4, 8)\n",
      "(225, 8)\n",
      "(4, 225)\n",
      "(4, 8)\n"
     ]
    },
    {
     "data": {
      "image/png": "[encoded data removed]",
      "text/plain": [
       "<Figure size 800x400 with 1 Axes>"
      ]
     },
     "metadata": {},
     "output_type": "display_data"
    },
    {
     "data": {
      "image/png": "[encoded data removed]",
      "text/plain": [
       "<Figure size 800x400 with 1 Axes>"
      ]
     },
     "metadata": {},
     "output_type": "display_data"
    },
    {
     "data": {
      "image/png": "[encoded data removed]",
      "text/plain": [
       "<Figure size 800x400 with 1 Axes>"
      ]
     },
     "metadata": {},
     "output_type": "display_data"
    },
    {
     "data": {
      "image/png": "[encoded data removed]",
      "text/plain": [
       "<Figure size 800x400 with 1 Axes>"
      ]
     },
     "metadata": {},
     "output_type": "display_data"
    }
   ],
   "source": [
    "average_over = 1\n",
    "step_boost = 0\n",
    "print(racian_factor)\n",
    "\n",
    "d1 = np.sqrt((d_ris ** 2) + (lt ** 2))\n",
    "d2 = np.sqrt((D - d_ris) ** 2 + lr ** 2)\n",
    "\n",
    "beta_INDIR_inverse = ((wavelength**4)/(256 * (np.pi ** 2))) * (((lt/d1 + lr/d2)**2) / ((d1*d2)**2))\n",
    "\n",
    "H_dir = Calculate_H_DIR(Nr, Nt, distance_r_t, wavelength, alpha_dir, D, lt, lr, racian_factor)\n",
    "H1 = Calculate_H1(N_ris, Nt, distance_ris_t, wavelength, racian_factor, beta_INDIR_inverse)\n",
    "H2 = Calculate_H2(Nr, N_ris, distance_r_ris, wavelength, racian_factor)\n",
    "H_indir = Calculate_H_INDIR(H1, H2, initial_thetas, beta_INDIR_inverse)\n",
    "\n",
    "print(H_dir.shape)\n",
    "print(H1.shape)\n",
    "print(H2.shape)\n",
    "print(H_indir.shape)\n",
    "\n",
    "plot_complex_matrix_line(H_dir, 'H_dir')\n",
    "plot_complex_matrix_line(H1, 'H1')\n",
    "plot_complex_matrix_line(H2, 'H2')\n",
    "plot_complex_matrix_line(H_indir, 'H_indir')\n",
    "\n"
   ]
  },
  {
   "cell_type": "code",
   "execution_count": 11,
   "metadata": {},
   "outputs": [
    {
     "name": "stdout",
     "output_type": "stream",
     "text": [
      "Intial Rate : 7.749409055357856e-12\n"
     ]
    }
   ],
   "source": [
    "def Rate(Hdir, H2, H1, myomega, Q):\n",
    "    Z = Hdir + H2 @ np.diag(myomega) @ H1\n",
    "    Nr = H2.shape[0]\n",
    "    rate = np.real(np.log(np.linalg.det(np.eye(Nr) + Z @ Q @ Z.conj().T))) / np.log(2)\n",
    "    return rate\n",
    "\n",
    "print(f\"Intial Rate : {Rate(H_dir, H2, H1, initial_thetas, intial_Q)}\")\n"
   ]
  },
  {
   "cell_type": "markdown",
   "metadata": {},
   "source": [
    "## Projected Gradient Method"
   ]
  },
  {
   "cell_type": "code",
   "execution_count": 12,
   "metadata": {},
   "outputs": [],
   "source": [
    "global_q = None\n",
    "global_kappa = None\n",
    "global_theta = None"
   ]
  },
  {
   "cell_type": "code",
   "execution_count": 13,
   "metadata": {},
   "outputs": [],
   "source": [
    "def Calculate_Kappa(H_dir, H2, H1, Pt):\n",
    "    if H_dir.all() == 0:\n",
    "        return 10\n",
    "    else :\n",
    "        return 10 * max(1, 1/np.sqrt(Pt)) * np.sqrt( np.linalg.norm(H_dir)/ np.linalg.norm(np.matmul(H2, H1)))\n",
    "    \n",
    "    \n",
    "def Calculate_LTheta(a, b, Pt):\n",
    "  \"\"\"\n",
    "  Calculates the value of L_theta^2 based on equation (32).\n",
    "\n",
    "  Args:\n",
    "    a: The value of 'a'.\n",
    "    b: The value of 'b'.\n",
    "    Pt: The value of 'Pt'.\n",
    "\n",
    "  Returns:\n",
    "    The calculated value of L_theta^2.\n",
    "  \"\"\"\n",
    "\n",
    "  term1 = 2 * a * (b**5) + 4 * (a**2) * (b**2)\n",
    "  term2 = (a**3) * b + 2 * a * (b**7) + 8 * (a**2) * (b**4)\n",
    "  term3 = 3 * (a**3) * (b**3) + (a**4) + 4 * (a**2) * (b**6)\n",
    "  term4 = 2 * (a**3) * (b**5) + 4 * (a**4) * (b**2)\n",
    "  term5 = 4 * (a**4) * (b**4)\n",
    "\n",
    "  return term1 + term2 * Pt + term3 * (Pt**2) + term4 * (Pt**3) + term5 * (Pt**4)\n",
    "\n",
    "\n",
    "def Calculate_LQ(a, b, Pt):\n",
    "  \"\"\"\n",
    "  Calculates the value of L_Q^2 based on equation (33).\n",
    "\n",
    "  Args:\n",
    "    a: The value of 'a'.\n",
    "    b: The value of 'b'.\n",
    "    Pt: The value of 'Pt'.\n",
    "\n",
    "  Returns:\n",
    "    The calculated value of L_Q^2.\n",
    "  \"\"\"\n",
    "\n",
    "  term1 = (a**2) * (b**2) + (b**8) + 2 * a * (b**5)\n",
    "  term2 = 2 * (a**2) * (b**4) + (a**3) * b + 2 * a * (b**7)\n",
    "  term3 = (a**2) * (b**6) + 3 * (a**3) * (b**3)\n",
    "  term4 = 2 * (a**3) * (b**5)\n",
    "\n",
    "  return term1 + term2 * Pt + term3 * (Pt**2) + term4 * (Pt**3)\n",
    "\n",
    "\n",
    "def L_constant(H_dir_bar, H1_bar, H2, kappa, Pt_bar):\n",
    "    U_h1_bar, S_h1_bar, Vh_h1_bar = np.linalg.svd(H1_bar)\n",
    "    U_h2, S_h2, Vh_h2 = np.linalg.svd(H2)\n",
    "    U_H_dir_bar, S_H_dir_bar, Vh_H_dir_bar = np.linalg.svd(H_dir_bar)\n",
    "    \n",
    "    \n",
    "    lambda_max_h1_bar = np.max(S_h1_bar)\n",
    "    lambda_max_h2 = np.max(S_h2)\n",
    "    lambda_max_H_dir_bar = np.max(S_H_dir_bar)\n",
    "    \n",
    "    a = lambda_max_h1_bar * lambda_max_h2\n",
    "    b = lambda_max_H_dir_bar + lambda_max_h1_bar * lambda_max_h2 / kappa\n",
    "\n",
    "    L_2_theta = Calculate_LTheta(a,b, Pt_bar)\n",
    "    L_2_Q = Calculate_LQ(a, b, Pt_bar)\n",
    "\n",
    "    L = np.sqrt(max(L_2_theta, L_2_Q))\n",
    "    return L\n",
    "\n",
    "\n",
    "def water_fill(Pt, vect_in):\n",
    "    vect_in = np.real(vect_in).flatten()\n",
    "    sort_idx = np.argsort(vect_in)[::-1]\n",
    "    sort_val = vect_in[sort_idx]\n",
    "    n = len(vect_in)\n",
    "    for i in range(n, 0, -1):\n",
    "        water_level = (np.sum(sort_val[:i]) - Pt) / i\n",
    "        di = sort_val[:i] - water_level\n",
    "        if np.all(di >= 0):\n",
    "            break\n",
    "    vect_out = np.zeros_like(vect_in)\n",
    "    vect_out[sort_idx[:i]] = di\n",
    "    return vect_out\n",
    "\n",
    "def cov_mat_proj_modified(Qold, Pt):\n",
    "    D, U = np.linalg.eig(Qold)\n",
    "    Dnew = water_fill(Pt, D)\n",
    "    return U @ np.diag(Dnew) @ U.conj().T\n",
    "\n",
    "def project_onto_unit_circle(x):\n",
    "    return x / np.abs(x)\n",
    "\n",
    "def grad_cov(Hdir, H2, H1, myomega, Q):\n",
    "    Z = Hdir + H2 @ np.diag(myomega) @ H1\n",
    "    Nr = H2.shape[0]\n",
    "    return Z.conj().T @ np.linalg.inv(np.eye(Nr) + Z @ Q @ Z.conj().T) @ Z\n",
    "\n",
    "def grad_RIS(Hdir, H2, H1, myomega, Q):\n",
    "    Z = Hdir + H2 @ np.diag(myomega) @ H1\n",
    "    Nr = H2.shape[0]\n",
    "    return np.diag(H2.conj().T @ np.linalg.inv(np.eye(Nr) + Z @ Q @ Z.conj().T) @ Z @ Q @ H1.conj().T)\n",
    "\n",
    "\n",
    "def PGM(max_iterations, H_dir, H1, H2, Nr, D, initial_Q, initial_thetas, noise_power, Pt):\n",
    "    delta = 1e-5\n",
    "    rho = 0.5\n",
    "    stepsize = 10000\n",
    "    thetas = initial_thetas\n",
    "    Q = initial_Q\n",
    "    \n",
    "    kappa = Calculate_Kappa(H_dir, H2, H1, Pt)\n",
    "\n",
    "    # Scaling data\n",
    "    Q = (kappa ** 2) * Q\n",
    "    thetas = thetas / kappa\n",
    "    H_dir = H_dir / (kappa * np.sqrt(noise_power))\n",
    "    H1 = H1 * (np.sqrt(1 / noise_power))\n",
    "\n",
    "    # inproved convergence rate by data scaling\n",
    "    # section 3.D\n",
    "    initial_rate = Rate(H_dir, H2, H1, thetas, Q)\n",
    "    rate = initial_rate\n",
    "    rates = np.zeros(max_iterations+1)\n",
    "    rates[0] = rate\n",
    "\n",
    "    # algo run for max_iteration times or rate convergers\n",
    "    for i in range(1, max_iterations+1):\n",
    "\n",
    "        del_Q = grad_cov(H_dir, H2, H1, thetas, Q)\n",
    "        del_thetas = grad_RIS(H_dir, H2, H1, thetas, Q)\n",
    "        \n",
    "        for _ in range(31):\n",
    "            Q_new = Q + stepsize * del_Q\n",
    "            Q_new = cov_mat_proj_modified(Q_new, Pt * (kappa ** 2))\n",
    "\n",
    "            thetas_new = thetas + stepsize * del_thetas\n",
    "            thetas_new = project_onto_unit_circle(thetas_new) / kappa\n",
    "\n",
    "            rate_new = Rate(H_dir, H2, H1, thetas_new, Q_new)\n",
    "\n",
    "            if (rate_new - rate >= delta * (np.linalg.norm(Q_new - Q) ** 2 + np.linalg.norm(thetas_new - thetas) ** 2)) or (stepsize < 1e-4):\n",
    "                thetas = thetas_new\n",
    "                Q = Q_new\n",
    "                rate = rate_new\n",
    "                break\n",
    "            else:\n",
    "                stepsize *= rho\n",
    "\n",
    "        rates[i] = rate\n",
    "    \n",
    "    return [rates, Q, thetas, kappa]\n",
    "\n",
    "        "
   ]
  },
  {
   "cell_type": "code",
   "execution_count": 14,
   "metadata": {},
   "outputs": [],
   "source": [
    "\n",
    "def PGM_Quantized_last_step(max_iterations, H_dir, H1, H2, Nr, D, initial_Q, initial_thetas, noise_power, Pt, quant_array):\n",
    "    delta = 1e-5\n",
    "    rho = 0.5\n",
    "    stepsize = 10000\n",
    "    thetas = initial_thetas\n",
    "    Q = initial_Q\n",
    "    \n",
    "    kappa = Calculate_Kappa(H_dir, H2, H1, Pt)\n",
    "    \n",
    "    # Scaling data\n",
    "    Q = (kappa ** 2) * Q\n",
    "    thetas = thetas / kappa\n",
    "    H_dir = H_dir / (kappa * np.sqrt(noise_power))\n",
    "    H1 = H1 * (np.sqrt(1 / noise_power))\n",
    "\n",
    "    # inproved convergence rate by data scaling\n",
    "    # section 3.D\n",
    "    initial_rate = Rate(H_dir, H2, H1, thetas, Q)\n",
    "    rate = initial_rate\n",
    "    rates = np.zeros(max_iterations+2)\n",
    "    rates[0] = rate\n",
    "\n",
    "    # algo run for max_iteration times or rate convergers\n",
    "    for i in range(1, max_iterations+1):\n",
    "        \n",
    "        del_Q = grad_cov(H_dir, H2, H1, thetas, Q)\n",
    "        del_thetas = grad_RIS(H_dir, H2, H1, thetas, Q)\n",
    "        \n",
    "        for _ in range(31):\n",
    "            Q_new = Q + stepsize * del_Q\n",
    "            Q_new = cov_mat_proj_modified(Q_new, Pt * (kappa ** 2))\n",
    "\n",
    "            thetas_new = thetas + stepsize * del_thetas\n",
    "            thetas_new = project_onto_unit_circle(thetas_new) / kappa\n",
    "\n",
    "            rate_new = Rate(H_dir, H2, H1, thetas_new, Q_new)\n",
    "\n",
    "            if (rate_new - rate >= delta * (np.linalg.norm(Q_new - Q) ** 2 + np.linalg.norm(thetas_new - thetas) ** 2)) or (stepsize < 1e-4):\n",
    "                thetas = thetas_new\n",
    "                Q = Q_new\n",
    "                rate = rate_new\n",
    "                break\n",
    "            else:\n",
    "                stepsize *= rho\n",
    "\n",
    "        rates[i] = rate\n",
    "        \n",
    "    angle_rad = np.angle(thetas * kappa, deg=False)\n",
    "    \n",
    "    # Map angles to [0, 2π)\n",
    "    angles_rad_2pi = angle_rad + (angle_rad < 0) * 2 * np.pi\n",
    "\n",
    "    oo = np.zeros(10)\n",
    "    nn = np.zeros(10)\n",
    "    for level in quant_array:\n",
    "        quantized_angles = quantize_angles(angles_rad_2pi, 2 ** level)\n",
    "        new_thetas = np.exp(1j * quantized_angles) / kappa\n",
    "        \n",
    "        oo[level - 1] = rates[-2]\n",
    "        rate = Rate(H_dir, H2, H1, new_thetas, Q)\n",
    "        nn[level-1]= rate\n",
    "    return [rates, oo, nn]\n",
    "\n",
    "\n",
    "\n",
    "def quantize_angles(angles, n):\n",
    "    \"\"\"\n",
    "    Quantizes the angles between 0 and 2π into n levels.\n",
    "\n",
    "    Args:\n",
    "    angles (numpy array): Array of angles between 0 and 2π.\n",
    "    n (int): Number of quantization levels.\n",
    "\n",
    "    Returns:\n",
    "    numpy array: Quantized angles.\n",
    "    \"\"\"\n",
    "    \n",
    "    # Generate quantization levels\n",
    "    quant_levels = np.linspace(0, 2 * np.pi, n, endpoint=False)\n",
    "    \n",
    "    # Find the closest quantization level for each angle\n",
    "    quantized_angles = np.array([quant_levels[np.argmin(np.abs(quant_levels - angle))] for angle in angles])\n",
    "    \n",
    "    return quantized_angles"
   ]
  },
  {
   "cell_type": "code",
   "execution_count": 15,
   "metadata": {},
   "outputs": [
    {
     "name": "stdout",
     "output_type": "stream",
     "text": [
      "PGM for 1th channel\n",
      "PGM for 2th channel\n",
      "PGM for 3th channel\n",
      "PGM for 4th channel\n",
      "PGM for 5th channel\n",
      "PGM for 6th channel\n",
      "PGM for 7th channel\n",
      "PGM for 8th channel\n",
      "PGM for 9th channel\n",
      "PGM for 10th channel\n",
      "PGM for 11th channel\n",
      "PGM for 12th channel\n",
      "PGM for 13th channel\n",
      "PGM for 14th channel\n",
      "PGM for 15th channel\n",
      "PGM for 16th channel\n",
      "PGM for 17th channel\n",
      "PGM for 18th channel\n",
      "PGM for 19th channel\n",
      "PGM for 20th channel\n",
      "PGM for 21th channel\n",
      "PGM for 22th channel\n",
      "PGM for 23th channel\n",
      "PGM for 24th channel\n",
      "PGM for 25th channel\n",
      "PGM for 26th channel\n",
      "PGM for 27th channel\n",
      "PGM for 28th channel\n",
      "PGM for 29th channel\n",
      "PGM for 30th channel\n",
      "PGM for 31th channel\n",
      "PGM for 32th channel\n",
      "PGM for 33th channel\n",
      "PGM for 34th channel\n",
      "PGM for 35th channel\n",
      "PGM for 36th channel\n",
      "PGM for 37th channel\n",
      "PGM for 38th channel\n",
      "PGM for 39th channel\n",
      "PGM for 40th channel\n",
      "PGM for 41th channel\n",
      "PGM for 42th channel\n",
      "PGM for 43th channel\n",
      "PGM for 44th channel\n",
      "PGM for 45th channel\n",
      "PGM for 46th channel\n",
      "PGM for 47th channel\n",
      "PGM for 48th channel\n",
      "PGM for 49th channel\n",
      "PGM for 50th channel\n",
      "PGM for 51th channel\n",
      "PGM for 52th channel\n",
      "PGM for 53th channel\n",
      "PGM for 54th channel\n",
      "PGM for 55th channel\n",
      "PGM for 56th channel\n",
      "PGM for 57th channel\n",
      "PGM for 58th channel\n",
      "PGM for 59th channel\n",
      "PGM for 60th channel\n",
      "PGM for 61th channel\n",
      "PGM for 62th channel\n",
      "PGM for 63th channel\n",
      "PGM for 64th channel\n",
      "PGM for 65th channel\n",
      "PGM for 66th channel\n",
      "PGM for 67th channel\n",
      "PGM for 68th channel\n",
      "PGM for 69th channel\n",
      "PGM for 70th channel\n",
      "PGM for 71th channel\n",
      "PGM for 72th channel\n",
      "PGM for 73th channel\n",
      "PGM for 74th channel\n",
      "PGM for 75th channel\n",
      "PGM for 76th channel\n",
      "PGM for 77th channel\n",
      "PGM for 78th channel\n",
      "PGM for 79th channel\n",
      "PGM for 80th channel\n",
      "PGM for 81th channel\n",
      "PGM for 82th channel\n",
      "PGM for 83th channel\n",
      "PGM for 84th channel\n",
      "PGM for 85th channel\n",
      "PGM for 86th channel\n",
      "PGM for 87th channel\n",
      "PGM for 88th channel\n",
      "PGM for 89th channel\n",
      "PGM for 90th channel\n",
      "PGM for 91th channel\n",
      "PGM for 92th channel\n",
      "PGM for 93th channel\n",
      "PGM for 94th channel\n",
      "PGM for 95th channel\n",
      "PGM for 96th channel\n",
      "PGM for 97th channel\n",
      "PGM for 98th channel\n",
      "PGM for 99th channel\n",
      "PGM for 100th channel\n"
     ]
    }
   ],
   "source": [
    "max_iterations = 500\n",
    "rate_average = np.zeros(max_iterations+1)\n",
    "average_over = 100\n",
    "step_boost = 0\n",
    "\n",
    "d1 = np.sqrt(d_ris ** 2 + lt ** 2)\n",
    "d2 = np.sqrt((D - d_ris) ** 2 + lr ** 2)\n",
    "beta_INDIR_inverse = ((wavelength**4)/(256 * (np.pi ** 2))) * (((lt/d1 + lr/d2)**2) / ((d1*d2)**2))\n",
    "\n",
    "for i in range(average_over):\n",
    "    # if(i % 10 !):\n",
    "    print(f\"PGM for {i+1}th channel\")\n",
    "    H_dir = Calculate_H_DIR(Nr, Nt, distance_r_t, wavelength, alpha_dir, D, lt, lr, racian_factor)\n",
    "    H1 = Calculate_H1(N_ris, Nt, distance_ris_t, wavelength, racian_factor, beta_INDIR_inverse)\n",
    "    H2 = Calculate_H2(Nr, N_ris, distance_r_ris, wavelength, racian_factor)\n",
    "    [rates, global_q, global_theta, global_kappa] = PGM(max_iterations, H_dir, H1, H2, Nr, D, intial_Q, initial_thetas, noise_power, Pt)\n",
    "    rate_average += rates / average_over\n",
    "    \n",
    "\n",
    "# rate_average = rate_average \n",
    "\n",
    "    "
   ]
  },
  {
   "cell_type": "code",
   "execution_count": 20,
   "metadata": {},
   "outputs": [
    {
     "data": {
      "image/png": "[encoded data removed]",
      "text/plain": [
       "<Figure size 1000x600 with 1 Axes>"
      ]
     },
     "metadata": {},
     "output_type": "display_data"
    }
   ],
   "source": [
    "import numpy as np\n",
    "import matplotlib.pyplot as plt\n",
    "\n",
    "# X-axis values: log10 of 1 to N\n",
    "x_vals = np.log10(np.arange(1, len(rate_average) + 1))\n",
    "\n",
    "# Create the plot\n",
    "plt.figure(figsize=(10, 6))\n",
    "plt.plot(x_vals, rate_average,\n",
    "         color='blue',\n",
    "         linewidth=2.5, markersize=8)\n",
    "\n",
    "# Set title and axis labels with large fonts\n",
    "# plt.title(, fontsize=18, fontweight='bold')\n",
    "plt.xlabel(r'$\\log_{10}(\\mathrm{Iteration\\ number})$', fontsize=16)\n",
    "plt.ylabel('Rate (bit/s/Hz)', fontsize=16)\n",
    "\n",
    "# Set tick font sizes\n",
    "plt.xticks(fontsize=14)\n",
    "plt.yticks(fontsize=14)\n",
    "\n",
    "# Turn on grid\n",
    "plt.grid(True)\n",
    "\n",
    "# Optional: Tight layout\n",
    "plt.tight_layout()\n",
    "\n",
    "# Show the plot\n",
    "plt.show()\n"
   ]
  },
  {
   "cell_type": "code",
   "execution_count": 21,
   "metadata": {},
   "outputs": [
    {
     "name": "stdout",
     "output_type": "stream",
     "text": [
      "ITR:  0\n",
      "ITR:  1\n",
      "ITR:  2\n",
      "ITR:  3\n",
      "ITR:  4\n",
      "ITR:  5\n",
      "ITR:  6\n",
      "ITR:  7\n",
      "ITR:  8\n",
      "ITR:  9\n",
      "ITR:  10\n",
      "ITR:  11\n",
      "ITR:  12\n",
      "ITR:  13\n",
      "ITR:  14\n",
      "ITR:  15\n",
      "ITR:  16\n",
      "ITR:  17\n",
      "ITR:  18\n",
      "ITR:  19\n",
      "ITR:  20\n",
      "ITR:  21\n",
      "ITR:  22\n",
      "ITR:  23\n",
      "ITR:  24\n",
      "ITR:  25\n",
      "ITR:  26\n",
      "ITR:  27\n",
      "ITR:  28\n",
      "ITR:  29\n",
      "ITR:  30\n",
      "ITR:  31\n",
      "ITR:  32\n",
      "ITR:  33\n",
      "ITR:  34\n",
      "ITR:  35\n",
      "ITR:  36\n",
      "ITR:  37\n",
      "ITR:  38\n",
      "ITR:  39\n",
      "ITR:  40\n",
      "ITR:  41\n",
      "ITR:  42\n",
      "ITR:  43\n",
      "ITR:  44\n",
      "ITR:  45\n",
      "ITR:  46\n",
      "ITR:  47\n",
      "ITR:  48\n",
      "ITR:  49\n"
     ]
    }
   ],
   "source": [
    " \n",
    "\n",
    "max_iterations = 500\n",
    "average_over = 50\n",
    "theta_step_size = 10\n",
    "\n",
    "max_rates = np.zeros(10)\n",
    "quantized_rate = np.zeros(10)\n",
    "oo = np.zeros(10)\n",
    "nn = np.zeros(10)\n",
    "\n",
    "d1 = np.sqrt(d_ris ** 2 + lt ** 2)\n",
    "d2 = np.sqrt((D - d_ris) ** 2 + lr ** 2)\n",
    "beta_INDIR_inverse = ((wavelength**4)/(256 * (np.pi ** 2))) * (((lt/d1 + lr/d2)**2) / ((d1*d2)**2))\n",
    "\n",
    "\n",
    "# for theta_step_size in range(1, 11):\n",
    "#     print(f\"step size {theta_step_size}\")\n",
    "#     qrate_average = np.zeros(max_iterations+2)\n",
    "\n",
    "for i in range(average_over):\n",
    "    print(\"ITR: \", i)\n",
    "    H_dir = Calculate_H_DIR(Nr, Nt, distance_r_t, wavelength, alpha_dir, D, lt, lr, racian_factor)\n",
    "    H1 = Calculate_H1(N_ris, Nt, distance_ris_t, wavelength, racian_factor, beta_INDIR_inverse)\n",
    "    H2 = Calculate_H2(Nr, N_ris, distance_r_ris, wavelength, racian_factor)\n",
    "    [rates, old_rates, new_rates] = PGM_Quantized_last_step(max_iterations, H_dir, H1, H2, Nr, D, intial_Q, initial_thetas, noise_power, Pt, range(1, 11))\n",
    "    # qrate_average += rates / average_over\n",
    "    oo += old_rates / average_over\n",
    "    nn += new_rates / average_over\n",
    "    # max_rates[theta_step_size-1] = qrate_average[-2]\n",
    "    # quantized_rate[theta_step_size-1] = qrate_average[-1]\n",
    "\n",
    "# rate_average = rate_average \n",
    "\n",
    "    "
   ]
  },
  {
   "cell_type": "code",
   "execution_count": 80,
   "metadata": {},
   "outputs": [
    {
     "data": {
      "text/plain": [
       "array([10.65791397, 10.65791397, 10.65791397, 10.65791397, 10.65791397,\n",
       "       10.65791397, 10.65791397, 10.65791397, 10.65791397, 10.65791397])"
      ]
     },
     "execution_count": 80,
     "metadata": {},
     "output_type": "execute_result"
    }
   ],
   "source": [
    "oo"
   ]
  },
  {
   "cell_type": "code",
   "execution_count": 23,
   "metadata": {},
   "outputs": [
    {
     "data": {
      "image/png": "[encoded data removed]",
      "text/plain": [
       "<Figure size 1000x600 with 1 Axes>"
      ]
     },
     "metadata": {},
     "output_type": "display_data"
    }
   ],
   "source": [
    "x_vals = np.arange(1, 11)\n",
    "\n",
    "# Create the plot\n",
    "plt.figure(figsize=(10, 6))\n",
    "\n",
    "# Plot Non-quantized line\n",
    "plt.plot(x_vals, oo, '-o', label='Non quantized',\n",
    "         color='blue', markerfacecolor='blue', linewidth=2.5, markersize=8)\n",
    "\n",
    "# Plot Quantized line\n",
    "plt.plot(x_vals, nn, '-o', label='Quantized',\n",
    "         color='red', markerfacecolor='red', linewidth=2.5, markersize=8)\n",
    "\n",
    "# Add title and axis labels\n",
    "# plt.title('Achievable Rate for Quantized and Non-Quantized Phases (dirs = 40)', fontsize=18, fontweight='bold')\n",
    "plt.xlabel(r'Quantized Bits)', fontsize=16)\n",
    "plt.ylabel('Rate (bit/s/Hz)', fontsize=16)\n",
    "\n",
    "# Set tick font sizes\n",
    "plt.xticks(fontsize=14)\n",
    "plt.yticks(fontsize=14)\n",
    "\n",
    "# Enable grid\n",
    "plt.grid(True)\n",
    "\n",
    "# Add legend\n",
    "plt.legend(fontsize=14)\n",
    "\n",
    "# Improve layout\n",
    "plt.tight_layout()\n",
    "\n",
    "# Show plot\n",
    "plt.show()"
   ]
  },
  {
   "cell_type": "code",
   "execution_count": 81,
   "metadata": {},
   "outputs": [
    {
     "data": {
      "application/vnd.plotly.v1+json": {
       "config": {
        "plotlyServerURL": "https://plot.ly"
       },
       "data": [
        {
         "mode": "lines+markers",
         "name": "Non qantized",
         "type": "scatter",
         "x": {
          "bdata": "AQAAAAIAAAADAAAABAAAAAUAAAAGAAAABwAAAAgAAAAJAAAACgAAAA==",
          "dtype": "i4"
         },
         "y": {
          "bdata": "eJy0GdpQJUB4nLQZ2lAlQHictBnaUCVAeJy0GdpQJUB4nLQZ2lAlQHictBnaUCVAeJy0GdpQJUB4nLQZ2lAlQHictBnaUCVAeJy0GdpQJUA=",
          "dtype": "f8"
         }
        },
        {
         "mode": "lines+markers",
         "name": "Quantized",
         "type": "scatter",
         "x": {
          "bdata": "AQAAAAIAAAADAAAABAAAAAUAAAAGAAAABwAAAAgAAAAJAAAACgAAAA==",
          "dtype": "i4"
         },
         "y": {
          "bdata": "x4oN5ko8IUBLknk+EWkkQFQ/wWUwHyVAx6tdDeFFJUCF5Yo+QE4lQBb24bE+UCVAQPKd87NQJUDa8wGE0FAlQFpk37fXUCVAf6oUgtlQJUA=",
          "dtype": "f8"
         }
        }
       ],
       "layout": {
        "template": {
         "data": {
          "bar": [
           {
            "error_x": {
             "color": "#2a3f5f"
            },
            "error_y": {
             "color": "#2a3f5f"
            },
            "marker": {
             "line": {
              "color": "#E5ECF6",
              "width": 0.5
             },
             "pattern": {
              "fillmode": "overlay",
              "size": 10,
              "solidity": 0.2
             }
            },
            "type": "bar"
           }
          ],
          "barpolar": [
           {
            "marker": {
             "line": {
              "color": "#E5ECF6",
              "width": 0.5
             },
             "pattern": {
              "fillmode": "overlay",
              "size": 10,
              "solidity": 0.2
             }
            },
            "type": "barpolar"
           }
          ],
          "carpet": [
           {
            "aaxis": {
             "endlinecolor": "#2a3f5f",
             "gridcolor": "white",
             "linecolor": "white",
             "minorgridcolor": "white",
             "startlinecolor": "#2a3f5f"
            },
            "baxis": {
             "endlinecolor": "#2a3f5f",
             "gridcolor": "white",
             "linecolor": "white",
             "minorgridcolor": "white",
             "startlinecolor": "#2a3f5f"
            },
            "type": "carpet"
           }
          ],
          "choropleth": [
           {
            "colorbar": {
             "outlinewidth": 0,
             "ticks": ""
            },
            "type": "choropleth"
           }
          ],
          "contour": [
           {
            "colorbar": {
             "outlinewidth": 0,
             "ticks": ""
            },
            "colorscale": [
             [
              0,
              "#0d0887"
             ],
             [
              0.1111111111111111,
              "#46039f"
             ],
             [
              0.2222222222222222,
              "#7201a8"
             ],
             [
              0.3333333333333333,
              "#9c179e"
             ],
             [
              0.4444444444444444,
              "#bd3786"
             ],
             [
              0.5555555555555556,
              "#d8576b"
             ],
             [
              0.6666666666666666,
              "#ed7953"
             ],
             [
              0.7777777777777778,
              "#fb9f3a"
             ],
             [
              0.8888888888888888,
              "#fdca26"
             ],
             [
              1,
              "#f0f921"
             ]
            ],
            "type": "contour"
           }
          ],
          "contourcarpet": [
           {
            "colorbar": {
             "outlinewidth": 0,
             "ticks": ""
            },
            "type": "contourcarpet"
           }
          ],
          "heatmap": [
           {
            "colorbar": {
             "outlinewidth": 0,
             "ticks": ""
            },
            "colorscale": [
             [
              0,
              "#0d0887"
             ],
             [
              0.1111111111111111,
              "#46039f"
             ],
             [
              0.2222222222222222,
              "#7201a8"
             ],
             [
              0.3333333333333333,
              "#9c179e"
             ],
             [
              0.4444444444444444,
              "#bd3786"
             ],
             [
              0.5555555555555556,
              "#d8576b"
             ],
             [
              0.6666666666666666,
              "#ed7953"
             ],
             [
              0.7777777777777778,
              "#fb9f3a"
             ],
             [
              0.8888888888888888,
              "#fdca26"
             ],
             [
              1,
              "#f0f921"
             ]
            ],
            "type": "heatmap"
           }
          ],
          "histogram": [
           {
            "marker": {
             "pattern": {
              "fillmode": "overlay",
              "size": 10,
              "solidity": 0.2
             }
            },
            "type": "histogram"
           }
          ],
          "histogram2d": [
           {
            "colorbar": {
             "outlinewidth": 0,
             "ticks": ""
            },
            "colorscale": [
             [
              0,
              "#0d0887"
             ],
             [
              0.1111111111111111,
              "#46039f"
             ],
             [
              0.2222222222222222,
              "#7201a8"
             ],
             [
              0.3333333333333333,
              "#9c179e"
             ],
             [
              0.4444444444444444,
              "#bd3786"
             ],
             [
              0.5555555555555556,
              "#d8576b"
             ],
             [
              0.6666666666666666,
              "#ed7953"
             ],
             [
              0.7777777777777778,
              "#fb9f3a"
             ],
             [
              0.8888888888888888,
              "#fdca26"
             ],
             [
              1,
              "#f0f921"
             ]
            ],
            "type": "histogram2d"
           }
          ],
          "histogram2dcontour": [
           {
            "colorbar": {
             "outlinewidth": 0,
             "ticks": ""
            },
            "colorscale": [
             [
              0,
              "#0d0887"
             ],
             [
              0.1111111111111111,
              "#46039f"
             ],
             [
              0.2222222222222222,
              "#7201a8"
             ],
             [
              0.3333333333333333,
              "#9c179e"
             ],
             [
              0.4444444444444444,
              "#bd3786"
             ],
             [
              0.5555555555555556,
              "#d8576b"
             ],
             [
              0.6666666666666666,
              "#ed7953"
             ],
             [
              0.7777777777777778,
              "#fb9f3a"
             ],
             [
              0.8888888888888888,
              "#fdca26"
             ],
             [
              1,
              "#f0f921"
             ]
            ],
            "type": "histogram2dcontour"
           }
          ],
          "mesh3d": [
           {
            "colorbar": {
             "outlinewidth": 0,
             "ticks": ""
            },
            "type": "mesh3d"
           }
          ],
          "parcoords": [
           {
            "line": {
             "colorbar": {
              "outlinewidth": 0,
              "ticks": ""
             }
            },
            "type": "parcoords"
           }
          ],
          "pie": [
           {
            "automargin": true,
            "type": "pie"
           }
          ],
          "scatter": [
           {
            "fillpattern": {
             "fillmode": "overlay",
             "size": 10,
             "solidity": 0.2
            },
            "type": "scatter"
           }
          ],
          "scatter3d": [
           {
            "line": {
             "colorbar": {
              "outlinewidth": 0,
              "ticks": ""
             }
            },
            "marker": {
             "colorbar": {
              "outlinewidth": 0,
              "ticks": ""
             }
            },
            "type": "scatter3d"
           }
          ],
          "scattercarpet": [
           {
            "marker": {
             "colorbar": {
              "outlinewidth": 0,
              "ticks": ""
             }
            },
            "type": "scattercarpet"
           }
          ],
          "scattergeo": [
           {
            "marker": {
             "colorbar": {
              "outlinewidth": 0,
              "ticks": ""
             }
            },
            "type": "scattergeo"
           }
          ],
          "scattergl": [
           {
            "marker": {
             "colorbar": {
              "outlinewidth": 0,
              "ticks": ""
             }
            },
            "type": "scattergl"
           }
          ],
          "scattermap": [
           {
            "marker": {
             "colorbar": {
              "outlinewidth": 0,
              "ticks": ""
             }
            },
            "type": "scattermap"
           }
          ],
          "scattermapbox": [
           {
            "marker": {
             "colorbar": {
              "outlinewidth": 0,
              "ticks": ""
             }
            },
            "type": "scattermapbox"
           }
          ],
          "scatterpolar": [
           {
            "marker": {
             "colorbar": {
              "outlinewidth": 0,
              "ticks": ""
             }
            },
            "type": "scatterpolar"
           }
          ],
          "scatterpolargl": [
           {
            "marker": {
             "colorbar": {
              "outlinewidth": 0,
              "ticks": ""
             }
            },
            "type": "scatterpolargl"
           }
          ],
          "scatterternary": [
           {
            "marker": {
             "colorbar": {
              "outlinewidth": 0,
              "ticks": ""
             }
            },
            "type": "scatterternary"
           }
          ],
          "surface": [
           {
            "colorbar": {
             "outlinewidth": 0,
             "ticks": ""
            },
            "colorscale": [
             [
              0,
              "#0d0887"
             ],
             [
              0.1111111111111111,
              "#46039f"
             ],
             [
              0.2222222222222222,
              "#7201a8"
             ],
             [
              0.3333333333333333,
              "#9c179e"
             ],
             [
              0.4444444444444444,
              "#bd3786"
             ],
             [
              0.5555555555555556,
              "#d8576b"
             ],
             [
              0.6666666666666666,
              "#ed7953"
             ],
             [
              0.7777777777777778,
              "#fb9f3a"
             ],
             [
              0.8888888888888888,
              "#fdca26"
             ],
             [
              1,
              "#f0f921"
             ]
            ],
            "type": "surface"
           }
          ],
          "table": [
           {
            "cells": {
             "fill": {
              "color": "#EBF0F8"
             },
             "line": {
              "color": "white"
             }
            },
            "header": {
             "fill": {
              "color": "#C8D4E3"
             },
             "line": {
              "color": "white"
             }
            },
            "type": "table"
           }
          ]
         },
         "layout": {
          "annotationdefaults": {
           "arrowcolor": "#2a3f5f",
           "arrowhead": 0,
           "arrowwidth": 1
          },
          "autotypenumbers": "strict",
          "coloraxis": {
           "colorbar": {
            "outlinewidth": 0,
            "ticks": ""
           }
          },
          "colorscale": {
           "diverging": [
            [
             0,
             "#8e0152"
            ],
            [
             0.1,
             "#c51b7d"
            ],
            [
             0.2,
             "#de77ae"
            ],
            [
             0.3,
             "#f1b6da"
            ],
            [
             0.4,
             "#fde0ef"
            ],
            [
             0.5,
             "#f7f7f7"
            ],
            [
             0.6,
             "#e6f5d0"
            ],
            [
             0.7,
             "#b8e186"
            ],
            [
             0.8,
             "#7fbc41"
            ],
            [
             0.9,
             "#4d9221"
            ],
            [
             1,
             "#276419"
            ]
           ],
           "sequential": [
            [
             0,
             "#0d0887"
            ],
            [
             0.1111111111111111,
             "#46039f"
            ],
            [
             0.2222222222222222,
             "#7201a8"
            ],
            [
             0.3333333333333333,
             "#9c179e"
            ],
            [
             0.4444444444444444,
             "#bd3786"
            ],
            [
             0.5555555555555556,
             "#d8576b"
            ],
            [
             0.6666666666666666,
             "#ed7953"
            ],
            [
             0.7777777777777778,
             "#fb9f3a"
            ],
            [
             0.8888888888888888,
             "#fdca26"
            ],
            [
             1,
             "#f0f921"
            ]
           ],
           "sequentialminus": [
            [
             0,
             "#0d0887"
            ],
            [
             0.1111111111111111,
             "#46039f"
            ],
            [
             0.2222222222222222,
             "#7201a8"
            ],
            [
             0.3333333333333333,
             "#9c179e"
            ],
            [
             0.4444444444444444,
             "#bd3786"
            ],
            [
             0.5555555555555556,
             "#d8576b"
            ],
            [
             0.6666666666666666,
             "#ed7953"
            ],
            [
             0.7777777777777778,
             "#fb9f3a"
            ],
            [
             0.8888888888888888,
             "#fdca26"
            ],
            [
             1,
             "#f0f921"
            ]
           ]
          },
          "colorway": [
           "#636efa",
           "#EF553B",
           "#00cc96",
           "#ab63fa",
           "#FFA15A",
           "#19d3f3",
           "#FF6692",
           "#B6E880",
           "#FF97FF",
           "#FECB52"
          ],
          "font": {
           "color": "#2a3f5f"
          },
          "geo": {
           "bgcolor": "white",
           "lakecolor": "white",
           "landcolor": "#E5ECF6",
           "showlakes": true,
           "showland": true,
           "subunitcolor": "white"
          },
          "hoverlabel": {
           "align": "left"
          },
          "hovermode": "closest",
          "mapbox": {
           "style": "light"
          },
          "paper_bgcolor": "white",
          "plot_bgcolor": "#E5ECF6",
          "polar": {
           "angularaxis": {
            "gridcolor": "white",
            "linecolor": "white",
            "ticks": ""
           },
           "bgcolor": "#E5ECF6",
           "radialaxis": {
            "gridcolor": "white",
            "linecolor": "white",
            "ticks": ""
           }
          },
          "scene": {
           "xaxis": {
            "backgroundcolor": "#E5ECF6",
            "gridcolor": "white",
            "gridwidth": 2,
            "linecolor": "white",
            "showbackground": true,
            "ticks": "",
            "zerolinecolor": "white"
           },
           "yaxis": {
            "backgroundcolor": "#E5ECF6",
            "gridcolor": "white",
            "gridwidth": 2,
            "linecolor": "white",
            "showbackground": true,
            "ticks": "",
            "zerolinecolor": "white"
           },
           "zaxis": {
            "backgroundcolor": "#E5ECF6",
            "gridcolor": "white",
            "gridwidth": 2,
            "linecolor": "white",
            "showbackground": true,
            "ticks": "",
            "zerolinecolor": "white"
           }
          },
          "shapedefaults": {
           "line": {
            "color": "#2a3f5f"
           }
          },
          "ternary": {
           "aaxis": {
            "gridcolor": "white",
            "linecolor": "white",
            "ticks": ""
           },
           "baxis": {
            "gridcolor": "white",
            "linecolor": "white",
            "ticks": ""
           },
           "bgcolor": "#E5ECF6",
           "caxis": {
            "gridcolor": "white",
            "linecolor": "white",
            "ticks": ""
           }
          },
          "title": {
           "x": 0.05
          },
          "xaxis": {
           "automargin": true,
           "gridcolor": "white",
           "linecolor": "white",
           "ticks": "",
           "title": {
            "standoff": 15
           },
           "zerolinecolor": "white",
           "zerolinewidth": 2
          },
          "yaxis": {
           "automargin": true,
           "gridcolor": "white",
           "linecolor": "white",
           "ticks": "",
           "title": {
            "standoff": 15
           },
           "zerolinecolor": "white",
           "zerolinewidth": 2
          }
         }
        },
        "title": {
         "text": "Achivable Rate for quantized and non quantized phases(dris = 40)"
        },
        "xaxis": {
         "title": {
          "text": "Qunatized leved (2 raise to the power)"
         }
        },
        "yaxis": {
         "title": {
          "text": "Rate (bit/s/Hz)"
         }
        }
       }
      }
     },
     "metadata": {},
     "output_type": "display_data"
    }
   ],
   "source": [
    "# Create traces for real part\n",
    "mixfigure = go.Figure()\n",
    "mixfigure.add_trace(go.Scatter(x=np.arange(1, 11), y=oo, mode='lines+markers', name='Non qantized'))\n",
    "mixfigure.add_trace(go.Scatter(x=np.arange(1, 11), y=nn, mode='lines+markers', name='Quantized'))\n",
    "\n",
    "# Add titles and labels\n",
    "mixfigure.update_layout(\n",
    "    title='Achivable Rate for quantized and non quantized phases(dris = 40)',\n",
    "    xaxis_title='Qunatized leved (2 raise to the power)',\n",
    "    yaxis_title='Rate (bit/s/Hz)',  # Optional: Dark theme, change if needed\n",
    ")"
   ]
  },
  {
   "cell_type": "code",
   "execution_count": null,
   "metadata": {},
   "outputs": [],
   "source": []
  }
 ],
 "metadata": {
  "kernelspec": {
   "display_name": "Python 3",
   "language": "python",
   "name": "python3"
  },
  "language_info": {
   "codemirror_mode": {
    "name": "ipython",
    "version": 3
   },
   "file_extension": ".py",
   "mimetype": "text/x-python",
   "name": "python",
   "nbconvert_exporter": "python",
   "pygments_lexer": "ipython3",
   "version": "3.10.5"
  }
 },
 "nbformat": 4,
 "nbformat_minor": 2
}
