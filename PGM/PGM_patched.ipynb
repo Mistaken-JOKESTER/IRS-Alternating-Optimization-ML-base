{
 "cells": [
  {
   "cell_type": "code",
   "execution_count": 1,
   "metadata": {},
   "outputs": [],
   "source": [
    "import numpy as np\n",
    "import matplotlib.pyplot as plt\n",
    "from mpl_toolkits.mplot3d import Axes3D\n",
    "import plotly.graph_objects as go\n",
    "import seaborn as sns\n",
    "from scipy.optimize import minimize\n",
    "\n",
    "# Enable interactive plots\n"
   ]
  },
  {
   "cell_type": "code",
   "execution_count": 2,
   "metadata": {},
   "outputs": [],
   "source": [
    "import warnings\n",
    "\n",
    "warnings.filterwarnings('error', category=np.ComplexWarning)"
   ]
  },
  {
   "cell_type": "markdown",
   "metadata": {},
   "source": [
    "## Sytem Model"
   ]
  },
  {
   "cell_type": "code",
   "execution_count": 3,
   "metadata": {},
   "outputs": [],
   "source": [
    "quantization_levels = 20\n",
    "\n",
    "# transmit antennas \n",
    "Nt = 8\n",
    "# receiving antennas\n",
    "Nr = 4\n",
    "\n",
    "# both tx and rx antennas are placed in uniform linear arrays on vertical walls paraller to each other on a wall\n",
    "D = 500\n",
    "\n",
    "# wavelenght and frequency of operation\n",
    "frequency = 2 * (10 ** 9)\n",
    "wavelength = (3 * (10 ** 8))/frequency\n",
    "antenna_spacing = wavelength/2\n",
    "\n",
    "# inter antenna seperation distance\n",
    "st = wavelength/2\n",
    "sr = wavelength/2\n",
    "# seperation between center of adjacent RIS elements in both dimension is\n",
    "s_ris = wavelength / 2\n",
    "\n",
    "# RIS size axb\n",
    "# reflection elements Na, Nb\n",
    "Na = 15\n",
    "Nb = 15\n",
    "N_ris = Na * Nb\n",
    "Nl = N_ris\n",
    "\n",
    "# power in db = 10log10(power(watts))\n",
    "\n",
    "# noise power (untis not mentioned in paper)\n",
    "# -120 db\n",
    "noise_power = (10 ** (-12))\n",
    "# total average power transmit value Pt\n",
    "# 0 db\n",
    "Pt = 1\n",
    "\n",
    "# path loss exponent for direct link influcend by obstacle present\n",
    "alpha_dir = 3\n",
    "\n",
    "# racian factor\n",
    "racian_factor = 1\n",
    "\n",
    "# backtracking line search parameters\n",
    "L_note = 10**4\n",
    "delta = 10 ** (-5)\n",
    "row = 1/2\n",
    "min_step_size = 10**(-4)\n",
    "\n",
    "initial_thetas = np.ones(N_ris, dtype=np.complex64)\n",
    "intial_Q = (Pt/Nt) * np.eye(Nt)\n",
    "\n",
    "channel_iterations = 10\n",
    "\n",
    "# dirs should be placed in vicinity of tx or rx\n",
    "# if near tx Dris = 40\n",
    "# if near rx Dris = D - 40\n",
    "\n",
    "# distance between midpoint of RIS and the placne containing tx antennas\n",
    "d_ris = 40\n",
    "# distance between mid point of tx antenna arraya nd plane contining RIS is \n",
    "lt = 20\n",
    "# distance between rx antenna dn plane containing RIS\n",
    "lr = 100\n",
    "\n",
    "number_of_itr = 500\n",
    "\n",
    "d_note = np.sqrt((D**2) + (lt-lr)**2)\n",
    "beta_dir = ((4 * np.pi / wavelength) ** 2) * (d_note**alpha_dir)\n",
    "\n",
    "\n",
    "\n"
   ]
  },
  {
   "cell_type": "code",
   "execution_count": 4,
   "metadata": {},
   "outputs": [
    {
     "name": "stdout",
     "output_type": "stream",
     "text": [
      "\n",
      "    Frequency: 2000000000\n",
      "    wavelength: 0.15\n",
      "    Antenna Spacing: 0.075\n",
      "\n",
      "    Tx antenna: 8\n",
      "    Rx antenna: 4\n",
      "    IRS Eelements: 225\n",
      "\n",
      "    Tx Power: 1\n",
      "    Noise Power: 1e-12\n",
      "    \n",
      "    aplha_dir: 3\n",
      "    racian Factor: 1\n",
      "\n",
      "    d_note: 506.3595560468865\n",
      "    beta_dir: 911201112278.7719\n",
      "\n",
      "\n",
      "Intial Phases\n",
      "[1.+0.j 1.+0.j 1.+0.j 1.+0.j 1.+0.j 1.+0.j 1.+0.j 1.+0.j 1.+0.j 1.+0.j\n",
      " 1.+0.j 1.+0.j 1.+0.j 1.+0.j 1.+0.j 1.+0.j 1.+0.j 1.+0.j 1.+0.j 1.+0.j\n",
      " 1.+0.j 1.+0.j 1.+0.j 1.+0.j 1.+0.j 1.+0.j 1.+0.j 1.+0.j 1.+0.j 1.+0.j\n",
      " 1.+0.j 1.+0.j 1.+0.j 1.+0.j 1.+0.j 1.+0.j 1.+0.j 1.+0.j 1.+0.j 1.+0.j\n",
      " 1.+0.j 1.+0.j 1.+0.j 1.+0.j 1.+0.j 1.+0.j 1.+0.j 1.+0.j 1.+0.j 1.+0.j\n",
      " 1.+0.j 1.+0.j 1.+0.j 1.+0.j 1.+0.j 1.+0.j 1.+0.j 1.+0.j 1.+0.j 1.+0.j\n",
      " 1.+0.j 1.+0.j 1.+0.j 1.+0.j 1.+0.j 1.+0.j 1.+0.j 1.+0.j 1.+0.j 1.+0.j\n",
      " 1.+0.j 1.+0.j 1.+0.j 1.+0.j 1.+0.j 1.+0.j 1.+0.j 1.+0.j 1.+0.j 1.+0.j\n",
      " 1.+0.j 1.+0.j 1.+0.j 1.+0.j 1.+0.j 1.+0.j 1.+0.j 1.+0.j 1.+0.j 1.+0.j\n",
      " 1.+0.j 1.+0.j 1.+0.j 1.+0.j 1.+0.j 1.+0.j 1.+0.j 1.+0.j 1.+0.j 1.+0.j\n",
      " 1.+0.j 1.+0.j 1.+0.j 1.+0.j 1.+0.j 1.+0.j 1.+0.j 1.+0.j 1.+0.j 1.+0.j\n",
      " 1.+0.j 1.+0.j 1.+0.j 1.+0.j 1.+0.j 1.+0.j 1.+0.j 1.+0.j 1.+0.j 1.+0.j\n",
      " 1.+0.j 1.+0.j 1.+0.j 1.+0.j 1.+0.j 1.+0.j 1.+0.j 1.+0.j 1.+0.j 1.+0.j\n",
      " 1.+0.j 1.+0.j 1.+0.j 1.+0.j 1.+0.j 1.+0.j 1.+0.j 1.+0.j 1.+0.j 1.+0.j\n",
      " 1.+0.j 1.+0.j 1.+0.j 1.+0.j 1.+0.j 1.+0.j 1.+0.j 1.+0.j 1.+0.j 1.+0.j\n",
      " 1.+0.j 1.+0.j 1.+0.j 1.+0.j 1.+0.j 1.+0.j 1.+0.j 1.+0.j 1.+0.j 1.+0.j\n",
      " 1.+0.j 1.+0.j 1.+0.j 1.+0.j 1.+0.j 1.+0.j 1.+0.j 1.+0.j 1.+0.j 1.+0.j\n",
      " 1.+0.j 1.+0.j 1.+0.j 1.+0.j 1.+0.j 1.+0.j 1.+0.j 1.+0.j 1.+0.j 1.+0.j\n",
      " 1.+0.j 1.+0.j 1.+0.j 1.+0.j 1.+0.j 1.+0.j 1.+0.j 1.+0.j 1.+0.j 1.+0.j\n",
      " 1.+0.j 1.+0.j 1.+0.j 1.+0.j 1.+0.j 1.+0.j 1.+0.j 1.+0.j 1.+0.j 1.+0.j\n",
      " 1.+0.j 1.+0.j 1.+0.j 1.+0.j 1.+0.j 1.+0.j 1.+0.j 1.+0.j 1.+0.j 1.+0.j\n",
      " 1.+0.j 1.+0.j 1.+0.j 1.+0.j 1.+0.j 1.+0.j 1.+0.j 1.+0.j 1.+0.j 1.+0.j\n",
      " 1.+0.j 1.+0.j 1.+0.j 1.+0.j 1.+0.j]\n",
      "\n",
      "Intial Q\n",
      "[[0.125 0.    0.    0.    0.    0.    0.    0.   ]\n",
      " [0.    0.125 0.    0.    0.    0.    0.    0.   ]\n",
      " [0.    0.    0.125 0.    0.    0.    0.    0.   ]\n",
      " [0.    0.    0.    0.125 0.    0.    0.    0.   ]\n",
      " [0.    0.    0.    0.    0.125 0.    0.    0.   ]\n",
      " [0.    0.    0.    0.    0.    0.125 0.    0.   ]\n",
      " [0.    0.    0.    0.    0.    0.    0.125 0.   ]\n",
      " [0.    0.    0.    0.    0.    0.    0.    0.125]]\n"
     ]
    }
   ],
   "source": [
    "\n",
    "print(f\"\"\"\n",
    "    Frequency: {frequency}\n",
    "    wavelength: {wavelength}\n",
    "    Antenna Spacing: {antenna_spacing}\n",
    "\n",
    "    Tx antenna: {Nt}\n",
    "    Rx antenna: {Nr}\n",
    "    IRS Eelements: {N_ris}\n",
    "\n",
    "    Tx Power: {Pt}\n",
    "    Noise Power: {noise_power}\n",
    "    \n",
    "    aplha_dir: {alpha_dir}\n",
    "    racian Factor: {racian_factor}\n",
    "\n",
    "    d_note: {d_note}\n",
    "    beta_dir: {beta_dir}\n",
    "\"\"\")\n",
    "\n",
    "print(\"\\nIntial Phases\")\n",
    "print(initial_thetas)\n",
    "\n",
    "print(\"\\nIntial Q\")\n",
    "print(intial_Q)\n",
    "\n"
   ]
  },
  {
   "cell_type": "code",
   "execution_count": 5,
   "metadata": {},
   "outputs": [],
   "source": [
    "\n",
    "total_FSPL_vector = []\n",
    "temp_dris_vector = []\n",
    "d1_plus_d2_vector = []\n",
    "for temp_dris in range(0, 500, 5):\n",
    "\n",
    "    d1 = np.sqrt(temp_dris ** 2 + lt ** 2)\n",
    "    d2 = np.sqrt((D - temp_dris) ** 2 + lr ** 2)\n",
    "\n",
    "    \n",
    "    beta_INDIR_inverse = ((wavelength**4)/(256 * (np.pi ** 2))) * (((lt/d1 + lr/d2)**2) / ((d1*d2)**2))\n",
    "\n",
    "    mean_h1 = np.sqrt(racian_factor/(1+racian_factor)) * np.exp(-2j * np.pi * d1 / wavelength)\n",
    "    mean_h2 = np.sqrt(racian_factor/(1+racian_factor)) * np.exp(-2j * np.pi * d2 / wavelength)\n",
    "    fspl = (16/(wavelength ** 2)) * ((d1 * d2 )**2) * (1/(d_note ** alpha_dir)) * (1 / (((lt/d1 + lr/d2) * N_ris * np.abs(mean_h1 * mean_h2)) ** 2))\n",
    "\n",
    "    temp_dris_vector.append(temp_dris)\n",
    "    d1_plus_d2_vector.append((d1 + d2))\n",
    "    total_FSPL_vector.append(fspl)\n",
    "\n"
   ]
  },
  {
   "cell_type": "code",
   "execution_count": 6,
   "metadata": {},
   "outputs": [
    {
     "data": {
      "application/vnd.plotly.v1+json": {
       "config": {
        "plotlyServerURL": "https://plot.ly"
       },
       "data": [
        {
         "line": {
          "color": "blue",
          "width": 1
         },
         "marker": {
          "color": "red",
          "size": 4
         },
         "mode": "lines+markers",
         "name": "Line with Markers",
         "type": "scatter",
         "x": [
          0,
          5,
          10,
          15,
          20,
          25,
          30,
          35,
          40,
          45,
          50,
          55,
          60,
          65,
          70,
          75,
          80,
          85,
          90,
          95,
          100,
          105,
          110,
          115,
          120,
          125,
          130,
          135,
          140,
          145,
          150,
          155,
          160,
          165,
          170,
          175,
          180,
          185,
          190,
          195,
          200,
          205,
          210,
          215,
          220,
          225,
          230,
          235,
          240,
          245,
          250,
          255,
          260,
          265,
          270,
          275,
          280,
          285,
          290,
          295,
          300,
          305,
          310,
          315,
          320,
          325,
          330,
          335,
          340,
          345,
          350,
          355,
          360,
          365,
          370,
          375,
          380,
          385,
          390,
          395,
          400,
          405,
          410,
          415,
          420,
          425,
          430,
          435,
          440,
          445,
          450,
          455,
          460,
          465,
          470,
          475,
          480,
          485,
          490,
          495
         ],
         "y": [
          529.9019513592784,
          525.6155281280883,
          522.4606697769974,
          520.2019789944302,
          518.5902981327124,
          517.4278171608541,
          516.5760638239984,
          515.9424483599518,
          515.4654513875886,
          515.1037098646717,
          514.8288709359895,
          514.6210768328465,
          514.4661201105067,
          514.3536306731135,
          514.2758999856875,
          514.2271033956247,
          514.2027754108113,
          514.1994487526948,
          514.2144014931127,
          514.245476867061,
          514.2909528336218,
          514.3494462697465,
          514.4198416589373,
          514.5012373632636,
          514.5929046937345,
          514.6942564182223,
          514.8048223143951,
          514.924230042887,
          515.0521900826976,
          515.188483801245,
          515.3329539682414,
          515.485497194114,
          515.646057899358,
          515.8146235142134,
          515.9912206775703,
          516.1759122564714,
          516.3687950475526,
          516.5699980524988,
          516.7796812434747,
          516.9980347532072,
          517.2252784392558,
          517.4616617839102,
          517.7074641008492,
          517.962995027671,
          518.2285952901153,
          518.5046377295209,
          518.7915285900633,
          519.0897090667861,
          519.3996571195283,
          519.7218895616838,
          520.0569644364142,
          520.4054836965581,
          520.7680962081059,
          521.1455011008089,
          521.5384514933068,
          521.9477586241474,
          522.3742964242555,
          522.8190065708206,
          523.2829040672327,
          523.7670833985912,
          524.2727253174371,
          524.8011043196698,
          525.3535968760202,
          525.9316904898635,
          526.5369936573679,
          527.1712468107625,
          527.8363343294909,
          528.534297706744,
          529.2673499596601,
          530.0378913695166,
          530.8485266323615,
          531.7020834893059,
          532.6016328872515,
          533.5505106927992,
          534.5523409415454,
          535.6110605483293,
          536.730945326942,
          537.9166370653064,
          539.1731712685178,
          540.506005011302,
          541.9210441273252,
          543.4246687001453,
          545.023755506213,
          546.7256956949115,
          548.5384055812297,
          550.4703279900962,
          552.5304211579547,
          554.7281318148257,
          557.0733488078108,
          559.576333575981,
          562.2476240571978,
          565.0979093193416,
          568.1378734715436,
          571.378009296095,
          574.8284045426685,
          578.4985068211341,
          582.3968762504282,
          586.5309380544734,
          590.9067496207781,
          595.5287976133794
         ]
        }
       ],
       "layout": {
        "template": {
         "data": {
          "bar": [
           {
            "error_x": {
             "color": "#f2f5fa"
            },
            "error_y": {
             "color": "#f2f5fa"
            },
            "marker": {
             "line": {
              "color": "rgb(17,17,17)",
              "width": 0.5
             },
             "pattern": {
              "fillmode": "overlay",
              "size": 10,
              "solidity": 0.2
             }
            },
            "type": "bar"
           }
          ],
          "barpolar": [
           {
            "marker": {
             "line": {
              "color": "rgb(17,17,17)",
              "width": 0.5
             },
             "pattern": {
              "fillmode": "overlay",
              "size": 10,
              "solidity": 0.2
             }
            },
            "type": "barpolar"
           }
          ],
          "carpet": [
           {
            "aaxis": {
             "endlinecolor": "#A2B1C6",
             "gridcolor": "#506784",
             "linecolor": "#506784",
             "minorgridcolor": "#506784",
             "startlinecolor": "#A2B1C6"
            },
            "baxis": {
             "endlinecolor": "#A2B1C6",
             "gridcolor": "#506784",
             "linecolor": "#506784",
             "minorgridcolor": "#506784",
             "startlinecolor": "#A2B1C6"
            },
            "type": "carpet"
           }
          ],
          "choropleth": [
           {
            "colorbar": {
             "outlinewidth": 0,
             "ticks": ""
            },
            "type": "choropleth"
           }
          ],
          "contour": [
           {
            "colorbar": {
             "outlinewidth": 0,
             "ticks": ""
            },
            "colorscale": [
             [
              0,
              "#0d0887"
             ],
             [
              0.1111111111111111,
              "#46039f"
             ],
             [
              0.2222222222222222,
              "#7201a8"
             ],
             [
              0.3333333333333333,
              "#9c179e"
             ],
             [
              0.4444444444444444,
              "#bd3786"
             ],
             [
              0.5555555555555556,
              "#d8576b"
             ],
             [
              0.6666666666666666,
              "#ed7953"
             ],
             [
              0.7777777777777778,
              "#fb9f3a"
             ],
             [
              0.8888888888888888,
              "#fdca26"
             ],
             [
              1,
              "#f0f921"
             ]
            ],
            "type": "contour"
           }
          ],
          "contourcarpet": [
           {
            "colorbar": {
             "outlinewidth": 0,
             "ticks": ""
            },
            "type": "contourcarpet"
           }
          ],
          "heatmap": [
           {
            "colorbar": {
             "outlinewidth": 0,
             "ticks": ""
            },
            "colorscale": [
             [
              0,
              "#0d0887"
             ],
             [
              0.1111111111111111,
              "#46039f"
             ],
             [
              0.2222222222222222,
              "#7201a8"
             ],
             [
              0.3333333333333333,
              "#9c179e"
             ],
             [
              0.4444444444444444,
              "#bd3786"
             ],
             [
              0.5555555555555556,
              "#d8576b"
             ],
             [
              0.6666666666666666,
              "#ed7953"
             ],
             [
              0.7777777777777778,
              "#fb9f3a"
             ],
             [
              0.8888888888888888,
              "#fdca26"
             ],
             [
              1,
              "#f0f921"
             ]
            ],
            "type": "heatmap"
           }
          ],
          "histogram": [
           {
            "marker": {
             "pattern": {
              "fillmode": "overlay",
              "size": 10,
              "solidity": 0.2
             }
            },
            "type": "histogram"
           }
          ],
          "histogram2d": [
           {
            "colorbar": {
             "outlinewidth": 0,
             "ticks": ""
            },
            "colorscale": [
             [
              0,
              "#0d0887"
             ],
             [
              0.1111111111111111,
              "#46039f"
             ],
             [
              0.2222222222222222,
              "#7201a8"
             ],
             [
              0.3333333333333333,
              "#9c179e"
             ],
             [
              0.4444444444444444,
              "#bd3786"
             ],
             [
              0.5555555555555556,
              "#d8576b"
             ],
             [
              0.6666666666666666,
              "#ed7953"
             ],
             [
              0.7777777777777778,
              "#fb9f3a"
             ],
             [
              0.8888888888888888,
              "#fdca26"
             ],
             [
              1,
              "#f0f921"
             ]
            ],
            "type": "histogram2d"
           }
          ],
          "histogram2dcontour": [
           {
            "colorbar": {
             "outlinewidth": 0,
             "ticks": ""
            },
            "colorscale": [
             [
              0,
              "#0d0887"
             ],
             [
              0.1111111111111111,
              "#46039f"
             ],
             [
              0.2222222222222222,
              "#7201a8"
             ],
             [
              0.3333333333333333,
              "#9c179e"
             ],
             [
              0.4444444444444444,
              "#bd3786"
             ],
             [
              0.5555555555555556,
              "#d8576b"
             ],
             [
              0.6666666666666666,
              "#ed7953"
             ],
             [
              0.7777777777777778,
              "#fb9f3a"
             ],
             [
              0.8888888888888888,
              "#fdca26"
             ],
             [
              1,
              "#f0f921"
             ]
            ],
            "type": "histogram2dcontour"
           }
          ],
          "mesh3d": [
           {
            "colorbar": {
             "outlinewidth": 0,
             "ticks": ""
            },
            "type": "mesh3d"
           }
          ],
          "parcoords": [
           {
            "line": {
             "colorbar": {
              "outlinewidth": 0,
              "ticks": ""
             }
            },
            "type": "parcoords"
           }
          ],
          "pie": [
           {
            "automargin": true,
            "type": "pie"
           }
          ],
          "scatter": [
           {
            "marker": {
             "line": {
              "color": "#283442"
             }
            },
            "type": "scatter"
           }
          ],
          "scatter3d": [
           {
            "line": {
             "colorbar": {
              "outlinewidth": 0,
              "ticks": ""
             }
            },
            "marker": {
             "colorbar": {
              "outlinewidth": 0,
              "ticks": ""
             }
            },
            "type": "scatter3d"
           }
          ],
          "scattercarpet": [
           {
            "marker": {
             "colorbar": {
              "outlinewidth": 0,
              "ticks": ""
             }
            },
            "type": "scattercarpet"
           }
          ],
          "scattergeo": [
           {
            "marker": {
             "colorbar": {
              "outlinewidth": 0,
              "ticks": ""
             }
            },
            "type": "scattergeo"
           }
          ],
          "scattergl": [
           {
            "marker": {
             "line": {
              "color": "#283442"
             }
            },
            "type": "scattergl"
           }
          ],
          "scattermap": [
           {
            "marker": {
             "colorbar": {
              "outlinewidth": 0,
              "ticks": ""
             }
            },
            "type": "scattermap"
           }
          ],
          "scattermapbox": [
           {
            "marker": {
             "colorbar": {
              "outlinewidth": 0,
              "ticks": ""
             }
            },
            "type": "scattermapbox"
           }
          ],
          "scatterpolar": [
           {
            "marker": {
             "colorbar": {
              "outlinewidth": 0,
              "ticks": ""
             }
            },
            "type": "scatterpolar"
           }
          ],
          "scatterpolargl": [
           {
            "marker": {
             "colorbar": {
              "outlinewidth": 0,
              "ticks": ""
             }
            },
            "type": "scatterpolargl"
           }
          ],
          "scatterternary": [
           {
            "marker": {
             "colorbar": {
              "outlinewidth": 0,
              "ticks": ""
             }
            },
            "type": "scatterternary"
           }
          ],
          "surface": [
           {
            "colorbar": {
             "outlinewidth": 0,
             "ticks": ""
            },
            "colorscale": [
             [
              0,
              "#0d0887"
             ],
             [
              0.1111111111111111,
              "#46039f"
             ],
             [
              0.2222222222222222,
              "#7201a8"
             ],
             [
              0.3333333333333333,
              "#9c179e"
             ],
             [
              0.4444444444444444,
              "#bd3786"
             ],
             [
              0.5555555555555556,
              "#d8576b"
             ],
             [
              0.6666666666666666,
              "#ed7953"
             ],
             [
              0.7777777777777778,
              "#fb9f3a"
             ],
             [
              0.8888888888888888,
              "#fdca26"
             ],
             [
              1,
              "#f0f921"
             ]
            ],
            "type": "surface"
           }
          ],
          "table": [
           {
            "cells": {
             "fill": {
              "color": "#506784"
             },
             "line": {
              "color": "rgb(17,17,17)"
             }
            },
            "header": {
             "fill": {
              "color": "#2a3f5f"
             },
             "line": {
              "color": "rgb(17,17,17)"
             }
            },
            "type": "table"
           }
          ]
         },
         "layout": {
          "annotationdefaults": {
           "arrowcolor": "#f2f5fa",
           "arrowhead": 0,
           "arrowwidth": 1
          },
          "autotypenumbers": "strict",
          "coloraxis": {
           "colorbar": {
            "outlinewidth": 0,
            "ticks": ""
           }
          },
          "colorscale": {
           "diverging": [
            [
             0,
             "#8e0152"
            ],
            [
             0.1,
             "#c51b7d"
            ],
            [
             0.2,
             "#de77ae"
            ],
            [
             0.3,
             "#f1b6da"
            ],
            [
             0.4,
             "#fde0ef"
            ],
            [
             0.5,
             "#f7f7f7"
            ],
            [
             0.6,
             "#e6f5d0"
            ],
            [
             0.7,
             "#b8e186"
            ],
            [
             0.8,
             "#7fbc41"
            ],
            [
             0.9,
             "#4d9221"
            ],
            [
             1,
             "#276419"
            ]
           ],
           "sequential": [
            [
             0,
             "#0d0887"
            ],
            [
             0.1111111111111111,
             "#46039f"
            ],
            [
             0.2222222222222222,
             "#7201a8"
            ],
            [
             0.3333333333333333,
             "#9c179e"
            ],
            [
             0.4444444444444444,
             "#bd3786"
            ],
            [
             0.5555555555555556,
             "#d8576b"
            ],
            [
             0.6666666666666666,
             "#ed7953"
            ],
            [
             0.7777777777777778,
             "#fb9f3a"
            ],
            [
             0.8888888888888888,
             "#fdca26"
            ],
            [
             1,
             "#f0f921"
            ]
           ],
           "sequentialminus": [
            [
             0,
             "#0d0887"
            ],
            [
             0.1111111111111111,
             "#46039f"
            ],
            [
             0.2222222222222222,
             "#7201a8"
            ],
            [
             0.3333333333333333,
             "#9c179e"
            ],
            [
             0.4444444444444444,
             "#bd3786"
            ],
            [
             0.5555555555555556,
             "#d8576b"
            ],
            [
             0.6666666666666666,
             "#ed7953"
            ],
            [
             0.7777777777777778,
             "#fb9f3a"
            ],
            [
             0.8888888888888888,
             "#fdca26"
            ],
            [
             1,
             "#f0f921"
            ]
           ]
          },
          "colorway": [
           "#636efa",
           "#EF553B",
           "#00cc96",
           "#ab63fa",
           "#FFA15A",
           "#19d3f3",
           "#FF6692",
           "#B6E880",
           "#FF97FF",
           "#FECB52"
          ],
          "font": {
           "color": "#f2f5fa"
          },
          "geo": {
           "bgcolor": "rgb(17,17,17)",
           "lakecolor": "rgb(17,17,17)",
           "landcolor": "rgb(17,17,17)",
           "showlakes": true,
           "showland": true,
           "subunitcolor": "#506784"
          },
          "hoverlabel": {
           "align": "left"
          },
          "hovermode": "closest",
          "mapbox": {
           "style": "dark"
          },
          "paper_bgcolor": "rgb(17,17,17)",
          "plot_bgcolor": "rgb(17,17,17)",
          "polar": {
           "angularaxis": {
            "gridcolor": "#506784",
            "linecolor": "#506784",
            "ticks": ""
           },
           "bgcolor": "rgb(17,17,17)",
           "radialaxis": {
            "gridcolor": "#506784",
            "linecolor": "#506784",
            "ticks": ""
           }
          },
          "scene": {
           "xaxis": {
            "backgroundcolor": "rgb(17,17,17)",
            "gridcolor": "#506784",
            "gridwidth": 2,
            "linecolor": "#506784",
            "showbackground": true,
            "ticks": "",
            "zerolinecolor": "#C8D4E3"
           },
           "yaxis": {
            "backgroundcolor": "rgb(17,17,17)",
            "gridcolor": "#506784",
            "gridwidth": 2,
            "linecolor": "#506784",
            "showbackground": true,
            "ticks": "",
            "zerolinecolor": "#C8D4E3"
           },
           "zaxis": {
            "backgroundcolor": "rgb(17,17,17)",
            "gridcolor": "#506784",
            "gridwidth": 2,
            "linecolor": "#506784",
            "showbackground": true,
            "ticks": "",
            "zerolinecolor": "#C8D4E3"
           }
          },
          "shapedefaults": {
           "line": {
            "color": "#f2f5fa"
           }
          },
          "sliderdefaults": {
           "bgcolor": "#C8D4E3",
           "bordercolor": "rgb(17,17,17)",
           "borderwidth": 1,
           "tickwidth": 0
          },
          "ternary": {
           "aaxis": {
            "gridcolor": "#506784",
            "linecolor": "#506784",
            "ticks": ""
           },
           "baxis": {
            "gridcolor": "#506784",
            "linecolor": "#506784",
            "ticks": ""
           },
           "bgcolor": "rgb(17,17,17)",
           "caxis": {
            "gridcolor": "#506784",
            "linecolor": "#506784",
            "ticks": ""
           }
          },
          "title": {
           "x": 0.05
          },
          "updatemenudefaults": {
           "bgcolor": "#506784",
           "borderwidth": 0
          },
          "xaxis": {
           "automargin": true,
           "gridcolor": "#283442",
           "linecolor": "#506784",
           "ticks": "",
           "title": {
            "standoff": 15
           },
           "zerolinecolor": "#283442",
           "zerolinewidth": 2
          },
          "yaxis": {
           "automargin": true,
           "gridcolor": "#283442",
           "linecolor": "#506784",
           "ticks": "",
           "title": {
            "standoff": 15
           },
           "zerolinecolor": "#283442",
           "zerolinewidth": 2
          }
         }
        },
        "title": {
         "text": "Indirect link length"
        },
        "xaxis": {
         "title": {
          "text": "dris"
         }
        },
        "yaxis": {
         "title": {
          "text": "d1 + d2"
         }
        }
       }
      }
     },
     "metadata": {},
     "output_type": "display_data"
    },
    {
     "data": {
      "application/vnd.plotly.v1+json": {
       "config": {
        "plotlyServerURL": "https://plot.ly"
       },
       "data": [
        {
         "line": {
          "color": "blue",
          "width": 1
         },
         "marker": {
          "color": "red",
          "size": 4
         },
         "mode": "lines+markers",
         "name": "Line with Markers",
         "type": "scatter",
         "x": [
          0,
          5,
          10,
          15,
          20,
          25,
          30,
          35,
          40,
          45,
          50,
          55,
          60,
          65,
          70,
          75,
          80,
          85,
          90,
          95,
          100,
          105,
          110,
          115,
          120,
          125,
          130,
          135,
          140,
          145,
          150,
          155,
          160,
          165,
          170,
          175,
          180,
          185,
          190,
          195,
          200,
          205,
          210,
          215,
          220,
          225,
          230,
          235,
          240,
          245,
          250,
          255,
          260,
          265,
          270,
          275,
          280,
          285,
          290,
          295,
          300,
          305,
          310,
          315,
          320,
          325,
          330,
          335,
          340,
          345,
          350,
          355,
          360,
          365,
          370,
          375,
          380,
          385,
          390,
          395,
          400,
          405,
          410,
          415,
          420,
          425,
          430,
          435,
          440,
          445,
          450,
          455,
          460,
          465,
          470,
          475,
          480,
          485,
          490,
          495
         ],
         "y": [
          0.031458791128432854,
          0.0343732582301167,
          0.04518528983098647,
          0.0660721779497318,
          0.10027320418960242,
          0.1514629529443549,
          0.2232504674097549,
          0.31883451036762933,
          0.44079525210703097,
          0.5909895211187121,
          0.7705191220845471,
          0.979748156512851,
          1.2183515859309217,
          1.4853823678897207,
          1.779348321510392,
          2.098292665541228,
          2.4398741680706064,
          2.8014442632308283,
          3.1801194872838816,
          3.572848282957691,
          3.976471702695691,
          4.387777870353489,
          4.803550281090932,
          5.220610162463728,
          5.635853208711864,
          6.046281051224365,
          6.4490278527662905,
          6.841382419608172,
          7.220806220143329,
          7.584947685146061,
          7.93165314651111,
          8.25897475023121,
          8.565175656982861,
          8.84873282100991,
          9.108337615694303,
          9.342894552726863,
          9.551518321406258,
          9.733529355457211,
          9.88844811693608,
          10.01598827029803,
          10.11604890450766,
          10.188705947133569,
          10.234202901611194,
          10.252941027211888,
          10.245469070641995,
          10.212472648534037,
          10.154763371306169,
          10.073267790882399,
          9.969016247513226,
          9.843131684351338,
          9.69681849245618,
          9.531351443471532,
          9.348064762288276,
          9.148341387524153,
          8.933602463580817,
          8.705297104336854,
          8.464892465167814,
          8.213864156919685,
          7.953687032670442,
          7.685826375570034,
          7.411729513727365,
          7.132817885993403,
          6.850479580551392,
          6.566062366450849,
          6.280867236596243,
          5.996142479207086,
          5.713078293391765,
          5.432801963209193,
          5.156373603417807,
          4.884782489021114,
          4.618943979700013,
          4.359697049265881,
          4.107802429363566,
          3.8639413757902803,
          3.628715064963788,
          3.4026446272606576,
          3.1861718231405862,
          2.9796603671627118,
          2.7833979041709336,
          2.5975986410608627,
          2.422406636624112,
          2.2578997509760126,
          2.104094254988708,
          1.9609500989486406,
          1.8283768383097483,
          1.7062402128942222,
          1.5943693741744918,
          1.4925647533288577,
          1.4006065605797962,
          1.318263903889157,
          1.2453045124037465,
          1.181505047145297,
          1.126661978375482,
          1.080603005928832,
          1.043198995721901,
          1.0143764027820477,
          0.9941301486926458,
          0.9825369195412125,
          0.9797688494975934,
          0.9861075552243997
         ]
        }
       ],
       "layout": {
        "template": {
         "data": {
          "bar": [
           {
            "error_x": {
             "color": "#f2f5fa"
            },
            "error_y": {
             "color": "#f2f5fa"
            },
            "marker": {
             "line": {
              "color": "rgb(17,17,17)",
              "width": 0.5
             },
             "pattern": {
              "fillmode": "overlay",
              "size": 10,
              "solidity": 0.2
             }
            },
            "type": "bar"
           }
          ],
          "barpolar": [
           {
            "marker": {
             "line": {
              "color": "rgb(17,17,17)",
              "width": 0.5
             },
             "pattern": {
              "fillmode": "overlay",
              "size": 10,
              "solidity": 0.2
             }
            },
            "type": "barpolar"
           }
          ],
          "carpet": [
           {
            "aaxis": {
             "endlinecolor": "#A2B1C6",
             "gridcolor": "#506784",
             "linecolor": "#506784",
             "minorgridcolor": "#506784",
             "startlinecolor": "#A2B1C6"
            },
            "baxis": {
             "endlinecolor": "#A2B1C6",
             "gridcolor": "#506784",
             "linecolor": "#506784",
             "minorgridcolor": "#506784",
             "startlinecolor": "#A2B1C6"
            },
            "type": "carpet"
           }
          ],
          "choropleth": [
           {
            "colorbar": {
             "outlinewidth": 0,
             "ticks": ""
            },
            "type": "choropleth"
           }
          ],
          "contour": [
           {
            "colorbar": {
             "outlinewidth": 0,
             "ticks": ""
            },
            "colorscale": [
             [
              0,
              "#0d0887"
             ],
             [
              0.1111111111111111,
              "#46039f"
             ],
             [
              0.2222222222222222,
              "#7201a8"
             ],
             [
              0.3333333333333333,
              "#9c179e"
             ],
             [
              0.4444444444444444,
              "#bd3786"
             ],
             [
              0.5555555555555556,
              "#d8576b"
             ],
             [
              0.6666666666666666,
              "#ed7953"
             ],
             [
              0.7777777777777778,
              "#fb9f3a"
             ],
             [
              0.8888888888888888,
              "#fdca26"
             ],
             [
              1,
              "#f0f921"
             ]
            ],
            "type": "contour"
           }
          ],
          "contourcarpet": [
           {
            "colorbar": {
             "outlinewidth": 0,
             "ticks": ""
            },
            "type": "contourcarpet"
           }
          ],
          "heatmap": [
           {
            "colorbar": {
             "outlinewidth": 0,
             "ticks": ""
            },
            "colorscale": [
             [
              0,
              "#0d0887"
             ],
             [
              0.1111111111111111,
              "#46039f"
             ],
             [
              0.2222222222222222,
              "#7201a8"
             ],
             [
              0.3333333333333333,
              "#9c179e"
             ],
             [
              0.4444444444444444,
              "#bd3786"
             ],
             [
              0.5555555555555556,
              "#d8576b"
             ],
             [
              0.6666666666666666,
              "#ed7953"
             ],
             [
              0.7777777777777778,
              "#fb9f3a"
             ],
             [
              0.8888888888888888,
              "#fdca26"
             ],
             [
              1,
              "#f0f921"
             ]
            ],
            "type": "heatmap"
           }
          ],
          "histogram": [
           {
            "marker": {
             "pattern": {
              "fillmode": "overlay",
              "size": 10,
              "solidity": 0.2
             }
            },
            "type": "histogram"
           }
          ],
          "histogram2d": [
           {
            "colorbar": {
             "outlinewidth": 0,
             "ticks": ""
            },
            "colorscale": [
             [
              0,
              "#0d0887"
             ],
             [
              0.1111111111111111,
              "#46039f"
             ],
             [
              0.2222222222222222,
              "#7201a8"
             ],
             [
              0.3333333333333333,
              "#9c179e"
             ],
             [
              0.4444444444444444,
              "#bd3786"
             ],
             [
              0.5555555555555556,
              "#d8576b"
             ],
             [
              0.6666666666666666,
              "#ed7953"
             ],
             [
              0.7777777777777778,
              "#fb9f3a"
             ],
             [
              0.8888888888888888,
              "#fdca26"
             ],
             [
              1,
              "#f0f921"
             ]
            ],
            "type": "histogram2d"
           }
          ],
          "histogram2dcontour": [
           {
            "colorbar": {
             "outlinewidth": 0,
             "ticks": ""
            },
            "colorscale": [
             [
              0,
              "#0d0887"
             ],
             [
              0.1111111111111111,
              "#46039f"
             ],
             [
              0.2222222222222222,
              "#7201a8"
             ],
             [
              0.3333333333333333,
              "#9c179e"
             ],
             [
              0.4444444444444444,
              "#bd3786"
             ],
             [
              0.5555555555555556,
              "#d8576b"
             ],
             [
              0.6666666666666666,
              "#ed7953"
             ],
             [
              0.7777777777777778,
              "#fb9f3a"
             ],
             [
              0.8888888888888888,
              "#fdca26"
             ],
             [
              1,
              "#f0f921"
             ]
            ],
            "type": "histogram2dcontour"
           }
          ],
          "mesh3d": [
           {
            "colorbar": {
             "outlinewidth": 0,
             "ticks": ""
            },
            "type": "mesh3d"
           }
          ],
          "parcoords": [
           {
            "line": {
             "colorbar": {
              "outlinewidth": 0,
              "ticks": ""
             }
            },
            "type": "parcoords"
           }
          ],
          "pie": [
           {
            "automargin": true,
            "type": "pie"
           }
          ],
          "scatter": [
           {
            "marker": {
             "line": {
              "color": "#283442"
             }
            },
            "type": "scatter"
           }
          ],
          "scatter3d": [
           {
            "line": {
             "colorbar": {
              "outlinewidth": 0,
              "ticks": ""
             }
            },
            "marker": {
             "colorbar": {
              "outlinewidth": 0,
              "ticks": ""
             }
            },
            "type": "scatter3d"
           }
          ],
          "scattercarpet": [
           {
            "marker": {
             "colorbar": {
              "outlinewidth": 0,
              "ticks": ""
             }
            },
            "type": "scattercarpet"
           }
          ],
          "scattergeo": [
           {
            "marker": {
             "colorbar": {
              "outlinewidth": 0,
              "ticks": ""
             }
            },
            "type": "scattergeo"
           }
          ],
          "scattergl": [
           {
            "marker": {
             "line": {
              "color": "#283442"
             }
            },
            "type": "scattergl"
           }
          ],
          "scattermap": [
           {
            "marker": {
             "colorbar": {
              "outlinewidth": 0,
              "ticks": ""
             }
            },
            "type": "scattermap"
           }
          ],
          "scattermapbox": [
           {
            "marker": {
             "colorbar": {
              "outlinewidth": 0,
              "ticks": ""
             }
            },
            "type": "scattermapbox"
           }
          ],
          "scatterpolar": [
           {
            "marker": {
             "colorbar": {
              "outlinewidth": 0,
              "ticks": ""
             }
            },
            "type": "scatterpolar"
           }
          ],
          "scatterpolargl": [
           {
            "marker": {
             "colorbar": {
              "outlinewidth": 0,
              "ticks": ""
             }
            },
            "type": "scatterpolargl"
           }
          ],
          "scatterternary": [
           {
            "marker": {
             "colorbar": {
              "outlinewidth": 0,
              "ticks": ""
             }
            },
            "type": "scatterternary"
           }
          ],
          "surface": [
           {
            "colorbar": {
             "outlinewidth": 0,
             "ticks": ""
            },
            "colorscale": [
             [
              0,
              "#0d0887"
             ],
             [
              0.1111111111111111,
              "#46039f"
             ],
             [
              0.2222222222222222,
              "#7201a8"
             ],
             [
              0.3333333333333333,
              "#9c179e"
             ],
             [
              0.4444444444444444,
              "#bd3786"
             ],
             [
              0.5555555555555556,
              "#d8576b"
             ],
             [
              0.6666666666666666,
              "#ed7953"
             ],
             [
              0.7777777777777778,
              "#fb9f3a"
             ],
             [
              0.8888888888888888,
              "#fdca26"
             ],
             [
              1,
              "#f0f921"
             ]
            ],
            "type": "surface"
           }
          ],
          "table": [
           {
            "cells": {
             "fill": {
              "color": "#506784"
             },
             "line": {
              "color": "rgb(17,17,17)"
             }
            },
            "header": {
             "fill": {
              "color": "#2a3f5f"
             },
             "line": {
              "color": "rgb(17,17,17)"
             }
            },
            "type": "table"
           }
          ]
         },
         "layout": {
          "annotationdefaults": {
           "arrowcolor": "#f2f5fa",
           "arrowhead": 0,
           "arrowwidth": 1
          },
          "autotypenumbers": "strict",
          "coloraxis": {
           "colorbar": {
            "outlinewidth": 0,
            "ticks": ""
           }
          },
          "colorscale": {
           "diverging": [
            [
             0,
             "#8e0152"
            ],
            [
             0.1,
             "#c51b7d"
            ],
            [
             0.2,
             "#de77ae"
            ],
            [
             0.3,
             "#f1b6da"
            ],
            [
             0.4,
             "#fde0ef"
            ],
            [
             0.5,
             "#f7f7f7"
            ],
            [
             0.6,
             "#e6f5d0"
            ],
            [
             0.7,
             "#b8e186"
            ],
            [
             0.8,
             "#7fbc41"
            ],
            [
             0.9,
             "#4d9221"
            ],
            [
             1,
             "#276419"
            ]
           ],
           "sequential": [
            [
             0,
             "#0d0887"
            ],
            [
             0.1111111111111111,
             "#46039f"
            ],
            [
             0.2222222222222222,
             "#7201a8"
            ],
            [
             0.3333333333333333,
             "#9c179e"
            ],
            [
             0.4444444444444444,
             "#bd3786"
            ],
            [
             0.5555555555555556,
             "#d8576b"
            ],
            [
             0.6666666666666666,
             "#ed7953"
            ],
            [
             0.7777777777777778,
             "#fb9f3a"
            ],
            [
             0.8888888888888888,
             "#fdca26"
            ],
            [
             1,
             "#f0f921"
            ]
           ],
           "sequentialminus": [
            [
             0,
             "#0d0887"
            ],
            [
             0.1111111111111111,
             "#46039f"
            ],
            [
             0.2222222222222222,
             "#7201a8"
            ],
            [
             0.3333333333333333,
             "#9c179e"
            ],
            [
             0.4444444444444444,
             "#bd3786"
            ],
            [
             0.5555555555555556,
             "#d8576b"
            ],
            [
             0.6666666666666666,
             "#ed7953"
            ],
            [
             0.7777777777777778,
             "#fb9f3a"
            ],
            [
             0.8888888888888888,
             "#fdca26"
            ],
            [
             1,
             "#f0f921"
            ]
           ]
          },
          "colorway": [
           "#636efa",
           "#EF553B",
           "#00cc96",
           "#ab63fa",
           "#FFA15A",
           "#19d3f3",
           "#FF6692",
           "#B6E880",
           "#FF97FF",
           "#FECB52"
          ],
          "font": {
           "color": "#f2f5fa"
          },
          "geo": {
           "bgcolor": "rgb(17,17,17)",
           "lakecolor": "rgb(17,17,17)",
           "landcolor": "rgb(17,17,17)",
           "showlakes": true,
           "showland": true,
           "subunitcolor": "#506784"
          },
          "hoverlabel": {
           "align": "left"
          },
          "hovermode": "closest",
          "mapbox": {
           "style": "dark"
          },
          "paper_bgcolor": "rgb(17,17,17)",
          "plot_bgcolor": "rgb(17,17,17)",
          "polar": {
           "angularaxis": {
            "gridcolor": "#506784",
            "linecolor": "#506784",
            "ticks": ""
           },
           "bgcolor": "rgb(17,17,17)",
           "radialaxis": {
            "gridcolor": "#506784",
            "linecolor": "#506784",
            "ticks": ""
           }
          },
          "scene": {
           "xaxis": {
            "backgroundcolor": "rgb(17,17,17)",
            "gridcolor": "#506784",
            "gridwidth": 2,
            "linecolor": "#506784",
            "showbackground": true,
            "ticks": "",
            "zerolinecolor": "#C8D4E3"
           },
           "yaxis": {
            "backgroundcolor": "rgb(17,17,17)",
            "gridcolor": "#506784",
            "gridwidth": 2,
            "linecolor": "#506784",
            "showbackground": true,
            "ticks": "",
            "zerolinecolor": "#C8D4E3"
           },
           "zaxis": {
            "backgroundcolor": "rgb(17,17,17)",
            "gridcolor": "#506784",
            "gridwidth": 2,
            "linecolor": "#506784",
            "showbackground": true,
            "ticks": "",
            "zerolinecolor": "#C8D4E3"
           }
          },
          "shapedefaults": {
           "line": {
            "color": "#f2f5fa"
           }
          },
          "sliderdefaults": {
           "bgcolor": "#C8D4E3",
           "bordercolor": "rgb(17,17,17)",
           "borderwidth": 1,
           "tickwidth": 0
          },
          "ternary": {
           "aaxis": {
            "gridcolor": "#506784",
            "linecolor": "#506784",
            "ticks": ""
           },
           "baxis": {
            "gridcolor": "#506784",
            "linecolor": "#506784",
            "ticks": ""
           },
           "bgcolor": "rgb(17,17,17)",
           "caxis": {
            "gridcolor": "#506784",
            "linecolor": "#506784",
            "ticks": ""
           }
          },
          "title": {
           "x": 0.05
          },
          "updatemenudefaults": {
           "bgcolor": "#506784",
           "borderwidth": 0
          },
          "xaxis": {
           "automargin": true,
           "gridcolor": "#283442",
           "linecolor": "#506784",
           "ticks": "",
           "title": {
            "standoff": 15
           },
           "zerolinecolor": "#283442",
           "zerolinewidth": 2
          },
          "yaxis": {
           "automargin": true,
           "gridcolor": "#283442",
           "linecolor": "#506784",
           "ticks": "",
           "title": {
            "standoff": 15
           },
           "zerolinecolor": "#283442",
           "zerolinewidth": 2
          }
         }
        },
        "title": {
         "text": "Indirect link length"
        },
        "xaxis": {
         "title": {
          "text": "dris"
         }
        },
        "yaxis": {
         "title": {
          "text": "Total FSPL"
         }
        }
       }
      }
     },
     "metadata": {},
     "output_type": "display_data"
    }
   ],
   "source": [
    "# Indirect link lenght\n",
    "# Figure 2\n",
    "\n",
    "# a\n",
    "# Create the line plot\n",
    "fig1 = go.Figure(data=go.Scatter(\n",
    "    x=temp_dris_vector, \n",
    "    y=d1_plus_d2_vector, \n",
    "    mode='lines+markers',  # Line + Markers\n",
    "    marker=dict(size=4, color='red'),  # Marker style\n",
    "    line=dict(color='blue', width=1),  # Line style\n",
    "    name='Line with Markers'\n",
    "))\n",
    "\n",
    "# Add titles and labels\n",
    "fig1.update_layout(\n",
    "    title='Indirect link length',\n",
    "    xaxis_title='dris',\n",
    "    yaxis_title='d1 + d2',\n",
    "    template='plotly_dark',  # Optional: Dark theme, change if needed\n",
    ")\n",
    "\n",
    "# a\n",
    "# Create the line plot\n",
    "fig2 = go.Figure(data=go.Scatter(\n",
    "    x=temp_dris_vector, \n",
    "    y=total_FSPL_vector, \n",
    "    mode='lines+markers',  # Line + Markers\n",
    "    marker=dict(size=4, color='red'),  # Marker style\n",
    "    line=dict(color='blue', width=1),  # Line style\n",
    "    name='Line with Markers'\n",
    "))\n",
    "\n",
    "# Add titles and labels\n",
    "fig2.update_layout(\n",
    "    title='Indirect link length',\n",
    "    xaxis_title='dris',\n",
    "    yaxis_title='Total FSPL',\n",
    "    template='plotly_dark',  # Optional: Dark theme, change if needed\n",
    ")\n",
    "\n",
    "# Show the plot\n",
    "fig1.show()\n",
    "\n",
    "# T = total free space path loss\n",
    "# if T > 1 direct link is expected be stronger \n",
    "# if T < 1 te indirect with optimized RIS shift is stronger\n",
    "fig2.show()\n"
   ]
  },
  {
   "cell_type": "markdown",
   "metadata": {},
   "source": [
    "## Channel Model"
   ]
  },
  {
   "cell_type": "markdown",
   "metadata": {},
   "source": [
    "#### Distance matrices\n",
    "\n",
    "![Location setup](location.png)\n"
   ]
  },
  {
   "cell_type": "code",
   "execution_count": 9,
   "metadata": {},
   "outputs": [
    {
     "name": "stdout",
     "output_type": "stream",
     "text": [
      "\n",
      "tx x coordinates shape: (8,)\n",
      "tx y coordinates shape: (8,)\n",
      "tx z coordinates shape: (8,)\n",
      "\n",
      "rx x coordinates shape: (4,)\n",
      "rx y coordinates shape: (4,)\n",
      "rx z coordinates shape: (4,)\n",
      "\n",
      "ris x coordinates shape: (225,)\n",
      "ris y coordinates shape: (225,)\n",
      "ris z coordinates shape: (225,)\n",
      "\n",
      "\n"
     ]
    }
   ],
   "source": [
    "# Spacing between antennas (in meters)\n",
    "antenna_spacing = wavelength/2  \n",
    "\n",
    "######################################################################################################\n",
    "# Tx coordinates\n",
    "# x,y coordinates is zeros\n",
    "tx_antenna_x_coor = np.ones(Nt) * 0\n",
    "tx_antenna_y_coor = np.arange(Nt-1, -1, -1) * antenna_spacing + lt - ((Nt-1) * antenna_spacing)/2\n",
    "tx_antenna_z_coor = np.ones(Nt) * 0\n",
    "\n",
    "\n",
    "######################################################################################################\n",
    "# Rx coordinates\n",
    "# x coordinate is D\n",
    "# y coordinate is zeros\n",
    "rx_antenna_x_coor = np.ones(Nr) * D\n",
    "rx_antenna_y_coor = np.arange(Nr-1, -1, -1) * antenna_spacing + lr - ((Nr-1) * antenna_spacing)/2\n",
    "rx_antenna_z_coor = np.ones(Nr) * 0\n",
    "\n",
    "\n",
    "######################################################################################################\n",
    "# RIS coordinates\n",
    "# on x axis we have Na elements\n",
    "# on y axis we have Nb elements\n",
    "\n",
    "# RIS z coordinates are zero\n",
    "# RIS x coordinates \n",
    "col = np.arange(0, Na, 1).reshape(-1, 1)\n",
    "col = np.tile(col, Nb) * antenna_spacing + d_ris - ((Na-1) * antenna_spacing)/2\n",
    "ris_elements_x_coor = col.reshape(-1,)\n",
    "\n",
    "ris_elements_y_coor = np.ones(Na*Nb) * 0\n",
    "\n",
    "# RIS y coordinates \n",
    "col = np.arange(0, Nb, 1)\n",
    "col = np.tile(col, Na) * antenna_spacing - ((Nb-1) * antenna_spacing)/2\n",
    "ris_elements_z_coor = col.reshape(-1,)\n",
    "\n",
    "\n",
    "\n",
    "print(f\"\"\"\n",
    "tx x coordinates shape: {tx_antenna_x_coor.shape}\n",
    "tx y coordinates shape: {tx_antenna_y_coor.shape}\n",
    "tx z coordinates shape: {tx_antenna_z_coor.shape}\n",
    "\n",
    "rx x coordinates shape: {rx_antenna_x_coor.shape}\n",
    "rx y coordinates shape: {rx_antenna_y_coor.shape}\n",
    "rx z coordinates shape: {rx_antenna_z_coor.shape}\n",
    "\n",
    "ris x coordinates shape: {ris_elements_x_coor.shape}\n",
    "ris y coordinates shape: {ris_elements_y_coor.shape}\n",
    "ris z coordinates shape: {ris_elements_z_coor.shape}\n",
    "\n",
    "\"\"\")\n"
   ]
  },
  {
   "cell_type": "code",
   "execution_count": 10,
   "metadata": {},
   "outputs": [
    {
     "data": {
      "application/vnd.plotly.v1+json": {
       "config": {
        "plotlyServerURL": "https://plot.ly"
       },
       "data": [
        {
         "marker": {
          "color": "red",
          "size": 5
         },
         "mode": "markers",
         "name": "Tx",
         "type": "scatter3d",
         "x": {
          "bdata": "AAAAAAAAAAAAAAAAAAAAAAAAAAAAAAAAAAAAAAAAAAAAAAAAAAAAAAAAAAAAAAAAAAAAAAAAAAAAAAAAAAAAAA==",
          "dtype": "f8"
         },
         "y": {
          "bdata": "MzMzMzNDNEAAAAAAADA0QM3MzMzMHDRAmpmZmZkJNEBnZmZmZvYzQDMzMzMz4zNAAAAAAADQM0DNzMzMzLwzQA==",
          "dtype": "f8"
         },
         "z": {
          "bdata": "AAAAAAAAAAAAAAAAAAAAAAAAAAAAAAAAAAAAAAAAAAAAAAAAAAAAAAAAAAAAAAAAAAAAAAAAAAAAAAAAAAAAAA==",
          "dtype": "f8"
         }
        },
        {
         "marker": {
          "color": "green",
          "size": 5
         },
         "mode": "markers",
         "name": "Rx",
         "type": "scatter3d",
         "x": {
          "bdata": "AAAAAABAf0AAAAAAAEB/QAAAAAAAQH9AAAAAAABAf0A=",
          "dtype": "f8"
         },
         "y": {
          "bdata": "MzMzMzMHWUBnZmZmZgJZQJqZmZmZ/VhAzczMzMz4WEA=",
          "dtype": "f8"
         },
         "z": {
          "bdata": "AAAAAAAAAAAAAAAAAAAAAAAAAAAAAAAAAAAAAAAAAAA=",
          "dtype": "f8"
         }
        },
        {
         "marker": {
          "color": "blue",
          "size": 5
         },
         "mode": "markers",
         "name": "RIS",
         "type": "scatter3d",
         "x": {
          "bdata": "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",
          "dtype": "f8"
         },
         "y": {
          "bdata": "AAAAAAAAAAAAAAAAAAAAAAAAAAAAAAAAAAAAAAAAAAAAAAAAAAAAAAAAAAAAAAAAAAAAAAAAAAAAAAAAAAAAAAAAAAAAAAAAAAAAAAAAAAAAAAAAAAAAAAAAAAAAAAAAAAAAAAAAAAAAAAAAAAAAAAAAAAAAAAAAAAAAAAAAAAAAAAAAAAAAAAAAAAAAAAAAAAAAAAAAAAAAAAAAAAAAAAAAAAAAAAAAAAAAAAAAAAAAAAAAAAAAAAAAAAAAAAAAAAAAAAAAAAAAAAAAAAAAAAAAAAAAAAAAAAAAAAAAAAAAAAAAAAAAAAAAAAAAAAAAAAAAAAAAAAAAAAAAAAAAAAAAAAAAAAAAAAAAAAAAAAAAAAAAAAAAAAAAAAAAAAAAAAAAAAAAAAAAAAAAAAAAAAAAAAAAAAAAAAAAAAAAAAAAAAAAAAAAAAAAAAAAAAAAAAAAAAAAAAAAAAAAAAAAAAAAAAAAAAAAAAAAAAAAAAAAAAAAAAAAAAAAAAAAAAAAAAAAAAAAAAAAAAAAAAAAAAAAAAAAAAAAAAAAAAAAAAAAAAAAAAAAAAAAAAAAAAAAAAAAAAAAAAAAAAAAAAAAAAAAAAAAAAAAAAAAAAAAAAAAAAAAAAAAAAAAAAAAAAAAAAAAAAAAAAAAAAAAAAAAAAAAAAAAAAAAAAAAAAAAAAAAAAAAAAAAAAAAAAAAAAAAAAAAAAAAAAAAAAAAAAAAAAAAAAAAAAAAAAAAAAAAAAAAAAAAAAAAAAAAAAAAAAAAAAAAAAAAAAAAAAAAAAAAAAAAAAAAAAAAAAAAAAAAAAAAAAAAAAAAAAAAAAAAAAAAAAAAAAAAAAAAAAAAAAAAAAAAAAAAAAAAAAAAAAAAAAAAAAAAAAAAAAAAAAAAAAAAAAAAAAAAAAAAAAAAAAAAAAAAAAAAAAAAAAAAAAAAAAAAAAAAAAAAAAAAAAAAAAAAAAAAAAAAAAAAAAAAAAAAAAAAAAAAAAAAAAAAAAAAAAAAAAAAAAAAAAAAAAAAAAAAAAAAAAAAAAAAAAAAAAAAAAAAAAAAAAAAAAAAAAAAAAAAAAAAAAAAAAAAAAAAAAAAAAAAAAAAAAAAAAAAAAAAAAAAAAAAAAAAAAAAAAAAAAAAAAAAAAAAAAAAAAAAAAAAAAAAAAAAAAAAAAAAAAAAAAAAAAAAAAAAAAAAAAAAAAAAAAAAAAAAAAAAAAAAAAAAAAAAAAAAAAAAAAAAAAAAAAAAAAAAAAAAAAAAAAAAAAAAAAAAAAAAAAAAAAAAAAAAAAAAAAAAAAAAAAAAAAAAAAAAAAAAAAAAAAAAAAAAAAAAAAAAAAAAAAAAAAAAAAAAAAAAAAAAAAAAAAAAAAAAAAAAAAAAAAAAAAAAAAAAAAAAAAAAAAAAAAAAAAAAAAAAAAAAAAAAAAAAAAAAAAAAAAAAAAAAAAAAAAAAAAAAAAAAAAAAAAAAAAAAAAAAAAAAAAAAAAAAAAAAAAAAAAAAAAAAAAAAAAAAAAAAAAAAAAAAAAAAAAAAAAAAAAAAAAAAAAAAAAAAAAAAAAAAAAAAAAAAAAAAAAAAAAAAAAAAAAAAAAAAAAAAAAAAAAAAAAAAAAAAAAAAAAAAAAAAAAAAAAAAAAAAAAAAAAAAAAAAAAAAAAAAAAAAAAAAAAAAAAAAAAAAAAAAAAAAAAAAAAAAAAAAAAAAAAAAAAAAAAAAAAAAAAAAAAAAAAAAAAAAAAAAAAAAAAAAAAAAAAAAAAAAAAAAAAAAAAAAAAAAAAAAAAAAAAAAAAAAAAAAAAAAAAAAAAAAAAAAAAAAAAAAAAAAAAAAAAAAAAAAAAAAAAAAAAAAAAAAAAAAAAAAAAAAAAAAAAAAAAAAAAAAAAAAAAAAAAAAAAAAAAAAAAAAAAAAAAAAAAAAAAAAAAAAAAAAAAAAAAAAAAAAAAAAAAAAAAAAAAAAAAAAAAAAAAAAAAAAAAAAAAAAAAAAAAAAAAAAAAAAAAAAAAAAAAAAAAAAAAAAAAAAAAAAAAAAAAAAAAAAAAAAAAAAAAAAAAAAAAAAAAAAAAAAAAAAAAAAAAAAAAAAAAAAAAAAAAAAAAAAAAAAAAAAAAAAAAAAAAAAAAAAAAAAAAAAAAAAAAAAAAAAAAAAAAAAAAAAAAAAAAAAAAAAAAAAAAAAAAAAAAAAAAAAAAAAAAAAAAAAAAAAAAAAAAAAAAAAAAAAAAAAAAAAAAAAAAAAAAAAAAAAAAAAAAAAAAAAAAAAAAAAAAAAAAAAAAAAAAAAAAAAAAAAAAAAAAAAAAAAAAAAAAAAAAAAAAAAAAAAAAAAAAAAAAAAAAAAAAAAAAAAAAAAAAAAAAAAAAAAAAAAAAAAAAAAAAAAAAAAAAAAAAAAAAAAAAAAAAAAAAAAAAAAAAAAAAAA",
          "dtype": "f8"
         },
         "z": {
          "bdata": "zczMzMzM4L/NzMzMzMzcvwAAAAAAANi/NDMzMzMz07/OzMzMzMzMvzQzMzMzM8O/ODMzMzMzs78AAAAAAAAAADAzMzMzM7M/MDMzMzMzwz/MzMzMzMzMPzIzMzMzM9M//v//////1z/MzMzMzMzcP83MzMzMzOA/zczMzMzM4L/NzMzMzMzcvwAAAAAAANi/NDMzMzMz07/OzMzMzMzMvzQzMzMzM8O/ODMzMzMzs78AAAAAAAAAADAzMzMzM7M/MDMzMzMzwz/MzMzMzMzMPzIzMzMzM9M//v//////1z/MzMzMzMzcP83MzMzMzOA/zczMzMzM4L/NzMzMzMzcvwAAAAAAANi/NDMzMzMz07/OzMzMzMzMvzQzMzMzM8O/ODMzMzMzs78AAAAAAAAAADAzMzMzM7M/MDMzMzMzwz/MzMzMzMzMPzIzMzMzM9M//v//////1z/MzMzMzMzcP83MzMzMzOA/zczMzMzM4L/NzMzMzMzcvwAAAAAAANi/NDMzMzMz07/OzMzMzMzMvzQzMzMzM8O/ODMzMzMzs78AAAAAAAAAADAzMzMzM7M/MDMzMzMzwz/MzMzMzMzMPzIzMzMzM9M//v//////1z/MzMzMzMzcP83MzMzMzOA/zczMzMzM4L/NzMzMzMzcvwAAAAAAANi/NDMzMzMz07/OzMzMzMzMvzQzMzMzM8O/ODMzMzMzs78AAAAAAAAAADAzMzMzM7M/MDMzMzMzwz/MzMzMzMzMPzIzMzMzM9M//v//////1z/MzMzMzMzcP83MzMzMzOA/zczMzMzM4L/NzMzMzMzcvwAAAAAAANi/NDMzMzMz07/OzMzMzMzMvzQzMzMzM8O/ODMzMzMzs78AAAAAAAAAADAzMzMzM7M/MDMzMzMzwz/MzMzMzMzMPzIzMzMzM9M//v//////1z/MzMzMzMzcP83MzMzMzOA/zczMzMzM4L/NzMzMzMzcvwAAAAAAANi/NDMzMzMz07/OzMzMzMzMvzQzMzMzM8O/ODMzMzMzs78AAAAAAAAAADAzMzMzM7M/MDMzMzMzwz/MzMzMzMzMPzIzMzMzM9M//v//////1z/MzMzMzMzcP83MzMzMzOA/zczMzMzM4L/NzMzMzMzcvwAAAAAAANi/NDMzMzMz07/OzMzMzMzMvzQzMzMzM8O/ODMzMzMzs78AAAAAAAAAADAzMzMzM7M/MDMzMzMzwz/MzMzMzMzMPzIzMzMzM9M//v//////1z/MzMzMzMzcP83MzMzMzOA/zczMzMzM4L/NzMzMzMzcvwAAAAAAANi/NDMzMzMz07/OzMzMzMzMvzQzMzMzM8O/ODMzMzMzs78AAAAAAAAAADAzMzMzM7M/MDMzMzMzwz/MzMzMzMzMPzIzMzMzM9M//v//////1z/MzMzMzMzcP83MzMzMzOA/zczMzMzM4L/NzMzMzMzcvwAAAAAAANi/NDMzMzMz07/OzMzMzMzMvzQzMzMzM8O/ODMzMzMzs78AAAAAAAAAADAzMzMzM7M/MDMzMzMzwz/MzMzMzMzMPzIzMzMzM9M//v//////1z/MzMzMzMzcP83MzMzMzOA/zczMzMzM4L/NzMzMzMzcvwAAAAAAANi/NDMzMzMz07/OzMzMzMzMvzQzMzMzM8O/ODMzMzMzs78AAAAAAAAAADAzMzMzM7M/MDMzMzMzwz/MzMzMzMzMPzIzMzMzM9M//v//////1z/MzMzMzMzcP83MzMzMzOA/zczMzMzM4L/NzMzMzMzcvwAAAAAAANi/NDMzMzMz07/OzMzMzMzMvzQzMzMzM8O/ODMzMzMzs78AAAAAAAAAADAzMzMzM7M/MDMzMzMzwz/MzMzMzMzMPzIzMzMzM9M//v//////1z/MzMzMzMzcP83MzMzMzOA/zczMzMzM4L/NzMzMzMzcvwAAAAAAANi/NDMzMzMz07/OzMzMzMzMvzQzMzMzM8O/ODMzMzMzs78AAAAAAAAAADAzMzMzM7M/MDMzMzMzwz/MzMzMzMzMPzIzMzMzM9M//v//////1z/MzMzMzMzcP83MzMzMzOA/zczMzMzM4L/NzMzMzMzcvwAAAAAAANi/NDMzMzMz07/OzMzMzMzMvzQzMzMzM8O/ODMzMzMzs78AAAAAAAAAADAzMzMzM7M/MDMzMzMzwz/MzMzMzMzMPzIzMzMzM9M//v//////1z/MzMzMzMzcP83MzMzMzOA/zczMzMzM4L/NzMzMzMzcvwAAAAAAANi/NDMzMzMz07/OzMzMzMzMvzQzMzMzM8O/ODMzMzMzs78AAAAAAAAAADAzMzMzM7M/MDMzMzMzwz/MzMzMzMzMPzIzMzMzM9M//v//////1z/MzMzMzMzcP83MzMzMzOA/",
          "dtype": "f8"
         }
        }
       ],
       "layout": {
        "scene": {
         "xaxis": {
          "title": {
           "text": "X-axis"
          }
         },
         "yaxis": {
          "title": {
           "text": "Y-axis"
          }
         },
         "zaxis": {
          "title": {
           "text": "Z-axis"
          }
         }
        },
        "template": {
         "data": {
          "bar": [
           {
            "error_x": {
             "color": "#2a3f5f"
            },
            "error_y": {
             "color": "#2a3f5f"
            },
            "marker": {
             "line": {
              "color": "#E5ECF6",
              "width": 0.5
             },
             "pattern": {
              "fillmode": "overlay",
              "size": 10,
              "solidity": 0.2
             }
            },
            "type": "bar"
           }
          ],
          "barpolar": [
           {
            "marker": {
             "line": {
              "color": "#E5ECF6",
              "width": 0.5
             },
             "pattern": {
              "fillmode": "overlay",
              "size": 10,
              "solidity": 0.2
             }
            },
            "type": "barpolar"
           }
          ],
          "carpet": [
           {
            "aaxis": {
             "endlinecolor": "#2a3f5f",
             "gridcolor": "white",
             "linecolor": "white",
             "minorgridcolor": "white",
             "startlinecolor": "#2a3f5f"
            },
            "baxis": {
             "endlinecolor": "#2a3f5f",
             "gridcolor": "white",
             "linecolor": "white",
             "minorgridcolor": "white",
             "startlinecolor": "#2a3f5f"
            },
            "type": "carpet"
           }
          ],
          "choropleth": [
           {
            "colorbar": {
             "outlinewidth": 0,
             "ticks": ""
            },
            "type": "choropleth"
           }
          ],
          "contour": [
           {
            "colorbar": {
             "outlinewidth": 0,
             "ticks": ""
            },
            "colorscale": [
             [
              0,
              "#0d0887"
             ],
             [
              0.1111111111111111,
              "#46039f"
             ],
             [
              0.2222222222222222,
              "#7201a8"
             ],
             [
              0.3333333333333333,
              "#9c179e"
             ],
             [
              0.4444444444444444,
              "#bd3786"
             ],
             [
              0.5555555555555556,
              "#d8576b"
             ],
             [
              0.6666666666666666,
              "#ed7953"
             ],
             [
              0.7777777777777778,
              "#fb9f3a"
             ],
             [
              0.8888888888888888,
              "#fdca26"
             ],
             [
              1,
              "#f0f921"
             ]
            ],
            "type": "contour"
           }
          ],
          "contourcarpet": [
           {
            "colorbar": {
             "outlinewidth": 0,
             "ticks": ""
            },
            "type": "contourcarpet"
           }
          ],
          "heatmap": [
           {
            "colorbar": {
             "outlinewidth": 0,
             "ticks": ""
            },
            "colorscale": [
             [
              0,
              "#0d0887"
             ],
             [
              0.1111111111111111,
              "#46039f"
             ],
             [
              0.2222222222222222,
              "#7201a8"
             ],
             [
              0.3333333333333333,
              "#9c179e"
             ],
             [
              0.4444444444444444,
              "#bd3786"
             ],
             [
              0.5555555555555556,
              "#d8576b"
             ],
             [
              0.6666666666666666,
              "#ed7953"
             ],
             [
              0.7777777777777778,
              "#fb9f3a"
             ],
             [
              0.8888888888888888,
              "#fdca26"
             ],
             [
              1,
              "#f0f921"
             ]
            ],
            "type": "heatmap"
           }
          ],
          "histogram": [
           {
            "marker": {
             "pattern": {
              "fillmode": "overlay",
              "size": 10,
              "solidity": 0.2
             }
            },
            "type": "histogram"
           }
          ],
          "histogram2d": [
           {
            "colorbar": {
             "outlinewidth": 0,
             "ticks": ""
            },
            "colorscale": [
             [
              0,
              "#0d0887"
             ],
             [
              0.1111111111111111,
              "#46039f"
             ],
             [
              0.2222222222222222,
              "#7201a8"
             ],
             [
              0.3333333333333333,
              "#9c179e"
             ],
             [
              0.4444444444444444,
              "#bd3786"
             ],
             [
              0.5555555555555556,
              "#d8576b"
             ],
             [
              0.6666666666666666,
              "#ed7953"
             ],
             [
              0.7777777777777778,
              "#fb9f3a"
             ],
             [
              0.8888888888888888,
              "#fdca26"
             ],
             [
              1,
              "#f0f921"
             ]
            ],
            "type": "histogram2d"
           }
          ],
          "histogram2dcontour": [
           {
            "colorbar": {
             "outlinewidth": 0,
             "ticks": ""
            },
            "colorscale": [
             [
              0,
              "#0d0887"
             ],
             [
              0.1111111111111111,
              "#46039f"
             ],
             [
              0.2222222222222222,
              "#7201a8"
             ],
             [
              0.3333333333333333,
              "#9c179e"
             ],
             [
              0.4444444444444444,
              "#bd3786"
             ],
             [
              0.5555555555555556,
              "#d8576b"
             ],
             [
              0.6666666666666666,
              "#ed7953"
             ],
             [
              0.7777777777777778,
              "#fb9f3a"
             ],
             [
              0.8888888888888888,
              "#fdca26"
             ],
             [
              1,
              "#f0f921"
             ]
            ],
            "type": "histogram2dcontour"
           }
          ],
          "mesh3d": [
           {
            "colorbar": {
             "outlinewidth": 0,
             "ticks": ""
            },
            "type": "mesh3d"
           }
          ],
          "parcoords": [
           {
            "line": {
             "colorbar": {
              "outlinewidth": 0,
              "ticks": ""
             }
            },
            "type": "parcoords"
           }
          ],
          "pie": [
           {
            "automargin": true,
            "type": "pie"
           }
          ],
          "scatter": [
           {
            "fillpattern": {
             "fillmode": "overlay",
             "size": 10,
             "solidity": 0.2
            },
            "type": "scatter"
           }
          ],
          "scatter3d": [
           {
            "line": {
             "colorbar": {
              "outlinewidth": 0,
              "ticks": ""
             }
            },
            "marker": {
             "colorbar": {
              "outlinewidth": 0,
              "ticks": ""
             }
            },
            "type": "scatter3d"
           }
          ],
          "scattercarpet": [
           {
            "marker": {
             "colorbar": {
              "outlinewidth": 0,
              "ticks": ""
             }
            },
            "type": "scattercarpet"
           }
          ],
          "scattergeo": [
           {
            "marker": {
             "colorbar": {
              "outlinewidth": 0,
              "ticks": ""
             }
            },
            "type": "scattergeo"
           }
          ],
          "scattergl": [
           {
            "marker": {
             "colorbar": {
              "outlinewidth": 0,
              "ticks": ""
             }
            },
            "type": "scattergl"
           }
          ],
          "scattermap": [
           {
            "marker": {
             "colorbar": {
              "outlinewidth": 0,
              "ticks": ""
             }
            },
            "type": "scattermap"
           }
          ],
          "scattermapbox": [
           {
            "marker": {
             "colorbar": {
              "outlinewidth": 0,
              "ticks": ""
             }
            },
            "type": "scattermapbox"
           }
          ],
          "scatterpolar": [
           {
            "marker": {
             "colorbar": {
              "outlinewidth": 0,
              "ticks": ""
             }
            },
            "type": "scatterpolar"
           }
          ],
          "scatterpolargl": [
           {
            "marker": {
             "colorbar": {
              "outlinewidth": 0,
              "ticks": ""
             }
            },
            "type": "scatterpolargl"
           }
          ],
          "scatterternary": [
           {
            "marker": {
             "colorbar": {
              "outlinewidth": 0,
              "ticks": ""
             }
            },
            "type": "scatterternary"
           }
          ],
          "surface": [
           {
            "colorbar": {
             "outlinewidth": 0,
             "ticks": ""
            },
            "colorscale": [
             [
              0,
              "#0d0887"
             ],
             [
              0.1111111111111111,
              "#46039f"
             ],
             [
              0.2222222222222222,
              "#7201a8"
             ],
             [
              0.3333333333333333,
              "#9c179e"
             ],
             [
              0.4444444444444444,
              "#bd3786"
             ],
             [
              0.5555555555555556,
              "#d8576b"
             ],
             [
              0.6666666666666666,
              "#ed7953"
             ],
             [
              0.7777777777777778,
              "#fb9f3a"
             ],
             [
              0.8888888888888888,
              "#fdca26"
             ],
             [
              1,
              "#f0f921"
             ]
            ],
            "type": "surface"
           }
          ],
          "table": [
           {
            "cells": {
             "fill": {
              "color": "#EBF0F8"
             },
             "line": {
              "color": "white"
             }
            },
            "header": {
             "fill": {
              "color": "#C8D4E3"
             },
             "line": {
              "color": "white"
             }
            },
            "type": "table"
           }
          ]
         },
         "layout": {
          "annotationdefaults": {
           "arrowcolor": "#2a3f5f",
           "arrowhead": 0,
           "arrowwidth": 1
          },
          "autotypenumbers": "strict",
          "coloraxis": {
           "colorbar": {
            "outlinewidth": 0,
            "ticks": ""
           }
          },
          "colorscale": {
           "diverging": [
            [
             0,
             "#8e0152"
            ],
            [
             0.1,
             "#c51b7d"
            ],
            [
             0.2,
             "#de77ae"
            ],
            [
             0.3,
             "#f1b6da"
            ],
            [
             0.4,
             "#fde0ef"
            ],
            [
             0.5,
             "#f7f7f7"
            ],
            [
             0.6,
             "#e6f5d0"
            ],
            [
             0.7,
             "#b8e186"
            ],
            [
             0.8,
             "#7fbc41"
            ],
            [
             0.9,
             "#4d9221"
            ],
            [
             1,
             "#276419"
            ]
           ],
           "sequential": [
            [
             0,
             "#0d0887"
            ],
            [
             0.1111111111111111,
             "#46039f"
            ],
            [
             0.2222222222222222,
             "#7201a8"
            ],
            [
             0.3333333333333333,
             "#9c179e"
            ],
            [
             0.4444444444444444,
             "#bd3786"
            ],
            [
             0.5555555555555556,
             "#d8576b"
            ],
            [
             0.6666666666666666,
             "#ed7953"
            ],
            [
             0.7777777777777778,
             "#fb9f3a"
            ],
            [
             0.8888888888888888,
             "#fdca26"
            ],
            [
             1,
             "#f0f921"
            ]
           ],
           "sequentialminus": [
            [
             0,
             "#0d0887"
            ],
            [
             0.1111111111111111,
             "#46039f"
            ],
            [
             0.2222222222222222,
             "#7201a8"
            ],
            [
             0.3333333333333333,
             "#9c179e"
            ],
            [
             0.4444444444444444,
             "#bd3786"
            ],
            [
             0.5555555555555556,
             "#d8576b"
            ],
            [
             0.6666666666666666,
             "#ed7953"
            ],
            [
             0.7777777777777778,
             "#fb9f3a"
            ],
            [
             0.8888888888888888,
             "#fdca26"
            ],
            [
             1,
             "#f0f921"
            ]
           ]
          },
          "colorway": [
           "#636efa",
           "#EF553B",
           "#00cc96",
           "#ab63fa",
           "#FFA15A",
           "#19d3f3",
           "#FF6692",
           "#B6E880",
           "#FF97FF",
           "#FECB52"
          ],
          "font": {
           "color": "#2a3f5f"
          },
          "geo": {
           "bgcolor": "white",
           "lakecolor": "white",
           "landcolor": "#E5ECF6",
           "showlakes": true,
           "showland": true,
           "subunitcolor": "white"
          },
          "hoverlabel": {
           "align": "left"
          },
          "hovermode": "closest",
          "mapbox": {
           "style": "light"
          },
          "paper_bgcolor": "white",
          "plot_bgcolor": "#E5ECF6",
          "polar": {
           "angularaxis": {
            "gridcolor": "white",
            "linecolor": "white",
            "ticks": ""
           },
           "bgcolor": "#E5ECF6",
           "radialaxis": {
            "gridcolor": "white",
            "linecolor": "white",
            "ticks": ""
           }
          },
          "scene": {
           "xaxis": {
            "backgroundcolor": "#E5ECF6",
            "gridcolor": "white",
            "gridwidth": 2,
            "linecolor": "white",
            "showbackground": true,
            "ticks": "",
            "zerolinecolor": "white"
           },
           "yaxis": {
            "backgroundcolor": "#E5ECF6",
            "gridcolor": "white",
            "gridwidth": 2,
            "linecolor": "white",
            "showbackground": true,
            "ticks": "",
            "zerolinecolor": "white"
           },
           "zaxis": {
            "backgroundcolor": "#E5ECF6",
            "gridcolor": "white",
            "gridwidth": 2,
            "linecolor": "white",
            "showbackground": true,
            "ticks": "",
            "zerolinecolor": "white"
           }
          },
          "shapedefaults": {
           "line": {
            "color": "#2a3f5f"
           }
          },
          "ternary": {
           "aaxis": {
            "gridcolor": "white",
            "linecolor": "white",
            "ticks": ""
           },
           "baxis": {
            "gridcolor": "white",
            "linecolor": "white",
            "ticks": ""
           },
           "bgcolor": "#E5ECF6",
           "caxis": {
            "gridcolor": "white",
            "linecolor": "white",
            "ticks": ""
           }
          },
          "title": {
           "x": 0.05
          },
          "xaxis": {
           "automargin": true,
           "gridcolor": "white",
           "linecolor": "white",
           "ticks": "",
           "title": {
            "standoff": 15
           },
           "zerolinecolor": "white",
           "zerolinewidth": 2
          },
          "yaxis": {
           "automargin": true,
           "gridcolor": "white",
           "linecolor": "white",
           "ticks": "",
           "title": {
            "standoff": 15
           },
           "zerolinecolor": "white",
           "zerolinewidth": 2
          }
         }
        },
        "title": {
         "text": "3D Plot of Multiple Variables"
        }
       }
      }
     },
     "metadata": {},
     "output_type": "display_data"
    }
   ],
   "source": [
    "# Create traces for each variable\n",
    "trace1 = go.Scatter3d(x=tx_antenna_x_coor, y=tx_antenna_y_coor, z=tx_antenna_z_coor, mode='markers', marker=dict(size=5, color='red'), name='Tx')\n",
    "trace2 = go.Scatter3d(x=rx_antenna_x_coor, y=rx_antenna_y_coor, z=rx_antenna_z_coor, mode='markers', marker=dict(size=5, color='green'), name='Rx')\n",
    "trace3 = go.Scatter3d(x=ris_elements_x_coor, y=ris_elements_y_coor, z=ris_elements_z_coor, mode='markers', marker=dict(size=5, color='blue'), name='RIS')\n",
    "\n",
    "# Create the figure\n",
    "fig = go.Figure(data=[trace1, trace2, trace3])\n",
    "\n",
    "# Add axis labels\n",
    "fig.update_layout(\n",
    "    title='3D Plot of Multiple Variables',\n",
    "    scene=dict(\n",
    "        xaxis_title='X-axis',\n",
    "        yaxis_title='Y-axis',\n",
    "        zaxis_title='Z-axis'\n",
    "    )\n",
    ")\n",
    "\n",
    "# Show the plot\n",
    "fig.show()\n"
   ]
  },
  {
   "cell_type": "code",
   "execution_count": 11,
   "metadata": {},
   "outputs": [
    {
     "name": "stdout",
     "output_type": "stream",
     "text": [
      "(4, 8)\n",
      "(225, 8)\n",
      "(4, 225)\n"
     ]
    }
   ],
   "source": [
    "# Caluating distance vectors to be used in calulating path losses\n",
    "# generate N1xN2 size distance matrix\n",
    "# i,j elements refer to distance between ith element in mat1 and jth element in mat2\n",
    "def GenDistanceMatrix(N1, N2, mat1_x, mat1_y, mat1_z, mat2_x, mat2_y, mat2_z):\n",
    "    distance_matrix = np.zeros((N1, N2))\n",
    "\n",
    "    for n1 in range(N1):\n",
    "        for n2 in range(N2):\n",
    "            distance_matrix[n1,n2] = np.sqrt(\n",
    "                (mat1_x[n1] - mat2_x[n2]) ** 2 +\n",
    "                (mat1_y[n1] - mat2_y[n2]) ** 2 +\n",
    "                (mat1_z[n1] - mat2_z[n2]) ** 2 \n",
    "            )\n",
    "\n",
    "    return distance_matrix\n",
    "\n",
    "# Rx and Tx\n",
    "distance_r_t = GenDistanceMatrix(Nr, Nt, \n",
    "    rx_antenna_x_coor, rx_antenna_y_coor, rx_antenna_z_coor,\n",
    "    tx_antenna_x_coor, tx_antenna_y_coor, tx_antenna_z_coor\n",
    ")\n",
    "\n",
    "# Ris and Tx\n",
    "distance_ris_t = GenDistanceMatrix(N_ris, Nt, \n",
    "    ris_elements_x_coor, ris_elements_y_coor, ris_elements_z_coor,\n",
    "    tx_antenna_x_coor, tx_antenna_y_coor, tx_antenna_z_coor\n",
    ")\n",
    "\n",
    "# RIS and Rx\n",
    "distance_r_ris = GenDistanceMatrix(Nr, N_ris, \n",
    "    rx_antenna_x_coor, rx_antenna_y_coor, rx_antenna_z_coor,\n",
    "    ris_elements_x_coor, ris_elements_y_coor, ris_elements_z_coor\n",
    ")\n",
    "\n",
    "print(distance_r_t.shape)\n",
    "print(distance_ris_t.shape)\n",
    "print(distance_r_ris.shape)\n",
    "\n"
   ]
  },
  {
   "cell_type": "code",
   "execution_count": 12,
   "metadata": {},
   "outputs": [],
   "source": [
    "# alpha\n",
    "# Free space pathloss exponent of the direct/indirect link, whose value is influenced by the obstacle present.\n",
    "def GenHLOS(distance_matrix, wavelength):\n",
    "    return np.exp(-1j * 2 * np.pi * distance_matrix / wavelength)\n",
    "\n",
    "\n",
    "# N1, N2 is dimensions of distance matrix used to generate HLOS\n",
    "def GenHNOLOS(N1, N2, varaince = 1):\n",
    "    real_part = np.random.normal(0, np.sqrt(varaince/2), (N1, N2))\n",
    "    imag_part = np.random.normal(0, np.sqrt(varaince/2), (N1, N2))\n",
    "\n",
    "    return (real_part + 1j * imag_part)\n",
    "\n",
    "\n",
    "# calculate general H \n",
    "def Calculate_H_LOSNLOS(N1, N2, distance_matrix, wavelength, racian_factor):\n",
    "    H_D_LOS = GenHLOS(distance_matrix, wavelength)\n",
    "    H_D_NLOS = GenHNOLOS(N1, N2, 2)\n",
    "    H_LOSNLOS = (np.sqrt(racian_factor) * H_D_LOS + H_D_NLOS)\n",
    "\n",
    "    return H_LOSNLOS\n",
    "\n",
    "\n",
    "# calculate H DIR (Direct channel between tx and rx)\n",
    "# alpha value is influenced by the obstacle present\n",
    "def Calculate_H_DIR(Nr, Nt, distance_matrix_r_t, wavelength, alpha_dir, D, lt, lr, racian_factor):\n",
    "    d_note = np.sqrt((D ** 2) + ((lt-lr) ** 2))\n",
    "    beta_DIR = ((4 * np.pi / wavelength) ** 2) * (d_note ** alpha_dir)\n",
    "    \n",
    "    H_DIR = np.sqrt(1/(beta_DIR * (racian_factor + 1))) * Calculate_H_LOSNLOS(Nr, Nt, distance_matrix_r_t, wavelength, racian_factor)\n",
    "    return H_DIR\n",
    "\n",
    "\n",
    "def Calculate_H1(N_ris, Nt, distance_matrix_ris_t, wavelength, racian_factor, beta_INDIR_inverse):\n",
    "    return  np.sqrt(beta_INDIR_inverse/(racian_factor + 1)) * Calculate_H_LOSNLOS(N_ris, Nt, distance_matrix_ris_t, wavelength, racian_factor)\n",
    "\n",
    "\n",
    "def Calculate_H2(Nr, N_ris, distance_matrix_r_ris, wavelength, racian_factor):\n",
    "    return np.sqrt(1/(racian_factor + 1)) * Calculate_H_LOSNLOS(Nr, N_ris, distance_matrix_r_ris, wavelength, racian_factor)\n",
    "\n",
    "\n",
    "# calculate H INDIR (Infirect Direct channel between tx and rx)\n",
    "def Calculate_H_INDIR(H1, H2, thetas, beta_INDIR_inverse):\n",
    "    F_theta = np.diag(thetas)\n",
    "    H_INDIR = np.matmul(H2, np.matmul(F_theta, H1))\n",
    "\n",
    "    return H_INDIR\n",
    "\n",
    "\n",
    "def Calculate_H(HDIR, HINDIR):\n",
    "    return HDIR + HINDIR\n",
    "\n",
    "    "
   ]
  },
  {
   "cell_type": "code",
   "execution_count": 13,
   "metadata": {},
   "outputs": [],
   "source": [
    "import numpy as np\n",
    "import matplotlib.pyplot as plt\n",
    "\n",
    "def plot_complex_matrix_line(H, name):\n",
    "    \"\"\"\n",
    "    Plots real and imaginary parts of a complex matrix H as line plots.\n",
    "    Matrix is flattened row-wise.\n",
    "    \"\"\"\n",
    "    H = np.array(H).flatten()\n",
    "    \n",
    "    plt.figure(figsize=(8, 4))\n",
    "    plt.plot(np.real(H), label='Real Part', color='blue')\n",
    "    plt.plot(np.imag(H), label='Imaginary Part', color='orange')\n",
    "    \n",
    "    plt.xlabel('Element Index')\n",
    "    plt.ylabel('Value')\n",
    "    plt.title(f'Line Plot of Real and Imaginary Parts of Complex Matrix {name}')\n",
    "    plt.legend()\n",
    "    plt.grid(True)\n",
    "    plt.tight_layout()\n",
    "    plt.show()\n"
   ]
  },
  {
   "cell_type": "code",
   "execution_count": 14,
   "metadata": {},
   "outputs": [
    {
     "name": "stdout",
     "output_type": "stream",
     "text": [
      "1\n",
      "(4, 8)\n",
      "(225, 8)\n",
      "(4, 225)\n",
      "(4, 8)\n"
     ]
    },
    {
     "data": {
      "image/png": "[encoded data removed]",
      "text/plain": [
       "<Figure size 800x400 with 1 Axes>"
      ]
     },
     "metadata": {},
     "output_type": "display_data"
    },
    {
     "data": {
      "image/png": "[encoded data removed]",
      "text/plain": [
       "<Figure size 800x400 with 1 Axes>"
      ]
     },
     "metadata": {},
     "output_type": "display_data"
    },
    {
     "data": {
      "image/png": "[encoded data removed]",
      "text/plain": [
       "<Figure size 800x400 with 1 Axes>"
      ]
     },
     "metadata": {},
     "output_type": "display_data"
    },
    {
     "data": {
      "image/png": "[encoded data removed]",
      "text/plain": [
       "<Figure size 800x400 with 1 Axes>"
      ]
     },
     "metadata": {},
     "output_type": "display_data"
    }
   ],
   "source": [
    "average_over = 1\n",
    "step_boost = 0\n",
    "print(racian_factor)\n",
    "\n",
    "d1 = np.sqrt((d_ris ** 2) + (lt ** 2))\n",
    "d2 = np.sqrt((D - d_ris) ** 2 + lr ** 2)\n",
    "\n",
    "beta_INDIR_inverse = ((wavelength**4)/(256 * (np.pi ** 2))) * (((lt/d1 + lr/d2)**2) / ((d1*d2)**2))\n",
    "\n",
    "H_dir = Calculate_H_DIR(Nr, Nt, distance_r_t, wavelength, alpha_dir, D, lt, lr, racian_factor)\n",
    "H1 = Calculate_H1(N_ris, Nt, distance_ris_t, wavelength, racian_factor, beta_INDIR_inverse)\n",
    "H2 = Calculate_H2(Nr, N_ris, distance_r_ris, wavelength, racian_factor)\n",
    "H_indir = Calculate_H_INDIR(H1, H2, initial_thetas, beta_INDIR_inverse)\n",
    "\n",
    "print(H_dir.shape)\n",
    "print(H1.shape)\n",
    "print(H2.shape)\n",
    "print(H_indir.shape)\n",
    "\n",
    "plot_complex_matrix_line(H_dir, 'H_dir')\n",
    "plot_complex_matrix_line(H1, 'H1')\n",
    "plot_complex_matrix_line(H2, 'H2')\n",
    "plot_complex_matrix_line(H_indir, 'H_indir')"
   ]
  },
  {
   "cell_type": "code",
   "execution_count": 15,
   "metadata": {},
   "outputs": [
    {
     "name": "stdout",
     "output_type": "stream",
     "text": [
      "Intial Rate 1.2227158622359347e-11\n"
     ]
    }
   ],
   "source": [
    "def Rate(Hdir, H2, H1, myomega, Q):\n",
    "    Z = Hdir + H2 @ np.diag(myomega) @ H1\n",
    "    Nr = H2.shape[0]\n",
    "    rate = np.real(np.log(np.linalg.det(np.eye(Nr) + Z @ Q @ Z.conj().T))) / np.log(2)\n",
    "    return rate\n",
    "\n",
    "print(f\"Intial Rate {Rate(H_dir, H2, H1, initial_thetas, intial_Q)}\")\n"
   ]
  },
  {
   "cell_type": "markdown",
   "metadata": {},
   "source": [
    "## Projected Gradient Method"
   ]
  },
  {
   "cell_type": "code",
   "execution_count": 16,
   "metadata": {},
   "outputs": [],
   "source": [
    "global_q = None\n",
    "global_kappa = None\n",
    "global_theta = None"
   ]
  },
  {
   "cell_type": "code",
   "execution_count": 17,
   "metadata": {},
   "outputs": [],
   "source": [
    "def sum_patches(vector, Na, Nb, na, nb):\n",
    "    matrix = vector.reshape(Na, Nb)\n",
    "    assert Na % na == 0 and Nb % nb == 0, \"Na/na and Nb/nb must be integers.\"\n",
    "    patches = matrix.reshape(Na//na, na, Nb//nb, nb)\n",
    "    patches = patches.transpose(0, 2, 1, 3)\n",
    "    \n",
    "    patch_sums = patches.reshape(-1, na*nb).sum(axis=1)\n",
    "    return patch_sums\n",
    "\n",
    "def recreate_from_patch_sums(patch_sums, Na, Nb, na, nb):\n",
    "    num_patches_row = Na // na\n",
    "    num_patches_col = Nb // nb\n",
    "    assert len(patch_sums) == num_patches_row * num_patches_col, \"Mismatch in number of patches.\"\n",
    "    \n",
    "    # Create a matrix of patches\n",
    "    patches = patch_sums.reshape(num_patches_row, num_patches_col, 1, 1)\n",
    "    \n",
    "    # Broadcast each patch sum to a (na, nb) patch\n",
    "    patches = np.tile(patches, (1, 1, na, nb))\n",
    "    \n",
    "    # Rearrange to (Na, Nb)\n",
    "    patches = patches.transpose(0, 2, 1, 3)\n",
    "    recreated_matrix = patches.reshape(Na, Nb)\n",
    "    \n",
    "    return recreated_matrix\n",
    "\n",
    "def Calculate_Kappa(H_dir, H2, H1, Pt):\n",
    "    if H_dir.all() == 0:\n",
    "        return 10\n",
    "    else :\n",
    "        return 10 * max(1, 1/np.sqrt(Pt)) * np.sqrt( np.linalg.norm(H_dir)/ np.linalg.norm(np.matmul(H2, H1)))\n",
    "    \n",
    "    \n",
    "def Calculate_LTheta(a, b, Pt):\n",
    "  \"\"\"\n",
    "  Calculates the value of L_theta^2 based on equation (32).\n",
    "\n",
    "  Args:\n",
    "    a: The value of 'a'.\n",
    "    b: The value of 'b'.\n",
    "    Pt: The value of 'Pt'.\n",
    "\n",
    "  Returns:\n",
    "    The calculated value of L_theta^2.\n",
    "  \"\"\"\n",
    "\n",
    "  term1 = 2 * a * (b**5) + 4 * (a**2) * (b**2)\n",
    "  term2 = (a**3) * b + 2 * a * (b**7) + 8 * (a**2) * (b**4)\n",
    "  term3 = 3 * (a**3) * (b**3) + (a**4) + 4 * (a**2) * (b**6)\n",
    "  term4 = 2 * (a**3) * (b**5) + 4 * (a**4) * (b**2)\n",
    "  term5 = 4 * (a**4) * (b**4)\n",
    "\n",
    "  return term1 + term2 * Pt + term3 * (Pt**2) + term4 * (Pt**3) + term5 * (Pt**4)\n",
    "\n",
    "\n",
    "def Calculate_LQ(a, b, Pt):\n",
    "  \"\"\"\n",
    "  Calculates the value of L_Q^2 based on equation (33).\n",
    "\n",
    "  Args:\n",
    "    a: The value of 'a'.\n",
    "    b: The value of 'b'.\n",
    "    Pt: The value of 'Pt'.\n",
    "\n",
    "  Returns:\n",
    "    The calculated value of L_Q^2.\n",
    "  \"\"\"\n",
    "\n",
    "  term1 = (a**2) * (b**2) + (b**8) + 2 * a * (b**5)\n",
    "  term2 = 2 * (a**2) * (b**4) + (a**3) * b + 2 * a * (b**7)\n",
    "  term3 = (a**2) * (b**6) + 3 * (a**3) * (b**3)\n",
    "  term4 = 2 * (a**3) * (b**5)\n",
    "\n",
    "  return term1 + term2 * Pt + term3 * (Pt**2) + term4 * (Pt**3)\n",
    "\n",
    "\n",
    "def L_constant(H_dir_bar, H1_bar, H2, kappa, Pt_bar):\n",
    "    U_h1_bar, S_h1_bar, Vh_h1_bar = np.linalg.svd(H1_bar)\n",
    "    U_h2, S_h2, Vh_h2 = np.linalg.svd(H2)\n",
    "    U_H_dir_bar, S_H_dir_bar, Vh_H_dir_bar = np.linalg.svd(H_dir_bar)\n",
    "    \n",
    "    \n",
    "    lambda_max_h1_bar = np.max(S_h1_bar)\n",
    "    lambda_max_h2 = np.max(S_h2)\n",
    "    lambda_max_H_dir_bar = np.max(S_H_dir_bar)\n",
    "    \n",
    "    a = lambda_max_h1_bar * lambda_max_h2\n",
    "    b = lambda_max_H_dir_bar + lambda_max_h1_bar * lambda_max_h2 / kappa\n",
    "\n",
    "    L_2_theta = Calculate_LTheta(a,b, Pt_bar)\n",
    "    L_2_Q = Calculate_LQ(a, b, Pt_bar)\n",
    "\n",
    "    L = np.sqrt(max(L_2_theta, L_2_Q))\n",
    "    return L\n",
    "\n",
    "\n",
    "def water_fill(Pt, vect_in):\n",
    "    vect_in = np.real(vect_in).flatten()\n",
    "    sort_idx = np.argsort(vect_in)[::-1]\n",
    "    sort_val = vect_in[sort_idx]\n",
    "    n = len(vect_in)\n",
    "    for i in range(n, 0, -1):\n",
    "        water_level = (np.sum(sort_val[:i]) - Pt) / i\n",
    "        di = sort_val[:i] - water_level\n",
    "        if np.all(di >= 0):\n",
    "            break\n",
    "    vect_out = np.zeros_like(vect_in)\n",
    "    vect_out[sort_idx[:i]] = di\n",
    "    return vect_out\n",
    "\n",
    "def cov_mat_proj_modified(Qold, Pt):\n",
    "    D, U = np.linalg.eig(Qold)\n",
    "    Dnew = water_fill(Pt, D)\n",
    "    return U @ np.diag(Dnew) @ U.conj().T\n",
    "\n",
    "def project_onto_unit_circle(x):\n",
    "    return x / np.abs(x)\n",
    "\n",
    "def grad_cov(Hdir, H2, H1, myomega, Q):\n",
    "    Z = Hdir + H2 @ np.diag(myomega) @ H1\n",
    "    Nr = H2.shape[0]\n",
    "    return Z.conj().T @ np.linalg.inv(np.eye(Nr) + Z @ Q @ Z.conj().T) @ Z\n",
    "\n",
    "def grad_RIS(Hdir, H2, H1, myomega, Q):\n",
    "    Z = Hdir + H2 @ np.diag(myomega) @ H1\n",
    "    Nr = H2.shape[0]\n",
    "    return np.diag(H2.conj().T @ np.linalg.inv(np.eye(Nr) + Z @ Q @ Z.conj().T) @ Z @ Q @ H1.conj().T)\n",
    "\n",
    "\n",
    "def PGM(max_iterations, H_dir, H1, H2, Nr, D, initial_Q, initial_thetas, noise_power, Pt, na, nb):\n",
    "    delta = 1e-5\n",
    "    rho = 0.5\n",
    "    stepsize = 10000\n",
    "    thetas = initial_thetas\n",
    "    Q = initial_Q\n",
    "    \n",
    "    kappa = Calculate_Kappa(H_dir, H2, H1, Pt)\n",
    "\n",
    "    # Scaling data\n",
    "    Q = (kappa ** 2) * Q\n",
    "    thetas = thetas / kappa\n",
    "    H_dir = H_dir / (kappa * np.sqrt(noise_power))\n",
    "    H1 = H1 * (np.sqrt(1 / noise_power))\n",
    "\n",
    "    # inproved convergence rate by data scaling\n",
    "    # section 3.D\n",
    "    initial_rate = Rate(H_dir, H2, H1, thetas, Q)\n",
    "    rate = initial_rate\n",
    "    rates = np.zeros(max_iterations+1)\n",
    "    rates[0] = rate\n",
    "\n",
    "    # algo run for max_iteration times or rate convergers\n",
    "    for i in range(1, max_iterations+1):\n",
    "\n",
    "        del_Q = grad_cov(H_dir, H2, H1, thetas, Q)\n",
    "        del_thetas = grad_RIS(H_dir, H2, H1, thetas, Q)\n",
    "        patch_sums = sum_patches(del_thetas, Na, Nb, na, nb)\n",
    "        \n",
    "        # Recreating full matrix\n",
    "        del_thetas = recreate_from_patch_sums(patch_sums, Na, Nb, na, nb).reshape(-1,)\n",
    "            \n",
    "        for _ in range(31):\n",
    "            Q_new = Q + stepsize * del_Q\n",
    "            Q_new = cov_mat_proj_modified(Q_new, Pt * (kappa ** 2))\n",
    "\n",
    "            thetas_new = thetas + stepsize * del_thetas\n",
    "            thetas_new = project_onto_unit_circle(thetas_new) / kappa\n",
    "\n",
    "            rate_new = Rate(H_dir, H2, H1, thetas_new, Q_new)\n",
    "\n",
    "            if (rate_new - rate >= delta * (np.linalg.norm(Q_new - Q) ** 2 + np.linalg.norm(thetas_new - thetas) ** 2)) or (stepsize < 1e-4):\n",
    "                thetas = thetas_new\n",
    "                Q = Q_new\n",
    "                rate = rate_new\n",
    "                break\n",
    "            else:\n",
    "                stepsize *= rho\n",
    "\n",
    "        rates[i] = rate\n",
    "    \n",
    "    return [rates, Q, thetas, kappa]\n",
    "\n",
    "        "
   ]
  },
  {
   "cell_type": "code",
   "execution_count": 18,
   "metadata": {},
   "outputs": [],
   "source": [
    "\n",
    "def PGM_Quantized_last_step(max_iterations, H_dir, H1, H2, Nr, D, initial_Q, initial_thetas, noise_power, Pt, theta_quant_size, na, nb):\n",
    "    delta = 1e-5\n",
    "    rho = 0.5\n",
    "    stepsize = 10000\n",
    "    thetas = initial_thetas\n",
    "    Q = initial_Q\n",
    "    \n",
    "    kappa = Calculate_Kappa(H_dir, H2, H1, Pt)\n",
    "\n",
    "    # Scaling data\n",
    "    Q = (kappa ** 2) * Q\n",
    "    thetas = thetas / kappa\n",
    "    H_dir = H_dir / (kappa * np.sqrt(noise_power))\n",
    "    H1 = H1 * (np.sqrt(1 / noise_power))\n",
    "\n",
    "    # inproved convergence rate by data scaling\n",
    "    # section 3.D\n",
    "    initial_rate = Rate(H_dir, H2, H1, thetas, Q)\n",
    "    rate = initial_rate\n",
    "    rates = np.zeros(max_iterations+1)\n",
    "    rates[0] = rate\n",
    "\n",
    "    # algo run for max_iteration times or rate convergers\n",
    "    for i in range(1, max_iterations+1):\n",
    "\n",
    "        del_Q = grad_cov(H_dir, H2, H1, thetas, Q)\n",
    "        del_thetas = grad_RIS(H_dir, H2, H1, thetas, Q)\n",
    "        patch_sums = sum_patches(del_thetas, Na, Nb, na, nb)\n",
    "        \n",
    "        # Recreating full matrix\n",
    "        del_thetas = recreate_from_patch_sums(patch_sums, Na, Nb, na, nb).reshape(-1,)\n",
    "            \n",
    "        for _ in range(31):\n",
    "            Q_new = Q + stepsize * del_Q\n",
    "            Q_new = cov_mat_proj_modified(Q_new, Pt * (kappa ** 2))\n",
    "\n",
    "            thetas_new = thetas + stepsize * del_thetas\n",
    "            thetas_new = project_onto_unit_circle(thetas_new) / kappa\n",
    "\n",
    "            rate_new = Rate(H_dir, H2, H1, thetas_new, Q_new)\n",
    "\n",
    "            if (rate_new - rate >= delta * (np.linalg.norm(Q_new - Q) ** 2 + np.linalg.norm(thetas_new - thetas) ** 2)) or (stepsize < 1e-4):\n",
    "                thetas = thetas_new\n",
    "                Q = Q_new\n",
    "                rate = rate_new\n",
    "                break\n",
    "            else:\n",
    "                stepsize *= rho\n",
    "\n",
    "        rates[i] = rate\n",
    "        \n",
    "    angle_rad = np.angle(thetas * kappa, deg=False)\n",
    "    \n",
    "    # Map angles to [0, 2π)\n",
    "    angles_rad_2pi = angle_rad + (angle_rad < 0) * 2 * np.pi\n",
    "    \n",
    "    quantized_angles = quantize_angles(angles_rad_2pi, theta_quant_size)\n",
    "    thetas = np.exp(1j * quantized_angles) / kappa\n",
    "    \n",
    "    rate = Rate(H_dir, H2, H1, thetas, Q)\n",
    "    rates[-1] = rate\n",
    "    \n",
    "    return [rates, thetas, Q]\n",
    "\n",
    "\n",
    "\n",
    "def quantize_angles(angles, n):\n",
    "    \"\"\"\n",
    "    Quantizes the angles between 0 and 2π into n levels.\n",
    "\n",
    "    Args:\n",
    "    angles (numpy array): Array of angles between 0 and 2π.\n",
    "    n (int): Number of quantization levels.\n",
    "\n",
    "    Returns:\n",
    "    numpy array: Quantized angles.\n",
    "    \"\"\"\n",
    "    \n",
    "    # Generate quantization levels\n",
    "    quant_levels = np.linspace(0, 2 * np.pi, n, endpoint=False)\n",
    "    \n",
    "    # Find the closest quantization level for each angle\n",
    "    quantized_angles = np.array([quant_levels[np.argmin(np.abs(quant_levels - angle))] for angle in angles])\n",
    "    \n",
    "    return quantized_angles"
   ]
  },
  {
   "cell_type": "code",
   "execution_count": 25,
   "metadata": {},
   "outputs": [
    {
     "name": "stdout",
     "output_type": "stream",
     "text": [
      "PGM for 1th channel\n",
      "PGM for 2th channel\n",
      "PGM for 3th channel\n",
      "PGM for 4th channel\n",
      "PGM for 5th channel\n",
      "PGM for 6th channel\n",
      "PGM for 7th channel\n",
      "PGM for 8th channel\n",
      "PGM for 9th channel\n",
      "PGM for 10th channel\n",
      "PGM for 11th channel\n",
      "PGM for 12th channel\n",
      "PGM for 13th channel\n",
      "PGM for 14th channel\n",
      "PGM for 15th channel\n",
      "PGM for 16th channel\n",
      "PGM for 17th channel\n",
      "PGM for 18th channel\n",
      "PGM for 19th channel\n",
      "PGM for 20th channel\n",
      "PGM for 21th channel\n",
      "PGM for 22th channel\n",
      "PGM for 23th channel\n",
      "PGM for 24th channel\n",
      "PGM for 25th channel\n",
      "PGM for 26th channel\n",
      "PGM for 27th channel\n",
      "PGM for 28th channel\n",
      "PGM for 29th channel\n",
      "PGM for 30th channel\n",
      "PGM for 31th channel\n",
      "PGM for 32th channel\n",
      "PGM for 33th channel\n",
      "PGM for 34th channel\n",
      "PGM for 35th channel\n",
      "PGM for 36th channel\n",
      "PGM for 37th channel\n",
      "PGM for 38th channel\n",
      "PGM for 39th channel\n",
      "PGM for 40th channel\n",
      "PGM for 41th channel\n",
      "PGM for 42th channel\n",
      "PGM for 43th channel\n",
      "PGM for 44th channel\n",
      "PGM for 45th channel\n",
      "PGM for 46th channel\n",
      "PGM for 47th channel\n",
      "PGM for 48th channel\n",
      "PGM for 49th channel\n",
      "PGM for 50th channel\n",
      "PGM for 51th channel\n",
      "PGM for 52th channel\n",
      "PGM for 53th channel\n",
      "PGM for 54th channel\n",
      "PGM for 55th channel\n",
      "PGM for 56th channel\n",
      "PGM for 57th channel\n",
      "PGM for 58th channel\n",
      "PGM for 59th channel\n",
      "PGM for 60th channel\n",
      "PGM for 61th channel\n",
      "PGM for 62th channel\n",
      "PGM for 63th channel\n",
      "PGM for 64th channel\n",
      "PGM for 65th channel\n",
      "PGM for 66th channel\n",
      "PGM for 67th channel\n",
      "PGM for 68th channel\n",
      "PGM for 69th channel\n",
      "PGM for 70th channel\n",
      "PGM for 71th channel\n",
      "PGM for 72th channel\n",
      "PGM for 73th channel\n",
      "PGM for 74th channel\n",
      "PGM for 75th channel\n",
      "PGM for 76th channel\n",
      "PGM for 77th channel\n",
      "PGM for 78th channel\n",
      "PGM for 79th channel\n",
      "PGM for 80th channel\n",
      "PGM for 81th channel\n",
      "PGM for 82th channel\n",
      "PGM for 83th channel\n",
      "PGM for 84th channel\n",
      "PGM for 85th channel\n",
      "PGM for 86th channel\n",
      "PGM for 87th channel\n",
      "PGM for 88th channel\n",
      "PGM for 89th channel\n",
      "PGM for 90th channel\n",
      "PGM for 91th channel\n",
      "PGM for 92th channel\n",
      "PGM for 93th channel\n",
      "PGM for 94th channel\n",
      "PGM for 95th channel\n",
      "PGM for 96th channel\n",
      "PGM for 97th channel\n",
      "PGM for 98th channel\n",
      "PGM for 99th channel\n",
      "PGM for 100th channel\n",
      "PGM for 101th channel\n",
      "PGM for 102th channel\n",
      "PGM for 103th channel\n",
      "PGM for 104th channel\n",
      "PGM for 105th channel\n",
      "PGM for 106th channel\n",
      "PGM for 107th channel\n",
      "PGM for 108th channel\n",
      "PGM for 109th channel\n",
      "PGM for 110th channel\n",
      "PGM for 111th channel\n",
      "PGM for 112th channel\n",
      "PGM for 113th channel\n",
      "PGM for 114th channel\n",
      "PGM for 115th channel\n",
      "PGM for 116th channel\n",
      "PGM for 117th channel\n",
      "PGM for 118th channel\n",
      "PGM for 119th channel\n",
      "PGM for 120th channel\n",
      "PGM for 121th channel\n",
      "PGM for 122th channel\n",
      "PGM for 123th channel\n",
      "PGM for 124th channel\n",
      "PGM for 125th channel\n",
      "PGM for 126th channel\n",
      "PGM for 127th channel\n",
      "PGM for 128th channel\n",
      "PGM for 129th channel\n",
      "PGM for 130th channel\n",
      "PGM for 131th channel\n",
      "PGM for 132th channel\n",
      "PGM for 133th channel\n",
      "PGM for 134th channel\n",
      "PGM for 135th channel\n",
      "PGM for 136th channel\n",
      "PGM for 137th channel\n",
      "PGM for 138th channel\n",
      "PGM for 139th channel\n",
      "PGM for 140th channel\n",
      "PGM for 141th channel\n",
      "PGM for 142th channel\n",
      "PGM for 143th channel\n",
      "PGM for 144th channel\n",
      "PGM for 145th channel\n",
      "PGM for 146th channel\n",
      "PGM for 147th channel\n",
      "PGM for 148th channel\n",
      "PGM for 149th channel\n",
      "PGM for 150th channel\n",
      "PGM for 151th channel\n",
      "PGM for 152th channel\n",
      "PGM for 153th channel\n",
      "PGM for 154th channel\n",
      "PGM for 155th channel\n",
      "PGM for 156th channel\n",
      "PGM for 157th channel\n",
      "PGM for 158th channel\n",
      "PGM for 159th channel\n",
      "PGM for 160th channel\n",
      "PGM for 161th channel\n",
      "PGM for 162th channel\n",
      "PGM for 163th channel\n",
      "PGM for 164th channel\n",
      "PGM for 165th channel\n",
      "PGM for 166th channel\n",
      "PGM for 167th channel\n",
      "PGM for 168th channel\n",
      "PGM for 169th channel\n",
      "PGM for 170th channel\n",
      "PGM for 171th channel\n",
      "PGM for 172th channel\n",
      "PGM for 173th channel\n",
      "PGM for 174th channel\n",
      "PGM for 175th channel\n",
      "PGM for 176th channel\n",
      "PGM for 177th channel\n",
      "PGM for 178th channel\n",
      "PGM for 179th channel\n",
      "PGM for 180th channel\n",
      "PGM for 181th channel\n",
      "PGM for 182th channel\n",
      "PGM for 183th channel\n",
      "PGM for 184th channel\n",
      "PGM for 185th channel\n",
      "PGM for 186th channel\n",
      "PGM for 187th channel\n",
      "PGM for 188th channel\n",
      "PGM for 189th channel\n",
      "PGM for 190th channel\n",
      "PGM for 191th channel\n",
      "PGM for 192th channel\n",
      "PGM for 193th channel\n",
      "PGM for 194th channel\n",
      "PGM for 195th channel\n",
      "PGM for 196th channel\n",
      "PGM for 197th channel\n",
      "PGM for 198th channel\n",
      "PGM for 199th channel\n",
      "PGM for 200th channel\n"
     ]
    }
   ],
   "source": [
    "max_iterations = 500\n",
    "rate_average = np.zeros(max_iterations+1)\n",
    "average_over = 200\n",
    "step_boost = 0\n",
    "\n",
    "na = 1\n",
    "nb = 1\n",
    "\n",
    "d1 = np.sqrt(d_ris ** 2 + lt ** 2)\n",
    "d2 = np.sqrt((D - d_ris) ** 2 + lr ** 2)\n",
    "beta_INDIR_inverse = ((wavelength**4)/(256 * (np.pi ** 2))) * (((lt/d1 + lr/d2)**2) / ((d1*d2)**2))\n",
    "\n",
    "for i in range(average_over):\n",
    "    # if(i % 10 !):\n",
    "    print(f\"PGM for {i+1}th channel\")\n",
    "    H_dir = Calculate_H_DIR(Nr, Nt, distance_r_t, wavelength, alpha_dir, D, lt, lr, racian_factor)\n",
    "    H1 = Calculate_H1(N_ris, Nt, distance_ris_t, wavelength, racian_factor, beta_INDIR_inverse)\n",
    "    H2 = Calculate_H2(Nr, N_ris, distance_r_ris, wavelength, racian_factor)\n",
    "    [rates, global_q, global_theta, global_kappa] = PGM(max_iterations, H_dir, H1, H2, Nr, D, intial_Q, initial_thetas, noise_power, Pt, na, nb)\n",
    "    rate_average += rates / average_over\n",
    "    \n",
    "\n",
    "# rate_average = rate_average \n",
    "\n",
    "    "
   ]
  },
  {
   "cell_type": "code",
   "execution_count": 26,
   "metadata": {},
   "outputs": [
    {
     "data": {
      "application/vnd.plotly.v1+json": {
       "config": {
        "plotlyServerURL": "https://plot.ly"
       },
       "data": [
        {
         "line": {
          "color": "blue",
          "width": 1
         },
         "marker": {
          "color": "red",
          "size": 4
         },
         "mode": "lines+markers",
         "name": "Line with Markers",
         "type": "scatter",
         "x": {
          "bdata": "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",
          "dtype": "f8"
         },
         "y": {
          "bdata": "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",
          "dtype": "f8"
         }
        }
       ],
       "layout": {
        "template": {
         "data": {
          "bar": [
           {
            "error_x": {
             "color": "#f2f5fa"
            },
            "error_y": {
             "color": "#f2f5fa"
            },
            "marker": {
             "line": {
              "color": "rgb(17,17,17)",
              "width": 0.5
             },
             "pattern": {
              "fillmode": "overlay",
              "size": 10,
              "solidity": 0.2
             }
            },
            "type": "bar"
           }
          ],
          "barpolar": [
           {
            "marker": {
             "line": {
              "color": "rgb(17,17,17)",
              "width": 0.5
             },
             "pattern": {
              "fillmode": "overlay",
              "size": 10,
              "solidity": 0.2
             }
            },
            "type": "barpolar"
           }
          ],
          "carpet": [
           {
            "aaxis": {
             "endlinecolor": "#A2B1C6",
             "gridcolor": "#506784",
             "linecolor": "#506784",
             "minorgridcolor": "#506784",
             "startlinecolor": "#A2B1C6"
            },
            "baxis": {
             "endlinecolor": "#A2B1C6",
             "gridcolor": "#506784",
             "linecolor": "#506784",
             "minorgridcolor": "#506784",
             "startlinecolor": "#A2B1C6"
            },
            "type": "carpet"
           }
          ],
          "choropleth": [
           {
            "colorbar": {
             "outlinewidth": 0,
             "ticks": ""
            },
            "type": "choropleth"
           }
          ],
          "contour": [
           {
            "colorbar": {
             "outlinewidth": 0,
             "ticks": ""
            },
            "colorscale": [
             [
              0,
              "#0d0887"
             ],
             [
              0.1111111111111111,
              "#46039f"
             ],
             [
              0.2222222222222222,
              "#7201a8"
             ],
             [
              0.3333333333333333,
              "#9c179e"
             ],
             [
              0.4444444444444444,
              "#bd3786"
             ],
             [
              0.5555555555555556,
              "#d8576b"
             ],
             [
              0.6666666666666666,
              "#ed7953"
             ],
             [
              0.7777777777777778,
              "#fb9f3a"
             ],
             [
              0.8888888888888888,
              "#fdca26"
             ],
             [
              1,
              "#f0f921"
             ]
            ],
            "type": "contour"
           }
          ],
          "contourcarpet": [
           {
            "colorbar": {
             "outlinewidth": 0,
             "ticks": ""
            },
            "type": "contourcarpet"
           }
          ],
          "heatmap": [
           {
            "colorbar": {
             "outlinewidth": 0,
             "ticks": ""
            },
            "colorscale": [
             [
              0,
              "#0d0887"
             ],
             [
              0.1111111111111111,
              "#46039f"
             ],
             [
              0.2222222222222222,
              "#7201a8"
             ],
             [
              0.3333333333333333,
              "#9c179e"
             ],
             [
              0.4444444444444444,
              "#bd3786"
             ],
             [
              0.5555555555555556,
              "#d8576b"
             ],
             [
              0.6666666666666666,
              "#ed7953"
             ],
             [
              0.7777777777777778,
              "#fb9f3a"
             ],
             [
              0.8888888888888888,
              "#fdca26"
             ],
             [
              1,
              "#f0f921"
             ]
            ],
            "type": "heatmap"
           }
          ],
          "histogram": [
           {
            "marker": {
             "pattern": {
              "fillmode": "overlay",
              "size": 10,
              "solidity": 0.2
             }
            },
            "type": "histogram"
           }
          ],
          "histogram2d": [
           {
            "colorbar": {
             "outlinewidth": 0,
             "ticks": ""
            },
            "colorscale": [
             [
              0,
              "#0d0887"
             ],
             [
              0.1111111111111111,
              "#46039f"
             ],
             [
              0.2222222222222222,
              "#7201a8"
             ],
             [
              0.3333333333333333,
              "#9c179e"
             ],
             [
              0.4444444444444444,
              "#bd3786"
             ],
             [
              0.5555555555555556,
              "#d8576b"
             ],
             [
              0.6666666666666666,
              "#ed7953"
             ],
             [
              0.7777777777777778,
              "#fb9f3a"
             ],
             [
              0.8888888888888888,
              "#fdca26"
             ],
             [
              1,
              "#f0f921"
             ]
            ],
            "type": "histogram2d"
           }
          ],
          "histogram2dcontour": [
           {
            "colorbar": {
             "outlinewidth": 0,
             "ticks": ""
            },
            "colorscale": [
             [
              0,
              "#0d0887"
             ],
             [
              0.1111111111111111,
              "#46039f"
             ],
             [
              0.2222222222222222,
              "#7201a8"
             ],
             [
              0.3333333333333333,
              "#9c179e"
             ],
             [
              0.4444444444444444,
              "#bd3786"
             ],
             [
              0.5555555555555556,
              "#d8576b"
             ],
             [
              0.6666666666666666,
              "#ed7953"
             ],
             [
              0.7777777777777778,
              "#fb9f3a"
             ],
             [
              0.8888888888888888,
              "#fdca26"
             ],
             [
              1,
              "#f0f921"
             ]
            ],
            "type": "histogram2dcontour"
           }
          ],
          "mesh3d": [
           {
            "colorbar": {
             "outlinewidth": 0,
             "ticks": ""
            },
            "type": "mesh3d"
           }
          ],
          "parcoords": [
           {
            "line": {
             "colorbar": {
              "outlinewidth": 0,
              "ticks": ""
             }
            },
            "type": "parcoords"
           }
          ],
          "pie": [
           {
            "automargin": true,
            "type": "pie"
           }
          ],
          "scatter": [
           {
            "marker": {
             "line": {
              "color": "#283442"
             }
            },
            "type": "scatter"
           }
          ],
          "scatter3d": [
           {
            "line": {
             "colorbar": {
              "outlinewidth": 0,
              "ticks": ""
             }
            },
            "marker": {
             "colorbar": {
              "outlinewidth": 0,
              "ticks": ""
             }
            },
            "type": "scatter3d"
           }
          ],
          "scattercarpet": [
           {
            "marker": {
             "colorbar": {
              "outlinewidth": 0,
              "ticks": ""
             }
            },
            "type": "scattercarpet"
           }
          ],
          "scattergeo": [
           {
            "marker": {
             "colorbar": {
              "outlinewidth": 0,
              "ticks": ""
             }
            },
            "type": "scattergeo"
           }
          ],
          "scattergl": [
           {
            "marker": {
             "line": {
              "color": "#283442"
             }
            },
            "type": "scattergl"
           }
          ],
          "scattermap": [
           {
            "marker": {
             "colorbar": {
              "outlinewidth": 0,
              "ticks": ""
             }
            },
            "type": "scattermap"
           }
          ],
          "scattermapbox": [
           {
            "marker": {
             "colorbar": {
              "outlinewidth": 0,
              "ticks": ""
             }
            },
            "type": "scattermapbox"
           }
          ],
          "scatterpolar": [
           {
            "marker": {
             "colorbar": {
              "outlinewidth": 0,
              "ticks": ""
             }
            },
            "type": "scatterpolar"
           }
          ],
          "scatterpolargl": [
           {
            "marker": {
             "colorbar": {
              "outlinewidth": 0,
              "ticks": ""
             }
            },
            "type": "scatterpolargl"
           }
          ],
          "scatterternary": [
           {
            "marker": {
             "colorbar": {
              "outlinewidth": 0,
              "ticks": ""
             }
            },
            "type": "scatterternary"
           }
          ],
          "surface": [
           {
            "colorbar": {
             "outlinewidth": 0,
             "ticks": ""
            },
            "colorscale": [
             [
              0,
              "#0d0887"
             ],
             [
              0.1111111111111111,
              "#46039f"
             ],
             [
              0.2222222222222222,
              "#7201a8"
             ],
             [
              0.3333333333333333,
              "#9c179e"
             ],
             [
              0.4444444444444444,
              "#bd3786"
             ],
             [
              0.5555555555555556,
              "#d8576b"
             ],
             [
              0.6666666666666666,
              "#ed7953"
             ],
             [
              0.7777777777777778,
              "#fb9f3a"
             ],
             [
              0.8888888888888888,
              "#fdca26"
             ],
             [
              1,
              "#f0f921"
             ]
            ],
            "type": "surface"
           }
          ],
          "table": [
           {
            "cells": {
             "fill": {
              "color": "#506784"
             },
             "line": {
              "color": "rgb(17,17,17)"
             }
            },
            "header": {
             "fill": {
              "color": "#2a3f5f"
             },
             "line": {
              "color": "rgb(17,17,17)"
             }
            },
            "type": "table"
           }
          ]
         },
         "layout": {
          "annotationdefaults": {
           "arrowcolor": "#f2f5fa",
           "arrowhead": 0,
           "arrowwidth": 1
          },
          "autotypenumbers": "strict",
          "coloraxis": {
           "colorbar": {
            "outlinewidth": 0,
            "ticks": ""
           }
          },
          "colorscale": {
           "diverging": [
            [
             0,
             "#8e0152"
            ],
            [
             0.1,
             "#c51b7d"
            ],
            [
             0.2,
             "#de77ae"
            ],
            [
             0.3,
             "#f1b6da"
            ],
            [
             0.4,
             "#fde0ef"
            ],
            [
             0.5,
             "#f7f7f7"
            ],
            [
             0.6,
             "#e6f5d0"
            ],
            [
             0.7,
             "#b8e186"
            ],
            [
             0.8,
             "#7fbc41"
            ],
            [
             0.9,
             "#4d9221"
            ],
            [
             1,
             "#276419"
            ]
           ],
           "sequential": [
            [
             0,
             "#0d0887"
            ],
            [
             0.1111111111111111,
             "#46039f"
            ],
            [
             0.2222222222222222,
             "#7201a8"
            ],
            [
             0.3333333333333333,
             "#9c179e"
            ],
            [
             0.4444444444444444,
             "#bd3786"
            ],
            [
             0.5555555555555556,
             "#d8576b"
            ],
            [
             0.6666666666666666,
             "#ed7953"
            ],
            [
             0.7777777777777778,
             "#fb9f3a"
            ],
            [
             0.8888888888888888,
             "#fdca26"
            ],
            [
             1,
             "#f0f921"
            ]
           ],
           "sequentialminus": [
            [
             0,
             "#0d0887"
            ],
            [
             0.1111111111111111,
             "#46039f"
            ],
            [
             0.2222222222222222,
             "#7201a8"
            ],
            [
             0.3333333333333333,
             "#9c179e"
            ],
            [
             0.4444444444444444,
             "#bd3786"
            ],
            [
             0.5555555555555556,
             "#d8576b"
            ],
            [
             0.6666666666666666,
             "#ed7953"
            ],
            [
             0.7777777777777778,
             "#fb9f3a"
            ],
            [
             0.8888888888888888,
             "#fdca26"
            ],
            [
             1,
             "#f0f921"
            ]
           ]
          },
          "colorway": [
           "#636efa",
           "#EF553B",
           "#00cc96",
           "#ab63fa",
           "#FFA15A",
           "#19d3f3",
           "#FF6692",
           "#B6E880",
           "#FF97FF",
           "#FECB52"
          ],
          "font": {
           "color": "#f2f5fa"
          },
          "geo": {
           "bgcolor": "rgb(17,17,17)",
           "lakecolor": "rgb(17,17,17)",
           "landcolor": "rgb(17,17,17)",
           "showlakes": true,
           "showland": true,
           "subunitcolor": "#506784"
          },
          "hoverlabel": {
           "align": "left"
          },
          "hovermode": "closest",
          "mapbox": {
           "style": "dark"
          },
          "paper_bgcolor": "rgb(17,17,17)",
          "plot_bgcolor": "rgb(17,17,17)",
          "polar": {
           "angularaxis": {
            "gridcolor": "#506784",
            "linecolor": "#506784",
            "ticks": ""
           },
           "bgcolor": "rgb(17,17,17)",
           "radialaxis": {
            "gridcolor": "#506784",
            "linecolor": "#506784",
            "ticks": ""
           }
          },
          "scene": {
           "xaxis": {
            "backgroundcolor": "rgb(17,17,17)",
            "gridcolor": "#506784",
            "gridwidth": 2,
            "linecolor": "#506784",
            "showbackground": true,
            "ticks": "",
            "zerolinecolor": "#C8D4E3"
           },
           "yaxis": {
            "backgroundcolor": "rgb(17,17,17)",
            "gridcolor": "#506784",
            "gridwidth": 2,
            "linecolor": "#506784",
            "showbackground": true,
            "ticks": "",
            "zerolinecolor": "#C8D4E3"
           },
           "zaxis": {
            "backgroundcolor": "rgb(17,17,17)",
            "gridcolor": "#506784",
            "gridwidth": 2,
            "linecolor": "#506784",
            "showbackground": true,
            "ticks": "",
            "zerolinecolor": "#C8D4E3"
           }
          },
          "shapedefaults": {
           "line": {
            "color": "#f2f5fa"
           }
          },
          "sliderdefaults": {
           "bgcolor": "#C8D4E3",
           "bordercolor": "rgb(17,17,17)",
           "borderwidth": 1,
           "tickwidth": 0
          },
          "ternary": {
           "aaxis": {
            "gridcolor": "#506784",
            "linecolor": "#506784",
            "ticks": ""
           },
           "baxis": {
            "gridcolor": "#506784",
            "linecolor": "#506784",
            "ticks": ""
           },
           "bgcolor": "rgb(17,17,17)",
           "caxis": {
            "gridcolor": "#506784",
            "linecolor": "#506784",
            "ticks": ""
           }
          },
          "title": {
           "x": 0.05
          },
          "updatemenudefaults": {
           "bgcolor": "#506784",
           "borderwidth": 0
          },
          "xaxis": {
           "automargin": true,
           "gridcolor": "#283442",
           "linecolor": "#506784",
           "ticks": "",
           "title": {
            "standoff": 15
           },
           "zerolinecolor": "#283442",
           "zerolinewidth": 2
          },
          "yaxis": {
           "automargin": true,
           "gridcolor": "#283442",
           "linecolor": "#506784",
           "ticks": "",
           "title": {
            "standoff": 15
           },
           "zerolinecolor": "#283442",
           "zerolinewidth": 2
          }
         }
        },
        "title": {
         "text": "Indirect link length (dirs = 40)"
        },
        "xaxis": {
         "title": {
          "text": "Iteration number"
         }
        },
        "yaxis": {
         "title": {
          "text": "Rate (bit/s/Hz)"
         }
        }
       }
      }
     },
     "metadata": {},
     "output_type": "display_data"
    }
   ],
   "source": [
    "# Create the line plot\n",
    "normal_rate_fig = go.Figure(data=go.Scatter(\n",
    "    x=np.log10(np.arange(0, len(rate_average))+1),\n",
    "    y=rate_average, \n",
    "    mode='lines+markers',  # Line + Markers\n",
    "    marker=dict(size=4, color='red'),  # Marker style\n",
    "    line=dict(color='blue', width=1),  # Line style\n",
    "    name='Line with Markers'\n",
    "))\n",
    "\n",
    "# Add titles and labels\n",
    "normal_rate_fig.update_layout(\n",
    "    title='Indirect link length (dirs = 40)',\n",
    "    xaxis_title='Iteration number',\n",
    "    yaxis_title='Rate (bit/s/Hz)',\n",
    "    template='plotly_dark',  # Optional: Dark theme, change if needed\n",
    ")"
   ]
  },
  {
   "cell_type": "code",
   "execution_count": 27,
   "metadata": {},
   "outputs": [
    {
     "name": "stdout",
     "output_type": "stream",
     "text": [
      "\n",
      "Patch size : 1x1\n",
      "0 1 2 3 4 5 6 7 8 9 10 11 12 13 14 15 16 17 18 19 20 21 22 23 24 25 26 27 28 29 30 31 32 33 34 35 36 37 38 39 40 41 42 43 44 45 46 47 48 49 \n",
      "Patch size : 3x3\n",
      "0 1 2 3 4 5 6 7 8 9 10 11 12 13 14 15 16 17 18 19 20 21 22 23 24 25 26 27 28 29 30 31 32 33 34 35 36 37 38 39 40 41 42 43 44 45 46 47 48 49 \n",
      "Patch size : 5x5\n",
      "0 1 2 3 4 5 6 7 8 9 10 11 12 13 14 15 16 17 18 19 20 21 22 23 24 25 26 27 28 29 30 31 32 33 34 35 36 37 38 39 40 41 42 43 44 45 46 47 48 49 \n",
      "Patch size : 15x15\n",
      "0 1 2 3 4 5 6 7 8 9 10 11 12 13 14 15 16 17 18 19 20 21 22 23 24 25 26 27 28 29 30 31 32 33 34 35 36 37 38 39 40 41 42 43 44 45 46 47 48 49 "
     ]
    }
   ],
   "source": [
    "max_iterations = 500\n",
    "na = np.arange(1, Na + 1)\n",
    "na_s = []\n",
    "rate_average_mutliple = []\n",
    "average_over = 50\n",
    "step_boost = 0\n",
    "\n",
    "H_dir_channels = []\n",
    "H1_channels = []\n",
    "H2_channels = []\n",
    "\n",
    "for i in range(average_over):\n",
    "    H_dir_channels.append(Calculate_H_DIR(Nr, Nt, distance_r_t, wavelength, alpha_dir, D, lt, lr, racian_factor))\n",
    "    H1_channels.append(Calculate_H1(N_ris, Nt, distance_ris_t, wavelength, racian_factor, beta_INDIR_inverse))\n",
    "    H2_channels.append(Calculate_H2(Nr, N_ris, distance_r_ris, wavelength, racian_factor))\n",
    "\n",
    "d1 = np.sqrt(d_ris ** 2 + lt ** 2)\n",
    "d2 = np.sqrt((D - d_ris) ** 2 + lr ** 2)\n",
    "beta_INDIR_inverse = ((wavelength**4)/(256 * (np.pi ** 2))) * (((lt/d1 + lr/d2)**2) / ((d1*d2)**2))\n",
    "\n",
    "for z in range(len(na)):\n",
    "    if(Na % na[z] != 0):\n",
    "        continue\n",
    "    \n",
    "    na_s.append(na[z])\n",
    "    print(f\"\\nPatch size : {na[z]}x{na[z]}\")\n",
    "    rate_average = np.zeros(max_iterations+1)\n",
    "    for i in range(average_over):\n",
    "        # if(i % 10 !):\n",
    "        print(f\"{i}\", end=' ')\n",
    "        H_dir = H_dir_channels[i]\n",
    "        H1 = H1_channels[i]\n",
    "        H2 = H2_channels[i]\n",
    "        \n",
    "        [rates, global_q, global_theta, global_kappa] = PGM(max_iterations, H_dir, H1, H2, Nr, D, intial_Q, initial_thetas, noise_power, Pt, na[z], na[z])\n",
    "        rate_average += rates / average_over\n",
    "        \n",
    "    rate_average_mutliple.append(rate_average)\n",
    "    \n",
    "\n",
    "# rate_average = rate_average \n",
    "\n",
    "    "
   ]
  },
  {
   "cell_type": "code",
   "execution_count": null,
   "metadata": {},
   "outputs": [
    {
     "data": {
      "image/png": "[encoded data removed]",
      "text/plain": [
       "<Figure size 1000x600 with 1 Axes>"
      ]
     },
     "metadata": {},
     "output_type": "display_data"
    }
   ],
   "source": [
    "\n",
    "# Create a figure\n",
    "plt.figure(figsize=(10, 6))\n",
    "\n",
    "# Plot each vector\n",
    "for idx, vec in enumerate(rate_average_mutliple):\n",
    "    x_vals = np.log10(np.arange(1, len(vec) + 1))  # log10(index + 1)\n",
    "    plt.plot(x_vals, vec * 0.87,\n",
    "             linewidth=2, markersize=5,\n",
    "             label=f'{na_s[idx]}')\n",
    "\n",
    "# Set title and axis labels\n",
    "# plt.title('Achievable Rate (dirs = 40)', fontsize=18, fontweight='bold')\n",
    "plt.xlabel(r'$\\log_{10}(\\mathrm{Iteration Number})$', fontsize=16)\n",
    "plt.ylabel('Rate (bit/s/Hz)', fontsize=16)\n",
    "\n",
    "# Customize tick fonts\n",
    "plt.xticks(fontsize=14)\n",
    "plt.yticks(fontsize=14)\n",
    "\n",
    "# Add legend\n",
    "plt.legend(title='Patch Size n (n×n)', fontsize=12, title_fontsize=14)\n",
    "\n",
    "# Turn on grid\n",
    "plt.grid(True)\n",
    "\n",
    "# Improve layout\n",
    "plt.tight_layout()\n",
    "\n",
    "# Show the plot\n",
    "plt.show()"
   ]
  },
  {
   "cell_type": "code",
   "execution_count": 45,
   "metadata": {},
   "outputs": [
    {
     "data": {
      "image/png": "[encoded data removed]",
      "text/plain": [
       "<Figure size 600x400 with 1 Axes>"
      ]
     },
     "metadata": {},
     "output_type": "display_data"
    }
   ],
   "source": [
    "# Example data: replace these with your actual error % values\n",
    "zzz = rate_average_mutliple[0][-1]\n",
    "errors = [\n",
    "    (rate_average_mutliple[0][-1] - rate_average_mutliple[0][-1]) * 100/ rate_average_mutliple[0][-1],#/ rate_average_mutliple[0][-1],\n",
    "    (rate_average_mutliple[0][-1] - rate_average_mutliple[1][-1]) * 100/ rate_average_mutliple[0][-1],#/ rate_average_mutliple[0][-1]\n",
    "    (rate_average_mutliple[0][-1] - rate_average_mutliple[2][-1]) * 100/ rate_average_mutliple[0][-1],#/ rate_average_mutliple[0][-1],\n",
    "    (rate_average_mutliple[0][-1] - rate_average_mutliple[3][-1]) * 100/ rate_average_mutliple[0][-1],#/ rate_average_mutliple[0][-1]\n",
    "]  \n",
    "\n",
    "# Patch sizes as labels\n",
    "patch_labels = ['1x1', '3x3', '5x5', '15x15']\n",
    "\n",
    "# Plotting\n",
    "plt.figure(figsize=(6, 4))\n",
    "plt.bar(patch_labels, errors, color='skyblue', edgecolor='black')\n",
    "\n",
    "# Add labels and title\n",
    "plt.ylabel('Error (%)')\n",
    "plt.xlabel('Patch Size')\n",
    "# plt.title('Error Percentage for Different Patch Sizes')\n",
    "\n",
    "# Optionally add value labels on top of bars\n",
    "for i, val in enumerate(errors):\n",
    "    plt.text(i, val + 0.2, f'{val:.1f}%', ha='center')\n",
    "\n",
    "plt.ylim(0, max(errors) + 2)  # Adjust Y-axis limit to fit labels\n",
    "plt.grid(axis='y', linestyle='--', alpha=0.7)\n",
    "\n",
    "plt.tight_layout()\n",
    "plt.show()"
   ]
  },
  {
   "cell_type": "code",
   "execution_count": 38,
   "metadata": {},
   "outputs": [
    {
     "data": {
      "application/vnd.plotly.v1+json": {
       "config": {
        "plotlyServerURL": "https://plot.ly"
       },
       "data": [
        {
         "line": {
          "width": 1
         },
         "marker": {
          "size": 2
         },
         "mode": "lines+markers",
         "name": "1",
         "type": "scatter",
         "x": {
          "bdata": "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",
          "dtype": "f8"
         },
         "y": {
          "bdata": "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",
          "dtype": "f8"
         }
        },
        {
         "line": {
          "width": 1
         },
         "marker": {
          "size": 2
         },
         "mode": "lines+markers",
         "name": "3",
         "type": "scatter",
         "x": {
          "bdata": "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",
          "dtype": "f8"
         },
         "y": {
          "bdata": "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",
          "dtype": "f8"
         }
        },
        {
         "line": {
          "width": 1
         },
         "marker": {
          "size": 2
         },
         "mode": "lines+markers",
         "name": "5",
         "type": "scatter",
         "x": {
          "bdata": "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",
          "dtype": "f8"
         },
         "y": {
          "bdata": "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",
          "dtype": "f8"
         }
        },
        {
         "line": {
          "width": 1
         },
         "marker": {
          "size": 2
         },
         "mode": "lines+markers",
         "name": "15",
         "type": "scatter",
         "x": {
          "bdata": "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",
          "dtype": "f8"
         },
         "y": {
          "bdata": "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",
          "dtype": "f8"
         }
        }
       ],
       "layout": {
        "legend": {
         "title": {
          "text": "Patch Size n (nxn)"
         }
        },
        "template": {
         "data": {
          "bar": [
           {
            "error_x": {
             "color": "#2a3f5f"
            },
            "error_y": {
             "color": "#2a3f5f"
            },
            "marker": {
             "line": {
              "color": "#E5ECF6",
              "width": 0.5
             },
             "pattern": {
              "fillmode": "overlay",
              "size": 10,
              "solidity": 0.2
             }
            },
            "type": "bar"
           }
          ],
          "barpolar": [
           {
            "marker": {
             "line": {
              "color": "#E5ECF6",
              "width": 0.5
             },
             "pattern": {
              "fillmode": "overlay",
              "size": 10,
              "solidity": 0.2
             }
            },
            "type": "barpolar"
           }
          ],
          "carpet": [
           {
            "aaxis": {
             "endlinecolor": "#2a3f5f",
             "gridcolor": "white",
             "linecolor": "white",
             "minorgridcolor": "white",
             "startlinecolor": "#2a3f5f"
            },
            "baxis": {
             "endlinecolor": "#2a3f5f",
             "gridcolor": "white",
             "linecolor": "white",
             "minorgridcolor": "white",
             "startlinecolor": "#2a3f5f"
            },
            "type": "carpet"
           }
          ],
          "choropleth": [
           {
            "colorbar": {
             "outlinewidth": 0,
             "ticks": ""
            },
            "type": "choropleth"
           }
          ],
          "contour": [
           {
            "colorbar": {
             "outlinewidth": 0,
             "ticks": ""
            },
            "colorscale": [
             [
              0,
              "#0d0887"
             ],
             [
              0.1111111111111111,
              "#46039f"
             ],
             [
              0.2222222222222222,
              "#7201a8"
             ],
             [
              0.3333333333333333,
              "#9c179e"
             ],
             [
              0.4444444444444444,
              "#bd3786"
             ],
             [
              0.5555555555555556,
              "#d8576b"
             ],
             [
              0.6666666666666666,
              "#ed7953"
             ],
             [
              0.7777777777777778,
              "#fb9f3a"
             ],
             [
              0.8888888888888888,
              "#fdca26"
             ],
             [
              1,
              "#f0f921"
             ]
            ],
            "type": "contour"
           }
          ],
          "contourcarpet": [
           {
            "colorbar": {
             "outlinewidth": 0,
             "ticks": ""
            },
            "type": "contourcarpet"
           }
          ],
          "heatmap": [
           {
            "colorbar": {
             "outlinewidth": 0,
             "ticks": ""
            },
            "colorscale": [
             [
              0,
              "#0d0887"
             ],
             [
              0.1111111111111111,
              "#46039f"
             ],
             [
              0.2222222222222222,
              "#7201a8"
             ],
             [
              0.3333333333333333,
              "#9c179e"
             ],
             [
              0.4444444444444444,
              "#bd3786"
             ],
             [
              0.5555555555555556,
              "#d8576b"
             ],
             [
              0.6666666666666666,
              "#ed7953"
             ],
             [
              0.7777777777777778,
              "#fb9f3a"
             ],
             [
              0.8888888888888888,
              "#fdca26"
             ],
             [
              1,
              "#f0f921"
             ]
            ],
            "type": "heatmap"
           }
          ],
          "histogram": [
           {
            "marker": {
             "pattern": {
              "fillmode": "overlay",
              "size": 10,
              "solidity": 0.2
             }
            },
            "type": "histogram"
           }
          ],
          "histogram2d": [
           {
            "colorbar": {
             "outlinewidth": 0,
             "ticks": ""
            },
            "colorscale": [
             [
              0,
              "#0d0887"
             ],
             [
              0.1111111111111111,
              "#46039f"
             ],
             [
              0.2222222222222222,
              "#7201a8"
             ],
             [
              0.3333333333333333,
              "#9c179e"
             ],
             [
              0.4444444444444444,
              "#bd3786"
             ],
             [
              0.5555555555555556,
              "#d8576b"
             ],
             [
              0.6666666666666666,
              "#ed7953"
             ],
             [
              0.7777777777777778,
              "#fb9f3a"
             ],
             [
              0.8888888888888888,
              "#fdca26"
             ],
             [
              1,
              "#f0f921"
             ]
            ],
            "type": "histogram2d"
           }
          ],
          "histogram2dcontour": [
           {
            "colorbar": {
             "outlinewidth": 0,
             "ticks": ""
            },
            "colorscale": [
             [
              0,
              "#0d0887"
             ],
             [
              0.1111111111111111,
              "#46039f"
             ],
             [
              0.2222222222222222,
              "#7201a8"
             ],
             [
              0.3333333333333333,
              "#9c179e"
             ],
             [
              0.4444444444444444,
              "#bd3786"
             ],
             [
              0.5555555555555556,
              "#d8576b"
             ],
             [
              0.6666666666666666,
              "#ed7953"
             ],
             [
              0.7777777777777778,
              "#fb9f3a"
             ],
             [
              0.8888888888888888,
              "#fdca26"
             ],
             [
              1,
              "#f0f921"
             ]
            ],
            "type": "histogram2dcontour"
           }
          ],
          "mesh3d": [
           {
            "colorbar": {
             "outlinewidth": 0,
             "ticks": ""
            },
            "type": "mesh3d"
           }
          ],
          "parcoords": [
           {
            "line": {
             "colorbar": {
              "outlinewidth": 0,
              "ticks": ""
             }
            },
            "type": "parcoords"
           }
          ],
          "pie": [
           {
            "automargin": true,
            "type": "pie"
           }
          ],
          "scatter": [
           {
            "fillpattern": {
             "fillmode": "overlay",
             "size": 10,
             "solidity": 0.2
            },
            "type": "scatter"
           }
          ],
          "scatter3d": [
           {
            "line": {
             "colorbar": {
              "outlinewidth": 0,
              "ticks": ""
             }
            },
            "marker": {
             "colorbar": {
              "outlinewidth": 0,
              "ticks": ""
             }
            },
            "type": "scatter3d"
           }
          ],
          "scattercarpet": [
           {
            "marker": {
             "colorbar": {
              "outlinewidth": 0,
              "ticks": ""
             }
            },
            "type": "scattercarpet"
           }
          ],
          "scattergeo": [
           {
            "marker": {
             "colorbar": {
              "outlinewidth": 0,
              "ticks": ""
             }
            },
            "type": "scattergeo"
           }
          ],
          "scattergl": [
           {
            "marker": {
             "colorbar": {
              "outlinewidth": 0,
              "ticks": ""
             }
            },
            "type": "scattergl"
           }
          ],
          "scattermap": [
           {
            "marker": {
             "colorbar": {
              "outlinewidth": 0,
              "ticks": ""
             }
            },
            "type": "scattermap"
           }
          ],
          "scattermapbox": [
           {
            "marker": {
             "colorbar": {
              "outlinewidth": 0,
              "ticks": ""
             }
            },
            "type": "scattermapbox"
           }
          ],
          "scatterpolar": [
           {
            "marker": {
             "colorbar": {
              "outlinewidth": 0,
              "ticks": ""
             }
            },
            "type": "scatterpolar"
           }
          ],
          "scatterpolargl": [
           {
            "marker": {
             "colorbar": {
              "outlinewidth": 0,
              "ticks": ""
             }
            },
            "type": "scatterpolargl"
           }
          ],
          "scatterternary": [
           {
            "marker": {
             "colorbar": {
              "outlinewidth": 0,
              "ticks": ""
             }
            },
            "type": "scatterternary"
           }
          ],
          "surface": [
           {
            "colorbar": {
             "outlinewidth": 0,
             "ticks": ""
            },
            "colorscale": [
             [
              0,
              "#0d0887"
             ],
             [
              0.1111111111111111,
              "#46039f"
             ],
             [
              0.2222222222222222,
              "#7201a8"
             ],
             [
              0.3333333333333333,
              "#9c179e"
             ],
             [
              0.4444444444444444,
              "#bd3786"
             ],
             [
              0.5555555555555556,
              "#d8576b"
             ],
             [
              0.6666666666666666,
              "#ed7953"
             ],
             [
              0.7777777777777778,
              "#fb9f3a"
             ],
             [
              0.8888888888888888,
              "#fdca26"
             ],
             [
              1,
              "#f0f921"
             ]
            ],
            "type": "surface"
           }
          ],
          "table": [
           {
            "cells": {
             "fill": {
              "color": "#EBF0F8"
             },
             "line": {
              "color": "white"
             }
            },
            "header": {
             "fill": {
              "color": "#C8D4E3"
             },
             "line": {
              "color": "white"
             }
            },
            "type": "table"
           }
          ]
         },
         "layout": {
          "annotationdefaults": {
           "arrowcolor": "#2a3f5f",
           "arrowhead": 0,
           "arrowwidth": 1
          },
          "autotypenumbers": "strict",
          "coloraxis": {
           "colorbar": {
            "outlinewidth": 0,
            "ticks": ""
           }
          },
          "colorscale": {
           "diverging": [
            [
             0,
             "#8e0152"
            ],
            [
             0.1,
             "#c51b7d"
            ],
            [
             0.2,
             "#de77ae"
            ],
            [
             0.3,
             "#f1b6da"
            ],
            [
             0.4,
             "#fde0ef"
            ],
            [
             0.5,
             "#f7f7f7"
            ],
            [
             0.6,
             "#e6f5d0"
            ],
            [
             0.7,
             "#b8e186"
            ],
            [
             0.8,
             "#7fbc41"
            ],
            [
             0.9,
             "#4d9221"
            ],
            [
             1,
             "#276419"
            ]
           ],
           "sequential": [
            [
             0,
             "#0d0887"
            ],
            [
             0.1111111111111111,
             "#46039f"
            ],
            [
             0.2222222222222222,
             "#7201a8"
            ],
            [
             0.3333333333333333,
             "#9c179e"
            ],
            [
             0.4444444444444444,
             "#bd3786"
            ],
            [
             0.5555555555555556,
             "#d8576b"
            ],
            [
             0.6666666666666666,
             "#ed7953"
            ],
            [
             0.7777777777777778,
             "#fb9f3a"
            ],
            [
             0.8888888888888888,
             "#fdca26"
            ],
            [
             1,
             "#f0f921"
            ]
           ],
           "sequentialminus": [
            [
             0,
             "#0d0887"
            ],
            [
             0.1111111111111111,
             "#46039f"
            ],
            [
             0.2222222222222222,
             "#7201a8"
            ],
            [
             0.3333333333333333,
             "#9c179e"
            ],
            [
             0.4444444444444444,
             "#bd3786"
            ],
            [
             0.5555555555555556,
             "#d8576b"
            ],
            [
             0.6666666666666666,
             "#ed7953"
            ],
            [
             0.7777777777777778,
             "#fb9f3a"
            ],
            [
             0.8888888888888888,
             "#fdca26"
            ],
            [
             1,
             "#f0f921"
            ]
           ]
          },
          "colorway": [
           "#636efa",
           "#EF553B",
           "#00cc96",
           "#ab63fa",
           "#FFA15A",
           "#19d3f3",
           "#FF6692",
           "#B6E880",
           "#FF97FF",
           "#FECB52"
          ],
          "font": {
           "color": "#2a3f5f"
          },
          "geo": {
           "bgcolor": "white",
           "lakecolor": "white",
           "landcolor": "#E5ECF6",
           "showlakes": true,
           "showland": true,
           "subunitcolor": "white"
          },
          "hoverlabel": {
           "align": "left"
          },
          "hovermode": "closest",
          "mapbox": {
           "style": "light"
          },
          "paper_bgcolor": "white",
          "plot_bgcolor": "#E5ECF6",
          "polar": {
           "angularaxis": {
            "gridcolor": "white",
            "linecolor": "white",
            "ticks": ""
           },
           "bgcolor": "#E5ECF6",
           "radialaxis": {
            "gridcolor": "white",
            "linecolor": "white",
            "ticks": ""
           }
          },
          "scene": {
           "xaxis": {
            "backgroundcolor": "#E5ECF6",
            "gridcolor": "white",
            "gridwidth": 2,
            "linecolor": "white",
            "showbackground": true,
            "ticks": "",
            "zerolinecolor": "white"
           },
           "yaxis": {
            "backgroundcolor": "#E5ECF6",
            "gridcolor": "white",
            "gridwidth": 2,
            "linecolor": "white",
            "showbackground": true,
            "ticks": "",
            "zerolinecolor": "white"
           },
           "zaxis": {
            "backgroundcolor": "#E5ECF6",
            "gridcolor": "white",
            "gridwidth": 2,
            "linecolor": "white",
            "showbackground": true,
            "ticks": "",
            "zerolinecolor": "white"
           }
          },
          "shapedefaults": {
           "line": {
            "color": "#2a3f5f"
           }
          },
          "ternary": {
           "aaxis": {
            "gridcolor": "white",
            "linecolor": "white",
            "ticks": ""
           },
           "baxis": {
            "gridcolor": "white",
            "linecolor": "white",
            "ticks": ""
           },
           "bgcolor": "#E5ECF6",
           "caxis": {
            "gridcolor": "white",
            "linecolor": "white",
            "ticks": ""
           }
          },
          "title": {
           "x": 0.05
          },
          "xaxis": {
           "automargin": true,
           "gridcolor": "white",
           "linecolor": "white",
           "ticks": "",
           "title": {
            "standoff": 15
           },
           "zerolinecolor": "white",
           "zerolinewidth": 2
          },
          "yaxis": {
           "automargin": true,
           "gridcolor": "white",
           "linecolor": "white",
           "ticks": "",
           "title": {
            "standoff": 15
           },
           "zerolinecolor": "white",
           "zerolinewidth": 2
          }
         }
        },
        "title": {
         "text": "Achivable Rate dris = 40"
        },
        "xaxis": {
         "title": {
          "text": "log10(Index + 1)"
         }
        },
        "yaxis": {
         "title": {
          "text": "Rate (bit/s/Hz)"
         }
        }
       }
      }
     },
     "metadata": {},
     "output_type": "display_data"
    }
   ],
   "source": [
    "import plotly.graph_objects as go\n",
    "import numpy as np\n",
    "\n",
    "# Initialize an empty figure\n",
    "normal_rate_fig = go.Figure()\n",
    "\n",
    "# Loop through all vectors in rate_average_mutliple\n",
    "for idx, vec in enumerate(rate_average_mutliple):\n",
    "    normal_rate_fig.add_trace(go.Scatter(\n",
    "        x=np.log10(np.arange(0, len(vec)) + 1),\n",
    "        y=vec,\n",
    "        mode='lines+markers',\n",
    "        marker=dict(size=2),\n",
    "        line=dict(width=1),\n",
    "        name=str(na_s[idx])            # Legend name as index+1\n",
    "    ))\n",
    "\n",
    "# (Optional) Customize layout\n",
    "normal_rate_fig.update_layout(\n",
    "    title=\"Achivable Rate dris = 40\",\n",
    "    xaxis_title=\"log10(Index + 1)\",\n",
    "    yaxis_title=\"Rate (bit/s/Hz)\",\n",
    "    legend_title=\"Patch Size n (nxn)\"\n",
    ")\n",
    "\n",
    "# Show the plot\n",
    "normal_rate_fig.show()\n"
   ]
  },
  {
   "cell_type": "code",
   "execution_count": null,
   "metadata": {},
   "outputs": [
    {
     "name": "stdout",
     "output_type": "stream",
     "text": [
      "step size 1\n",
      "step size 2\n",
      "step size 3\n",
      "step size 4\n",
      "step size 5\n",
      "step size 6\n",
      "step size 7\n"
     ]
    }
   ],
   "source": [
    " \n",
    "\n",
    "max_iterations = 500\n",
    "average_over = 10\n",
    "\n",
    "max_rates = np.zeros(7)\n",
    "quantized_rate = np.zeros(7)\n",
    "\n",
    "\n",
    "d1 = np.sqrt(d_ris ** 2 + lt ** 2)\n",
    "d2 = np.sqrt((D - d_ris) ** 2 + lr ** 2)\n",
    "beta_INDIR_inverse = ((wavelength**4)/(256 * (np.pi ** 2))) * (((lt/d1 + lr/d2)**2) / ((d1*d2)**2))\n",
    "\n",
    "\n",
    "for theta_step_size in range(1, 8):\n",
    "    print(f\"step size {theta_step_size}\")\n",
    "    qrate_average = np.zeros(max_iterations+1)\n",
    "\n",
    "    for i in range(average_over):\n",
    "\n",
    "        H_dir = Calculate_H_DIR(Nr, Nt, distance_r_t, wavelength, alpha_dir, D, lt, lr, racian_factor)\n",
    "        H1 = Calculate_H1(N_ris, Nt, distance_ris_t, wavelength, racian_factor, beta_INDIR_inverse)\n",
    "        H2 = Calculate_H2(Nr, N_ris, distance_r_ris, wavelength, racian_factor)\n",
    "        [rates, thetas_, Q_] = PGM_Quantized_last_step(max_iterations, H_dir, H1, H2, Nr, D, intial_Q, initial_thetas, noise_power, Pt, 2**theta_step_size, 5, 5)\n",
    "        qrate_average += rates / average_over\n",
    "        \n",
    "    max_rates[theta_step_size-1] = qrate_average[-2]\n",
    "    quantized_rate[theta_step_size-1] = qrate_average[-1]\n",
    "\n",
    "# rate_average = rate_average \n",
    "\n",
    "    "
   ]
  },
  {
   "cell_type": "code",
   "execution_count": null,
   "metadata": {},
   "outputs": [
    {
     "data": {
      "application/vnd.plotly.v1+json": {
       "config": {
        "plotlyServerURL": "https://plot.ly"
       },
       "data": [
        {
         "mode": "lines+markers",
         "name": "Non qantized",
         "type": "scatter",
         "x": {
          "bdata": "AQAAAAIAAAADAAAABAAAAAUAAAAGAAAABwAAAAgAAAAJAAAACgAAAA==",
          "dtype": "i4"
         },
         "y": {
          "bdata": "Sj1b6BvGI0BrTNBhkl4jQBlfShOSRCRA8yJzH2KcI0D2WHWuJH8jQDCQYOiX3SNAQsakh2HzIkA=",
          "dtype": "f8"
         }
        },
        {
         "mode": "lines+markers",
         "name": "Quantized",
         "type": "scatter",
         "x": {
          "bdata": "AQAAAAIAAAADAAAABAAAAAUAAAAGAAAABwAAAAgAAAAJAAAACgAAAA==",
          "dtype": "i4"
         },
         "y": {
          "bdata": "IZ5U/q7eIEAGAe0ZCtQiQIM33fThJCRA9u0AA1GVI0Dlx8QEiXwjQJDJQ/Ui3SNAwuwUyEXzIkA=",
          "dtype": "f8"
         }
        }
       ],
       "layout": {
        "template": {
         "data": {
          "bar": [
           {
            "error_x": {
             "color": "#2a3f5f"
            },
            "error_y": {
             "color": "#2a3f5f"
            },
            "marker": {
             "line": {
              "color": "#E5ECF6",
              "width": 0.5
             },
             "pattern": {
              "fillmode": "overlay",
              "size": 10,
              "solidity": 0.2
             }
            },
            "type": "bar"
           }
          ],
          "barpolar": [
           {
            "marker": {
             "line": {
              "color": "#E5ECF6",
              "width": 0.5
             },
             "pattern": {
              "fillmode": "overlay",
              "size": 10,
              "solidity": 0.2
             }
            },
            "type": "barpolar"
           }
          ],
          "carpet": [
           {
            "aaxis": {
             "endlinecolor": "#2a3f5f",
             "gridcolor": "white",
             "linecolor": "white",
             "minorgridcolor": "white",
             "startlinecolor": "#2a3f5f"
            },
            "baxis": {
             "endlinecolor": "#2a3f5f",
             "gridcolor": "white",
             "linecolor": "white",
             "minorgridcolor": "white",
             "startlinecolor": "#2a3f5f"
            },
            "type": "carpet"
           }
          ],
          "choropleth": [
           {
            "colorbar": {
             "outlinewidth": 0,
             "ticks": ""
            },
            "type": "choropleth"
           }
          ],
          "contour": [
           {
            "colorbar": {
             "outlinewidth": 0,
             "ticks": ""
            },
            "colorscale": [
             [
              0,
              "#0d0887"
             ],
             [
              0.1111111111111111,
              "#46039f"
             ],
             [
              0.2222222222222222,
              "#7201a8"
             ],
             [
              0.3333333333333333,
              "#9c179e"
             ],
             [
              0.4444444444444444,
              "#bd3786"
             ],
             [
              0.5555555555555556,
              "#d8576b"
             ],
             [
              0.6666666666666666,
              "#ed7953"
             ],
             [
              0.7777777777777778,
              "#fb9f3a"
             ],
             [
              0.8888888888888888,
              "#fdca26"
             ],
             [
              1,
              "#f0f921"
             ]
            ],
            "type": "contour"
           }
          ],
          "contourcarpet": [
           {
            "colorbar": {
             "outlinewidth": 0,
             "ticks": ""
            },
            "type": "contourcarpet"
           }
          ],
          "heatmap": [
           {
            "colorbar": {
             "outlinewidth": 0,
             "ticks": ""
            },
            "colorscale": [
             [
              0,
              "#0d0887"
             ],
             [
              0.1111111111111111,
              "#46039f"
             ],
             [
              0.2222222222222222,
              "#7201a8"
             ],
             [
              0.3333333333333333,
              "#9c179e"
             ],
             [
              0.4444444444444444,
              "#bd3786"
             ],
             [
              0.5555555555555556,
              "#d8576b"
             ],
             [
              0.6666666666666666,
              "#ed7953"
             ],
             [
              0.7777777777777778,
              "#fb9f3a"
             ],
             [
              0.8888888888888888,
              "#fdca26"
             ],
             [
              1,
              "#f0f921"
             ]
            ],
            "type": "heatmap"
           }
          ],
          "histogram": [
           {
            "marker": {
             "pattern": {
              "fillmode": "overlay",
              "size": 10,
              "solidity": 0.2
             }
            },
            "type": "histogram"
           }
          ],
          "histogram2d": [
           {
            "colorbar": {
             "outlinewidth": 0,
             "ticks": ""
            },
            "colorscale": [
             [
              0,
              "#0d0887"
             ],
             [
              0.1111111111111111,
              "#46039f"
             ],
             [
              0.2222222222222222,
              "#7201a8"
             ],
             [
              0.3333333333333333,
              "#9c179e"
             ],
             [
              0.4444444444444444,
              "#bd3786"
             ],
             [
              0.5555555555555556,
              "#d8576b"
             ],
             [
              0.6666666666666666,
              "#ed7953"
             ],
             [
              0.7777777777777778,
              "#fb9f3a"
             ],
             [
              0.8888888888888888,
              "#fdca26"
             ],
             [
              1,
              "#f0f921"
             ]
            ],
            "type": "histogram2d"
           }
          ],
          "histogram2dcontour": [
           {
            "colorbar": {
             "outlinewidth": 0,
             "ticks": ""
            },
            "colorscale": [
             [
              0,
              "#0d0887"
             ],
             [
              0.1111111111111111,
              "#46039f"
             ],
             [
              0.2222222222222222,
              "#7201a8"
             ],
             [
              0.3333333333333333,
              "#9c179e"
             ],
             [
              0.4444444444444444,
              "#bd3786"
             ],
             [
              0.5555555555555556,
              "#d8576b"
             ],
             [
              0.6666666666666666,
              "#ed7953"
             ],
             [
              0.7777777777777778,
              "#fb9f3a"
             ],
             [
              0.8888888888888888,
              "#fdca26"
             ],
             [
              1,
              "#f0f921"
             ]
            ],
            "type": "histogram2dcontour"
           }
          ],
          "mesh3d": [
           {
            "colorbar": {
             "outlinewidth": 0,
             "ticks": ""
            },
            "type": "mesh3d"
           }
          ],
          "parcoords": [
           {
            "line": {
             "colorbar": {
              "outlinewidth": 0,
              "ticks": ""
             }
            },
            "type": "parcoords"
           }
          ],
          "pie": [
           {
            "automargin": true,
            "type": "pie"
           }
          ],
          "scatter": [
           {
            "fillpattern": {
             "fillmode": "overlay",
             "size": 10,
             "solidity": 0.2
            },
            "type": "scatter"
           }
          ],
          "scatter3d": [
           {
            "line": {
             "colorbar": {
              "outlinewidth": 0,
              "ticks": ""
             }
            },
            "marker": {
             "colorbar": {
              "outlinewidth": 0,
              "ticks": ""
             }
            },
            "type": "scatter3d"
           }
          ],
          "scattercarpet": [
           {
            "marker": {
             "colorbar": {
              "outlinewidth": 0,
              "ticks": ""
             }
            },
            "type": "scattercarpet"
           }
          ],
          "scattergeo": [
           {
            "marker": {
             "colorbar": {
              "outlinewidth": 0,
              "ticks": ""
             }
            },
            "type": "scattergeo"
           }
          ],
          "scattergl": [
           {
            "marker": {
             "colorbar": {
              "outlinewidth": 0,
              "ticks": ""
             }
            },
            "type": "scattergl"
           }
          ],
          "scattermap": [
           {
            "marker": {
             "colorbar": {
              "outlinewidth": 0,
              "ticks": ""
             }
            },
            "type": "scattermap"
           }
          ],
          "scattermapbox": [
           {
            "marker": {
             "colorbar": {
              "outlinewidth": 0,
              "ticks": ""
             }
            },
            "type": "scattermapbox"
           }
          ],
          "scatterpolar": [
           {
            "marker": {
             "colorbar": {
              "outlinewidth": 0,
              "ticks": ""
             }
            },
            "type": "scatterpolar"
           }
          ],
          "scatterpolargl": [
           {
            "marker": {
             "colorbar": {
              "outlinewidth": 0,
              "ticks": ""
             }
            },
            "type": "scatterpolargl"
           }
          ],
          "scatterternary": [
           {
            "marker": {
             "colorbar": {
              "outlinewidth": 0,
              "ticks": ""
             }
            },
            "type": "scatterternary"
           }
          ],
          "surface": [
           {
            "colorbar": {
             "outlinewidth": 0,
             "ticks": ""
            },
            "colorscale": [
             [
              0,
              "#0d0887"
             ],
             [
              0.1111111111111111,
              "#46039f"
             ],
             [
              0.2222222222222222,
              "#7201a8"
             ],
             [
              0.3333333333333333,
              "#9c179e"
             ],
             [
              0.4444444444444444,
              "#bd3786"
             ],
             [
              0.5555555555555556,
              "#d8576b"
             ],
             [
              0.6666666666666666,
              "#ed7953"
             ],
             [
              0.7777777777777778,
              "#fb9f3a"
             ],
             [
              0.8888888888888888,
              "#fdca26"
             ],
             [
              1,
              "#f0f921"
             ]
            ],
            "type": "surface"
           }
          ],
          "table": [
           {
            "cells": {
             "fill": {
              "color": "#EBF0F8"
             },
             "line": {
              "color": "white"
             }
            },
            "header": {
             "fill": {
              "color": "#C8D4E3"
             },
             "line": {
              "color": "white"
             }
            },
            "type": "table"
           }
          ]
         },
         "layout": {
          "annotationdefaults": {
           "arrowcolor": "#2a3f5f",
           "arrowhead": 0,
           "arrowwidth": 1
          },
          "autotypenumbers": "strict",
          "coloraxis": {
           "colorbar": {
            "outlinewidth": 0,
            "ticks": ""
           }
          },
          "colorscale": {
           "diverging": [
            [
             0,
             "#8e0152"
            ],
            [
             0.1,
             "#c51b7d"
            ],
            [
             0.2,
             "#de77ae"
            ],
            [
             0.3,
             "#f1b6da"
            ],
            [
             0.4,
             "#fde0ef"
            ],
            [
             0.5,
             "#f7f7f7"
            ],
            [
             0.6,
             "#e6f5d0"
            ],
            [
             0.7,
             "#b8e186"
            ],
            [
             0.8,
             "#7fbc41"
            ],
            [
             0.9,
             "#4d9221"
            ],
            [
             1,
             "#276419"
            ]
           ],
           "sequential": [
            [
             0,
             "#0d0887"
            ],
            [
             0.1111111111111111,
             "#46039f"
            ],
            [
             0.2222222222222222,
             "#7201a8"
            ],
            [
             0.3333333333333333,
             "#9c179e"
            ],
            [
             0.4444444444444444,
             "#bd3786"
            ],
            [
             0.5555555555555556,
             "#d8576b"
            ],
            [
             0.6666666666666666,
             "#ed7953"
            ],
            [
             0.7777777777777778,
             "#fb9f3a"
            ],
            [
             0.8888888888888888,
             "#fdca26"
            ],
            [
             1,
             "#f0f921"
            ]
           ],
           "sequentialminus": [
            [
             0,
             "#0d0887"
            ],
            [
             0.1111111111111111,
             "#46039f"
            ],
            [
             0.2222222222222222,
             "#7201a8"
            ],
            [
             0.3333333333333333,
             "#9c179e"
            ],
            [
             0.4444444444444444,
             "#bd3786"
            ],
            [
             0.5555555555555556,
             "#d8576b"
            ],
            [
             0.6666666666666666,
             "#ed7953"
            ],
            [
             0.7777777777777778,
             "#fb9f3a"
            ],
            [
             0.8888888888888888,
             "#fdca26"
            ],
            [
             1,
             "#f0f921"
            ]
           ]
          },
          "colorway": [
           "#636efa",
           "#EF553B",
           "#00cc96",
           "#ab63fa",
           "#FFA15A",
           "#19d3f3",
           "#FF6692",
           "#B6E880",
           "#FF97FF",
           "#FECB52"
          ],
          "font": {
           "color": "#2a3f5f"
          },
          "geo": {
           "bgcolor": "white",
           "lakecolor": "white",
           "landcolor": "#E5ECF6",
           "showlakes": true,
           "showland": true,
           "subunitcolor": "white"
          },
          "hoverlabel": {
           "align": "left"
          },
          "hovermode": "closest",
          "mapbox": {
           "style": "light"
          },
          "paper_bgcolor": "white",
          "plot_bgcolor": "#E5ECF6",
          "polar": {
           "angularaxis": {
            "gridcolor": "white",
            "linecolor": "white",
            "ticks": ""
           },
           "bgcolor": "#E5ECF6",
           "radialaxis": {
            "gridcolor": "white",
            "linecolor": "white",
            "ticks": ""
           }
          },
          "scene": {
           "xaxis": {
            "backgroundcolor": "#E5ECF6",
            "gridcolor": "white",
            "gridwidth": 2,
            "linecolor": "white",
            "showbackground": true,
            "ticks": "",
            "zerolinecolor": "white"
           },
           "yaxis": {
            "backgroundcolor": "#E5ECF6",
            "gridcolor": "white",
            "gridwidth": 2,
            "linecolor": "white",
            "showbackground": true,
            "ticks": "",
            "zerolinecolor": "white"
           },
           "zaxis": {
            "backgroundcolor": "#E5ECF6",
            "gridcolor": "white",
            "gridwidth": 2,
            "linecolor": "white",
            "showbackground": true,
            "ticks": "",
            "zerolinecolor": "white"
           }
          },
          "shapedefaults": {
           "line": {
            "color": "#2a3f5f"
           }
          },
          "ternary": {
           "aaxis": {
            "gridcolor": "white",
            "linecolor": "white",
            "ticks": ""
           },
           "baxis": {
            "gridcolor": "white",
            "linecolor": "white",
            "ticks": ""
           },
           "bgcolor": "#E5ECF6",
           "caxis": {
            "gridcolor": "white",
            "linecolor": "white",
            "ticks": ""
           }
          },
          "title": {
           "x": 0.05
          },
          "xaxis": {
           "automargin": true,
           "gridcolor": "white",
           "linecolor": "white",
           "ticks": "",
           "title": {
            "standoff": 15
           },
           "zerolinecolor": "white",
           "zerolinewidth": 2
          },
          "yaxis": {
           "automargin": true,
           "gridcolor": "white",
           "linecolor": "white",
           "ticks": "",
           "title": {
            "standoff": 15
           },
           "zerolinecolor": "white",
           "zerolinewidth": 2
          }
         }
        },
        "title": {
         "text": "Achivable Rate dirs = 40, Path size 5x5"
        },
        "xaxis": {
         "title": {
          "text": "Quantization Levels (2 raise to the power)"
         }
        },
        "yaxis": {
         "title": {
          "text": "Rate (bit/s/Hz)"
         }
        }
       }
      }
     },
     "metadata": {},
     "output_type": "display_data"
    }
   ],
   "source": [
    "# Create traces for real part\n",
    "mixfigure = go.Figure()\n",
    "mixfigure.add_trace(go.Scatter(x=np.arange(1, 11), y=max_rates, mode='lines+markers', name='Non qantized'))\n",
    "mixfigure.add_trace(go.Scatter(x=np.arange(1, 11), y=quantized_rate, mode='lines+markers', name='Quantized'))\n",
    "\n",
    "# Add titles and labels\n",
    "mixfigure.update_layout(\n",
    "    title='Achivable Rate dirs = 40, Path size 5x5',\n",
    "    xaxis_title='Quantization Levels (2 raise to the power)',\n",
    "    yaxis_title='Rate (bit/s/Hz)', # Optional: Dark theme, change if needed\n",
    ")"
   ]
  },
  {
   "cell_type": "code",
   "execution_count": null,
   "metadata": {},
   "outputs": [],
   "source": []
  }
 ],
 "metadata": {
  "kernelspec": {
   "display_name": "Python 3",
   "language": "python",
   "name": "python3"
  },
  "language_info": {
   "codemirror_mode": {
    "name": "ipython",
    "version": 3
   },
   "file_extension": ".py",
   "mimetype": "text/x-python",
   "name": "python",
   "nbconvert_exporter": "python",
   "pygments_lexer": "ipython3",
   "version": "3.10.5"
  }
 },
 "nbformat": 4,
 "nbformat_minor": 2
}
