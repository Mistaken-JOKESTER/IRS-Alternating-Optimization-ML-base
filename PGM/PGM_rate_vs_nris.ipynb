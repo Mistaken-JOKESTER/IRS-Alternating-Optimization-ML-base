{
 "cells": [
  {
   "cell_type": "code",
   "execution_count": 1,
   "metadata": {},
   "outputs": [],
   "source": [
    "import numpy as np\n",
    "import matplotlib.pyplot as plt\n",
    "from mpl_toolkits.mplot3d import Axes3D\n",
    "import plotly.graph_objects as go\n",
    "import seaborn as sns\n",
    "from scipy.optimize import minimize\n",
    "\n",
    "# Enable interactive plots\n"
   ]
  },
  {
   "cell_type": "code",
   "execution_count": 2,
   "metadata": {},
   "outputs": [],
   "source": [
    "import warnings\n",
    "\n",
    "warnings.filterwarnings('error', category=np.ComplexWarning)"
   ]
  },
  {
   "cell_type": "markdown",
   "metadata": {},
   "source": [
    "## Sytem Model"
   ]
  },
  {
   "cell_type": "code",
   "execution_count": 3,
   "metadata": {},
   "outputs": [],
   "source": [
    "# quantization_levels = 20\n",
    "\n",
    "# # transmit antennas \n",
    "# Nt = 8\n",
    "# # receiving antennas\n",
    "# Nr = 4\n",
    "\n",
    "# # both tx and rx antennas are placed in uniform linear arrays on vertical walls paraller to each other on a wall\n",
    "# D = 500\n",
    "\n",
    "# # wavelenght and frequency of operation\n",
    "# frequency = 2 * (10 ** 9)\n",
    "# wavelength = (3 * (10 ** 8))/frequency\n",
    "# antenna_spacing = wavelength/2\n",
    "\n",
    "# # inter antenna seperation distance\n",
    "# st = wavelength/2\n",
    "# sr = wavelength/2\n",
    "# # seperation between center of adjacent RIS elements in both dimension is\n",
    "# s_ris = wavelength / 2\n",
    "\n",
    "# # power in db = 10log10(power(watts))\n",
    "\n",
    "# # noise power (untis not mentioned in paper)\n",
    "# # -120 db\n",
    "# noise_power = (10 ** (-12))\n",
    "# # total average power transmit value Pt\n",
    "# # 0 db\n",
    "# Pt = 1\n",
    "\n",
    "# # path loss exponent for direct link influcend by obstacle present\n",
    "# alpha_dir = 3\n",
    "\n",
    "# # racian factor\n",
    "# racian_factor = 1\n",
    "\n",
    "# # backtracking line search parameters\n",
    "# L_note = 10**4\n",
    "# delta = 10 ** (-5)\n",
    "# row = 1/2\n",
    "# min_step_size = 10**(-4)\n",
    "# channel_iterations = 10\n",
    "\n",
    "# # dirs should be placed in vicinity of tx or rx\n",
    "# # if near tx Dris = 40\n",
    "# # if near rx Dris = D - 40\n",
    "\n",
    "# # distance between midpoint of RIS and the placne containing tx antennas\n",
    "# d_ris = 40\n",
    "# # distance between mid point of tx antenna arraya nd plane contining RIS is \n",
    "# lt = 20\n",
    "# # distance between rx antenna dn plane containing RIS\n",
    "# lr = 100\n",
    "\n",
    "# number_of_itr = 500\n",
    "\n",
    "# d_note = np.sqrt((D**2) + (lt-lr)**2)\n",
    "# beta_dir = ((4 * np.pi / wavelength) ** 2) * (d_note**alpha_dir)\n",
    "\n",
    "\n",
    "\n"
   ]
  },
  {
   "cell_type": "markdown",
   "metadata": {},
   "source": [
    "## Channel Model"
   ]
  },
  {
   "cell_type": "markdown",
   "metadata": {},
   "source": [
    "#### Distance matrices\n",
    "\n",
    "![Location setup](location.png)\n"
   ]
  },
  {
   "cell_type": "code",
   "execution_count": 4,
   "metadata": {},
   "outputs": [],
   "source": [
    "def Coordinates_system(Nt, lt, Nr, lr, Na, Nb, d_ris, D, wavelength):\n",
    "\n",
    "    # Spacing between antennas (in meters)\n",
    "    antenna_spacing = wavelength/2  \n",
    "\n",
    "    ######################################################################################################\n",
    "    # Tx coordinates\n",
    "    # x,y coordinates is zeros\n",
    "    tx_antenna_x_coor = np.ones(Nt) * 0\n",
    "    tx_antenna_y_coor = np.arange(Nt-1, -1, -1) * antenna_spacing + lt - ((Nt-1) * antenna_spacing)/2\n",
    "    tx_antenna_z_coor = np.ones(Nt) * 0\n",
    "\n",
    "\n",
    "    ######################################################################################################\n",
    "    # Rx coordinates\n",
    "    # x coordinate is D\n",
    "    # y coordinate is zeros\n",
    "    rx_antenna_x_coor = np.ones(Nr) * D\n",
    "    rx_antenna_y_coor = np.arange(Nr-1, -1, -1) * antenna_spacing + lr - ((Nr-1) * antenna_spacing)/2\n",
    "    rx_antenna_z_coor = np.ones(Nr) * 0\n",
    "\n",
    "\n",
    "    ######################################################################################################\n",
    "    # RIS coordinates\n",
    "    # on x axis we have Na elements\n",
    "    # on y axis we have Nb elements\n",
    "\n",
    "    # RIS z coordinates are zero\n",
    "    # RIS x coordinates \n",
    "    col = np.arange(0, Na, 1).reshape(-1, 1)\n",
    "    col = np.tile(col, Nb) * antenna_spacing + d_ris - ((Na-1) * antenna_spacing)/2\n",
    "    ris_elements_x_coor = col.reshape(-1,)\n",
    "\n",
    "    ris_elements_y_coor = np.ones(Na*Nb) * 0\n",
    "\n",
    "    # RIS y coordinates \n",
    "    col = np.arange(0, Nb, 1)\n",
    "    col = np.tile(col, Na) * antenna_spacing - ((Nb-1) * antenna_spacing)/2\n",
    "    ris_elements_z_coor = col.reshape(-1,)\n",
    "\n",
    "    return [\n",
    "        tx_antenna_x_coor,\n",
    "        tx_antenna_y_coor,\n",
    "        tx_antenna_z_coor,\n",
    "        rx_antenna_x_coor,\n",
    "        rx_antenna_y_coor,\n",
    "        rx_antenna_z_coor,\n",
    "        ris_elements_x_coor,\n",
    "        ris_elements_y_coor,\n",
    "        ris_elements_z_coor\n",
    "    ]\n",
    "    \n",
    "# Caluating distance vectors to be used in calulating path losses\n",
    "# generate N1xN2 size distance matrix\n",
    "# i,j elements refer to distance between ith element in mat1 and jth element in mat2\n",
    "def CalCulateDistance(N1, N2, mat1_x, mat1_y, mat1_z, mat2_x, mat2_y, mat2_z):\n",
    "    distance_matrix = np.zeros((N1, N2))\n",
    "\n",
    "    for n1 in range(N1):\n",
    "        for n2 in range(N2):\n",
    "            distance_matrix[n1,n2] = np.sqrt(\n",
    "                (mat1_x[n1] - mat2_x[n2]) ** 2 +\n",
    "                (mat1_y[n1] - mat2_y[n2]) ** 2 +\n",
    "                (mat1_z[n1] - mat2_z[n2]) ** 2 \n",
    "            )\n",
    "\n",
    "    return distance_matrix\n",
    "\n",
    "\n",
    "def GenerateDistanceMatrix(Nt, lt, Nr, lr, Na, Nb, d_ris, D, wavelength):\n",
    "    N_ris = Na * Nb\n",
    "    \n",
    "    # Rx and Tx\n",
    "    [\n",
    "        tx_antenna_x_coor,\n",
    "        tx_antenna_y_coor,\n",
    "        tx_antenna_z_coor,\n",
    "        rx_antenna_x_coor,\n",
    "        rx_antenna_y_coor,\n",
    "        rx_antenna_z_coor,\n",
    "        ris_elements_x_coor,\n",
    "        ris_elements_y_coor,\n",
    "        ris_elements_z_coor\n",
    "    ] = Coordinates_system(Nt, lt, Nr, lr, Na, Nb, d_ris, D, wavelength)\n",
    "    \n",
    "    distance_r_t = CalCulateDistance(Nr, Nt, \n",
    "        rx_antenna_x_coor, rx_antenna_y_coor, rx_antenna_z_coor,\n",
    "        tx_antenna_x_coor, tx_antenna_y_coor, tx_antenna_z_coor\n",
    "    )\n",
    "\n",
    "    # Ris and Tx\n",
    "    distance_ris_t = CalCulateDistance(N_ris, Nt, \n",
    "        ris_elements_x_coor, ris_elements_y_coor, ris_elements_z_coor,\n",
    "        tx_antenna_x_coor, tx_antenna_y_coor, tx_antenna_z_coor\n",
    "    )\n",
    "\n",
    "    # RIS and Rx\n",
    "    distance_r_ris = CalCulateDistance(Nr, N_ris, \n",
    "        rx_antenna_x_coor, rx_antenna_y_coor, rx_antenna_z_coor,\n",
    "        ris_elements_x_coor, ris_elements_y_coor, ris_elements_z_coor\n",
    "    )\n",
    "\n",
    "    return [\n",
    "        distance_r_t,\n",
    "        distance_ris_t,\n",
    "        distance_r_ris\n",
    "    ]\n",
    "\n"
   ]
  },
  {
   "cell_type": "code",
   "execution_count": 5,
   "metadata": {},
   "outputs": [],
   "source": [
    "# alpha\n",
    "# Free space pathloss exponent of the direct/indirect link, whose value is influenced by the obstacle present.\n",
    "def GenHLOS(distance_matrix, wavelength):\n",
    "    return np.exp(-1j * 2 * np.pi * distance_matrix / wavelength)\n",
    "\n",
    "\n",
    "# N1, N2 is dimensions of distance matrix used to generate HLOS\n",
    "def GenHNOLOS(N1, N2, varaince = 1):\n",
    "    real_part = np.random.normal(0, np.sqrt(varaince/2), (N1, N2))\n",
    "    imag_part = np.random.normal(0, np.sqrt(varaince/2), (N1, N2))\n",
    "\n",
    "    return (real_part + 1j * imag_part)\n",
    "\n",
    "\n",
    "# calculate general H \n",
    "def Calculate_H_LOSNLOS(N1, N2, distance_matrix, wavelength, racian_factor):\n",
    "    H_D_LOS = GenHLOS(distance_matrix, wavelength)\n",
    "    H_D_NLOS = GenHNOLOS(N1, N2, 2)\n",
    "    H_LOSNLOS = (np.sqrt(racian_factor) * H_D_LOS + H_D_NLOS)\n",
    "\n",
    "    return H_LOSNLOS\n",
    "\n",
    "\n",
    "# calculate H DIR (Direct channel between tx and rx)\n",
    "# alpha value is influenced by the obstacle present\n",
    "def Calculate_H_DIR(Nr, Nt, distance_matrix_r_t, wavelength, alpha_dir, D, lt, lr, racian_factor):\n",
    "    d_note = np.sqrt((D ** 2) + ((lt-lr) ** 2))\n",
    "    beta_DIR = ((4 * np.pi / wavelength) ** 2) * (d_note ** alpha_dir)\n",
    "    \n",
    "    H_DIR = np.sqrt(1/(beta_DIR * (racian_factor + 1))) * Calculate_H_LOSNLOS(Nr, Nt, distance_matrix_r_t, wavelength, racian_factor)\n",
    "    return H_DIR\n",
    "\n",
    "\n",
    "def Calculate_H1(N_ris, Nt, distance_matrix_ris_t, wavelength, racian_factor, beta_INDIR_inverse):\n",
    "    return  np.sqrt(beta_INDIR_inverse/(racian_factor + 1)) * Calculate_H_LOSNLOS(N_ris, Nt, distance_matrix_ris_t, wavelength, racian_factor)\n",
    "\n",
    "\n",
    "def Calculate_H2(Nr, N_ris, distance_matrix_r_ris, wavelength, racian_factor):\n",
    "    return np.sqrt(1/(racian_factor + 1)) * Calculate_H_LOSNLOS(Nr, N_ris, distance_matrix_r_ris, wavelength, racian_factor)\n",
    "\n",
    "\n",
    "# calculate H INDIR (Infirect Direct channel between tx and rx)\n",
    "def Calculate_H_INDIR(H1, H2, thetas, beta_INDIR_inverse):\n",
    "    F_theta = np.diag(thetas)\n",
    "    H_INDIR = np.matmul(H2, np.matmul(F_theta, H1))\n",
    "\n",
    "    return H_INDIR\n",
    "\n",
    "\n",
    "def Calculate_H(HDIR, HINDIR):\n",
    "    return HDIR + HINDIR\n",
    "\n",
    "    "
   ]
  },
  {
   "cell_type": "code",
   "execution_count": 6,
   "metadata": {},
   "outputs": [],
   "source": [
    "def Rate(Hdir, H2, H1, myomega, Q):\n",
    "    Z = Hdir + H2 @ np.diag(myomega) @ H1\n",
    "    Nr = H2.shape[0]\n",
    "    rate = np.real(np.log(np.linalg.det(np.eye(Nr) + Z @ Q @ Z.conj().T))) / np.log(2)\n",
    "    return rate\n"
   ]
  },
  {
   "cell_type": "markdown",
   "metadata": {},
   "source": [
    "## Projected Gradient Method"
   ]
  },
  {
   "cell_type": "code",
   "execution_count": 7,
   "metadata": {},
   "outputs": [],
   "source": [
    "import pandas as pd\n",
    "import csv\n",
    "\n",
    "def save_complex_matrix_to_csv(matrix, filename):\n",
    "    filename = 'D:/Ankit work/new_IRS/' + filename\n",
    "    real_part = np.real(matrix).flatten()\n",
    "    imag_part = np.imag(matrix).flatten()\n",
    "    \n",
    "    # Concatenate real and imaginary parts\n",
    "    combined = np.concatenate((real_part, imag_part))\n",
    "    \n",
    "    # Open the file in append mode\n",
    "    with open(filename, mode='a', newline='') as file:\n",
    "        writer = csv.writer(file)\n",
    "        writer.writerow(combined)"
   ]
  },
  {
   "cell_type": "code",
   "execution_count": 8,
   "metadata": {},
   "outputs": [],
   "source": [
    "def Calculate_Kappa(H_dir, H2, H1, Pt):\n",
    "    if H_dir.all() == 0:\n",
    "        return 10\n",
    "    else :\n",
    "        return 10 * max(1, 1/np.sqrt(Pt)) * np.sqrt( np.linalg.norm(H_dir)/ np.linalg.norm(np.matmul(H2, H1)))\n",
    "    \n",
    "    \n",
    "def Calculate_LTheta(a, b, Pt):\n",
    "  \"\"\"\n",
    "  Calculates the value of L_theta^2 based on equation (32).\n",
    "\n",
    "  Args:\n",
    "    a: The value of 'a'.\n",
    "    b: The value of 'b'.\n",
    "    Pt: The value of 'Pt'.\n",
    "\n",
    "  Returns:\n",
    "    The calculated value of L_theta^2.\n",
    "  \"\"\"\n",
    "\n",
    "  term1 = 2 * a * (b**5) + 4 * (a**2) * (b**2)\n",
    "  term2 = (a**3) * b + 2 * a * (b**7) + 8 * (a**2) * (b**4)\n",
    "  term3 = 3 * (a**3) * (b**3) + (a**4) + 4 * (a**2) * (b**6)\n",
    "  term4 = 2 * (a**3) * (b**5) + 4 * (a**4) * (b**2)\n",
    "  term5 = 4 * (a**4) * (b**4)\n",
    "\n",
    "  return term1 + term2 * Pt + term3 * (Pt**2) + term4 * (Pt**3) + term5 * (Pt**4)\n",
    "\n",
    "\n",
    "def Calculate_LQ(a, b, Pt):\n",
    "  \"\"\"\n",
    "  Calculates the value of L_Q^2 based on equation (33).\n",
    "\n",
    "  Args:\n",
    "    a: The value of 'a'.\n",
    "    b: The value of 'b'.\n",
    "    Pt: The value of 'Pt'.\n",
    "\n",
    "  Returns:\n",
    "    The calculated value of L_Q^2.\n",
    "  \"\"\"\n",
    "\n",
    "  term1 = (a**2) * (b**2) + (b**8) + 2 * a * (b**5)\n",
    "  term2 = 2 * (a**2) * (b**4) + (a**3) * b + 2 * a * (b**7)\n",
    "  term3 = (a**2) * (b**6) + 3 * (a**3) * (b**3)\n",
    "  term4 = 2 * (a**3) * (b**5)\n",
    "\n",
    "  return term1 + term2 * Pt + term3 * (Pt**2) + term4 * (Pt**3)\n",
    "\n",
    "\n",
    "def L_constant(H_dir_bar, H1_bar, H2, kappa, Pt_bar):\n",
    "    U_h1_bar, S_h1_bar, Vh_h1_bar = np.linalg.svd(H1_bar)\n",
    "    U_h2, S_h2, Vh_h2 = np.linalg.svd(H2)\n",
    "    U_H_dir_bar, S_H_dir_bar, Vh_H_dir_bar = np.linalg.svd(H_dir_bar)\n",
    "    \n",
    "    \n",
    "    lambda_max_h1_bar = np.max(S_h1_bar)\n",
    "    lambda_max_h2 = np.max(S_h2)\n",
    "    lambda_max_H_dir_bar = np.max(S_H_dir_bar)\n",
    "    \n",
    "    a = lambda_max_h1_bar * lambda_max_h2\n",
    "    b = lambda_max_H_dir_bar + lambda_max_h1_bar * lambda_max_h2 / kappa\n",
    "\n",
    "    L_2_theta = Calculate_LTheta(a,b, Pt_bar)\n",
    "    L_2_Q = Calculate_LQ(a, b, Pt_bar)\n",
    "\n",
    "    L = np.sqrt(max(L_2_theta, L_2_Q))\n",
    "    return L\n",
    "\n",
    "\n",
    "def water_fill(Pt, vect_in):\n",
    "    vect_in = np.real(vect_in).flatten()\n",
    "    sort_idx = np.argsort(vect_in)[::-1]\n",
    "    sort_val = vect_in[sort_idx]\n",
    "    n = len(vect_in)\n",
    "    for i in range(n, 0, -1):\n",
    "        water_level = (np.sum(sort_val[:i]) - Pt) / i\n",
    "        di = sort_val[:i] - water_level\n",
    "        if np.all(di >= 0):\n",
    "            break\n",
    "    vect_out = np.zeros_like(vect_in)\n",
    "    vect_out[sort_idx[:i]] = di\n",
    "    return vect_out\n",
    "\n",
    "def cov_mat_proj_modified(Qold, Pt):\n",
    "    D, U = np.linalg.eig(Qold)\n",
    "    Dnew = water_fill(Pt, D)\n",
    "    return U @ np.diag(Dnew) @ U.conj().T\n",
    "\n",
    "def project_onto_unit_circle(x):\n",
    "    return x / np.abs(x)\n",
    "\n",
    "def grad_cov(Hdir, H2, H1, myomega, Q):\n",
    "    Z = Hdir + H2 @ np.diag(myomega) @ H1\n",
    "    Nr = H2.shape[0]\n",
    "    return Z.conj().T @ np.linalg.inv(np.eye(Nr) + Z @ Q @ Z.conj().T) @ Z\n",
    "\n",
    "def grad_RIS(Hdir, H2, H1, myomega, Q):\n",
    "    Z = Hdir + H2 @ np.diag(myomega) @ H1\n",
    "    Nr = H2.shape[0]\n",
    "    return np.diag(H2.conj().T @ np.linalg.inv(np.eye(Nr) + Z @ Q @ Z.conj().T) @ Z @ Q @ H1.conj().T)\n",
    "\n",
    "\n",
    "def PGM(max_iterations, H_dir, H1, H2, Nr, D, initial_Q, initial_thetas, noise_power, Pt):\n",
    "    delta = 1e-5\n",
    "    rho = 0.5\n",
    "    stepsize = 10000\n",
    "    thetas = initial_thetas\n",
    "    Q = initial_Q\n",
    "    \n",
    "    kappa = Calculate_Kappa(H_dir, H2, H1, Pt)\n",
    "    \n",
    "    # Scaling data\n",
    "    Q = (kappa ** 2) * Q\n",
    "    thetas = thetas / kappa\n",
    "    H_dir = H_dir / (kappa * np.sqrt(noise_power))\n",
    "    H1 = H1 * (np.sqrt(1 / noise_power))\n",
    "\n",
    "    # inproved convergence rate by data scaling\n",
    "    # section 3.D\n",
    "    initial_rate = Rate(H_dir, H2, H1, thetas, Q)\n",
    "    rate = initial_rate\n",
    "    rates = np.zeros(max_iterations+1)\n",
    "    rates[0] = rate\n",
    "\n",
    "    # algo run for max_iteration times or rate convergers\n",
    "    for i in range(1, max_iterations+1):\n",
    "\n",
    "        del_Q = grad_cov(H_dir, H2, H1, thetas, Q)\n",
    "        del_thetas = grad_RIS(H_dir, H2, H1, thetas, Q)\n",
    "        \n",
    "        for _ in range(31):\n",
    "            Q_new = Q + stepsize * del_Q\n",
    "            Q_new = cov_mat_proj_modified(Q_new, Pt * (kappa ** 2))\n",
    "\n",
    "            thetas_new = thetas + stepsize * del_thetas\n",
    "            thetas_new = project_onto_unit_circle(thetas_new) / kappa\n",
    "\n",
    "            rate_new = Rate(H_dir, H2, H1, thetas_new, Q_new)\n",
    "\n",
    "            if (rate_new - rate >= delta * (np.linalg.norm(Q_new - Q) ** 2 + np.linalg.norm(thetas_new - thetas) ** 2)) or (stepsize < 1e-4):\n",
    "                thetas = thetas_new\n",
    "                Q = Q_new\n",
    "                rate = rate_new\n",
    "                break\n",
    "            else:\n",
    "                stepsize *= rho\n",
    "\n",
    "        rates[i] = rate\n",
    "        \n",
    "        \n",
    "        \n",
    "    \n",
    "    return [rates, 1, 1]\n",
    "\n",
    "        "
   ]
  },
  {
   "cell_type": "code",
   "execution_count": null,
   "metadata": {},
   "outputs": [],
   "source": [
    "\n",
    "def PGM_Quantized_last_step(max_iterations, H_dir, H1, H2, Nr, D, initial_Q, initial_thetas, noise_power, Pt, theta_quant_size):\n",
    "    # saving inputs\n",
    "    \n",
    "    delta = 1e-5\n",
    "    rho = 0.5\n",
    "    stepsize = 10000\n",
    "    thetas = initial_thetas\n",
    "    Q = initial_Q\n",
    "    \n",
    "    kappa = Calculate_Kappa(H_dir, H2, H1, Pt)\n",
    "    \n",
    "    # Scaling data\n",
    "    Q = (kappa ** 2) * Q\n",
    "    thetas = thetas / kappa\n",
    "    H_dir = H_dir / (kappa * np.sqrt(noise_power))\n",
    "    H1 = H1 * (np.sqrt(1 / noise_power))\n",
    "\n",
    "    # inproved convergence rate by data scaling\n",
    "    # section 3.D\n",
    "    initial_rate = Rate(H_dir, H2, H1, thetas, Q)\n",
    "    rate = initial_rate\n",
    "    rates = np.zeros(max_iterations+1)\n",
    "    rates[0] = rate\n",
    "\n",
    "    # algo run for max_iteration times or rate convergers\n",
    "    for i in range(1, max_iterations+1):\n",
    "\n",
    "        del_Q = grad_cov(H_dir, H2, H1, thetas, Q)\n",
    "        del_thetas = grad_RIS(H_dir, H2, H1, thetas, Q)\n",
    "        \n",
    "        for _ in range(31):\n",
    "            Q_new = Q + stepsize * del_Q\n",
    "            Q_new = cov_mat_proj_modified(Q_new, Pt * (kappa ** 2))\n",
    "\n",
    "            thetas_new = thetas + stepsize * del_thetas\n",
    "            thetas_new = project_onto_unit_circle(thetas_new) / kappa\n",
    "\n",
    "            rate_new = Rate(H_dir, H2, H1, thetas_new, Q_new)\n",
    "\n",
    "            if (rate_new - rate >= delta * (np.linalg.norm(Q_new - Q) ** 2 + np.linalg.norm(thetas_new - thetas) ** 2)) or (stepsize < 1e-4):\n",
    "                thetas = thetas_new\n",
    "                Q = Q_new\n",
    "                rate = rate_new\n",
    "                break\n",
    "            else:\n",
    "                stepsize *= rho\n",
    "\n",
    "        rates[i] = rate\n",
    "        \n",
    "    angle_rad = np.angle(thetas * kappa, deg=False)\n",
    "    \n",
    "    # Map angles to [0, 2π)\n",
    "    angles_rad_2pi = angle_rad + (angle_rad < 0) * 2 * np.pi\n",
    "    \n",
    "    quantized_angles = quantize_angles(angles_rad_2pi, theta_quant_size)\n",
    "    thetas = np.exp(1j * quantized_angles) / kappa\n",
    "    \n",
    "    # saving outputs\n",
    "    save_complex_matrix_to_csv(thetas , 'Thetas.csv')\n",
    "    save_complex_matrix_to_csv(Q, 'Q.csv')\n",
    "    \n",
    "    rate = Rate(H_dir, H2, H1, thetas, Q)\n",
    "    rates[max_iterations] = rate\n",
    "    \n",
    "    return [rates, thetas, Q]\n",
    "\n",
    "\n",
    "\n",
    "def quantize_angles(angles, n):\n",
    "    \"\"\"\n",
    "    Quantizes the angles between 0 and 2π into n levels.\n",
    "\n",
    "    Args:\n",
    "    angles (numpy array): Array of angles between 0 and 2π.\n",
    "    n (int): Number of quantization levels.\n",
    "\n",
    "    Returns:\n",
    "    numpy array: Quantized angles.\n",
    "    \"\"\"\n",
    "    \n",
    "    # Generate quantization levels\n",
    "    quant_levels = np.linspace(0, 2 * np.pi, n, endpoint=False)\n",
    "    \n",
    "    # Find the closest quantization level for each angle\n",
    "    quantized_angles = np.array([quant_levels[np.argmin(np.abs(quant_levels - angle))] for angle in angles])\n",
    "    \n",
    "    return quantized_angles"
   ]
  },
  {
   "cell_type": "markdown",
   "metadata": {},
   "source": [
    "## Simulation parameter"
   ]
  },
  {
   "cell_type": "code",
   "execution_count": 10,
   "metadata": {},
   "outputs": [],
   "source": [
    "import numpy as np\n",
    "import matplotlib.pyplot as plt\n",
    "\n",
    "def plot_complex_matrix_line(H, name):\n",
    "    \"\"\"\n",
    "    Plots real and imaginary parts of a complex matrix H as line plots.\n",
    "    Matrix is flattened row-wise.\n",
    "    \"\"\"\n",
    "    H = np.array(H).flatten()\n",
    "    \n",
    "    plt.figure(figsize=(8, 4))\n",
    "    plt.plot(np.real(H), label='Real Part', color='blue')\n",
    "    plt.plot(np.imag(H), label='Imaginary Part', color='orange')\n",
    "    \n",
    "    plt.xlabel('Element Index')\n",
    "    plt.ylabel('Value')\n",
    "    plt.title(f'Line Plot of Real and Imaginary Parts of Complex Matrix {name}')\n",
    "    plt.legend()\n",
    "    plt.grid(True)\n",
    "    plt.tight_layout()\n",
    "    plt.show()\n"
   ]
  },
  {
   "cell_type": "code",
   "execution_count": 18,
   "metadata": {},
   "outputs": [],
   "source": [
    "def Max_rate_for_NRIS(Nt, lt, Nr, lr, D, d_ris, Na, Nb, wavelength, alpha_dir, racian_factor, Pt, noise_power):\n",
    "    \n",
    "    max_iterations = 500\n",
    "    rate_average = np.zeros(max_iterations+1)\n",
    "    average_over = 10\n",
    "    step_boost = 0\n",
    "\n",
    "    d1 = np.sqrt(d_ris ** 2 + lt ** 2)\n",
    "    d2 = np.sqrt((D - d_ris) ** 2 + lr ** 2)\n",
    "    beta_INDIR_inverse = ((wavelength**4)/(256 * (np.pi ** 2))) * (((lt/d1 + lr/d2)**2) / ((d1*d2)**2))\n",
    "\n",
    "    N_ris = Na * Nb\n",
    "    Nl = N_ris\n",
    "    \n",
    "    [\n",
    "        distance_r_t,\n",
    "        distance_ris_t,\n",
    "        distance_r_ris\n",
    "    ] = GenerateDistanceMatrix(Nt, lt, Nr, lr, Na, Nb, d_ris, D, wavelength)\n",
    "\n",
    "    initial_thetas = np.ones(N_ris, dtype=np.complex64)\n",
    "    intial_Q = (Pt/Nt) * np.eye(Nt)\n",
    "\n",
    "    print(f\"IRS Elements: {Na*Na}, size: {Na}x{Nb}.\\n\\tIteration Number:\", end=\" \")\n",
    "    for i in range(average_over):\n",
    "        print(i, end=\" \")\n",
    "        H_dir = Calculate_H_DIR(Nr, Nt, distance_r_t, wavelength, alpha_dir, D, lt, lr, racian_factor)\n",
    "        H1 = Calculate_H1(N_ris, Nt, distance_ris_t, wavelength, racian_factor, beta_INDIR_inverse)\n",
    "        H2 = Calculate_H2(Nr, N_ris, distance_r_ris, wavelength, racian_factor)\n",
    "\n",
    "        [rates, tt, qq] = PGM(max_iterations, H_dir, H1, H2, Nr, D, intial_Q, initial_thetas, noise_power, Pt)\n",
    "        rate_average += rates / average_over\n",
    "\n",
    "    print()\n",
    "    return rate_average[-1]\n",
    "    # rate_average = rate_average \n",
    "\n",
    "    "
   ]
  },
  {
   "cell_type": "code",
   "execution_count": null,
   "metadata": {},
   "outputs": [
    {
     "name": "stdout",
     "output_type": "stream",
     "text": [
      "1\n",
      "IRS Elements: 25, size: 5x5.\n",
      "\tIteration Number: 0 1 2 3 4 5 6 7 8 9 \n",
      "2\n",
      "IRS Elements: 100, size: 10x10.\n",
      "\tIteration Number: 0 1 2 3 4 5 6 7 8 9 \n",
      "3\n",
      "IRS Elements: 225, size: 15x15.\n",
      "\tIteration Number: 0 1 2 3 4 5 6 7 8 9 \n",
      "4\n",
      "IRS Elements: 400, size: 20x20.\n",
      "\tIteration Number: 0 1 2 3 4 5 6 7 8 9 \n",
      "5\n",
      "IRS Elements: 625, size: 25x25.\n",
      "\tIteration Number: 0 1 2 3 4 5 6 7 8 9 \n",
      "6\n",
      "IRS Elements: 900, size: 30x30.\n",
      "\tIteration Number: 0 1 2 3 4 5 6 7 8 9 \n"
     ]
    }
   ],
   "source": [
    "# transmit antennas \n",
    "Nt = 8\n",
    "# receiving antennas\n",
    "Nr = 4\n",
    "\n",
    "# both tx and rx antennas are placed in uniform linear arrays on vertical walls paraller to each other on a wall\n",
    "D = 500\n",
    "\n",
    "# wavelenght and frequency of operation\n",
    "frequency = 2 * (10 ** 9)\n",
    "wavelength = (3 * (10 ** 8))/frequency\n",
    "antenna_spacing = wavelength/2\n",
    "\n",
    "# inter antenna seperation distance\n",
    "st = wavelength/2\n",
    "sr = wavelength/2\n",
    "# seperation between center of adjacent RIS elements in both dimension is\n",
    "s_ris = wavelength / 2\n",
    "\n",
    "# power in db = 10log10(power(watts))\n",
    "\n",
    "# noise power (untis not mentioned in paper)\n",
    "# -120 db\n",
    "noise_power = (10 ** (-12))\n",
    "# total average power transmit value Pt\n",
    "# 0 db\n",
    "Pt = 1\n",
    "\n",
    "# path loss exponent for direct link influcend by obstacle present\n",
    "alpha_dir = 3\n",
    "\n",
    "# racian factor\n",
    "racian_factor = 1\n",
    "\n",
    "# backtracking line search parameters\n",
    "L_note = 10**4\n",
    "delta = 10 ** (-5)\n",
    "row = 1/2\n",
    "min_step_size = 10**(-4)\n",
    "channel_iterations = 10\n",
    "\n",
    "# dirs should be placed in vicinity of tx or rx\n",
    "# if near tx Dris = 40\n",
    "# if near rx Dris = D - 40\n",
    "\n",
    "# distance between midpoint of RIS and the placne containing tx antennas\n",
    "d_ris = 40\n",
    "# distance between mid point of tx antenna arraya nd plane contining RIS is \n",
    "lt = 20\n",
    "# distance between rx antenna dn plane containing RIS\n",
    "lr = 100\n",
    "\n",
    "number_of_itr = 500\n",
    "\n",
    "d_note = np.sqrt((D**2) + (lt-lr)**2)\n",
    "beta_dir = ((4 * np.pi / wavelength) ** 2) * (d_note**alpha_dir)\n",
    "\n",
    "\n",
    "Na_ = 5\n",
    "Nris_count = np.zeros(6)\n",
    "Nris_rates = np.zeros(6)\n",
    "for i in range(1, 7):\n",
    "    Nb_ = Na_ \n",
    "    Nris_count[i-1] = Na_\n",
    "    print(i)\n",
    "    rate = Max_rate_for_NRIS(Nt, lt, Nr, lr, D, d_ris, Na_, Nb_, wavelength, alpha_dir, racian_factor, Pt, noise_power)\n",
    "    Nris_rates[i-1] = rate \n",
    "    \n",
    "    Na_ = Na_ + 5\n",
    " \n",
    "\n"
   ]
  },
  {
   "cell_type": "code",
   "execution_count": 26,
   "metadata": {},
   "outputs": [
    {
     "data": {
      "application/vnd.plotly.v1+json": {
       "config": {
        "plotlyServerURL": "https://plot.ly"
       },
       "data": [
        {
         "line": {
          "color": "blue",
          "width": 1
         },
         "marker": {
          "color": "red",
          "size": 4
         },
         "mode": "lines+markers",
         "name": "Line with Markers",
         "type": "scatter",
         "x": {
          "bdata": "AAAAAAAAOUAAAAAAAABZQAAAAAAAIGxAAAAAAAAAeUAAAAAAAIiDQAAAAAAAIIxA",
          "dtype": "f8"
         },
         "y": {
          "bdata": "HEf2gpmFIED4s5VMJeEiQLqdgDNnlCdAqIvstz4QLEBySWHdl3gxQEyXcNmfmDNA",
          "dtype": "f8"
         }
        }
       ],
       "layout": {
        "template": {
         "data": {
          "bar": [
           {
            "error_x": {
             "color": "#2a3f5f"
            },
            "error_y": {
             "color": "#2a3f5f"
            },
            "marker": {
             "line": {
              "color": "#E5ECF6",
              "width": 0.5
             },
             "pattern": {
              "fillmode": "overlay",
              "size": 10,
              "solidity": 0.2
             }
            },
            "type": "bar"
           }
          ],
          "barpolar": [
           {
            "marker": {
             "line": {
              "color": "#E5ECF6",
              "width": 0.5
             },
             "pattern": {
              "fillmode": "overlay",
              "size": 10,
              "solidity": 0.2
             }
            },
            "type": "barpolar"
           }
          ],
          "carpet": [
           {
            "aaxis": {
             "endlinecolor": "#2a3f5f",
             "gridcolor": "white",
             "linecolor": "white",
             "minorgridcolor": "white",
             "startlinecolor": "#2a3f5f"
            },
            "baxis": {
             "endlinecolor": "#2a3f5f",
             "gridcolor": "white",
             "linecolor": "white",
             "minorgridcolor": "white",
             "startlinecolor": "#2a3f5f"
            },
            "type": "carpet"
           }
          ],
          "choropleth": [
           {
            "colorbar": {
             "outlinewidth": 0,
             "ticks": ""
            },
            "type": "choropleth"
           }
          ],
          "contour": [
           {
            "colorbar": {
             "outlinewidth": 0,
             "ticks": ""
            },
            "colorscale": [
             [
              0,
              "#0d0887"
             ],
             [
              0.1111111111111111,
              "#46039f"
             ],
             [
              0.2222222222222222,
              "#7201a8"
             ],
             [
              0.3333333333333333,
              "#9c179e"
             ],
             [
              0.4444444444444444,
              "#bd3786"
             ],
             [
              0.5555555555555556,
              "#d8576b"
             ],
             [
              0.6666666666666666,
              "#ed7953"
             ],
             [
              0.7777777777777778,
              "#fb9f3a"
             ],
             [
              0.8888888888888888,
              "#fdca26"
             ],
             [
              1,
              "#f0f921"
             ]
            ],
            "type": "contour"
           }
          ],
          "contourcarpet": [
           {
            "colorbar": {
             "outlinewidth": 0,
             "ticks": ""
            },
            "type": "contourcarpet"
           }
          ],
          "heatmap": [
           {
            "colorbar": {
             "outlinewidth": 0,
             "ticks": ""
            },
            "colorscale": [
             [
              0,
              "#0d0887"
             ],
             [
              0.1111111111111111,
              "#46039f"
             ],
             [
              0.2222222222222222,
              "#7201a8"
             ],
             [
              0.3333333333333333,
              "#9c179e"
             ],
             [
              0.4444444444444444,
              "#bd3786"
             ],
             [
              0.5555555555555556,
              "#d8576b"
             ],
             [
              0.6666666666666666,
              "#ed7953"
             ],
             [
              0.7777777777777778,
              "#fb9f3a"
             ],
             [
              0.8888888888888888,
              "#fdca26"
             ],
             [
              1,
              "#f0f921"
             ]
            ],
            "type": "heatmap"
           }
          ],
          "histogram": [
           {
            "marker": {
             "pattern": {
              "fillmode": "overlay",
              "size": 10,
              "solidity": 0.2
             }
            },
            "type": "histogram"
           }
          ],
          "histogram2d": [
           {
            "colorbar": {
             "outlinewidth": 0,
             "ticks": ""
            },
            "colorscale": [
             [
              0,
              "#0d0887"
             ],
             [
              0.1111111111111111,
              "#46039f"
             ],
             [
              0.2222222222222222,
              "#7201a8"
             ],
             [
              0.3333333333333333,
              "#9c179e"
             ],
             [
              0.4444444444444444,
              "#bd3786"
             ],
             [
              0.5555555555555556,
              "#d8576b"
             ],
             [
              0.6666666666666666,
              "#ed7953"
             ],
             [
              0.7777777777777778,
              "#fb9f3a"
             ],
             [
              0.8888888888888888,
              "#fdca26"
             ],
             [
              1,
              "#f0f921"
             ]
            ],
            "type": "histogram2d"
           }
          ],
          "histogram2dcontour": [
           {
            "colorbar": {
             "outlinewidth": 0,
             "ticks": ""
            },
            "colorscale": [
             [
              0,
              "#0d0887"
             ],
             [
              0.1111111111111111,
              "#46039f"
             ],
             [
              0.2222222222222222,
              "#7201a8"
             ],
             [
              0.3333333333333333,
              "#9c179e"
             ],
             [
              0.4444444444444444,
              "#bd3786"
             ],
             [
              0.5555555555555556,
              "#d8576b"
             ],
             [
              0.6666666666666666,
              "#ed7953"
             ],
             [
              0.7777777777777778,
              "#fb9f3a"
             ],
             [
              0.8888888888888888,
              "#fdca26"
             ],
             [
              1,
              "#f0f921"
             ]
            ],
            "type": "histogram2dcontour"
           }
          ],
          "mesh3d": [
           {
            "colorbar": {
             "outlinewidth": 0,
             "ticks": ""
            },
            "type": "mesh3d"
           }
          ],
          "parcoords": [
           {
            "line": {
             "colorbar": {
              "outlinewidth": 0,
              "ticks": ""
             }
            },
            "type": "parcoords"
           }
          ],
          "pie": [
           {
            "automargin": true,
            "type": "pie"
           }
          ],
          "scatter": [
           {
            "fillpattern": {
             "fillmode": "overlay",
             "size": 10,
             "solidity": 0.2
            },
            "type": "scatter"
           }
          ],
          "scatter3d": [
           {
            "line": {
             "colorbar": {
              "outlinewidth": 0,
              "ticks": ""
             }
            },
            "marker": {
             "colorbar": {
              "outlinewidth": 0,
              "ticks": ""
             }
            },
            "type": "scatter3d"
           }
          ],
          "scattercarpet": [
           {
            "marker": {
             "colorbar": {
              "outlinewidth": 0,
              "ticks": ""
             }
            },
            "type": "scattercarpet"
           }
          ],
          "scattergeo": [
           {
            "marker": {
             "colorbar": {
              "outlinewidth": 0,
              "ticks": ""
             }
            },
            "type": "scattergeo"
           }
          ],
          "scattergl": [
           {
            "marker": {
             "colorbar": {
              "outlinewidth": 0,
              "ticks": ""
             }
            },
            "type": "scattergl"
           }
          ],
          "scattermap": [
           {
            "marker": {
             "colorbar": {
              "outlinewidth": 0,
              "ticks": ""
             }
            },
            "type": "scattermap"
           }
          ],
          "scattermapbox": [
           {
            "marker": {
             "colorbar": {
              "outlinewidth": 0,
              "ticks": ""
             }
            },
            "type": "scattermapbox"
           }
          ],
          "scatterpolar": [
           {
            "marker": {
             "colorbar": {
              "outlinewidth": 0,
              "ticks": ""
             }
            },
            "type": "scatterpolar"
           }
          ],
          "scatterpolargl": [
           {
            "marker": {
             "colorbar": {
              "outlinewidth": 0,
              "ticks": ""
             }
            },
            "type": "scatterpolargl"
           }
          ],
          "scatterternary": [
           {
            "marker": {
             "colorbar": {
              "outlinewidth": 0,
              "ticks": ""
             }
            },
            "type": "scatterternary"
           }
          ],
          "surface": [
           {
            "colorbar": {
             "outlinewidth": 0,
             "ticks": ""
            },
            "colorscale": [
             [
              0,
              "#0d0887"
             ],
             [
              0.1111111111111111,
              "#46039f"
             ],
             [
              0.2222222222222222,
              "#7201a8"
             ],
             [
              0.3333333333333333,
              "#9c179e"
             ],
             [
              0.4444444444444444,
              "#bd3786"
             ],
             [
              0.5555555555555556,
              "#d8576b"
             ],
             [
              0.6666666666666666,
              "#ed7953"
             ],
             [
              0.7777777777777778,
              "#fb9f3a"
             ],
             [
              0.8888888888888888,
              "#fdca26"
             ],
             [
              1,
              "#f0f921"
             ]
            ],
            "type": "surface"
           }
          ],
          "table": [
           {
            "cells": {
             "fill": {
              "color": "#EBF0F8"
             },
             "line": {
              "color": "white"
             }
            },
            "header": {
             "fill": {
              "color": "#C8D4E3"
             },
             "line": {
              "color": "white"
             }
            },
            "type": "table"
           }
          ]
         },
         "layout": {
          "annotationdefaults": {
           "arrowcolor": "#2a3f5f",
           "arrowhead": 0,
           "arrowwidth": 1
          },
          "autotypenumbers": "strict",
          "coloraxis": {
           "colorbar": {
            "outlinewidth": 0,
            "ticks": ""
           }
          },
          "colorscale": {
           "diverging": [
            [
             0,
             "#8e0152"
            ],
            [
             0.1,
             "#c51b7d"
            ],
            [
             0.2,
             "#de77ae"
            ],
            [
             0.3,
             "#f1b6da"
            ],
            [
             0.4,
             "#fde0ef"
            ],
            [
             0.5,
             "#f7f7f7"
            ],
            [
             0.6,
             "#e6f5d0"
            ],
            [
             0.7,
             "#b8e186"
            ],
            [
             0.8,
             "#7fbc41"
            ],
            [
             0.9,
             "#4d9221"
            ],
            [
             1,
             "#276419"
            ]
           ],
           "sequential": [
            [
             0,
             "#0d0887"
            ],
            [
             0.1111111111111111,
             "#46039f"
            ],
            [
             0.2222222222222222,
             "#7201a8"
            ],
            [
             0.3333333333333333,
             "#9c179e"
            ],
            [
             0.4444444444444444,
             "#bd3786"
            ],
            [
             0.5555555555555556,
             "#d8576b"
            ],
            [
             0.6666666666666666,
             "#ed7953"
            ],
            [
             0.7777777777777778,
             "#fb9f3a"
            ],
            [
             0.8888888888888888,
             "#fdca26"
            ],
            [
             1,
             "#f0f921"
            ]
           ],
           "sequentialminus": [
            [
             0,
             "#0d0887"
            ],
            [
             0.1111111111111111,
             "#46039f"
            ],
            [
             0.2222222222222222,
             "#7201a8"
            ],
            [
             0.3333333333333333,
             "#9c179e"
            ],
            [
             0.4444444444444444,
             "#bd3786"
            ],
            [
             0.5555555555555556,
             "#d8576b"
            ],
            [
             0.6666666666666666,
             "#ed7953"
            ],
            [
             0.7777777777777778,
             "#fb9f3a"
            ],
            [
             0.8888888888888888,
             "#fdca26"
            ],
            [
             1,
             "#f0f921"
            ]
           ]
          },
          "colorway": [
           "#636efa",
           "#EF553B",
           "#00cc96",
           "#ab63fa",
           "#FFA15A",
           "#19d3f3",
           "#FF6692",
           "#B6E880",
           "#FF97FF",
           "#FECB52"
          ],
          "font": {
           "color": "#2a3f5f"
          },
          "geo": {
           "bgcolor": "white",
           "lakecolor": "white",
           "landcolor": "#E5ECF6",
           "showlakes": true,
           "showland": true,
           "subunitcolor": "white"
          },
          "hoverlabel": {
           "align": "left"
          },
          "hovermode": "closest",
          "mapbox": {
           "style": "light"
          },
          "paper_bgcolor": "white",
          "plot_bgcolor": "#E5ECF6",
          "polar": {
           "angularaxis": {
            "gridcolor": "white",
            "linecolor": "white",
            "ticks": ""
           },
           "bgcolor": "#E5ECF6",
           "radialaxis": {
            "gridcolor": "white",
            "linecolor": "white",
            "ticks": ""
           }
          },
          "scene": {
           "xaxis": {
            "backgroundcolor": "#E5ECF6",
            "gridcolor": "white",
            "gridwidth": 2,
            "linecolor": "white",
            "showbackground": true,
            "ticks": "",
            "zerolinecolor": "white"
           },
           "yaxis": {
            "backgroundcolor": "#E5ECF6",
            "gridcolor": "white",
            "gridwidth": 2,
            "linecolor": "white",
            "showbackground": true,
            "ticks": "",
            "zerolinecolor": "white"
           },
           "zaxis": {
            "backgroundcolor": "#E5ECF6",
            "gridcolor": "white",
            "gridwidth": 2,
            "linecolor": "white",
            "showbackground": true,
            "ticks": "",
            "zerolinecolor": "white"
           }
          },
          "shapedefaults": {
           "line": {
            "color": "#2a3f5f"
           }
          },
          "ternary": {
           "aaxis": {
            "gridcolor": "white",
            "linecolor": "white",
            "ticks": ""
           },
           "baxis": {
            "gridcolor": "white",
            "linecolor": "white",
            "ticks": ""
           },
           "bgcolor": "#E5ECF6",
           "caxis": {
            "gridcolor": "white",
            "linecolor": "white",
            "ticks": ""
           }
          },
          "title": {
           "x": 0.05
          },
          "xaxis": {
           "automargin": true,
           "gridcolor": "white",
           "linecolor": "white",
           "ticks": "",
           "title": {
            "standoff": 15
           },
           "zerolinecolor": "white",
           "zerolinewidth": 2
          },
          "yaxis": {
           "automargin": true,
           "gridcolor": "white",
           "linecolor": "white",
           "ticks": "",
           "title": {
            "standoff": 15
           },
           "zerolinecolor": "white",
           "zerolinewidth": 2
          }
         }
        },
        "title": {
         "text": "Achivable rate (dirs = 40)"
        },
        "xaxis": {
         "title": {
          "text": "IRS Elements Count"
         }
        },
        "yaxis": {
         "title": {
          "text": "Rate (bit/s/Hz)"
         }
        }
       }
      }
     },
     "metadata": {},
     "output_type": "display_data"
    }
   ],
   "source": [
    "# Create the line plot\n",
    "normal_rate_fig = go.Figure(data=[go.Scatter(\n",
    "    x=(Nris_count)**2,\n",
    "    y=Nris_rates, \n",
    "    mode='lines+markers',  # Line + Markers\n",
    "    marker=dict(size=4, color='red'),  # Marker style\n",
    "    line=dict(color='blue', width=1),  # Line style\n",
    "    name='Line with Markers'\n",
    ")])\n",
    "\n",
    "\n",
    "# Add titles and labels\n",
    "normal_rate_fig.update_layout(\n",
    "    title='Achivable rate (dirs = 40)',\n",
    "    xaxis_title='IRS Elements Count',\n",
    "    yaxis_title='Rate (bit/s/Hz)',  # Optional: Dark theme, change if needed\n",
    ")"
   ]
  },
  {
   "cell_type": "code",
   "execution_count": null,
   "metadata": {},
   "outputs": [],
   "source": [
    "# transmit antennas \n",
    "Nt = 8\n",
    "# receiving antennas\n",
    "Nr = 4\n",
    "\n",
    "# both tx and rx antennas are placed in uniform linear arrays on vertical walls paraller to each other on a wall\n",
    "D = 500\n",
    "\n",
    "# wavelenght and frequency of operation\n",
    "frequency = 2 * (10 ** 9)\n",
    "wavelength = (3 * (10 ** 8))/frequency\n",
    "antenna_spacing = wavelength/2\n",
    "\n",
    "# inter antenna seperation distance\n",
    "st = wavelength/2\n",
    "sr = wavelength/2\n",
    "# seperation between center of adjacent RIS elements in both dimension is\n",
    "s_ris = wavelength / 2\n",
    "\n",
    "# power in db = 10log10(power(watts))\n",
    "\n",
    "# noise power (untis not mentioned in paper)\n",
    "# -120 db\n",
    "noise_power = (10 ** (-12))\n",
    "# total average power transmit value Pt\n",
    "# 0 db\n",
    "Pt = 1\n",
    "\n",
    "# path loss exponent for direct link influcend by obstacle present\n",
    "alpha_dir = 3\n",
    "\n",
    "# racian factor\n",
    "racian_factor = 1\n",
    "\n",
    "# backtracking line search parameters\n",
    "L_note = 10**4\n",
    "delta = 10 ** (-5)\n",
    "row = 1/2\n",
    "min_step_size = 10**(-4)\n",
    "channel_iterations = 10\n",
    "\n",
    "# dirs should be placed in vicinity of tx or rx\n",
    "# if near tx Dris = 40\n",
    "# if near rx Dris = D - 40\n",
    "\n",
    "# distance between midpoint of RIS and the placne containing tx antennas\n",
    "d_ris = 40\n",
    "# distance between mid point of tx antenna arraya nd plane contining RIS is \n",
    "lt = 20\n",
    "# distance between rx antenna dn plane containing RIS\n",
    "lr = 100\n",
    "\n",
    "number_of_itr = 500\n",
    "\n",
    "d_note = np.sqrt((D**2) + (lt-lr)**2)\n",
    "beta_dir = ((4 * np.pi / wavelength) ** 2) * (d_note**alpha_dir)\n",
    "\n",
    "\n",
    "Na = 15\n",
    "Nb = 15\n",
    "Nris_count_to_gather = np.zeros(6)\n",
    "Nris_rates_to_gather = np.zeros(6)\n",
    "for i in range(1, 7):\n",
    "    Nb_ = 2*Na_\n",
    "    Nris_count_to_gather[i-1] = Na_\n",
    "    rate = Max_rate_for_NRIS(Nt, lt, Nr, lr, D, d_ris, Nb_, Nb_, wavelength, alpha_dir, racian_factor, Pt, noise_power)\n",
    "    Nris_rates_to_gather[i-1] = rate \n",
    "    \n",
    "    Na_ = Na_ + 5 * i\n",
    "    \n",
    "Na_ = 5\n",
    "Nris_count_seperate = np.zeros(6)\n",
    "Nris_rates_seperate = np.zeros(6)\n",
    "for i in range(1, 7):\n",
    "    Nb_ = 2*Na_\n",
    "    Nris_count_seperate[i-1] = Na_\n",
    "    rate = Max_rate_for_NRIS(Nt, lt, Nr, lr, D, d_ris, Nb_, Nb_, wavelength, alpha_dir, racian_factor, Pt, noise_power)\n",
    "    Nris_rates_seperate[i-1] = rate \n",
    "    \n",
    "    Na_ = Na_ + 5 * i\n",
    " \n",
    "\n"
   ]
  },
  {
   "cell_type": "code",
   "execution_count": null,
   "metadata": {},
   "outputs": [],
   "source": []
  }
 ],
 "metadata": {
  "kernelspec": {
   "display_name": "Python 3",
   "language": "python",
   "name": "python3"
  },
  "language_info": {
   "codemirror_mode": {
    "name": "ipython",
    "version": 3
   },
   "file_extension": ".py",
   "mimetype": "text/x-python",
   "name": "python",
   "nbconvert_exporter": "python",
   "pygments_lexer": "ipython3",
   "version": "3.10.5"
  }
 },
 "nbformat": 4,
 "nbformat_minor": 2
}
