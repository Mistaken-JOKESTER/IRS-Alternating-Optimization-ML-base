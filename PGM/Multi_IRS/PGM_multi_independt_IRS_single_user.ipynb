{
 "cells": [
  {
   "cell_type": "code",
   "execution_count": 1,
   "metadata": {},
   "outputs": [],
   "source": [
    "import numpy as np\n",
    "import matplotlib.pyplot as plt\n",
    "from mpl_toolkits.mplot3d import Axes3D\n",
    "import plotly.graph_objects as go\n",
    "import seaborn as sns\n",
    "from scipy.optimize import minimize\n",
    "\n",
    "# Enable interactive plots\n"
   ]
  },
  {
   "cell_type": "code",
   "execution_count": 2,
   "metadata": {},
   "outputs": [],
   "source": [
    "import warnings\n",
    "\n",
    "warnings.filterwarnings('error', category=np.ComplexWarning)"
   ]
  },
  {
   "cell_type": "markdown",
   "metadata": {},
   "source": [
    "## Sytem Model"
   ]
  },
  {
   "cell_type": "markdown",
   "metadata": {},
   "source": [
    "## Channel Model"
   ]
  },
  {
   "cell_type": "markdown",
   "metadata": {},
   "source": [
    "#### Distance matrices\n",
    "\n",
    "![Location setup](../location.png)\n"
   ]
  },
  {
   "cell_type": "code",
   "execution_count": 30,
   "metadata": {},
   "outputs": [],
   "source": [
    "def Coordinates_system(Nt, lt, Nr, lr, Na, Nb, d_ris, D, wavelength):\n",
    "\n",
    "    # Spacing between antennas (in meters)\n",
    "    antenna_spacing = wavelength/2  \n",
    "\n",
    "    ######################################################################################################\n",
    "    # Tx coordinates\n",
    "    # x,y coordinates is zeros\n",
    "    tx_antenna_x_coor = np.ones(Nt) * 0\n",
    "    tx_antenna_y_coor = np.arange(Nt-1, -1, -1) * antenna_spacing + lt - ((Nt-1) * antenna_spacing)/2\n",
    "    tx_antenna_z_coor = np.ones(Nt) * 0\n",
    "\n",
    "\n",
    "    ######################################################################################################\n",
    "    # Rx coordinates\n",
    "    # x coordinate is D\n",
    "    # y coordinate is zeros\n",
    "    rx_antenna_x_coor = np.ones(Nr) * D\n",
    "    rx_antenna_y_coor = np.arange(Nr-1, -1, -1) * antenna_spacing + lr - ((Nr-1) * antenna_spacing)/2\n",
    "    rx_antenna_z_coor = np.ones(Nr) * 0\n",
    "\n",
    "\n",
    "    ######################################################################################################\n",
    "    # RIS coordinates\n",
    "    # on x axis we have Na elements\n",
    "    # on y axis we have Nb elements\n",
    "\n",
    "    # RIS z coordinates are zero\n",
    "    # RIS x coordinates \n",
    "    col = np.arange(0, Na, 1).reshape(-1, 1)\n",
    "    col = np.tile(col, Nb) * antenna_spacing + d_ris - ((Na-1) * antenna_spacing)/2\n",
    "    ris_elements_x_coor = col.reshape(-1,)\n",
    "\n",
    "    ris_elements_y_coor = np.ones(Na*Nb) * 0\n",
    "\n",
    "    # RIS y coordinates \n",
    "    col = np.arange(0, Nb, 1)\n",
    "    col = np.tile(col, Na) * antenna_spacing - ((Nb-1) * antenna_spacing)/2\n",
    "    ris_elements_z_coor = col.reshape(-1,)\n",
    "\n",
    "    return [\n",
    "        tx_antenna_x_coor,\n",
    "        tx_antenna_y_coor,\n",
    "        tx_antenna_z_coor,\n",
    "        rx_antenna_x_coor,\n",
    "        rx_antenna_y_coor,\n",
    "        rx_antenna_z_coor,\n",
    "        ris_elements_x_coor,\n",
    "        ris_elements_y_coor,\n",
    "        ris_elements_z_coor\n",
    "    ]\n",
    "    \n",
    "# Caluating distance vectors to be used in calulating path losses\n",
    "# generate N1xN2 size distance matrix\n",
    "# i,j elements refer to distance between ith element in mat1 and jth element in mat2\n",
    "def CalCulateDistance(N1, N2, mat1_x, mat1_y, mat1_z, mat2_x, mat2_y, mat2_z):\n",
    "    distance_matrix = np.zeros((N1, N2))\n",
    "\n",
    "    for n1 in range(N1):\n",
    "        for n2 in range(N2):\n",
    "            distance_matrix[n1,n2] = np.sqrt(\n",
    "                (mat1_x[n1] - mat2_x[n2]) ** 2 +\n",
    "                (mat1_y[n1] - mat2_y[n2]) ** 2 +\n",
    "                (mat1_z[n1] - mat2_z[n2]) ** 2 \n",
    "            )\n",
    "\n",
    "    return distance_matrix\n",
    "\n",
    "\n",
    "def GenerateDistanceMatrix(Nt, lt, Nr, lr, Na, Nb, d_ris, D, wavelength):\n",
    "    N_ris = Na * Nb\n",
    "    \n",
    "    # Rx and Tx\n",
    "    [\n",
    "        tx_antenna_x_coor,\n",
    "        tx_antenna_y_coor,\n",
    "        tx_antenna_z_coor,\n",
    "        rx_antenna_x_coor,\n",
    "        rx_antenna_y_coor,\n",
    "        rx_antenna_z_coor,\n",
    "        ris_elements_x_coor,\n",
    "        ris_elements_y_coor,\n",
    "        ris_elements_z_coor\n",
    "    ] = Coordinates_system(Nt, lt, Nr, lr, Na, Nb, d_ris, D, wavelength)\n",
    "    \n",
    "    distance_r_t = CalCulateDistance(Nr, Nt, \n",
    "        rx_antenna_x_coor, rx_antenna_y_coor, rx_antenna_z_coor,\n",
    "        tx_antenna_x_coor, tx_antenna_y_coor, tx_antenna_z_coor\n",
    "    )\n",
    "\n",
    "    # Ris and Tx\n",
    "    distance_ris_t = CalCulateDistance(N_ris, Nt, \n",
    "        ris_elements_x_coor, ris_elements_y_coor, ris_elements_z_coor,\n",
    "        tx_antenna_x_coor, tx_antenna_y_coor, tx_antenna_z_coor\n",
    "    )\n",
    "\n",
    "    # RIS and Rx\n",
    "    distance_r_ris = CalCulateDistance(Nr, N_ris, \n",
    "        rx_antenna_x_coor, rx_antenna_y_coor, rx_antenna_z_coor,\n",
    "        ris_elements_x_coor, ris_elements_y_coor, ris_elements_z_coor\n",
    "    )\n",
    "    \n",
    "\n",
    "    return [\n",
    "        distance_r_t,\n",
    "        distance_ris_t,\n",
    "        distance_r_ris\n",
    "    ]\n",
    "\n"
   ]
  },
  {
   "cell_type": "code",
   "execution_count": 31,
   "metadata": {},
   "outputs": [],
   "source": [
    "# alpha\n",
    "# Free space pathloss exponent of the direct/indirect link, whose value is influenced by the obstacle present.\n",
    "def GenHLOS(distance_matrix, wavelength):\n",
    "    return np.exp(-1j * 2 * np.pi * distance_matrix / wavelength)\n",
    "\n",
    "\n",
    "# N1, N2 is dimensions of distance matrix used to generate HLOS\n",
    "def GenHNOLOS(N1, N2, varaince = 1):\n",
    "    real_part = np.random.normal(0, np.sqrt(varaince/2), (N1, N2))\n",
    "    imag_part = np.random.normal(0, np.sqrt(varaince/2), (N1, N2))\n",
    "\n",
    "    return (real_part + 1j * imag_part)\n",
    "\n",
    "\n",
    "# calculate general H \n",
    "def Calculate_H_LOSNLOS(N1, N2, distance_matrix, wavelength, racian_factor):\n",
    "    H_D_LOS = GenHLOS(distance_matrix, wavelength)\n",
    "    H_D_NLOS = GenHNOLOS(N1, N2, 2)\n",
    "    H_LOSNLOS = (np.sqrt(racian_factor) * H_D_LOS + H_D_NLOS)\n",
    "\n",
    "    return H_LOSNLOS\n",
    "\n",
    "\n",
    "# calculate H DIR (Direct channel between tx and rx)\n",
    "# alpha value is influenced by the obstacle present\n",
    "def Calculate_H_DIR(Nr, Nt, distance_matrix_r_t, wavelength, alpha_dir, D, lt, lr, racian_factor):\n",
    "    d_note = np.sqrt((D ** 2) + ((lt-lr) ** 2))\n",
    "    beta_DIR = ((4 * np.pi / wavelength) ** 2) * (d_note ** alpha_dir)\n",
    "    \n",
    "    H_DIR = np.sqrt(1/(beta_DIR * (racian_factor + 1))) * Calculate_H_LOSNLOS(Nr, Nt, distance_matrix_r_t, wavelength, racian_factor)\n",
    "    return H_DIR\n",
    "\n",
    "\n",
    "def Calculate_H1(N_ris, Nt, distance_matrix_ris_t, wavelength, racian_factor, beta_INDIR_inverse):\n",
    "    return  np.sqrt(beta_INDIR_inverse/(racian_factor + 1)) * Calculate_H_LOSNLOS(N_ris, Nt, distance_matrix_ris_t, wavelength, racian_factor)\n",
    "\n",
    "\n",
    "def Calculate_H2(Nr, N_ris, distance_matrix_r_ris, wavelength, racian_factor):\n",
    "    return np.sqrt(1/(racian_factor + 1)) * Calculate_H_LOSNLOS(Nr, N_ris, distance_matrix_r_ris, wavelength, racian_factor)\n",
    "\n",
    "\n",
    "# calculate H INDIR (Infirect Direct channel between tx and rx)\n",
    "def Calculate_H_INDIR(H1, H2, thetas, beta_INDIR_inverse):\n",
    "    F_theta = np.diag(thetas)\n",
    "    H_INDIR = np.matmul(H2, np.matmul(F_theta, H1))\n",
    "\n",
    "    return H_INDIR\n",
    "\n",
    "\n",
    "def Calculate_H(HDIR, HINDIR):\n",
    "    return HDIR + HINDIR\n",
    "\n",
    "    "
   ]
  },
  {
   "cell_type": "code",
   "execution_count": 32,
   "metadata": {},
   "outputs": [],
   "source": [
    "def Rate(H_dir_1, H1_1, H2_1, H_dir_2, H1_2, H2_2, thetas_1, thetas_2, Q):\n",
    "    Z_1 = H_dir_1 + H2_1 @ np.diag(thetas_1) @ H1_1\n",
    "    Z_2 = H_dir_2 + H2_2 @ np.diag(thetas_2) @ H1_2\n",
    "    Z = Z_1 + Z_2\n",
    "    Nr = H_dir_1.shape[0]\n",
    "    \n",
    "    rate = np.real(np.log(np.linalg.det(np.eye(Nr) + Z @ Q @ Z.conj().T))) / np.log(2)\n",
    "    return rate\n"
   ]
  },
  {
   "cell_type": "markdown",
   "metadata": {},
   "source": [
    "## Projected Gradient Method"
   ]
  },
  {
   "cell_type": "code",
   "execution_count": 33,
   "metadata": {},
   "outputs": [],
   "source": [
    "def Calculate_Kappa(H_dir, H2, H1, Pt):\n",
    "    if H_dir.all() == 0:\n",
    "        return 10\n",
    "    else :\n",
    "        return 10 * max(1, 1/np.sqrt(Pt)) * np.sqrt( np.linalg.norm(H_dir)/ np.linalg.norm(np.matmul(H2, H1)))\n",
    "    \n",
    "    \n",
    "def Calculate_LTheta(a, b, Pt):\n",
    "  \"\"\"\n",
    "  Calculates the value of L_theta^2 based on equation (32).\n",
    "\n",
    "  Args:\n",
    "    a: The value of 'a'.\n",
    "    b: The value of 'b'.\n",
    "    Pt: The value of 'Pt'.\n",
    "\n",
    "  Returns:\n",
    "    The calculated value of L_theta^2.\n",
    "  \"\"\"\n",
    "\n",
    "  term1 = 2 * a * (b**5) + 4 * (a**2) * (b**2)\n",
    "  term2 = (a**3) * b + 2 * a * (b**7) + 8 * (a**2) * (b**4)\n",
    "  term3 = 3 * (a**3) * (b**3) + (a**4) + 4 * (a**2) * (b**6)\n",
    "  term4 = 2 * (a**3) * (b**5) + 4 * (a**4) * (b**2)\n",
    "  term5 = 4 * (a**4) * (b**4)\n",
    "\n",
    "  return term1 + term2 * Pt + term3 * (Pt**2) + term4 * (Pt**3) + term5 * (Pt**4)\n",
    "\n",
    "\n",
    "def Calculate_LQ(a, b, Pt):\n",
    "  \"\"\"\n",
    "  Calculates the value of L_Q^2 based on equation (33).\n",
    "\n",
    "  Args:\n",
    "    a: The value of 'a'.\n",
    "    b: The value of 'b'.\n",
    "    Pt: The value of 'Pt'.\n",
    "\n",
    "  Returns:\n",
    "    The calculated value of L_Q^2.\n",
    "  \"\"\"\n",
    "\n",
    "  term1 = (a**2) * (b**2) + (b**8) + 2 * a * (b**5)\n",
    "  term2 = 2 * (a**2) * (b**4) + (a**3) * b + 2 * a * (b**7)\n",
    "  term3 = (a**2) * (b**6) + 3 * (a**3) * (b**3)\n",
    "  term4 = 2 * (a**3) * (b**5)\n",
    "\n",
    "  return term1 + term2 * Pt + term3 * (Pt**2) + term4 * (Pt**3)\n",
    "\n",
    "\n",
    "def L_constant(H_dir_bar, H1_bar, H2, kappa, Pt_bar):\n",
    "    U_h1_bar, S_h1_bar, Vh_h1_bar = np.linalg.svd(H1_bar)\n",
    "    U_h2, S_h2, Vh_h2 = np.linalg.svd(H2)\n",
    "    U_H_dir_bar, S_H_dir_bar, Vh_H_dir_bar = np.linalg.svd(H_dir_bar)\n",
    "    \n",
    "    \n",
    "    lambda_max_h1_bar = np.max(S_h1_bar)\n",
    "    lambda_max_h2 = np.max(S_h2)\n",
    "    lambda_max_H_dir_bar = np.max(S_H_dir_bar)\n",
    "    \n",
    "    a = lambda_max_h1_bar * lambda_max_h2\n",
    "    b = lambda_max_H_dir_bar + lambda_max_h1_bar * lambda_max_h2 / kappa\n",
    "\n",
    "    L_2_theta = Calculate_LTheta(a,b, Pt_bar)\n",
    "    L_2_Q = Calculate_LQ(a, b, Pt_bar)\n",
    "\n",
    "    L = np.sqrt(max(L_2_theta, L_2_Q))\n",
    "    return L\n",
    "\n",
    "\n",
    "def water_fill(Pt, vect_in):\n",
    "    vect_in = np.real(vect_in).flatten()\n",
    "    sort_idx = np.argsort(vect_in)[::-1]\n",
    "    sort_val = vect_in[sort_idx]\n",
    "    n = len(vect_in)\n",
    "    for i in range(n, 0, -1):\n",
    "        water_level = (np.sum(sort_val[:i]) - Pt) / i\n",
    "        di = sort_val[:i] - water_level\n",
    "        if np.all(di >= 0):\n",
    "            break\n",
    "    vect_out = np.zeros_like(vect_in)\n",
    "    vect_out[sort_idx[:i]] = di\n",
    "    return vect_out\n",
    "\n",
    "def cov_mat_proj_modified(Qold, Pt):\n",
    "    D, U = np.linalg.eig(Qold)\n",
    "    Dnew = water_fill(Pt, D)\n",
    "    return U @ np.diag(Dnew) @ U.conj().T\n",
    "\n",
    "def project_onto_unit_circle(x):\n",
    "    return x / np.abs(x)\n",
    "\n",
    "def grad_cov(H_dir_1, H1_1, H2_1, H_dir_2, H1_2, H2_2, thetas_1, thetas_2, Q):\n",
    "    Z = H_dir_1 + H2_1 @ np.diag(thetas_1) @ H1_1 + H_dir_2 + H2_2 @ np.diag(thetas_2) @ H1_2\n",
    "    Nr = H_dir_1.shape[0]\n",
    "    \n",
    "    return Z.conj().T @ np.linalg.inv(np.eye(Nr) + Z @ Q @ Z.conj().T) @ Z\n",
    "\n",
    "def grad_RIS(H_dir_1, H1_1, H2_1, H_dir_2, H1_2, H2_2, thetas_1, thetas_2, Q):\n",
    "    Z = H_dir_1 + H2_1 @ np.diag(thetas_1) @ H1_1 + H_dir_2 + H2_2 @ np.diag(thetas_2) @ H1_2\n",
    "    Nr = H_dir_1.shape[0]\n",
    "    \n",
    "    return np.diag(H2_1.conj().T @ np.linalg.inv(np.eye(Nr) + Z @ Q @ Z.conj().T) @ Z @ Q @ H1_1.conj().T)\n",
    "\n",
    "\n",
    "def PGM(max_iterations, H_dir_1, H1_1, H2_1, H_dir_2, H1_2, H2_2, Nr, D, initial_Q, initial_thetas_1, initial_thetas_2, noise_power, Pt):\n",
    "    H_dir_2 = H_dir_2 * 0\n",
    "    delta = 1e-5\n",
    "    rho = 0.5\n",
    "    stepsize = 10000\n",
    "    thetas_1 = initial_thetas_1\n",
    "    thetas_2 = initial_thetas_2\n",
    "    Q = initial_Q\n",
    "    \n",
    "    kappa = max(Calculate_Kappa(H_dir_1, H2_1, H1_1, Pt), Calculate_Kappa(H_dir_2, H2_2, H1_2, Pt))\n",
    "    \n",
    "    # Scaling data\n",
    "    Q = (kappa ** 2) * Q\n",
    "    thetas_1 = thetas_1 / kappa\n",
    "    thetas_2 = thetas_2 / kappa\n",
    "    \n",
    "    H_dir_1 = H_dir_1 / (kappa * np.sqrt(noise_power))\n",
    "    H1_1 = H1_1 * (np.sqrt(1 / noise_power))\n",
    "    \n",
    "    H_dir_2 = H_dir_2 / (kappa * np.sqrt(noise_power))\n",
    "    H1_2 = H1_2 * (np.sqrt(1 / noise_power))\n",
    "\n",
    "    # inproved convergence rate by data scaling\n",
    "    # section 3.D\n",
    "    initial_rate = Rate(H_dir_1, H1_1, H2_1, H_dir_2, H1_2, H2_2, thetas_1, thetas_2, Q)\n",
    "    rate = initial_rate\n",
    "    rates = np.zeros(max_iterations+1)\n",
    "    rates[0] = rate\n",
    "\n",
    "    # algo run for max_iteration times or rate convergers\n",
    "    for i in range(1, max_iterations+1):\n",
    "\n",
    "        del_Q        = grad_cov(H_dir_1, H1_1, H2_1, H_dir_2, H1_2, H2_2, thetas_1, thetas_2, Q)\n",
    "        del_thetas_1 = grad_RIS(H_dir_1, H1_1, H2_1, H_dir_2, H1_2, H2_2, thetas_1, thetas_2, Q)\n",
    "        del_thetas_2 = grad_RIS(H_dir_2, H1_2, H2_2, H_dir_1, H1_1, H2_1, thetas_1, thetas_2, Q)\n",
    "        \n",
    "        for _ in range(31):\n",
    "            Q_new = Q + stepsize * del_Q\n",
    "            Q_new = cov_mat_proj_modified(Q_new, Pt * (kappa ** 2))\n",
    "\n",
    "            thetas_new_1 = thetas_1 + stepsize * del_thetas_1\n",
    "            thetas_new_1 = project_onto_unit_circle(thetas_new_1) / kappa\n",
    "            thetas_new_2 = thetas_2 + stepsize * del_thetas_2\n",
    "            thetas_new_2 = project_onto_unit_circle(thetas_new_2) / kappa\n",
    "\n",
    "            rate_new = Rate(H_dir_1, H1_1, H2_1, H_dir_2, H1_2, H2_2, thetas_new_1, thetas_new_2, Q_new)\n",
    "\n",
    "            if (rate_new - rate >= delta * (np.linalg.norm(Q_new - Q) ** 2 + np.linalg.norm(thetas_new_1 - thetas_1) ** 2 + np.linalg.norm(thetas_new_2 - thetas_2) ** 2)) or (stepsize < 1e-4):\n",
    "                thetas_1 = thetas_new_1\n",
    "                thetas_2 = thetas_new_2\n",
    "                Q = Q_new\n",
    "                rate = rate_new\n",
    "                break\n",
    "            else:\n",
    "                stepsize *= rho\n",
    "\n",
    "        rates[i] = rate\n",
    "        \n",
    "        \n",
    "        \n",
    "    \n",
    "    return [rates, 1, 1]\n",
    "\n",
    "        "
   ]
  },
  {
   "cell_type": "code",
   "execution_count": 34,
   "metadata": {},
   "outputs": [],
   "source": [
    "\n",
    "def PGM_Quantized_last_step(max_iterations, H_dir_1, H1_1, H2_1, H_dir_2, H1_2, H2_2, Nr, D, initial_Q, initial_thetas_1, initial_thetas_2, noise_power, Pt, theta_quant_size):\n",
    "    delta = 1e-5\n",
    "    rho = 0.5\n",
    "    stepsize = 10000\n",
    "    thetas_1 = initial_thetas_1\n",
    "    thetas_2 = initial_thetas_2\n",
    "    Q = initial_Q\n",
    "    \n",
    "    kappa = max(Calculate_Kappa(H_dir_1, H2_1, H1_1, Pt), Calculate_Kappa(H_dir_2, H2_2, H1_2, Pt))\n",
    "    \n",
    "    # Scaling data\n",
    "    Q = (kappa ** 2) * Q\n",
    "    thetas_1 = thetas_1 / kappa\n",
    "    thetas_2 = thetas_2 / kappa\n",
    "    \n",
    "    H_dir_1 = H_dir_1 / (kappa * np.sqrt(noise_power))\n",
    "    H1_1 = H1_1 * (np.sqrt(1 / noise_power))\n",
    "    \n",
    "    H_dir_2 = H_dir_2 / (kappa * np.sqrt(noise_power))\n",
    "    H1_2 = H1_2 * (np.sqrt(1 / noise_power))\n",
    "\n",
    "    # inproved convergence rate by data scaling\n",
    "    # section 3.D\n",
    "    initial_rate = Rate(H_dir_1, H1_1, H2_1, H_dir_2, H1_2, H2_2, thetas_1, thetas_2, Q)\n",
    "    rate = initial_rate\n",
    "    rates = np.zeros(max_iterations+1)\n",
    "    rates[0] = rate\n",
    "\n",
    "    # algo run for max_iteration times or rate convergers\n",
    "    for i in range(1, max_iterations+1):\n",
    "\n",
    "        del_Q        = grad_cov(H_dir_1, H1_1, H2_1, H_dir_2, H1_2, H2_2, thetas_1, thetas_2, Q)\n",
    "        del_thetas_1 = grad_RIS(H_dir_1, H1_1, H2_1, H_dir_2, H1_2, H2_2, thetas_1, thetas_2, Q)\n",
    "        del_thetas_2 = grad_RIS(H_dir_2, H1_2, H2_2, H_dir_1, H1_1, H2_1, thetas_1, thetas_2, Q)\n",
    "        \n",
    "        for _ in range(31):\n",
    "            Q_new = Q + stepsize * del_Q\n",
    "            Q_new = cov_mat_proj_modified(Q_new, Pt * (kappa ** 2))\n",
    "\n",
    "            thetas_new_1 = thetas_1 + stepsize * del_thetas_1\n",
    "            thetas_new_1 = project_onto_unit_circle(thetas_new_1) / kappa\n",
    "            thetas_new_2 = thetas_2 + stepsize * del_thetas_2\n",
    "            thetas_new_2 = project_onto_unit_circle(thetas_new_2) / kappa\n",
    "\n",
    "            rate_new = Rate(H_dir_1, H1_1, H2_1, H_dir_2, H1_2, H2_2, thetas_new_1, thetas_new_2, Q_new)\n",
    "\n",
    "            if (rate_new - rate >= delta * (np.linalg.norm(Q_new - Q) ** 2 + np.linalg.norm(thetas_new_1 - thetas_1) ** 2 + np.linalg.norm(thetas_new_2 - thetas_2) ** 2)) or (stepsize < 1e-4):\n",
    "                thetas_1 = thetas_new_1\n",
    "                thetas_2 = thetas_new_2\n",
    "                Q = Q_new\n",
    "                rate = rate_new\n",
    "                break\n",
    "            else:\n",
    "                stepsize *= rho\n",
    "\n",
    "        rates[i] = rate\n",
    "    \n",
    "    angle_rad_1 = np.angle(thetas_1 * kappa, deg=False)\n",
    "    angles_rad_2pi_1 = angle_rad_1 + (angle_rad_1 < 0) * 2 * np.pi\n",
    "    quantized_angles_1 = quantize_angles(angles_rad_2pi_1, theta_quant_size)\n",
    "    thetas_1 = np.exp(1j * quantized_angles_1) / kappa\n",
    "    \n",
    "    angle_rad_2 = np.angle(thetas_2 * kappa, deg=False)\n",
    "    angles_rad_2pi_2 = angle_rad_2 + (angle_rad_2 < 0) * 2 * np.pi\n",
    "    quantized_angles_2 = quantize_angles(angles_rad_2pi_2, theta_quant_size)\n",
    "    thetas_2 = np.exp(1j * quantized_angles_2) / kappa\n",
    "\n",
    "    rate = Rate(H_dir_1, H1_1, H2_1, H_dir_2, H1_2, H2_2, thetas_1, thetas_2, Q)\n",
    "    rates[max_iterations] = rate\n",
    "    \n",
    "    return [rates, 1, 1]\n",
    "\n",
    "\n",
    "\n",
    "def quantize_angles(angles, n):\n",
    "    \"\"\"\n",
    "    Quantizes the angles between 0 and 2π into n levels.\n",
    "\n",
    "    Args:\n",
    "    angles (numpy array): Array of angles between 0 and 2π.\n",
    "    n (int): Number of quantization levels.\n",
    "\n",
    "    Returns:\n",
    "    numpy array: Quantized angles.\n",
    "    \"\"\"\n",
    "    \n",
    "    # Generate quantization levels\n",
    "    quant_levels = np.linspace(0, 2 * np.pi, n, endpoint=False)\n",
    "    \n",
    "    # Find the closest quantization level for each angle\n",
    "    quantized_angles = np.array([quant_levels[np.argmin(np.abs(quant_levels - angle))] for angle in angles])\n",
    "    \n",
    "    return quantized_angles"
   ]
  },
  {
   "cell_type": "markdown",
   "metadata": {},
   "source": [
    "## Simulation parameter"
   ]
  },
  {
   "cell_type": "code",
   "execution_count": 35,
   "metadata": {},
   "outputs": [],
   "source": [
    "import numpy as np\n",
    "import matplotlib.pyplot as plt\n",
    "\n",
    "def plot_complex_matrix_line(H, name):\n",
    "    \"\"\"\n",
    "    Plots real and imaginary parts of a complex matrix H as line plots.\n",
    "    Matrix is flattened row-wise.\n",
    "    \"\"\"\n",
    "    H = np.array(H).flatten()\n",
    "    \n",
    "    plt.figure(figsize=(8, 4))\n",
    "    plt.plot(np.real(H), label='Real Part', color='blue')\n",
    "    plt.plot(np.imag(H), label='Imaginary Part', color='orange')\n",
    "    \n",
    "    plt.xlabel('Element Index')\n",
    "    plt.ylabel('Value')\n",
    "    plt.title(f'Line Plot of Real and Imaginary Parts of Complex Matrix {name}')\n",
    "    plt.legend()\n",
    "    plt.grid(True)\n",
    "    plt.tight_layout()\n",
    "    plt.show()\n"
   ]
  },
  {
   "cell_type": "code",
   "execution_count": 36,
   "metadata": {},
   "outputs": [],
   "source": [
    "def GenerateChannels(Nt, lt, Nr, lr, D, d_ris, Na, Nb, wavelength, alpha_dir, racian_factor):\n",
    "    d1 = np.sqrt(d_ris ** 2 + lt ** 2)\n",
    "    d2 = np.sqrt((D - d_ris) ** 2 + lr ** 2)\n",
    "    beta_INDIR_inverse = ((wavelength**4)/(256 * (np.pi ** 2))) * (((lt/d1 + lr/d2)**2) / ((d1*d2)**2))\n",
    "\n",
    "    N_ris = Na * Nb\n",
    "    Nl = N_ris\n",
    "    \n",
    "    [\n",
    "        distance_r_t,\n",
    "        distance_ris_t,\n",
    "        distance_r_ris\n",
    "    ] = GenerateDistanceMatrix(Nt, lt, Nr, lr, Na, Nb, d_ris, D, wavelength)\n",
    "\n",
    "    initial_thetas = np.ones(N_ris, dtype=np.complex64)\n",
    "    \n",
    "    \n",
    "    H_dir = Calculate_H_DIR(Nr, Nt, distance_r_t, wavelength, alpha_dir, D, lt, lr, racian_factor)\n",
    "    H1 = Calculate_H1(N_ris, Nt, distance_ris_t, wavelength, racian_factor, beta_INDIR_inverse)\n",
    "    H2 = Calculate_H2(Nr, N_ris, distance_r_ris, wavelength, racian_factor)\n",
    "\n",
    "    return [initial_thetas, H_dir, H1, H2]\n",
    "\n",
    "    "
   ]
  },
  {
   "cell_type": "code",
   "execution_count": 60,
   "metadata": {},
   "outputs": [],
   "source": [
    "# transmit antennas \n",
    "Nt = 8\n",
    "# receiving antennas\n",
    "Nr = 4\n",
    "\n",
    "# both tx and rx antennas are placed in uniform linear arrays on vertical walls paraller to each other on a wall\n",
    "D = 500\n",
    "\n",
    "# wavelenght and frequency of operation\n",
    "frequency = 2 * (10 ** 9)\n",
    "wavelength = (3 * (10 ** 8))/frequency\n",
    "antenna_spacing = wavelength/2\n",
    "\n",
    "# inter antenna seperation distance\n",
    "st = wavelength/2\n",
    "sr = wavelength/2\n",
    "# seperation between center of adjacent RIS elements in both dimension is\n",
    "s_ris = wavelength / 2\n",
    "\n",
    "# power in db = 10log10(power(watts))\n",
    "\n",
    "# noise power (untis not mentioned in paper)\n",
    "# -120 db\n",
    "noise_power = (10 ** (-12))\n",
    "# total average power transmit value Pt\n",
    "# 0 db\n",
    "Pt = 1\n",
    "\n",
    "# path loss exponent for direct link influcend by obstacle present\n",
    "alpha_dir = 3\n",
    "\n",
    "# racian factor\n",
    "racian_factor = 1\n",
    "\n",
    "# backtracking line search parameters\n",
    "L_note = 10**4\n",
    "delta = 10 ** (-5)\n",
    "row = 1/2\n",
    "min_step_size = 10**(-4)\n",
    "channel_iterations = 10\n",
    "\n",
    "# dirs should be placed in vicinity of tx or rx\n",
    "# if near tx Dris = 40\n",
    "# if near rx Dris = D - 40\n",
    "\n",
    "# distance between midpoint of RIS and the placne containing tx antennas\n",
    "d_ris_1 = 40\n",
    "d_ris_2 = 20\n",
    "# distance between mid point of tx antenna arraya to plane contining RIS is \n",
    "lt_1 = 20\n",
    "lt_2 = 30\n",
    "# distance between rx antenna to plane containing RIS\n",
    "lr_1 = 100\n",
    "lr_2 = 100\n",
    "\n",
    "Na = 15\n",
    "Nb = 15\n",
    "\n",
    "number_of_itr = 500"
   ]
  },
  {
   "cell_type": "code",
   "execution_count": 61,
   "metadata": {},
   "outputs": [
    {
     "name": "stdout",
     "output_type": "stream",
     "text": [
      "PGM for 1th channel\n",
      "PGM for 2th channel\n",
      "PGM for 3th channel\n",
      "PGM for 4th channel\n",
      "PGM for 5th channel\n",
      "PGM for 6th channel\n",
      "PGM for 7th channel\n",
      "PGM for 8th channel\n",
      "PGM for 9th channel\n",
      "PGM for 10th channel\n"
     ]
    }
   ],
   "source": [
    "max_iterations = 500\n",
    "rate_average = np.zeros(max_iterations+1)\n",
    "average_over = 10\n",
    "step_boost = 0\n",
    "intial_Q = (Pt/Nt) * np.eye(Nt)\n",
    "\n",
    "for i in range(average_over):\n",
    "    # if(i % 10 !):\n",
    "    print(f\"PGM for {i+1}th channel\")\n",
    "    [thetas_1, H_dir_1, H1_1, H2_1] = GenerateChannels(Nt, lt_1, Nr, lr_1, D, d_ris_1, Na, Nb, wavelength, alpha_dir, racian_factor)\n",
    "    [thetas_2, H_dir_2, H1_2, H2_2] = GenerateChannels(Nt, lt_2, Nr, lr_2, D, d_ris_2, Na, Nb, wavelength, alpha_dir, racian_factor)\n",
    "    [rates, _, _] = PGM(\n",
    "        max_iterations, \n",
    "        H_dir_1, H1_1, H2_1, H_dir_2, H1_2, H2_2, \n",
    "        Nr, D, intial_Q, thetas_1, thetas_2, noise_power, Pt\n",
    "    )\n",
    "    rate_average += rates / average_over\n",
    "    \n",
    "\n",
    "# rate_average = rate_average \n",
    "\n",
    "    "
   ]
  },
  {
   "cell_type": "code",
   "execution_count": 63,
   "metadata": {},
   "outputs": [
    {
     "data": {
      "application/vnd.plotly.v1+json": {
       "config": {
        "plotlyServerURL": "https://plot.ly"
       },
       "data": [
        {
         "line": {
          "color": "blue",
          "width": 1
         },
         "marker": {
          "color": "red",
          "size": 4
         },
         "mode": "lines+markers",
         "name": "Line with Markers",
         "type": "scatter",
         "x": {
          "bdata": "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",
          "dtype": "f8"
         },
         "y": {
          "bdata": "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",
          "dtype": "f8"
         }
        }
       ],
       "layout": {
        "template": {
         "data": {
          "bar": [
           {
            "error_x": {
             "color": "#2a3f5f"
            },
            "error_y": {
             "color": "#2a3f5f"
            },
            "marker": {
             "line": {
              "color": "#E5ECF6",
              "width": 0.5
             },
             "pattern": {
              "fillmode": "overlay",
              "size": 10,
              "solidity": 0.2
             }
            },
            "type": "bar"
           }
          ],
          "barpolar": [
           {
            "marker": {
             "line": {
              "color": "#E5ECF6",
              "width": 0.5
             },
             "pattern": {
              "fillmode": "overlay",
              "size": 10,
              "solidity": 0.2
             }
            },
            "type": "barpolar"
           }
          ],
          "carpet": [
           {
            "aaxis": {
             "endlinecolor": "#2a3f5f",
             "gridcolor": "white",
             "linecolor": "white",
             "minorgridcolor": "white",
             "startlinecolor": "#2a3f5f"
            },
            "baxis": {
             "endlinecolor": "#2a3f5f",
             "gridcolor": "white",
             "linecolor": "white",
             "minorgridcolor": "white",
             "startlinecolor": "#2a3f5f"
            },
            "type": "carpet"
           }
          ],
          "choropleth": [
           {
            "colorbar": {
             "outlinewidth": 0,
             "ticks": ""
            },
            "type": "choropleth"
           }
          ],
          "contour": [
           {
            "colorbar": {
             "outlinewidth": 0,
             "ticks": ""
            },
            "colorscale": [
             [
              0,
              "#0d0887"
             ],
             [
              0.1111111111111111,
              "#46039f"
             ],
             [
              0.2222222222222222,
              "#7201a8"
             ],
             [
              0.3333333333333333,
              "#9c179e"
             ],
             [
              0.4444444444444444,
              "#bd3786"
             ],
             [
              0.5555555555555556,
              "#d8576b"
             ],
             [
              0.6666666666666666,
              "#ed7953"
             ],
             [
              0.7777777777777778,
              "#fb9f3a"
             ],
             [
              0.8888888888888888,
              "#fdca26"
             ],
             [
              1,
              "#f0f921"
             ]
            ],
            "type": "contour"
           }
          ],
          "contourcarpet": [
           {
            "colorbar": {
             "outlinewidth": 0,
             "ticks": ""
            },
            "type": "contourcarpet"
           }
          ],
          "heatmap": [
           {
            "colorbar": {
             "outlinewidth": 0,
             "ticks": ""
            },
            "colorscale": [
             [
              0,
              "#0d0887"
             ],
             [
              0.1111111111111111,
              "#46039f"
             ],
             [
              0.2222222222222222,
              "#7201a8"
             ],
             [
              0.3333333333333333,
              "#9c179e"
             ],
             [
              0.4444444444444444,
              "#bd3786"
             ],
             [
              0.5555555555555556,
              "#d8576b"
             ],
             [
              0.6666666666666666,
              "#ed7953"
             ],
             [
              0.7777777777777778,
              "#fb9f3a"
             ],
             [
              0.8888888888888888,
              "#fdca26"
             ],
             [
              1,
              "#f0f921"
             ]
            ],
            "type": "heatmap"
           }
          ],
          "histogram": [
           {
            "marker": {
             "pattern": {
              "fillmode": "overlay",
              "size": 10,
              "solidity": 0.2
             }
            },
            "type": "histogram"
           }
          ],
          "histogram2d": [
           {
            "colorbar": {
             "outlinewidth": 0,
             "ticks": ""
            },
            "colorscale": [
             [
              0,
              "#0d0887"
             ],
             [
              0.1111111111111111,
              "#46039f"
             ],
             [
              0.2222222222222222,
              "#7201a8"
             ],
             [
              0.3333333333333333,
              "#9c179e"
             ],
             [
              0.4444444444444444,
              "#bd3786"
             ],
             [
              0.5555555555555556,
              "#d8576b"
             ],
             [
              0.6666666666666666,
              "#ed7953"
             ],
             [
              0.7777777777777778,
              "#fb9f3a"
             ],
             [
              0.8888888888888888,
              "#fdca26"
             ],
             [
              1,
              "#f0f921"
             ]
            ],
            "type": "histogram2d"
           }
          ],
          "histogram2dcontour": [
           {
            "colorbar": {
             "outlinewidth": 0,
             "ticks": ""
            },
            "colorscale": [
             [
              0,
              "#0d0887"
             ],
             [
              0.1111111111111111,
              "#46039f"
             ],
             [
              0.2222222222222222,
              "#7201a8"
             ],
             [
              0.3333333333333333,
              "#9c179e"
             ],
             [
              0.4444444444444444,
              "#bd3786"
             ],
             [
              0.5555555555555556,
              "#d8576b"
             ],
             [
              0.6666666666666666,
              "#ed7953"
             ],
             [
              0.7777777777777778,
              "#fb9f3a"
             ],
             [
              0.8888888888888888,
              "#fdca26"
             ],
             [
              1,
              "#f0f921"
             ]
            ],
            "type": "histogram2dcontour"
           }
          ],
          "mesh3d": [
           {
            "colorbar": {
             "outlinewidth": 0,
             "ticks": ""
            },
            "type": "mesh3d"
           }
          ],
          "parcoords": [
           {
            "line": {
             "colorbar": {
              "outlinewidth": 0,
              "ticks": ""
             }
            },
            "type": "parcoords"
           }
          ],
          "pie": [
           {
            "automargin": true,
            "type": "pie"
           }
          ],
          "scatter": [
           {
            "fillpattern": {
             "fillmode": "overlay",
             "size": 10,
             "solidity": 0.2
            },
            "type": "scatter"
           }
          ],
          "scatter3d": [
           {
            "line": {
             "colorbar": {
              "outlinewidth": 0,
              "ticks": ""
             }
            },
            "marker": {
             "colorbar": {
              "outlinewidth": 0,
              "ticks": ""
             }
            },
            "type": "scatter3d"
           }
          ],
          "scattercarpet": [
           {
            "marker": {
             "colorbar": {
              "outlinewidth": 0,
              "ticks": ""
             }
            },
            "type": "scattercarpet"
           }
          ],
          "scattergeo": [
           {
            "marker": {
             "colorbar": {
              "outlinewidth": 0,
              "ticks": ""
             }
            },
            "type": "scattergeo"
           }
          ],
          "scattergl": [
           {
            "marker": {
             "colorbar": {
              "outlinewidth": 0,
              "ticks": ""
             }
            },
            "type": "scattergl"
           }
          ],
          "scattermap": [
           {
            "marker": {
             "colorbar": {
              "outlinewidth": 0,
              "ticks": ""
             }
            },
            "type": "scattermap"
           }
          ],
          "scattermapbox": [
           {
            "marker": {
             "colorbar": {
              "outlinewidth": 0,
              "ticks": ""
             }
            },
            "type": "scattermapbox"
           }
          ],
          "scatterpolar": [
           {
            "marker": {
             "colorbar": {
              "outlinewidth": 0,
              "ticks": ""
             }
            },
            "type": "scatterpolar"
           }
          ],
          "scatterpolargl": [
           {
            "marker": {
             "colorbar": {
              "outlinewidth": 0,
              "ticks": ""
             }
            },
            "type": "scatterpolargl"
           }
          ],
          "scatterternary": [
           {
            "marker": {
             "colorbar": {
              "outlinewidth": 0,
              "ticks": ""
             }
            },
            "type": "scatterternary"
           }
          ],
          "surface": [
           {
            "colorbar": {
             "outlinewidth": 0,
             "ticks": ""
            },
            "colorscale": [
             [
              0,
              "#0d0887"
             ],
             [
              0.1111111111111111,
              "#46039f"
             ],
             [
              0.2222222222222222,
              "#7201a8"
             ],
             [
              0.3333333333333333,
              "#9c179e"
             ],
             [
              0.4444444444444444,
              "#bd3786"
             ],
             [
              0.5555555555555556,
              "#d8576b"
             ],
             [
              0.6666666666666666,
              "#ed7953"
             ],
             [
              0.7777777777777778,
              "#fb9f3a"
             ],
             [
              0.8888888888888888,
              "#fdca26"
             ],
             [
              1,
              "#f0f921"
             ]
            ],
            "type": "surface"
           }
          ],
          "table": [
           {
            "cells": {
             "fill": {
              "color": "#EBF0F8"
             },
             "line": {
              "color": "white"
             }
            },
            "header": {
             "fill": {
              "color": "#C8D4E3"
             },
             "line": {
              "color": "white"
             }
            },
            "type": "table"
           }
          ]
         },
         "layout": {
          "annotationdefaults": {
           "arrowcolor": "#2a3f5f",
           "arrowhead": 0,
           "arrowwidth": 1
          },
          "autotypenumbers": "strict",
          "coloraxis": {
           "colorbar": {
            "outlinewidth": 0,
            "ticks": ""
           }
          },
          "colorscale": {
           "diverging": [
            [
             0,
             "#8e0152"
            ],
            [
             0.1,
             "#c51b7d"
            ],
            [
             0.2,
             "#de77ae"
            ],
            [
             0.3,
             "#f1b6da"
            ],
            [
             0.4,
             "#fde0ef"
            ],
            [
             0.5,
             "#f7f7f7"
            ],
            [
             0.6,
             "#e6f5d0"
            ],
            [
             0.7,
             "#b8e186"
            ],
            [
             0.8,
             "#7fbc41"
            ],
            [
             0.9,
             "#4d9221"
            ],
            [
             1,
             "#276419"
            ]
           ],
           "sequential": [
            [
             0,
             "#0d0887"
            ],
            [
             0.1111111111111111,
             "#46039f"
            ],
            [
             0.2222222222222222,
             "#7201a8"
            ],
            [
             0.3333333333333333,
             "#9c179e"
            ],
            [
             0.4444444444444444,
             "#bd3786"
            ],
            [
             0.5555555555555556,
             "#d8576b"
            ],
            [
             0.6666666666666666,
             "#ed7953"
            ],
            [
             0.7777777777777778,
             "#fb9f3a"
            ],
            [
             0.8888888888888888,
             "#fdca26"
            ],
            [
             1,
             "#f0f921"
            ]
           ],
           "sequentialminus": [
            [
             0,
             "#0d0887"
            ],
            [
             0.1111111111111111,
             "#46039f"
            ],
            [
             0.2222222222222222,
             "#7201a8"
            ],
            [
             0.3333333333333333,
             "#9c179e"
            ],
            [
             0.4444444444444444,
             "#bd3786"
            ],
            [
             0.5555555555555556,
             "#d8576b"
            ],
            [
             0.6666666666666666,
             "#ed7953"
            ],
            [
             0.7777777777777778,
             "#fb9f3a"
            ],
            [
             0.8888888888888888,
             "#fdca26"
            ],
            [
             1,
             "#f0f921"
            ]
           ]
          },
          "colorway": [
           "#636efa",
           "#EF553B",
           "#00cc96",
           "#ab63fa",
           "#FFA15A",
           "#19d3f3",
           "#FF6692",
           "#B6E880",
           "#FF97FF",
           "#FECB52"
          ],
          "font": {
           "color": "#2a3f5f"
          },
          "geo": {
           "bgcolor": "white",
           "lakecolor": "white",
           "landcolor": "#E5ECF6",
           "showlakes": true,
           "showland": true,
           "subunitcolor": "white"
          },
          "hoverlabel": {
           "align": "left"
          },
          "hovermode": "closest",
          "mapbox": {
           "style": "light"
          },
          "paper_bgcolor": "white",
          "plot_bgcolor": "#E5ECF6",
          "polar": {
           "angularaxis": {
            "gridcolor": "white",
            "linecolor": "white",
            "ticks": ""
           },
           "bgcolor": "#E5ECF6",
           "radialaxis": {
            "gridcolor": "white",
            "linecolor": "white",
            "ticks": ""
           }
          },
          "scene": {
           "xaxis": {
            "backgroundcolor": "#E5ECF6",
            "gridcolor": "white",
            "gridwidth": 2,
            "linecolor": "white",
            "showbackground": true,
            "ticks": "",
            "zerolinecolor": "white"
           },
           "yaxis": {
            "backgroundcolor": "#E5ECF6",
            "gridcolor": "white",
            "gridwidth": 2,
            "linecolor": "white",
            "showbackground": true,
            "ticks": "",
            "zerolinecolor": "white"
           },
           "zaxis": {
            "backgroundcolor": "#E5ECF6",
            "gridcolor": "white",
            "gridwidth": 2,
            "linecolor": "white",
            "showbackground": true,
            "ticks": "",
            "zerolinecolor": "white"
           }
          },
          "shapedefaults": {
           "line": {
            "color": "#2a3f5f"
           }
          },
          "ternary": {
           "aaxis": {
            "gridcolor": "white",
            "linecolor": "white",
            "ticks": ""
           },
           "baxis": {
            "gridcolor": "white",
            "linecolor": "white",
            "ticks": ""
           },
           "bgcolor": "#E5ECF6",
           "caxis": {
            "gridcolor": "white",
            "linecolor": "white",
            "ticks": ""
           }
          },
          "title": {
           "x": 0.05
          },
          "xaxis": {
           "automargin": true,
           "gridcolor": "white",
           "linecolor": "white",
           "ticks": "",
           "title": {
            "standoff": 15
           },
           "zerolinecolor": "white",
           "zerolinewidth": 2
          },
          "yaxis": {
           "automargin": true,
           "gridcolor": "white",
           "linecolor": "white",
           "ticks": "",
           "title": {
            "standoff": 15
           },
           "zerolinecolor": "white",
           "zerolinewidth": 2
          }
         }
        },
        "title": {
         "text": "Achivable Rate (dirs1 = 40, dirs2 = 20)"
        },
        "xaxis": {
         "title": {
          "text": "Iteration number (10 raise to the power)"
         }
        },
        "yaxis": {
         "title": {
          "text": "Rate (bit/s/Hz)"
         }
        }
       }
      }
     },
     "metadata": {},
     "output_type": "display_data"
    }
   ],
   "source": [
    "# Create the line plot\n",
    "normal_rate_fig = go.Figure(data=go.Scatter(\n",
    "    x=np.log10(np.arange(0, len(rate_average))+1),\n",
    "    y=rate_average, \n",
    "    mode='lines+markers',  # Line + Markers\n",
    "    marker=dict(size=4, color='red'),  # Marker style\n",
    "    line=dict(color='blue', width=1),  # Line style\n",
    "    name='Line with Markers'\n",
    ")) \n",
    "\n",
    "# Add titles and labels\n",
    "normal_rate_fig.update_layout(\n",
    "    title='Achivable Rate (dirs1 = 40, dirs2 = 20)',\n",
    "    xaxis_title='Iteration number (10 raise to the power)',\n",
    "    yaxis_title='Rate (bit/s/Hz)'\n",
    ")"
   ]
  },
  {
   "cell_type": "code",
   "execution_count": 64,
   "metadata": {},
   "outputs": [
    {
     "name": "stdout",
     "output_type": "stream",
     "text": [
      "step size 1\n",
      "step size 2\n",
      "step size 3\n",
      "step size 4\n",
      "step size 5\n",
      "step size 6\n",
      "step size 7\n",
      "step size 8\n",
      "step size 9\n",
      "step size 10\n"
     ]
    }
   ],
   "source": [
    "\n",
    "max_iterations = 500\n",
    "average_over = 5\n",
    "theta_step_size = 10\n",
    "\n",
    "max_rates = np.zeros(10)\n",
    "quantized_rate = np.zeros(10)\n",
    "\n",
    "for theta_step_size in range(1, 11):\n",
    "    print(f\"step size {theta_step_size}\")\n",
    "    qrate_average = np.zeros(max_iterations+1)\n",
    "\n",
    "    for i in range(average_over):\n",
    "        [thetas_1, H_dir_1, H1_1, H2_1] = GenerateChannels(Nt, lt_1, Nr, lr_1, D, d_ris_1, Na, Nb, wavelength, alpha_dir, racian_factor)\n",
    "        [thetas_2, H_dir_2, H1_2, H2_2] = GenerateChannels(Nt, lt_2, Nr, lr_2, D, d_ris_2, Na, Nb, wavelength, alpha_dir, racian_factor)\n",
    "        [rates, _, _] = PGM_Quantized_last_step(\n",
    "            max_iterations, \n",
    "            H_dir_1, H1_1, H2_1, H_dir_2, H1_2, H2_2, \n",
    "            Nr, D, intial_Q, thetas_1, thetas_2, noise_power, Pt,\n",
    "            2 ** theta_step_size\n",
    "        )\n",
    "        \n",
    "        qrate_average += rates / average_over\n",
    "        \n",
    "    max_rates[theta_step_size-1] = qrate_average[-2]\n",
    "    quantized_rate[theta_step_size-1] = qrate_average[-1]\n",
    "\n",
    "    \n",
    "    "
   ]
  },
  {
   "cell_type": "code",
   "execution_count": 65,
   "metadata": {},
   "outputs": [
    {
     "data": {
      "application/vnd.plotly.v1+json": {
       "config": {
        "plotlyServerURL": "https://plot.ly"
       },
       "data": [
        {
         "mode": "lines+markers",
         "name": "Non qantized",
         "type": "scatter",
         "x": {
          "bdata": "AQAAAAIAAAADAAAABAAAAAUAAAAGAAAABwAAAAgAAAAJAAAACgAAAA==",
          "dtype": "i4"
         },
         "y": {
          "bdata": "lAmPjkO1MkC5B3PpUkUzQHyB6jS8VDNAYoN/8WJKM0B5u7651SQzQKh0ymqsETNADL5u7eA4M0BCJShsiTEzQJbtU89/UzNA3NuudxIDM0A=",
          "dtype": "f8"
         }
        },
        {
         "mode": "lines+markers",
         "name": "Quantized",
         "type": "scatter",
         "x": {
          "bdata": "AQAAAAIAAAADAAAABAAAAAUAAAAGAAAABwAAAAgAAAAJAAAACgAAAA==",
          "dtype": "i4"
         },
         "y": {
          "bdata": "3rvKUOjcK0AmC3SesDQyQMaNBtZIGjNA5ldfZB4/M0BzqdKXLiIzQEf5cCDgEDNATPvAqLA4M0CTYjmDbjEzQLMtcbV/UzNAOYaJCRUDM0A=",
          "dtype": "f8"
         }
        }
       ],
       "layout": {
        "template": {
         "data": {
          "bar": [
           {
            "error_x": {
             "color": "#2a3f5f"
            },
            "error_y": {
             "color": "#2a3f5f"
            },
            "marker": {
             "line": {
              "color": "#E5ECF6",
              "width": 0.5
             },
             "pattern": {
              "fillmode": "overlay",
              "size": 10,
              "solidity": 0.2
             }
            },
            "type": "bar"
           }
          ],
          "barpolar": [
           {
            "marker": {
             "line": {
              "color": "#E5ECF6",
              "width": 0.5
             },
             "pattern": {
              "fillmode": "overlay",
              "size": 10,
              "solidity": 0.2
             }
            },
            "type": "barpolar"
           }
          ],
          "carpet": [
           {
            "aaxis": {
             "endlinecolor": "#2a3f5f",
             "gridcolor": "white",
             "linecolor": "white",
             "minorgridcolor": "white",
             "startlinecolor": "#2a3f5f"
            },
            "baxis": {
             "endlinecolor": "#2a3f5f",
             "gridcolor": "white",
             "linecolor": "white",
             "minorgridcolor": "white",
             "startlinecolor": "#2a3f5f"
            },
            "type": "carpet"
           }
          ],
          "choropleth": [
           {
            "colorbar": {
             "outlinewidth": 0,
             "ticks": ""
            },
            "type": "choropleth"
           }
          ],
          "contour": [
           {
            "colorbar": {
             "outlinewidth": 0,
             "ticks": ""
            },
            "colorscale": [
             [
              0,
              "#0d0887"
             ],
             [
              0.1111111111111111,
              "#46039f"
             ],
             [
              0.2222222222222222,
              "#7201a8"
             ],
             [
              0.3333333333333333,
              "#9c179e"
             ],
             [
              0.4444444444444444,
              "#bd3786"
             ],
             [
              0.5555555555555556,
              "#d8576b"
             ],
             [
              0.6666666666666666,
              "#ed7953"
             ],
             [
              0.7777777777777778,
              "#fb9f3a"
             ],
             [
              0.8888888888888888,
              "#fdca26"
             ],
             [
              1,
              "#f0f921"
             ]
            ],
            "type": "contour"
           }
          ],
          "contourcarpet": [
           {
            "colorbar": {
             "outlinewidth": 0,
             "ticks": ""
            },
            "type": "contourcarpet"
           }
          ],
          "heatmap": [
           {
            "colorbar": {
             "outlinewidth": 0,
             "ticks": ""
            },
            "colorscale": [
             [
              0,
              "#0d0887"
             ],
             [
              0.1111111111111111,
              "#46039f"
             ],
             [
              0.2222222222222222,
              "#7201a8"
             ],
             [
              0.3333333333333333,
              "#9c179e"
             ],
             [
              0.4444444444444444,
              "#bd3786"
             ],
             [
              0.5555555555555556,
              "#d8576b"
             ],
             [
              0.6666666666666666,
              "#ed7953"
             ],
             [
              0.7777777777777778,
              "#fb9f3a"
             ],
             [
              0.8888888888888888,
              "#fdca26"
             ],
             [
              1,
              "#f0f921"
             ]
            ],
            "type": "heatmap"
           }
          ],
          "histogram": [
           {
            "marker": {
             "pattern": {
              "fillmode": "overlay",
              "size": 10,
              "solidity": 0.2
             }
            },
            "type": "histogram"
           }
          ],
          "histogram2d": [
           {
            "colorbar": {
             "outlinewidth": 0,
             "ticks": ""
            },
            "colorscale": [
             [
              0,
              "#0d0887"
             ],
             [
              0.1111111111111111,
              "#46039f"
             ],
             [
              0.2222222222222222,
              "#7201a8"
             ],
             [
              0.3333333333333333,
              "#9c179e"
             ],
             [
              0.4444444444444444,
              "#bd3786"
             ],
             [
              0.5555555555555556,
              "#d8576b"
             ],
             [
              0.6666666666666666,
              "#ed7953"
             ],
             [
              0.7777777777777778,
              "#fb9f3a"
             ],
             [
              0.8888888888888888,
              "#fdca26"
             ],
             [
              1,
              "#f0f921"
             ]
            ],
            "type": "histogram2d"
           }
          ],
          "histogram2dcontour": [
           {
            "colorbar": {
             "outlinewidth": 0,
             "ticks": ""
            },
            "colorscale": [
             [
              0,
              "#0d0887"
             ],
             [
              0.1111111111111111,
              "#46039f"
             ],
             [
              0.2222222222222222,
              "#7201a8"
             ],
             [
              0.3333333333333333,
              "#9c179e"
             ],
             [
              0.4444444444444444,
              "#bd3786"
             ],
             [
              0.5555555555555556,
              "#d8576b"
             ],
             [
              0.6666666666666666,
              "#ed7953"
             ],
             [
              0.7777777777777778,
              "#fb9f3a"
             ],
             [
              0.8888888888888888,
              "#fdca26"
             ],
             [
              1,
              "#f0f921"
             ]
            ],
            "type": "histogram2dcontour"
           }
          ],
          "mesh3d": [
           {
            "colorbar": {
             "outlinewidth": 0,
             "ticks": ""
            },
            "type": "mesh3d"
           }
          ],
          "parcoords": [
           {
            "line": {
             "colorbar": {
              "outlinewidth": 0,
              "ticks": ""
             }
            },
            "type": "parcoords"
           }
          ],
          "pie": [
           {
            "automargin": true,
            "type": "pie"
           }
          ],
          "scatter": [
           {
            "fillpattern": {
             "fillmode": "overlay",
             "size": 10,
             "solidity": 0.2
            },
            "type": "scatter"
           }
          ],
          "scatter3d": [
           {
            "line": {
             "colorbar": {
              "outlinewidth": 0,
              "ticks": ""
             }
            },
            "marker": {
             "colorbar": {
              "outlinewidth": 0,
              "ticks": ""
             }
            },
            "type": "scatter3d"
           }
          ],
          "scattercarpet": [
           {
            "marker": {
             "colorbar": {
              "outlinewidth": 0,
              "ticks": ""
             }
            },
            "type": "scattercarpet"
           }
          ],
          "scattergeo": [
           {
            "marker": {
             "colorbar": {
              "outlinewidth": 0,
              "ticks": ""
             }
            },
            "type": "scattergeo"
           }
          ],
          "scattergl": [
           {
            "marker": {
             "colorbar": {
              "outlinewidth": 0,
              "ticks": ""
             }
            },
            "type": "scattergl"
           }
          ],
          "scattermap": [
           {
            "marker": {
             "colorbar": {
              "outlinewidth": 0,
              "ticks": ""
             }
            },
            "type": "scattermap"
           }
          ],
          "scattermapbox": [
           {
            "marker": {
             "colorbar": {
              "outlinewidth": 0,
              "ticks": ""
             }
            },
            "type": "scattermapbox"
           }
          ],
          "scatterpolar": [
           {
            "marker": {
             "colorbar": {
              "outlinewidth": 0,
              "ticks": ""
             }
            },
            "type": "scatterpolar"
           }
          ],
          "scatterpolargl": [
           {
            "marker": {
             "colorbar": {
              "outlinewidth": 0,
              "ticks": ""
             }
            },
            "type": "scatterpolargl"
           }
          ],
          "scatterternary": [
           {
            "marker": {
             "colorbar": {
              "outlinewidth": 0,
              "ticks": ""
             }
            },
            "type": "scatterternary"
           }
          ],
          "surface": [
           {
            "colorbar": {
             "outlinewidth": 0,
             "ticks": ""
            },
            "colorscale": [
             [
              0,
              "#0d0887"
             ],
             [
              0.1111111111111111,
              "#46039f"
             ],
             [
              0.2222222222222222,
              "#7201a8"
             ],
             [
              0.3333333333333333,
              "#9c179e"
             ],
             [
              0.4444444444444444,
              "#bd3786"
             ],
             [
              0.5555555555555556,
              "#d8576b"
             ],
             [
              0.6666666666666666,
              "#ed7953"
             ],
             [
              0.7777777777777778,
              "#fb9f3a"
             ],
             [
              0.8888888888888888,
              "#fdca26"
             ],
             [
              1,
              "#f0f921"
             ]
            ],
            "type": "surface"
           }
          ],
          "table": [
           {
            "cells": {
             "fill": {
              "color": "#EBF0F8"
             },
             "line": {
              "color": "white"
             }
            },
            "header": {
             "fill": {
              "color": "#C8D4E3"
             },
             "line": {
              "color": "white"
             }
            },
            "type": "table"
           }
          ]
         },
         "layout": {
          "annotationdefaults": {
           "arrowcolor": "#2a3f5f",
           "arrowhead": 0,
           "arrowwidth": 1
          },
          "autotypenumbers": "strict",
          "coloraxis": {
           "colorbar": {
            "outlinewidth": 0,
            "ticks": ""
           }
          },
          "colorscale": {
           "diverging": [
            [
             0,
             "#8e0152"
            ],
            [
             0.1,
             "#c51b7d"
            ],
            [
             0.2,
             "#de77ae"
            ],
            [
             0.3,
             "#f1b6da"
            ],
            [
             0.4,
             "#fde0ef"
            ],
            [
             0.5,
             "#f7f7f7"
            ],
            [
             0.6,
             "#e6f5d0"
            ],
            [
             0.7,
             "#b8e186"
            ],
            [
             0.8,
             "#7fbc41"
            ],
            [
             0.9,
             "#4d9221"
            ],
            [
             1,
             "#276419"
            ]
           ],
           "sequential": [
            [
             0,
             "#0d0887"
            ],
            [
             0.1111111111111111,
             "#46039f"
            ],
            [
             0.2222222222222222,
             "#7201a8"
            ],
            [
             0.3333333333333333,
             "#9c179e"
            ],
            [
             0.4444444444444444,
             "#bd3786"
            ],
            [
             0.5555555555555556,
             "#d8576b"
            ],
            [
             0.6666666666666666,
             "#ed7953"
            ],
            [
             0.7777777777777778,
             "#fb9f3a"
            ],
            [
             0.8888888888888888,
             "#fdca26"
            ],
            [
             1,
             "#f0f921"
            ]
           ],
           "sequentialminus": [
            [
             0,
             "#0d0887"
            ],
            [
             0.1111111111111111,
             "#46039f"
            ],
            [
             0.2222222222222222,
             "#7201a8"
            ],
            [
             0.3333333333333333,
             "#9c179e"
            ],
            [
             0.4444444444444444,
             "#bd3786"
            ],
            [
             0.5555555555555556,
             "#d8576b"
            ],
            [
             0.6666666666666666,
             "#ed7953"
            ],
            [
             0.7777777777777778,
             "#fb9f3a"
            ],
            [
             0.8888888888888888,
             "#fdca26"
            ],
            [
             1,
             "#f0f921"
            ]
           ]
          },
          "colorway": [
           "#636efa",
           "#EF553B",
           "#00cc96",
           "#ab63fa",
           "#FFA15A",
           "#19d3f3",
           "#FF6692",
           "#B6E880",
           "#FF97FF",
           "#FECB52"
          ],
          "font": {
           "color": "#2a3f5f"
          },
          "geo": {
           "bgcolor": "white",
           "lakecolor": "white",
           "landcolor": "#E5ECF6",
           "showlakes": true,
           "showland": true,
           "subunitcolor": "white"
          },
          "hoverlabel": {
           "align": "left"
          },
          "hovermode": "closest",
          "mapbox": {
           "style": "light"
          },
          "paper_bgcolor": "white",
          "plot_bgcolor": "#E5ECF6",
          "polar": {
           "angularaxis": {
            "gridcolor": "white",
            "linecolor": "white",
            "ticks": ""
           },
           "bgcolor": "#E5ECF6",
           "radialaxis": {
            "gridcolor": "white",
            "linecolor": "white",
            "ticks": ""
           }
          },
          "scene": {
           "xaxis": {
            "backgroundcolor": "#E5ECF6",
            "gridcolor": "white",
            "gridwidth": 2,
            "linecolor": "white",
            "showbackground": true,
            "ticks": "",
            "zerolinecolor": "white"
           },
           "yaxis": {
            "backgroundcolor": "#E5ECF6",
            "gridcolor": "white",
            "gridwidth": 2,
            "linecolor": "white",
            "showbackground": true,
            "ticks": "",
            "zerolinecolor": "white"
           },
           "zaxis": {
            "backgroundcolor": "#E5ECF6",
            "gridcolor": "white",
            "gridwidth": 2,
            "linecolor": "white",
            "showbackground": true,
            "ticks": "",
            "zerolinecolor": "white"
           }
          },
          "shapedefaults": {
           "line": {
            "color": "#2a3f5f"
           }
          },
          "ternary": {
           "aaxis": {
            "gridcolor": "white",
            "linecolor": "white",
            "ticks": ""
           },
           "baxis": {
            "gridcolor": "white",
            "linecolor": "white",
            "ticks": ""
           },
           "bgcolor": "#E5ECF6",
           "caxis": {
            "gridcolor": "white",
            "linecolor": "white",
            "ticks": ""
           }
          },
          "title": {
           "x": 0.05
          },
          "xaxis": {
           "automargin": true,
           "gridcolor": "white",
           "linecolor": "white",
           "ticks": "",
           "title": {
            "standoff": 15
           },
           "zerolinecolor": "white",
           "zerolinewidth": 2
          },
          "yaxis": {
           "automargin": true,
           "gridcolor": "white",
           "linecolor": "white",
           "ticks": "",
           "title": {
            "standoff": 15
           },
           "zerolinecolor": "white",
           "zerolinewidth": 2
          }
         }
        },
        "title": {
         "text": "Achivable Rate (dirs1 = 40, dir2 = 20, Qantized Phases)"
        },
        "xaxis": {
         "title": {
          "text": "Quantization Level (2 raise to the power)"
         }
        },
        "yaxis": {
         "title": {
          "text": "Rate (bit/s/Hz)"
         }
        }
       }
      }
     },
     "metadata": {},
     "output_type": "display_data"
    }
   ],
   "source": [
    "# Create traces for real part\n",
    "mixfigure = go.Figure()\n",
    "mixfigure.add_trace(go.Scatter(x=np.arange(1, 11), y=max_rates, mode='lines+markers', name='Non qantized'))\n",
    "mixfigure.add_trace(go.Scatter(x=np.arange(1, 11), y=quantized_rate, mode='lines+markers', name='Quantized'))\n",
    "\n",
    "# Add titles and labels\n",
    "mixfigure.update_layout(\n",
    "    title='Achivable Rate (dirs1 = 40, dir2 = 20, Qantized Phases)',\n",
    "    xaxis_title='Quantization Level (2 raise to the power)',\n",
    "    yaxis_title='Rate (bit/s/Hz)'\n",
    ")"
   ]
  },
  {
   "cell_type": "code",
   "execution_count": null,
   "metadata": {},
   "outputs": [],
   "source": []
  }
 ],
 "metadata": {
  "kernelspec": {
   "display_name": "Python 3",
   "language": "python",
   "name": "python3"
  },
  "language_info": {
   "codemirror_mode": {
    "name": "ipython",
    "version": 3
   },
   "file_extension": ".py",
   "mimetype": "text/x-python",
   "name": "python",
   "nbconvert_exporter": "python",
   "pygments_lexer": "ipython3",
   "version": "3.10.5"
  }
 },
 "nbformat": 4,
 "nbformat_minor": 2
}
