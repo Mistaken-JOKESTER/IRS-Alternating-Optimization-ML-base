{
 "cells": [
  {
   "cell_type": "code",
   "execution_count": 1,
   "metadata": {},
   "outputs": [],
   "source": [
    "import pandas as pd\n",
    "import numpy as np\n",
    "from sklearn.model_selection import train_test_split\n",
    "from sklearn.preprocessing import StandardScaler\n",
    "from sklearn.metrics import mean_squared_error\n",
    "import tensorflow as tf\n",
    "from tensorflow.keras import layers, models, regularizers, initializers\n",
    "from tensorflow.keras.callbacks import EarlyStopping\n",
    "from tensorflow.keras.callbacks import ReduceLROnPlateau\n",
    "import joblib\n"
   ]
  },
  {
   "cell_type": "code",
   "execution_count": 2,
   "metadata": {},
   "outputs": [],
   "source": [
    "dataset = 2\n",
    "\n",
    "hr_file = f\"D:/Ankit work/irs data/data{dataset}/hr.csv\"\n",
    "hd_file = f\"D:/Ankit work/irs data/data{dataset}/hd.csv\"\n",
    "G_file = f\"D:/Ankit work/irs data/data{dataset}/G.csv\"\n",
    "\n",
    "W_file = f\"D:/Ankit work/irs data/data{dataset}/W.csv\"\n",
    "theta_file = f\"D:/Ankit work/irs data/data{dataset}/theta.csv\"\n",
    "\n",
    "scaler_X_file = \"D:/Ankit work/irs data/scaler_X.pkl\"\n",
    "scaler_Y_file = \"D:/Ankit work/irs data/scaler_Y.pkl\"\n",
    "modal_save_file = \"D:/Ankit work/irs data/my_trained_model.keras\""
   ]
  },
  {
   "cell_type": "code",
   "execution_count": 3,
   "metadata": {},
   "outputs": [
    {
     "name": "stdout",
     "output_type": "stream",
     "text": [
      "X shape:  (876650, 154)\n",
      "Y shape:  (876650, 54)\n"
     ]
    }
   ],
   "source": [
    "# Load input datasets\n",
    "hr = pd.read_csv(hr_file, header=None)\n",
    "hd = pd.read_csv(hd_file, header=None)\n",
    "G = pd.read_csv(G_file, header=None)\n",
    "\n",
    "# Load output datasets\n",
    "W = pd.read_csv(W_file, header=None)\n",
    "Theta = pd.read_csv(theta_file, header=None)\n",
    "\n",
    "# Concatenate input datasets (hr, hd, G) and output datasets (W, theta)\n",
    "X = pd.concat([hr, hd, G], axis=1)\n",
    "Y = pd.concat([W, Theta], axis=1)\n",
    "\n",
    "# Standardize input data\n",
    "scaler_X = StandardScaler()\n",
    "X_scaled = scaler_X.fit_transform(X)\n",
    "\n",
    "# Optionally, scale output data (depending on your needs)\n",
    "scaler_Y = StandardScaler()\n",
    "Y_scaled = scaler_Y.fit_transform(Y)\n",
    "\n",
    "print(\"X shape: \", X.shape)\n",
    "print(\"Y shape: \", Y.shape)\n"
   ]
  },
  {
   "cell_type": "code",
   "execution_count": 4,
   "metadata": {},
   "outputs": [
    {
     "name": "stdout",
     "output_type": "stream",
     "text": [
      "(525990, 154) (525990, 54)\n"
     ]
    }
   ],
   "source": [
    "# Manually shuffle the dataset using pandas\n",
    "X_shuffled = pd.DataFrame(X_scaled).sample(frac=1, random_state=42).reset_index(drop=True)\n",
    "Y_shuffled = pd.DataFrame(Y_scaled).sample(frac=1, random_state=42).reset_index(drop=True)\n",
    "\n",
    "# Split the data into train, validation, and test sets\n",
    "X_train, X_temp, Y_train, Y_temp = train_test_split(X_scaled, Y_scaled, test_size=0.4, random_state=42)\n",
    "X_val, X_test, Y_val, Y_test = train_test_split(X_temp, Y_temp, test_size=0.5, random_state=42)\n",
    "\n",
    "print(X_train.shape, Y_train.shape)"
   ]
  },
  {
   "cell_type": "code",
   "execution_count": 11,
   "metadata": {},
   "outputs": [],
   "source": [
    "l2_lambda = 0.0000000001\n",
    "dropout_rate = 0.001  # Set the dropout rate (0.2 = 20%)"
   ]
  },
  {
   "cell_type": "code",
   "execution_count": 12,
   "metadata": {},
   "outputs": [],
   "source": [
    "# Define the neural network\n",
    "model = models.Sequential()\n",
    "\n",
    "# Input layer (shape based on input features)\n",
    "model.add(layers.InputLayer(shape=(X_train.shape[1],)))\n",
    "\n",
    "# Hidden layers\n",
    "model.add(layers.Dense(314, activation='relu', kernel_initializer=initializers.HeNormal(),  kernel_regularizer=regularizers.l2(l2_lambda)))\n",
    "model.add(layers.Dropout(dropout_rate)) \n",
    "model.add(layers.Dense(314, activation='relu', kernel_initializer=initializers.HeNormal(),  kernel_regularizer=regularizers.l2(l2_lambda)))\n",
    "model.add(layers.Dropout(dropout_rate))\n",
    "model.add(layers.Dense(256, activation='relu', kernel_initializer=initializers.HeNormal(),  kernel_regularizer=regularizers.l2(l2_lambda)))\n",
    "model.add(layers.Dropout(dropout_rate)) \n",
    "model.add(layers.Dense(128, activation='relu', kernel_initializer=initializers.HeNormal(),  kernel_regularizer=regularizers.l2(l2_lambda)))\n",
    "model.add(layers.Dropout(dropout_rate)) \n",
    "model.add(layers.Dense(100, activation='relu', kernel_initializer=initializers.HeNormal(),  kernel_regularizer=regularizers.l2(l2_lambda)))\n",
    "model.add(layers.Dropout(dropout_rate)) \n",
    "model.add(layers.Dense(70, activation='relu', kernel_initializer=initializers.HeNormal(),  kernel_regularizer=regularizers.l2(l2_lambda)))\n",
    "model.add(layers.Dropout(dropout_rate)) \n",
    "model.add(layers.Dense(64, activation='relu', kernel_initializer=initializers.HeNormal(),  kernel_regularizer=regularizers.l2(l2_lambda)))\n",
    "\n",
    "# Output layer\n",
    "model.add(layers.Dense(Y_train.shape[1]))\n",
    "\n",
    "# Compile the model\n",
    "model.compile(optimizer='adam', loss='mean_squared_error', metrics=['mae'])"
   ]
  },
  {
   "cell_type": "code",
   "execution_count": 13,
   "metadata": {},
   "outputs": [],
   "source": [
    "# Define the EarlyStopping callback\n",
    "early_stopping = EarlyStopping(monitor='val_loss', patience=20, restore_best_weights=True)\n",
    "\n",
    "# Create the ReduceLROnPlateau callback\n",
    "reduce_lr = ReduceLROnPlateau(monitor='val_loss', factor=0.5, patience=10, min_lr=1e-6)"
   ]
  },
  {
   "cell_type": "code",
   "execution_count": 14,
   "metadata": {},
   "outputs": [],
   "source": [
    "train_count = 1"
   ]
  },
  {
   "cell_type": "code",
   "execution_count": 15,
   "metadata": {},
   "outputs": [
    {
     "name": "stdout",
     "output_type": "stream",
     "text": [
      "Epoch 1/100\n",
      "\u001b[1m4110/4110\u001b[0m \u001b[32m━━━━━━━━━━━━━━━━━━━━\u001b[0m\u001b[37m\u001b[0m \u001b[1m25s\u001b[0m 5ms/step - loss: 0.9409 - mae: 0.8572 - val_loss: 0.6838 - val_mae: 0.6873\n",
      "Epoch 2/100\n",
      "\u001b[1m4110/4110\u001b[0m \u001b[32m━━━━━━━━━━━━━━━━━━━━\u001b[0m\u001b[37m\u001b[0m \u001b[1m20s\u001b[0m 5ms/step - loss: 0.6205 - mae: 0.6424 - val_loss: 0.4425 - val_mae: 0.5230\n",
      "Epoch 3/100\n",
      "\u001b[1m4110/4110\u001b[0m \u001b[32m━━━━━━━━━━━━━━━━━━━━\u001b[0m\u001b[37m\u001b[0m \u001b[1m20s\u001b[0m 5ms/step - loss: 0.4207 - mae: 0.5054 - val_loss: 0.3288 - val_mae: 0.4426\n",
      "Epoch 4/100\n",
      "\u001b[1m4110/4110\u001b[0m \u001b[32m━━━━━━━━━━━━━━━━━━━━\u001b[0m\u001b[37m\u001b[0m \u001b[1m20s\u001b[0m 5ms/step - loss: 0.3285 - mae: 0.4388 - val_loss: 0.2812 - val_mae: 0.4084\n",
      "Epoch 5/100\n",
      "\u001b[1m4110/4110\u001b[0m \u001b[32m━━━━━━━━━━━━━━━━━━━━\u001b[0m\u001b[37m\u001b[0m \u001b[1m20s\u001b[0m 5ms/step - loss: 0.2834 - mae: 0.4046 - val_loss: 0.2536 - val_mae: 0.3838\n",
      "Epoch 6/100\n",
      "\u001b[1m4110/4110\u001b[0m \u001b[32m━━━━━━━━━━━━━━━━━━━━\u001b[0m\u001b[37m\u001b[0m \u001b[1m20s\u001b[0m 5ms/step - loss: 0.2569 - mae: 0.3837 - val_loss: 0.2357 - val_mae: 0.3693\n",
      "Epoch 7/100\n",
      "\u001b[1m4110/4110\u001b[0m \u001b[32m━━━━━━━━━━━━━━━━━━━━\u001b[0m\u001b[37m\u001b[0m \u001b[1m20s\u001b[0m 5ms/step - loss: 0.2417 - mae: 0.3711 - val_loss: 0.2218 - val_mae: 0.3579\n",
      "Epoch 8/100\n",
      "\u001b[1m4110/4110\u001b[0m \u001b[32m━━━━━━━━━━━━━━━━━━━━\u001b[0m\u001b[37m\u001b[0m \u001b[1m19s\u001b[0m 5ms/step - loss: 0.2309 - mae: 0.3618 - val_loss: 0.2102 - val_mae: 0.3469\n",
      "Epoch 9/100\n",
      "\u001b[1m4110/4110\u001b[0m \u001b[32m━━━━━━━━━━━━━━━━━━━━\u001b[0m\u001b[37m\u001b[0m \u001b[1m20s\u001b[0m 5ms/step - loss: 0.2236 - mae: 0.3555 - val_loss: 0.2104 - val_mae: 0.3470\n",
      "Epoch 10/100\n",
      "\u001b[1m4110/4110\u001b[0m \u001b[32m━━━━━━━━━━━━━━━━━━━━\u001b[0m\u001b[37m\u001b[0m \u001b[1m19s\u001b[0m 5ms/step - loss: 0.2171 - mae: 0.3498 - val_loss: 0.2018 - val_mae: 0.3384\n",
      "Epoch 11/100\n",
      "\u001b[1m4110/4110\u001b[0m \u001b[32m━━━━━━━━━━━━━━━━━━━━\u001b[0m\u001b[37m\u001b[0m \u001b[1m20s\u001b[0m 5ms/step - loss: 0.2111 - mae: 0.3445 - val_loss: 0.1947 - val_mae: 0.3336\n",
      "Epoch 12/100\n",
      "\u001b[1m4110/4110\u001b[0m \u001b[32m━━━━━━━━━━━━━━━━━━━━\u001b[0m\u001b[37m\u001b[0m \u001b[1m20s\u001b[0m 5ms/step - loss: 0.2074 - mae: 0.3411 - val_loss: 0.1938 - val_mae: 0.3308\n",
      "Epoch 13/100\n",
      "\u001b[1m4110/4110\u001b[0m \u001b[32m━━━━━━━━━━━━━━━━━━━━\u001b[0m\u001b[37m\u001b[0m \u001b[1m20s\u001b[0m 5ms/step - loss: 0.2035 - mae: 0.3378 - val_loss: 0.1928 - val_mae: 0.3299\n",
      "Epoch 14/100\n",
      "\u001b[1m4110/4110\u001b[0m \u001b[32m━━━━━━━━━━━━━━━━━━━━\u001b[0m\u001b[37m\u001b[0m \u001b[1m20s\u001b[0m 5ms/step - loss: 0.2006 - mae: 0.3350 - val_loss: 0.1862 - val_mae: 0.3245\n",
      "Epoch 15/100\n",
      "\u001b[1m4110/4110\u001b[0m \u001b[32m━━━━━━━━━━━━━━━━━━━━\u001b[0m\u001b[37m\u001b[0m \u001b[1m20s\u001b[0m 5ms/step - loss: 0.1979 - mae: 0.3324 - val_loss: 0.1838 - val_mae: 0.3221\n",
      "Epoch 16/100\n",
      "\u001b[1m4110/4110\u001b[0m \u001b[32m━━━━━━━━━━━━━━━━━━━━\u001b[0m\u001b[37m\u001b[0m \u001b[1m19s\u001b[0m 5ms/step - loss: 0.1949 - mae: 0.3298 - val_loss: 0.1848 - val_mae: 0.3227\n",
      "Epoch 17/100\n",
      "\u001b[1m4110/4110\u001b[0m \u001b[32m━━━━━━━━━━━━━━━━━━━━\u001b[0m\u001b[37m\u001b[0m \u001b[1m19s\u001b[0m 5ms/step - loss: 0.1935 - mae: 0.3282 - val_loss: 0.1795 - val_mae: 0.3180\n",
      "Epoch 18/100\n",
      "\u001b[1m4110/4110\u001b[0m \u001b[32m━━━━━━━━━━━━━━━━━━━━\u001b[0m\u001b[37m\u001b[0m \u001b[1m20s\u001b[0m 5ms/step - loss: 0.1913 - mae: 0.3263 - val_loss: 0.1814 - val_mae: 0.3189\n",
      "Epoch 19/100\n",
      "\u001b[1m4110/4110\u001b[0m \u001b[32m━━━━━━━━━━━━━━━━━━━━\u001b[0m\u001b[37m\u001b[0m \u001b[1m19s\u001b[0m 5ms/step - loss: 0.1896 - mae: 0.3247 - val_loss: 0.1828 - val_mae: 0.3212\n",
      "Epoch 20/100\n",
      "\u001b[1m4110/4110\u001b[0m \u001b[32m━━━━━━━━━━━━━━━━━━━━\u001b[0m\u001b[37m\u001b[0m \u001b[1m19s\u001b[0m 5ms/step - loss: 0.1880 - mae: 0.3231 - val_loss: 0.1786 - val_mae: 0.3168\n",
      "Epoch 21/100\n",
      "\u001b[1m4110/4110\u001b[0m \u001b[32m━━━━━━━━━━━━━━━━━━━━\u001b[0m\u001b[37m\u001b[0m \u001b[1m20s\u001b[0m 5ms/step - loss: 0.1861 - mae: 0.3214 - val_loss: 0.1786 - val_mae: 0.3154\n",
      "Epoch 22/100\n",
      "\u001b[1m4110/4110\u001b[0m \u001b[32m━━━━━━━━━━━━━━━━━━━━\u001b[0m\u001b[37m\u001b[0m \u001b[1m19s\u001b[0m 5ms/step - loss: 0.1860 - mae: 0.3211 - val_loss: 0.1769 - val_mae: 0.3146\n",
      "Epoch 23/100\n",
      "\u001b[1m4110/4110\u001b[0m \u001b[32m━━━━━━━━━━━━━━━━━━━━\u001b[0m\u001b[37m\u001b[0m \u001b[1m20s\u001b[0m 5ms/step - loss: 0.1841 - mae: 0.3193 - val_loss: 0.1733 - val_mae: 0.3102\n",
      "Epoch 24/100\n",
      "\u001b[1m4110/4110\u001b[0m \u001b[32m━━━━━━━━━━━━━━━━━━━━\u001b[0m\u001b[37m\u001b[0m \u001b[1m19s\u001b[0m 5ms/step - loss: 0.1828 - mae: 0.3181 - val_loss: 0.1735 - val_mae: 0.3097\n",
      "Epoch 25/100\n",
      "\u001b[1m4110/4110\u001b[0m \u001b[32m━━━━━━━━━━━━━━━━━━━━\u001b[0m\u001b[37m\u001b[0m \u001b[1m19s\u001b[0m 5ms/step - loss: 0.1817 - mae: 0.3171 - val_loss: 0.1723 - val_mae: 0.3100\n",
      "Epoch 26/100\n",
      "\u001b[1m4110/4110\u001b[0m \u001b[32m━━━━━━━━━━━━━━━━━━━━\u001b[0m\u001b[37m\u001b[0m \u001b[1m19s\u001b[0m 5ms/step - loss: 0.1807 - mae: 0.3160 - val_loss: 0.1722 - val_mae: 0.3100\n",
      "Epoch 27/100\n",
      "\u001b[1m4110/4110\u001b[0m \u001b[32m━━━━━━━━━━━━━━━━━━━━\u001b[0m\u001b[37m\u001b[0m \u001b[1m19s\u001b[0m 5ms/step - loss: 0.1798 - mae: 0.3152 - val_loss: 0.1713 - val_mae: 0.3097\n",
      "Epoch 28/100\n",
      "\u001b[1m4110/4110\u001b[0m \u001b[32m━━━━━━━━━━━━━━━━━━━━\u001b[0m\u001b[37m\u001b[0m \u001b[1m19s\u001b[0m 5ms/step - loss: 0.1792 - mae: 0.3146 - val_loss: 0.1735 - val_mae: 0.3112\n",
      "Epoch 29/100\n",
      "\u001b[1m4110/4110\u001b[0m \u001b[32m━━━━━━━━━━━━━━━━━━━━\u001b[0m\u001b[37m\u001b[0m \u001b[1m19s\u001b[0m 5ms/step - loss: 0.1786 - mae: 0.3139 - val_loss: 0.1696 - val_mae: 0.3071\n",
      "Epoch 30/100\n",
      "\u001b[1m4110/4110\u001b[0m \u001b[32m━━━━━━━━━━━━━━━━━━━━\u001b[0m\u001b[37m\u001b[0m \u001b[1m20s\u001b[0m 5ms/step - loss: 0.1766 - mae: 0.3120 - val_loss: 0.1702 - val_mae: 0.3075\n",
      "Epoch 31/100\n",
      "\u001b[1m4110/4110\u001b[0m \u001b[32m━━━━━━━━━━━━━━━━━━━━\u001b[0m\u001b[37m\u001b[0m \u001b[1m19s\u001b[0m 5ms/step - loss: 0.1769 - mae: 0.3123 - val_loss: 0.1704 - val_mae: 0.3066\n",
      "Epoch 32/100\n",
      "\u001b[1m4110/4110\u001b[0m \u001b[32m━━━━━━━━━━━━━━━━━━━━\u001b[0m\u001b[37m\u001b[0m \u001b[1m19s\u001b[0m 5ms/step - loss: 0.1769 - mae: 0.3121 - val_loss: 0.1701 - val_mae: 0.3072\n",
      "Epoch 33/100\n",
      "\u001b[1m4110/4110\u001b[0m \u001b[32m━━━━━━━━━━━━━━━━━━━━\u001b[0m\u001b[37m\u001b[0m \u001b[1m19s\u001b[0m 5ms/step - loss: 0.1759 - mae: 0.3112 - val_loss: 0.1715 - val_mae: 0.3088\n",
      "Epoch 34/100\n",
      "\u001b[1m4110/4110\u001b[0m \u001b[32m━━━━━━━━━━━━━━━━━━━━\u001b[0m\u001b[37m\u001b[0m \u001b[1m20s\u001b[0m 5ms/step - loss: 0.1757 - mae: 0.3109 - val_loss: 0.1694 - val_mae: 0.3065\n",
      "Epoch 35/100\n",
      "\u001b[1m4110/4110\u001b[0m \u001b[32m━━━━━━━━━━━━━━━━━━━━\u001b[0m\u001b[37m\u001b[0m \u001b[1m19s\u001b[0m 5ms/step - loss: 0.1748 - mae: 0.3101 - val_loss: 0.1681 - val_mae: 0.3047\n",
      "Epoch 36/100\n",
      "\u001b[1m4110/4110\u001b[0m \u001b[32m━━━━━━━━━━━━━━━━━━━━\u001b[0m\u001b[37m\u001b[0m \u001b[1m19s\u001b[0m 5ms/step - loss: 0.1741 - mae: 0.3095 - val_loss: 0.1678 - val_mae: 0.3051\n",
      "Epoch 37/100\n",
      "\u001b[1m4110/4110\u001b[0m \u001b[32m━━━━━━━━━━━━━━━━━━━━\u001b[0m\u001b[37m\u001b[0m \u001b[1m19s\u001b[0m 5ms/step - loss: 0.1735 - mae: 0.3087 - val_loss: 0.1685 - val_mae: 0.3055\n",
      "Epoch 38/100\n",
      "\u001b[1m4110/4110\u001b[0m \u001b[32m━━━━━━━━━━━━━━━━━━━━\u001b[0m\u001b[37m\u001b[0m \u001b[1m20s\u001b[0m 5ms/step - loss: 0.1731 - mae: 0.3083 - val_loss: 0.1666 - val_mae: 0.3035\n",
      "Epoch 39/100\n",
      "\u001b[1m4110/4110\u001b[0m \u001b[32m━━━━━━━━━━━━━━━━━━━━\u001b[0m\u001b[37m\u001b[0m \u001b[1m20s\u001b[0m 5ms/step - loss: 0.1721 - mae: 0.3075 - val_loss: 0.1670 - val_mae: 0.3029\n",
      "Epoch 40/100\n",
      "\u001b[1m4110/4110\u001b[0m \u001b[32m━━━━━━━━━━━━━━━━━━━━\u001b[0m\u001b[37m\u001b[0m \u001b[1m19s\u001b[0m 5ms/step - loss: 0.1716 - mae: 0.3069 - val_loss: 0.1662 - val_mae: 0.3027\n",
      "Epoch 41/100\n",
      "\u001b[1m4110/4110\u001b[0m \u001b[32m━━━━━━━━━━━━━━━━━━━━\u001b[0m\u001b[37m\u001b[0m \u001b[1m19s\u001b[0m 5ms/step - loss: 0.1713 - mae: 0.3065 - val_loss: 0.1661 - val_mae: 0.3024\n",
      "Epoch 42/100\n",
      "\u001b[1m4110/4110\u001b[0m \u001b[32m━━━━━━━━━━━━━━━━━━━━\u001b[0m\u001b[37m\u001b[0m \u001b[1m19s\u001b[0m 5ms/step - loss: 0.1713 - mae: 0.3064 - val_loss: 0.1656 - val_mae: 0.3023\n",
      "Epoch 43/100\n",
      "\u001b[1m4110/4110\u001b[0m \u001b[32m━━━━━━━━━━━━━━━━━━━━\u001b[0m\u001b[37m\u001b[0m \u001b[1m20s\u001b[0m 5ms/step - loss: 0.1707 - mae: 0.3059 - val_loss: 0.1646 - val_mae: 0.3015\n",
      "Epoch 44/100\n",
      "\u001b[1m4110/4110\u001b[0m \u001b[32m━━━━━━━━━━━━━━━━━━━━\u001b[0m\u001b[37m\u001b[0m \u001b[1m19s\u001b[0m 5ms/step - loss: 0.1700 - mae: 0.3051 - val_loss: 0.1671 - val_mae: 0.3035\n",
      "Epoch 45/100\n",
      "\u001b[1m4110/4110\u001b[0m \u001b[32m━━━━━━━━━━━━━━━━━━━━\u001b[0m\u001b[37m\u001b[0m \u001b[1m20s\u001b[0m 5ms/step - loss: 0.1700 - mae: 0.3052 - val_loss: 0.1640 - val_mae: 0.3004\n",
      "Epoch 46/100\n",
      "\u001b[1m4110/4110\u001b[0m \u001b[32m━━━━━━━━━━━━━━━━━━━━\u001b[0m\u001b[37m\u001b[0m \u001b[1m19s\u001b[0m 5ms/step - loss: 0.1696 - mae: 0.3046 - val_loss: 0.1625 - val_mae: 0.2986\n",
      "Epoch 47/100\n",
      "\u001b[1m4110/4110\u001b[0m \u001b[32m━━━━━━━━━━━━━━━━━━━━\u001b[0m\u001b[37m\u001b[0m \u001b[1m19s\u001b[0m 5ms/step - loss: 0.1689 - mae: 0.3042 - val_loss: 0.1636 - val_mae: 0.2999\n",
      "Epoch 48/100\n",
      "\u001b[1m4110/4110\u001b[0m \u001b[32m━━━━━━━━━━━━━━━━━━━━\u001b[0m\u001b[37m\u001b[0m \u001b[1m20s\u001b[0m 5ms/step - loss: 0.1691 - mae: 0.3043 - val_loss: 0.1647 - val_mae: 0.3018\n",
      "Epoch 49/100\n",
      "\u001b[1m4110/4110\u001b[0m \u001b[32m━━━━━━━━━━━━━━━━━━━━\u001b[0m\u001b[37m\u001b[0m \u001b[1m19s\u001b[0m 5ms/step - loss: 0.1683 - mae: 0.3034 - val_loss: 0.1626 - val_mae: 0.2990\n",
      "Epoch 50/100\n",
      "\u001b[1m4110/4110\u001b[0m \u001b[32m━━━━━━━━━━━━━━━━━━━━\u001b[0m\u001b[37m\u001b[0m \u001b[1m19s\u001b[0m 5ms/step - loss: 0.1680 - mae: 0.3031 - val_loss: 0.1603 - val_mae: 0.2963\n",
      "Epoch 51/100\n",
      "\u001b[1m4110/4110\u001b[0m \u001b[32m━━━━━━━━━━━━━━━━━━━━\u001b[0m\u001b[37m\u001b[0m \u001b[1m19s\u001b[0m 5ms/step - loss: 0.1675 - mae: 0.3025 - val_loss: 0.1628 - val_mae: 0.2992\n",
      "Epoch 52/100\n",
      "\u001b[1m4110/4110\u001b[0m \u001b[32m━━━━━━━━━━━━━━━━━━━━\u001b[0m\u001b[37m\u001b[0m \u001b[1m20s\u001b[0m 5ms/step - loss: 0.1672 - mae: 0.3022 - val_loss: 0.1617 - val_mae: 0.2974\n",
      "Epoch 53/100\n",
      "\u001b[1m4110/4110\u001b[0m \u001b[32m━━━━━━━━━━━━━━━━━━━━\u001b[0m\u001b[37m\u001b[0m \u001b[1m20s\u001b[0m 5ms/step - loss: 0.1667 - mae: 0.3018 - val_loss: 0.1601 - val_mae: 0.2960\n",
      "Epoch 54/100\n",
      "\u001b[1m4110/4110\u001b[0m \u001b[32m━━━━━━━━━━━━━━━━━━━━\u001b[0m\u001b[37m\u001b[0m \u001b[1m20s\u001b[0m 5ms/step - loss: 0.1667 - mae: 0.3017 - val_loss: 0.1621 - val_mae: 0.2976\n",
      "Epoch 55/100\n",
      "\u001b[1m4110/4110\u001b[0m \u001b[32m━━━━━━━━━━━━━━━━━━━━\u001b[0m\u001b[37m\u001b[0m \u001b[1m19s\u001b[0m 5ms/step - loss: 0.1663 - mae: 0.3012 - val_loss: 0.1611 - val_mae: 0.2972\n",
      "Epoch 56/100\n",
      "\u001b[1m4110/4110\u001b[0m \u001b[32m━━━━━━━━━━━━━━━━━━━━\u001b[0m\u001b[37m\u001b[0m \u001b[1m20s\u001b[0m 5ms/step - loss: 0.1658 - mae: 0.3007 - val_loss: 0.1610 - val_mae: 0.2966\n",
      "Epoch 57/100\n",
      "\u001b[1m4110/4110\u001b[0m \u001b[32m━━━━━━━━━━━━━━━━━━━━\u001b[0m\u001b[37m\u001b[0m \u001b[1m20s\u001b[0m 5ms/step - loss: 0.1655 - mae: 0.3003 - val_loss: 0.1616 - val_mae: 0.2967\n",
      "Epoch 58/100\n",
      "\u001b[1m4110/4110\u001b[0m \u001b[32m━━━━━━━━━━━━━━━━━━━━\u001b[0m\u001b[37m\u001b[0m \u001b[1m20s\u001b[0m 5ms/step - loss: 0.1649 - mae: 0.2996 - val_loss: 0.1611 - val_mae: 0.2969\n",
      "Epoch 59/100\n",
      "\u001b[1m4110/4110\u001b[0m \u001b[32m━━━━━━━━━━━━━━━━━━━━\u001b[0m\u001b[37m\u001b[0m \u001b[1m20s\u001b[0m 5ms/step - loss: 0.1645 - mae: 0.2990 - val_loss: 0.1608 - val_mae: 0.2964\n",
      "Epoch 60/100\n",
      "\u001b[1m4110/4110\u001b[0m \u001b[32m━━━━━━━━━━━━━━━━━━━━\u001b[0m\u001b[37m\u001b[0m \u001b[1m20s\u001b[0m 5ms/step - loss: 0.1641 - mae: 0.2986 - val_loss: 0.1613 - val_mae: 0.2965\n",
      "Epoch 61/100\n",
      "\u001b[1m4110/4110\u001b[0m \u001b[32m━━━━━━━━━━━━━━━━━━━━\u001b[0m\u001b[37m\u001b[0m \u001b[1m20s\u001b[0m 5ms/step - loss: 0.1635 - mae: 0.2980 - val_loss: 0.1601 - val_mae: 0.2947\n",
      "Epoch 62/100\n",
      "\u001b[1m4110/4110\u001b[0m \u001b[32m━━━━━━━━━━━━━━━━━━━━\u001b[0m\u001b[37m\u001b[0m \u001b[1m20s\u001b[0m 5ms/step - loss: 0.1640 - mae: 0.2983 - val_loss: 0.1597 - val_mae: 0.2945\n",
      "Epoch 63/100\n",
      "\u001b[1m4110/4110\u001b[0m \u001b[32m━━━━━━━━━━━━━━━━━━━━\u001b[0m\u001b[37m\u001b[0m \u001b[1m20s\u001b[0m 5ms/step - loss: 0.1635 - mae: 0.2978 - val_loss: 0.1591 - val_mae: 0.2944\n",
      "Epoch 64/100\n",
      "\u001b[1m4110/4110\u001b[0m \u001b[32m━━━━━━━━━━━━━━━━━━━━\u001b[0m\u001b[37m\u001b[0m \u001b[1m19s\u001b[0m 5ms/step - loss: 0.1621 - mae: 0.2965 - val_loss: 0.1570 - val_mae: 0.2928\n",
      "Epoch 65/100\n",
      "\u001b[1m4110/4110\u001b[0m \u001b[32m━━━━━━━━━━━━━━━━━━━━\u001b[0m\u001b[37m\u001b[0m \u001b[1m20s\u001b[0m 5ms/step - loss: 0.1621 - mae: 0.2965 - val_loss: 0.1587 - val_mae: 0.2933\n",
      "Epoch 66/100\n",
      "\u001b[1m4110/4110\u001b[0m \u001b[32m━━━━━━━━━━━━━━━━━━━━\u001b[0m\u001b[37m\u001b[0m \u001b[1m20s\u001b[0m 5ms/step - loss: 0.1624 - mae: 0.2967 - val_loss: 0.1593 - val_mae: 0.2946\n",
      "Epoch 67/100\n",
      "\u001b[1m4110/4110\u001b[0m \u001b[32m━━━━━━━━━━━━━━━━━━━━\u001b[0m\u001b[37m\u001b[0m \u001b[1m20s\u001b[0m 5ms/step - loss: 0.1617 - mae: 0.2960 - val_loss: 0.1573 - val_mae: 0.2924\n",
      "Epoch 68/100\n",
      "\u001b[1m4110/4110\u001b[0m \u001b[32m━━━━━━━━━━━━━━━━━━━━\u001b[0m\u001b[37m\u001b[0m \u001b[1m20s\u001b[0m 5ms/step - loss: 0.1618 - mae: 0.2959 - val_loss: 0.1589 - val_mae: 0.2945\n",
      "Epoch 69/100\n",
      "\u001b[1m4110/4110\u001b[0m \u001b[32m━━━━━━━━━━━━━━━━━━━━\u001b[0m\u001b[37m\u001b[0m \u001b[1m20s\u001b[0m 5ms/step - loss: 0.1611 - mae: 0.2954 - val_loss: 0.1570 - val_mae: 0.2922\n",
      "Epoch 70/100\n",
      "\u001b[1m4110/4110\u001b[0m \u001b[32m━━━━━━━━━━━━━━━━━━━━\u001b[0m\u001b[37m\u001b[0m \u001b[1m20s\u001b[0m 5ms/step - loss: 0.1609 - mae: 0.2952 - val_loss: 0.1574 - val_mae: 0.2922\n",
      "Epoch 71/100\n",
      "\u001b[1m4110/4110\u001b[0m \u001b[32m━━━━━━━━━━━━━━━━━━━━\u001b[0m\u001b[37m\u001b[0m \u001b[1m20s\u001b[0m 5ms/step - loss: 0.1614 - mae: 0.2955 - val_loss: 0.1599 - val_mae: 0.2952\n",
      "Epoch 72/100\n",
      "\u001b[1m4110/4110\u001b[0m \u001b[32m━━━━━━━━━━━━━━━━━━━━\u001b[0m\u001b[37m\u001b[0m \u001b[1m20s\u001b[0m 5ms/step - loss: 0.1607 - mae: 0.2949 - val_loss: 0.1551 - val_mae: 0.2893\n",
      "Epoch 73/100\n",
      "\u001b[1m4110/4110\u001b[0m \u001b[32m━━━━━━━━━━━━━━━━━━━━\u001b[0m\u001b[37m\u001b[0m \u001b[1m20s\u001b[0m 5ms/step - loss: 0.1611 - mae: 0.2953 - val_loss: 0.1572 - val_mae: 0.2920\n",
      "Epoch 74/100\n",
      "\u001b[1m4110/4110\u001b[0m \u001b[32m━━━━━━━━━━━━━━━━━━━━\u001b[0m\u001b[37m\u001b[0m \u001b[1m20s\u001b[0m 5ms/step - loss: 0.1602 - mae: 0.2944 - val_loss: 0.1572 - val_mae: 0.2923\n",
      "Epoch 75/100\n",
      "\u001b[1m4110/4110\u001b[0m \u001b[32m━━━━━━━━━━━━━━━━━━━━\u001b[0m\u001b[37m\u001b[0m \u001b[1m20s\u001b[0m 5ms/step - loss: 0.1600 - mae: 0.2941 - val_loss: 0.1563 - val_mae: 0.2918\n",
      "Epoch 76/100\n",
      "\u001b[1m4110/4110\u001b[0m \u001b[32m━━━━━━━━━━━━━━━━━━━━\u001b[0m\u001b[37m\u001b[0m \u001b[1m20s\u001b[0m 5ms/step - loss: 0.1596 - mae: 0.2939 - val_loss: 0.1556 - val_mae: 0.2903\n",
      "Epoch 77/100\n",
      "\u001b[1m4110/4110\u001b[0m \u001b[32m━━━━━━━━━━━━━━━━━━━━\u001b[0m\u001b[37m\u001b[0m \u001b[1m20s\u001b[0m 5ms/step - loss: 0.1604 - mae: 0.2944 - val_loss: 0.1565 - val_mae: 0.2907\n",
      "Epoch 78/100\n",
      "\u001b[1m4110/4110\u001b[0m \u001b[32m━━━━━━━━━━━━━━━━━━━━\u001b[0m\u001b[37m\u001b[0m \u001b[1m19s\u001b[0m 5ms/step - loss: 0.1596 - mae: 0.2937 - val_loss: 0.1556 - val_mae: 0.2901\n",
      "Epoch 79/100\n",
      "\u001b[1m4110/4110\u001b[0m \u001b[32m━━━━━━━━━━━━━━━━━━━━\u001b[0m\u001b[37m\u001b[0m \u001b[1m20s\u001b[0m 5ms/step - loss: 0.1593 - mae: 0.2935 - val_loss: 0.1566 - val_mae: 0.2910\n",
      "Epoch 80/100\n",
      "\u001b[1m4110/4110\u001b[0m \u001b[32m━━━━━━━━━━━━━━━━━━━━\u001b[0m\u001b[37m\u001b[0m \u001b[1m20s\u001b[0m 5ms/step - loss: 0.1597 - mae: 0.2937 - val_loss: 0.1574 - val_mae: 0.2925\n",
      "Epoch 81/100\n",
      "\u001b[1m4110/4110\u001b[0m \u001b[32m━━━━━━━━━━━━━━━━━━━━\u001b[0m\u001b[37m\u001b[0m \u001b[1m20s\u001b[0m 5ms/step - loss: 0.1594 - mae: 0.2935 - val_loss: 0.1558 - val_mae: 0.2907\n",
      "Epoch 82/100\n",
      "\u001b[1m4110/4110\u001b[0m \u001b[32m━━━━━━━━━━━━━━━━━━━━\u001b[0m\u001b[37m\u001b[0m \u001b[1m20s\u001b[0m 5ms/step - loss: 0.1593 - mae: 0.2934 - val_loss: 0.1549 - val_mae: 0.2892\n",
      "Epoch 83/100\n",
      "\u001b[1m4110/4110\u001b[0m \u001b[32m━━━━━━━━━━━━━━━━━━━━\u001b[0m\u001b[37m\u001b[0m \u001b[1m20s\u001b[0m 5ms/step - loss: 0.1590 - mae: 0.2929 - val_loss: 0.1550 - val_mae: 0.2900\n",
      "Epoch 84/100\n",
      "\u001b[1m4110/4110\u001b[0m \u001b[32m━━━━━━━━━━━━━━━━━━━━\u001b[0m\u001b[37m\u001b[0m \u001b[1m20s\u001b[0m 5ms/step - loss: 0.1585 - mae: 0.2926 - val_loss: 0.1571 - val_mae: 0.2920\n",
      "Epoch 85/100\n",
      "\u001b[1m4110/4110\u001b[0m \u001b[32m━━━━━━━━━━━━━━━━━━━━\u001b[0m\u001b[37m\u001b[0m \u001b[1m19s\u001b[0m 5ms/step - loss: 0.1590 - mae: 0.2931 - val_loss: 0.1551 - val_mae: 0.2901\n",
      "Epoch 86/100\n",
      "\u001b[1m4110/4110\u001b[0m \u001b[32m━━━━━━━━━━━━━━━━━━━━\u001b[0m\u001b[37m\u001b[0m \u001b[1m20s\u001b[0m 5ms/step - loss: 0.1585 - mae: 0.2926 - val_loss: 0.1552 - val_mae: 0.2900\n",
      "Epoch 87/100\n",
      "\u001b[1m4110/4110\u001b[0m \u001b[32m━━━━━━━━━━━━━━━━━━━━\u001b[0m\u001b[37m\u001b[0m \u001b[1m20s\u001b[0m 5ms/step - loss: 0.1590 - mae: 0.2930 - val_loss: 0.1547 - val_mae: 0.2891\n",
      "Epoch 88/100\n",
      "\u001b[1m4110/4110\u001b[0m \u001b[32m━━━━━━━━━━━━━━━━━━━━\u001b[0m\u001b[37m\u001b[0m \u001b[1m20s\u001b[0m 5ms/step - loss: 0.1584 - mae: 0.2923 - val_loss: 0.1571 - val_mae: 0.2916\n",
      "Epoch 89/100\n",
      "\u001b[1m4110/4110\u001b[0m \u001b[32m━━━━━━━━━━━━━━━━━━━━\u001b[0m\u001b[37m\u001b[0m \u001b[1m20s\u001b[0m 5ms/step - loss: 0.1582 - mae: 0.2922 - val_loss: 0.1550 - val_mae: 0.2897\n",
      "Epoch 90/100\n",
      "\u001b[1m4110/4110\u001b[0m \u001b[32m━━━━━━━━━━━━━━━━━━━━\u001b[0m\u001b[37m\u001b[0m \u001b[1m19s\u001b[0m 5ms/step - loss: 0.1584 - mae: 0.2923 - val_loss: 0.1542 - val_mae: 0.2882\n",
      "Epoch 91/100\n",
      "\u001b[1m4110/4110\u001b[0m \u001b[32m━━━━━━━━━━━━━━━━━━━━\u001b[0m\u001b[37m\u001b[0m \u001b[1m19s\u001b[0m 5ms/step - loss: 0.1582 - mae: 0.2921 - val_loss: 0.1577 - val_mae: 0.2922\n",
      "Epoch 92/100\n",
      "\u001b[1m4110/4110\u001b[0m \u001b[32m━━━━━━━━━━━━━━━━━━━━\u001b[0m\u001b[37m\u001b[0m \u001b[1m20s\u001b[0m 5ms/step - loss: 0.1578 - mae: 0.2918 - val_loss: 0.1546 - val_mae: 0.2891\n",
      "Epoch 93/100\n",
      "\u001b[1m4110/4110\u001b[0m \u001b[32m━━━━━━━━━━━━━━━━━━━━\u001b[0m\u001b[37m\u001b[0m \u001b[1m20s\u001b[0m 5ms/step - loss: 0.1577 - mae: 0.2917 - val_loss: 0.1556 - val_mae: 0.2903\n",
      "Epoch 94/100\n",
      "\u001b[1m4110/4110\u001b[0m \u001b[32m━━━━━━━━━━━━━━━━━━━━\u001b[0m\u001b[37m\u001b[0m \u001b[1m20s\u001b[0m 5ms/step - loss: 0.1582 - mae: 0.2920 - val_loss: 0.1552 - val_mae: 0.2888\n",
      "Epoch 95/100\n",
      "\u001b[1m4110/4110\u001b[0m \u001b[32m━━━━━━━━━━━━━━━━━━━━\u001b[0m\u001b[37m\u001b[0m \u001b[1m20s\u001b[0m 5ms/step - loss: 0.1582 - mae: 0.2920 - val_loss: 0.1564 - val_mae: 0.2910\n",
      "Epoch 96/100\n",
      "\u001b[1m4110/4110\u001b[0m \u001b[32m━━━━━━━━━━━━━━━━━━━━\u001b[0m\u001b[37m\u001b[0m \u001b[1m20s\u001b[0m 5ms/step - loss: 0.1577 - mae: 0.2916 - val_loss: 0.1545 - val_mae: 0.2898\n",
      "Epoch 97/100\n",
      "\u001b[1m4110/4110\u001b[0m \u001b[32m━━━━━━━━━━━━━━━━━━━━\u001b[0m\u001b[37m\u001b[0m \u001b[1m20s\u001b[0m 5ms/step - loss: 0.1579 - mae: 0.2918 - val_loss: 0.1550 - val_mae: 0.2891\n",
      "Epoch 98/100\n",
      "\u001b[1m4110/4110\u001b[0m \u001b[32m━━━━━━━━━━━━━━━━━━━━\u001b[0m\u001b[37m\u001b[0m \u001b[1m20s\u001b[0m 5ms/step - loss: 0.1584 - mae: 0.2920 - val_loss: 0.1568 - val_mae: 0.2912\n",
      "Epoch 99/100\n",
      "\u001b[1m4110/4110\u001b[0m \u001b[32m━━━━━━━━━━━━━━━━━━━━\u001b[0m\u001b[37m\u001b[0m \u001b[1m20s\u001b[0m 5ms/step - loss: 0.1589 - mae: 0.2925 - val_loss: 0.1538 - val_mae: 0.2889\n",
      "Epoch 100/100\n",
      "\u001b[1m4110/4110\u001b[0m \u001b[32m━━━━━━━━━━━━━━━━━━━━\u001b[0m\u001b[37m\u001b[0m \u001b[1m20s\u001b[0m 5ms/step - loss: 0.1574 - mae: 0.2914 - val_loss: 0.1559 - val_mae: 0.2906\n"
     ]
    }
   ],
   "source": [
    "history = model.fit(X_train, Y_train, epochs=100, validation_data=(X_val, Y_val), batch_size=128, shuffle=True, callbacks=[])"
   ]
  },
  {
   "cell_type": "code",
   "execution_count": 16,
   "metadata": {},
   "outputs": [
    {
     "name": "stdout",
     "output_type": "stream",
     "text": [
      "\u001b[1m16438/16438\u001b[0m \u001b[32m━━━━━━━━━━━━━━━━━━━━\u001b[0m\u001b[37m\u001b[0m \u001b[1m15s\u001b[0m 917us/step - loss: 0.1521 - mae: 0.2876\n",
      "\u001b[1m5480/5480\u001b[0m \u001b[32m━━━━━━━━━━━━━━━━━━━━\u001b[0m\u001b[37m\u001b[0m \u001b[1m5s\u001b[0m 887us/step - loss: 0.1560 - mae: 0.2906\n",
      "\u001b[1m5480/5480\u001b[0m \u001b[32m━━━━━━━━━━━━━━━━━━━━\u001b[0m\u001b[37m\u001b[0m \u001b[1m5s\u001b[0m 895us/step - loss: 0.1560 - mae: 0.2908\n",
      "\u001b[1m16438/16438\u001b[0m \u001b[32m━━━━━━━━━━━━━━━━━━━━\u001b[0m\u001b[37m\u001b[0m \u001b[1m14s\u001b[0m 837us/step\n",
      "\u001b[1m5480/5480\u001b[0m \u001b[32m━━━━━━━━━━━━━━━━━━━━\u001b[0m\u001b[37m\u001b[0m \u001b[1m5s\u001b[0m 861us/step\n",
      "\u001b[1m5480/5480\u001b[0m \u001b[32m━━━━━━━━━━━━━━━━━━━━\u001b[0m\u001b[37m\u001b[0m \u001b[1m5s\u001b[0m 850us/step\n"
     ]
    }
   ],
   "source": [
    "\n",
    "# Evaluate the model on training, validation, and test sets\n",
    "train_loss, train_mae = model.evaluate(X_train, Y_train)\n",
    "val_loss, val_mae = model.evaluate(X_val, Y_val)\n",
    "test_loss, test_mae = model.evaluate(X_test, Y_test)\n",
    "\n",
    "# Get model predictions for calculating MAPE\n",
    "train_pred = model.predict(X_train)\n",
    "val_pred = model.predict(X_val)\n",
    "test_pred = model.predict(X_test)\n",
    "\n",
    "\n",
    "# Create a remark about model performance (e.g., overfitting or good fit)\n",
    "if train_loss < val_loss and train_loss < test_loss:\n",
    "    remark = \"Possible overfitting detected.\"\n",
    "elif val_loss <= test_loss:\n",
    "    remark = \"Good fit.\"\n",
    "else:\n",
    "    remark = \"Model underfits the data.\"\n",
    "\n"
   ]
  },
  {
   "cell_type": "code",
   "execution_count": 13,
   "metadata": {},
   "outputs": [
    {
     "name": "stdout",
     "output_type": "stream",
     "text": [
      "Training, validation, and test errors saved to 'model_performance_log.txt'.\n"
     ]
    }
   ],
   "source": [
    "\n",
    "# Prepare the text to log the errors and remarks\n",
    "log_text = (f\"Training Loss MSE: {train_loss:.4f}, Validation Loss MSE: {val_loss:.4f}, Test Loss MSE: {test_loss:.4f}\\n\"\n",
    "            f\"Training MAE: {train_mae:.4f}, Validation MAE: {val_mae:.4f}, Test MAE: {test_mae:.4f}\\n\"\n",
    "            f\"Remark: {remark}\\n\"\n",
    "            f\"He intialized , L2 Regularized (0.0000001), Dropout (0.001) Early stop (Patience 20),\\n\" \n",
    "            # f\"Learning rate scheduling (factor=0.5, patience=10, min_lr=1e-6)\\n\"\n",
    "            f\"layers: 2 * 314, 256, 128, 2 * 100, 64\\n\"\n",
    "            \"-------------------------------------------\\n\")\n",
    "\n",
    "# Append the results to a text file\n",
    "with open('D:\\Ankit work\\irs data\\model_performance_log.txt', 'a') as file:\n",
    "    file.write(log_text)\n",
    "\n",
    "print(\"Training, validation, and test errors saved to 'model_performance_log.txt'.\")"
   ]
  },
  {
   "cell_type": "code",
   "execution_count": 5,
   "metadata": {},
   "outputs": [
    {
     "data": {
      "text/plain": [
       "['D:/Ankit work/irs data/scaler_Y.pkl']"
      ]
     },
     "execution_count": 5,
     "metadata": {},
     "output_type": "execute_result"
    }
   ],
   "source": [
    "# Save the trained model to a file (HDF5 format or TensorFlow SavedModel format)\n",
    "# model.save(modal_save_file)  # Save as HDF5\n",
    "\n",
    "# Save the scaler to a file\n",
    "joblib.dump(scaler_X, scaler_X_file)\n",
    "joblib.dump(scaler_Y, scaler_Y_file)"
   ]
  },
  {
   "cell_type": "code",
   "execution_count": 14,
   "metadata": {},
   "outputs": [],
   "source": [
    "from tensorflow.keras.models import load_model\n",
    "from tensorflow import keras\n",
    "\n",
    "# Load the model\n",
    "loaded_model = keras.models.load_model(modal_save_file)\n",
    "\n",
    "# Load the saved scaler\n",
    "scaler_X_loaded = joblib.load(scaler_X_file)\n",
    "scaler_Y_loaded = joblib.load(scaler_Y_file)\n"
   ]
  },
  {
   "cell_type": "code",
   "execution_count": 15,
   "metadata": {},
   "outputs": [],
   "source": [
    "# load_model = model\n",
    "scaler_X_loaded = scaler_X\n",
    "scaler_Y_loaded = scaler_Y"
   ]
  },
  {
   "cell_type": "code",
   "execution_count": 16,
   "metadata": {},
   "outputs": [
    {
     "data": {
      "text/html": [
       "<pre style=\"white-space:pre;overflow-x:auto;line-height:normal;font-family:Menlo,'DejaVu Sans Mono',consolas,'Courier New',monospace\"><span style=\"font-weight: bold\">Model: \"sequential_1\"</span>\n",
       "</pre>\n"
      ],
      "text/plain": [
       "\u001b[1mModel: \"sequential_1\"\u001b[0m\n"
      ]
     },
     "metadata": {},
     "output_type": "display_data"
    },
    {
     "data": {
      "text/html": [
       "<pre style=\"white-space:pre;overflow-x:auto;line-height:normal;font-family:Menlo,'DejaVu Sans Mono',consolas,'Courier New',monospace\">┏━━━━━━━━━━━━━━━━━━━━━━━━━━━━━━━━━━━━━━┳━━━━━━━━━━━━━━━━━━━━━━━━━━━━━┳━━━━━━━━━━━━━━━━━┓\n",
       "┃<span style=\"font-weight: bold\"> Layer (type)                         </span>┃<span style=\"font-weight: bold\"> Output Shape                </span>┃<span style=\"font-weight: bold\">         Param # </span>┃\n",
       "┡━━━━━━━━━━━━━━━━━━━━━━━━━━━━━━━━━━━━━━╇━━━━━━━━━━━━━━━━━━━━━━━━━━━━━╇━━━━━━━━━━━━━━━━━┩\n",
       "│ dense_8 (<span style=\"color: #0087ff; text-decoration-color: #0087ff\">Dense</span>)                      │ (<span style=\"color: #00d7ff; text-decoration-color: #00d7ff\">None</span>, <span style=\"color: #00af00; text-decoration-color: #00af00\">314</span>)                 │          <span style=\"color: #00af00; text-decoration-color: #00af00\">48,670</span> │\n",
       "├──────────────────────────────────────┼─────────────────────────────┼─────────────────┤\n",
       "│ dropout_6 (<span style=\"color: #0087ff; text-decoration-color: #0087ff\">Dropout</span>)                  │ (<span style=\"color: #00d7ff; text-decoration-color: #00d7ff\">None</span>, <span style=\"color: #00af00; text-decoration-color: #00af00\">314</span>)                 │               <span style=\"color: #00af00; text-decoration-color: #00af00\">0</span> │\n",
       "├──────────────────────────────────────┼─────────────────────────────┼─────────────────┤\n",
       "│ dense_9 (<span style=\"color: #0087ff; text-decoration-color: #0087ff\">Dense</span>)                      │ (<span style=\"color: #00d7ff; text-decoration-color: #00d7ff\">None</span>, <span style=\"color: #00af00; text-decoration-color: #00af00\">314</span>)                 │          <span style=\"color: #00af00; text-decoration-color: #00af00\">98,910</span> │\n",
       "├──────────────────────────────────────┼─────────────────────────────┼─────────────────┤\n",
       "│ dropout_7 (<span style=\"color: #0087ff; text-decoration-color: #0087ff\">Dropout</span>)                  │ (<span style=\"color: #00d7ff; text-decoration-color: #00d7ff\">None</span>, <span style=\"color: #00af00; text-decoration-color: #00af00\">314</span>)                 │               <span style=\"color: #00af00; text-decoration-color: #00af00\">0</span> │\n",
       "├──────────────────────────────────────┼─────────────────────────────┼─────────────────┤\n",
       "│ dense_10 (<span style=\"color: #0087ff; text-decoration-color: #0087ff\">Dense</span>)                     │ (<span style=\"color: #00d7ff; text-decoration-color: #00d7ff\">None</span>, <span style=\"color: #00af00; text-decoration-color: #00af00\">256</span>)                 │          <span style=\"color: #00af00; text-decoration-color: #00af00\">80,640</span> │\n",
       "├──────────────────────────────────────┼─────────────────────────────┼─────────────────┤\n",
       "│ dropout_8 (<span style=\"color: #0087ff; text-decoration-color: #0087ff\">Dropout</span>)                  │ (<span style=\"color: #00d7ff; text-decoration-color: #00d7ff\">None</span>, <span style=\"color: #00af00; text-decoration-color: #00af00\">256</span>)                 │               <span style=\"color: #00af00; text-decoration-color: #00af00\">0</span> │\n",
       "├──────────────────────────────────────┼─────────────────────────────┼─────────────────┤\n",
       "│ dense_11 (<span style=\"color: #0087ff; text-decoration-color: #0087ff\">Dense</span>)                     │ (<span style=\"color: #00d7ff; text-decoration-color: #00d7ff\">None</span>, <span style=\"color: #00af00; text-decoration-color: #00af00\">128</span>)                 │          <span style=\"color: #00af00; text-decoration-color: #00af00\">32,896</span> │\n",
       "├──────────────────────────────────────┼─────────────────────────────┼─────────────────┤\n",
       "│ dropout_9 (<span style=\"color: #0087ff; text-decoration-color: #0087ff\">Dropout</span>)                  │ (<span style=\"color: #00d7ff; text-decoration-color: #00d7ff\">None</span>, <span style=\"color: #00af00; text-decoration-color: #00af00\">128</span>)                 │               <span style=\"color: #00af00; text-decoration-color: #00af00\">0</span> │\n",
       "├──────────────────────────────────────┼─────────────────────────────┼─────────────────┤\n",
       "│ dense_12 (<span style=\"color: #0087ff; text-decoration-color: #0087ff\">Dense</span>)                     │ (<span style=\"color: #00d7ff; text-decoration-color: #00d7ff\">None</span>, <span style=\"color: #00af00; text-decoration-color: #00af00\">100</span>)                 │          <span style=\"color: #00af00; text-decoration-color: #00af00\">12,900</span> │\n",
       "├──────────────────────────────────────┼─────────────────────────────┼─────────────────┤\n",
       "│ dropout_10 (<span style=\"color: #0087ff; text-decoration-color: #0087ff\">Dropout</span>)                 │ (<span style=\"color: #00d7ff; text-decoration-color: #00d7ff\">None</span>, <span style=\"color: #00af00; text-decoration-color: #00af00\">100</span>)                 │               <span style=\"color: #00af00; text-decoration-color: #00af00\">0</span> │\n",
       "├──────────────────────────────────────┼─────────────────────────────┼─────────────────┤\n",
       "│ dense_13 (<span style=\"color: #0087ff; text-decoration-color: #0087ff\">Dense</span>)                     │ (<span style=\"color: #00d7ff; text-decoration-color: #00d7ff\">None</span>, <span style=\"color: #00af00; text-decoration-color: #00af00\">70</span>)                  │           <span style=\"color: #00af00; text-decoration-color: #00af00\">7,070</span> │\n",
       "├──────────────────────────────────────┼─────────────────────────────┼─────────────────┤\n",
       "│ dropout_11 (<span style=\"color: #0087ff; text-decoration-color: #0087ff\">Dropout</span>)                 │ (<span style=\"color: #00d7ff; text-decoration-color: #00d7ff\">None</span>, <span style=\"color: #00af00; text-decoration-color: #00af00\">70</span>)                  │               <span style=\"color: #00af00; text-decoration-color: #00af00\">0</span> │\n",
       "├──────────────────────────────────────┼─────────────────────────────┼─────────────────┤\n",
       "│ dense_14 (<span style=\"color: #0087ff; text-decoration-color: #0087ff\">Dense</span>)                     │ (<span style=\"color: #00d7ff; text-decoration-color: #00d7ff\">None</span>, <span style=\"color: #00af00; text-decoration-color: #00af00\">64</span>)                  │           <span style=\"color: #00af00; text-decoration-color: #00af00\">4,544</span> │\n",
       "├──────────────────────────────────────┼─────────────────────────────┼─────────────────┤\n",
       "│ dense_15 (<span style=\"color: #0087ff; text-decoration-color: #0087ff\">Dense</span>)                     │ (<span style=\"color: #00d7ff; text-decoration-color: #00d7ff\">None</span>, <span style=\"color: #00af00; text-decoration-color: #00af00\">54</span>)                  │           <span style=\"color: #00af00; text-decoration-color: #00af00\">3,510</span> │\n",
       "└──────────────────────────────────────┴─────────────────────────────┴─────────────────┘\n",
       "</pre>\n"
      ],
      "text/plain": [
       "┏━━━━━━━━━━━━━━━━━━━━━━━━━━━━━━━━━━━━━━┳━━━━━━━━━━━━━━━━━━━━━━━━━━━━━┳━━━━━━━━━━━━━━━━━┓\n",
       "┃\u001b[1m \u001b[0m\u001b[1mLayer (type)                        \u001b[0m\u001b[1m \u001b[0m┃\u001b[1m \u001b[0m\u001b[1mOutput Shape               \u001b[0m\u001b[1m \u001b[0m┃\u001b[1m \u001b[0m\u001b[1m        Param #\u001b[0m\u001b[1m \u001b[0m┃\n",
       "┡━━━━━━━━━━━━━━━━━━━━━━━━━━━━━━━━━━━━━━╇━━━━━━━━━━━━━━━━━━━━━━━━━━━━━╇━━━━━━━━━━━━━━━━━┩\n",
       "│ dense_8 (\u001b[38;5;33mDense\u001b[0m)                      │ (\u001b[38;5;45mNone\u001b[0m, \u001b[38;5;34m314\u001b[0m)                 │          \u001b[38;5;34m48,670\u001b[0m │\n",
       "├──────────────────────────────────────┼─────────────────────────────┼─────────────────┤\n",
       "│ dropout_6 (\u001b[38;5;33mDropout\u001b[0m)                  │ (\u001b[38;5;45mNone\u001b[0m, \u001b[38;5;34m314\u001b[0m)                 │               \u001b[38;5;34m0\u001b[0m │\n",
       "├──────────────────────────────────────┼─────────────────────────────┼─────────────────┤\n",
       "│ dense_9 (\u001b[38;5;33mDense\u001b[0m)                      │ (\u001b[38;5;45mNone\u001b[0m, \u001b[38;5;34m314\u001b[0m)                 │          \u001b[38;5;34m98,910\u001b[0m │\n",
       "├──────────────────────────────────────┼─────────────────────────────┼─────────────────┤\n",
       "│ dropout_7 (\u001b[38;5;33mDropout\u001b[0m)                  │ (\u001b[38;5;45mNone\u001b[0m, \u001b[38;5;34m314\u001b[0m)                 │               \u001b[38;5;34m0\u001b[0m │\n",
       "├──────────────────────────────────────┼─────────────────────────────┼─────────────────┤\n",
       "│ dense_10 (\u001b[38;5;33mDense\u001b[0m)                     │ (\u001b[38;5;45mNone\u001b[0m, \u001b[38;5;34m256\u001b[0m)                 │          \u001b[38;5;34m80,640\u001b[0m │\n",
       "├──────────────────────────────────────┼─────────────────────────────┼─────────────────┤\n",
       "│ dropout_8 (\u001b[38;5;33mDropout\u001b[0m)                  │ (\u001b[38;5;45mNone\u001b[0m, \u001b[38;5;34m256\u001b[0m)                 │               \u001b[38;5;34m0\u001b[0m │\n",
       "├──────────────────────────────────────┼─────────────────────────────┼─────────────────┤\n",
       "│ dense_11 (\u001b[38;5;33mDense\u001b[0m)                     │ (\u001b[38;5;45mNone\u001b[0m, \u001b[38;5;34m128\u001b[0m)                 │          \u001b[38;5;34m32,896\u001b[0m │\n",
       "├──────────────────────────────────────┼─────────────────────────────┼─────────────────┤\n",
       "│ dropout_9 (\u001b[38;5;33mDropout\u001b[0m)                  │ (\u001b[38;5;45mNone\u001b[0m, \u001b[38;5;34m128\u001b[0m)                 │               \u001b[38;5;34m0\u001b[0m │\n",
       "├──────────────────────────────────────┼─────────────────────────────┼─────────────────┤\n",
       "│ dense_12 (\u001b[38;5;33mDense\u001b[0m)                     │ (\u001b[38;5;45mNone\u001b[0m, \u001b[38;5;34m100\u001b[0m)                 │          \u001b[38;5;34m12,900\u001b[0m │\n",
       "├──────────────────────────────────────┼─────────────────────────────┼─────────────────┤\n",
       "│ dropout_10 (\u001b[38;5;33mDropout\u001b[0m)                 │ (\u001b[38;5;45mNone\u001b[0m, \u001b[38;5;34m100\u001b[0m)                 │               \u001b[38;5;34m0\u001b[0m │\n",
       "├──────────────────────────────────────┼─────────────────────────────┼─────────────────┤\n",
       "│ dense_13 (\u001b[38;5;33mDense\u001b[0m)                     │ (\u001b[38;5;45mNone\u001b[0m, \u001b[38;5;34m70\u001b[0m)                  │           \u001b[38;5;34m7,070\u001b[0m │\n",
       "├──────────────────────────────────────┼─────────────────────────────┼─────────────────┤\n",
       "│ dropout_11 (\u001b[38;5;33mDropout\u001b[0m)                 │ (\u001b[38;5;45mNone\u001b[0m, \u001b[38;5;34m70\u001b[0m)                  │               \u001b[38;5;34m0\u001b[0m │\n",
       "├──────────────────────────────────────┼─────────────────────────────┼─────────────────┤\n",
       "│ dense_14 (\u001b[38;5;33mDense\u001b[0m)                     │ (\u001b[38;5;45mNone\u001b[0m, \u001b[38;5;34m64\u001b[0m)                  │           \u001b[38;5;34m4,544\u001b[0m │\n",
       "├──────────────────────────────────────┼─────────────────────────────┼─────────────────┤\n",
       "│ dense_15 (\u001b[38;5;33mDense\u001b[0m)                     │ (\u001b[38;5;45mNone\u001b[0m, \u001b[38;5;34m54\u001b[0m)                  │           \u001b[38;5;34m3,510\u001b[0m │\n",
       "└──────────────────────────────────────┴─────────────────────────────┴─────────────────┘\n"
      ]
     },
     "metadata": {},
     "output_type": "display_data"
    },
    {
     "data": {
      "text/html": [
       "<pre style=\"white-space:pre;overflow-x:auto;line-height:normal;font-family:Menlo,'DejaVu Sans Mono',consolas,'Courier New',monospace\"><span style=\"font-weight: bold\"> Total params: </span><span style=\"color: #00af00; text-decoration-color: #00af00\">867,422</span> (3.31 MB)\n",
       "</pre>\n"
      ],
      "text/plain": [
       "\u001b[1m Total params: \u001b[0m\u001b[38;5;34m867,422\u001b[0m (3.31 MB)\n"
      ]
     },
     "metadata": {},
     "output_type": "display_data"
    },
    {
     "data": {
      "text/html": [
       "<pre style=\"white-space:pre;overflow-x:auto;line-height:normal;font-family:Menlo,'DejaVu Sans Mono',consolas,'Courier New',monospace\"><span style=\"font-weight: bold\"> Trainable params: </span><span style=\"color: #00af00; text-decoration-color: #00af00\">289,140</span> (1.10 MB)\n",
       "</pre>\n"
      ],
      "text/plain": [
       "\u001b[1m Trainable params: \u001b[0m\u001b[38;5;34m289,140\u001b[0m (1.10 MB)\n"
      ]
     },
     "metadata": {},
     "output_type": "display_data"
    },
    {
     "data": {
      "text/html": [
       "<pre style=\"white-space:pre;overflow-x:auto;line-height:normal;font-family:Menlo,'DejaVu Sans Mono',consolas,'Courier New',monospace\"><span style=\"font-weight: bold\"> Non-trainable params: </span><span style=\"color: #00af00; text-decoration-color: #00af00\">0</span> (0.00 B)\n",
       "</pre>\n"
      ],
      "text/plain": [
       "\u001b[1m Non-trainable params: \u001b[0m\u001b[38;5;34m0\u001b[0m (0.00 B)\n"
      ]
     },
     "metadata": {},
     "output_type": "display_data"
    },
    {
     "data": {
      "text/html": [
       "<pre style=\"white-space:pre;overflow-x:auto;line-height:normal;font-family:Menlo,'DejaVu Sans Mono',consolas,'Courier New',monospace\"><span style=\"font-weight: bold\"> Optimizer params: </span><span style=\"color: #00af00; text-decoration-color: #00af00\">578,282</span> (2.21 MB)\n",
       "</pre>\n"
      ],
      "text/plain": [
       "\u001b[1m Optimizer params: \u001b[0m\u001b[38;5;34m578,282\u001b[0m (2.21 MB)\n"
      ]
     },
     "metadata": {},
     "output_type": "display_data"
    }
   ],
   "source": [
    "loaded_model.summary()"
   ]
  },
  {
   "cell_type": "code",
   "execution_count": 17,
   "metadata": {},
   "outputs": [
    {
     "ename": "NameError",
     "evalue": "name 'value1' is not defined",
     "output_type": "error",
     "traceback": [
      "\u001b[1;31m---------------------------------------------------------------------------\u001b[0m",
      "\u001b[1;31mNameError\u001b[0m                                 Traceback (most recent call last)",
      "Cell \u001b[1;32mIn[17], line 2\u001b[0m\n\u001b[0;32m      1\u001b[0m \u001b[38;5;66;03m# Let's assume 'new_data' is a single sample with the same number of features as your training data.\u001b[39;00m\n\u001b[1;32m----> 2\u001b[0m new_data \u001b[38;5;241m=\u001b[39m [[\u001b[43mvalue1\u001b[49m, value2, value3, \u001b[38;5;241m.\u001b[39m\u001b[38;5;241m.\u001b[39m\u001b[38;5;241m.\u001b[39m, valueN]]  \u001b[38;5;66;03m# Replace with your input values\u001b[39;00m\n\u001b[0;32m      4\u001b[0m \u001b[38;5;66;03m# Make prediction\u001b[39;00m\n\u001b[0;32m      5\u001b[0m prediction \u001b[38;5;241m=\u001b[39m model\u001b[38;5;241m.\u001b[39mpredict(new_data)\n",
      "\u001b[1;31mNameError\u001b[0m: name 'value1' is not defined"
     ]
    }
   ],
   "source": [
    "# Let's assume 'new_data' is a single sample with the same number of features as your training data.\n",
    "new_data = [[value1, value2, value3, ..., valueN]]  # Replace with your input values\n",
    "\n",
    "# Make prediction\n",
    "prediction = model.predict(new_data)\n",
    "\n",
    "# Print the prediction\n",
    "print(\"Prediction for the single input:\", prediction)\n"
   ]
  },
  {
   "cell_type": "markdown",
   "metadata": {},
   "source": [
    "### PREDICTION"
   ]
  },
  {
   "cell_type": "code",
   "execution_count": 21,
   "metadata": {},
   "outputs": [
    {
     "name": "stdout",
     "output_type": "stream",
     "text": [
      "(100, 154)\n"
     ]
    }
   ],
   "source": [
    "hr_testing_file = f\"D:/Ankit work/irs data/testing_data/hr.csv\"\n",
    "hd_testing_file = f\"D:/Ankit work/irs data/testing_data/hd.csv\"\n",
    "G_testing_file = f\"D:/Ankit work/irs data/testing_data/G.csv\"\n",
    "\n",
    "# Load input datasets\n",
    "hr_testing = pd.read_csv(hr_testing_file, header=None)\n",
    "hd_testing = pd.read_csv(hd_testing_file, header=None)\n",
    "G_testing = pd.read_csv(G_testing_file, header=None)\n",
    "\n",
    "# Concatenate input datasets (hr, hd, G) and output datasets (W, theta)\n",
    "X_testing = pd.concat([hr_testing, hd_testing, G_testing], axis=1)\n",
    "\n",
    "X_scaled_testing = scaler_X_loaded.transform(X_testing)\n",
    "print(X_testing.shape)\n"
   ]
  },
  {
   "cell_type": "code",
   "execution_count": 22,
   "metadata": {},
   "outputs": [
    {
     "name": "stdout",
     "output_type": "stream",
     "text": [
      "\u001b[1m4/4\u001b[0m \u001b[32m━━━━━━━━━━━━━━━━━━━━\u001b[0m\u001b[37m\u001b[0m \u001b[1m0s\u001b[0m 3ms/step \n",
      "Predictions for the batch of inputs: (100, 54)\n",
      "\u001b[1m5480/5480\u001b[0m \u001b[32m━━━━━━━━━━━━━━━━━━━━\u001b[0m\u001b[37m\u001b[0m \u001b[1m7s\u001b[0m 1ms/step - loss: 0.1530 - mae: 0.2884\n",
      "Test Loss: 0.15333764255046844\n",
      "Test MAE: 0.2886272668838501\n"
     ]
    }
   ],
   "source": [
    "# Let's assume 'new_data_batch' is a batch of new inputs (e.g., multiple samples).\n",
    "new_data_batch = X_scaled_testing\n",
    "\n",
    "# Make predictions for the batch\n",
    "scaled_predictions = loaded_model.predict(new_data_batch)\n",
    "predictions = scaler_Y_loaded.inverse_transform(scaled_predictions)\n",
    "\n",
    "# Print the predictions\n",
    "print(\"Predictions for the batch of inputs:\", predictions.shape)\n",
    "\n",
    "# Evaluate the model on test data\n",
    "test_loss, test_mae = loaded_model.evaluate(X_test, Y_test)\n",
    "\n",
    "print(f\"Test Loss: {test_loss}\")\n",
    "print(f\"Test MAE: {test_mae}\")"
   ]
  },
  {
   "cell_type": "code",
   "execution_count": 23,
   "metadata": {},
   "outputs": [],
   "source": [
    "import pandas as pd\n",
    "\n",
    "# Assuming Y_pred is a NumPy array\n",
    "# If it's not, convert it to a NumPy array: Y_pred = np.array(Y_pred)\n",
    "\n",
    "# Convert to DataFrame\n",
    "Y_pred_df = pd.DataFrame(predictions)  # Add appropriate column name(s)\n",
    "\n",
    "# Save to CSV\n",
    "Y_pred_df.to_csv('D:/Ankit work/irs data/testing_data/common_pred.csv', index=False, header=None)  # index=False to avoid adding row numbers to the file\n"
   ]
  },
  {
   "cell_type": "code",
   "execution_count": 24,
   "metadata": {},
   "outputs": [
    {
     "ename": "",
     "evalue": "",
     "output_type": "error",
     "traceback": [
      "\u001b[1;31mThe Kernel crashed while executing code in the current cell or a previous cell. \n",
      "\u001b[1;31mPlease review the code in the cell(s) to identify a possible cause of the failure. \n",
      "\u001b[1;31mClick <a href='https://aka.ms/vscodeJupyterKernelCrash'>here</a> for more info. \n",
      "\u001b[1;31mView Jupyter <a href='command:jupyter.viewOutput'>log</a> for further details."
     ]
    }
   ],
   "source": [
    "exit()"
   ]
  }
 ],
 "metadata": {
  "kernelspec": {
   "display_name": "Python 3 (ipykernel)",
   "language": "python",
   "name": "python3"
  },
  "language_info": {
   "codemirror_mode": {
    "name": "ipython",
    "version": 3
   },
   "file_extension": ".py",
   "mimetype": "text/x-python",
   "name": "python",
   "nbconvert_exporter": "python",
   "pygments_lexer": "ipython3",
   "version": "3.12.7"
  }
 },
 "nbformat": 4,
 "nbformat_minor": 2
}
